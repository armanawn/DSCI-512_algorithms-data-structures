{
 "cells": [
  {
   "cell_type": "markdown",
   "metadata": {},
   "source": [
    "# DSCI 512 lab 4\n",
    "\n",
    "Important notes:\n",
    "\n",
    "1. This lab revolves around a single application area (resizing images), which is described below as the introduction to the lab.\n",
    "2. This lab looks very long. Do not despair! A lot of it is text and code for you to read, rather than write."
   ]
  },
  {
   "cell_type": "code",
   "execution_count": null,
   "metadata": {},
   "outputs": [],
   "source": [
    "import numpy as np\n",
    "import pandas as pd\n",
    "\n",
    "from scipy.ndimage import convolve\n",
    "import matplotlib.pyplot as plt\n",
    "%config InlineBackend.figure_formats = ['svg']\n",
    "\n",
    "import pulp"
   ]
  },
  {
   "cell_type": "markdown",
   "metadata": {},
   "source": [
    "## Instructions\n",
    "rubric={mechanics:8}\n",
    "\n",
    "Follow the [general lab instructions](https://ubc-mds.github.io/resources_pages/general_lab_instructions/)."
   ]
  },
  {
   "cell_type": "markdown",
   "metadata": {},
   "source": [
    "## \"Pre-lab\" exercise: colour images\n",
    "\n",
    "Before we get to seam carving, we need to take a slight detour into how colour images are represented in a computer. Below, we load an image and display it using Python:"
   ]
  },
  {
   "cell_type": "code",
   "execution_count": null,
   "metadata": {},
   "outputs": [],
   "source": [
    "mandrill = plt.imread(\"mandrill.jpg\")\n",
    "plt.imshow(mandrill);"
   ]
  },
  {
   "cell_type": "markdown",
   "metadata": {},
   "source": [
    "The variable `mandrill` is just a numpy array:"
   ]
  },
  {
   "cell_type": "code",
   "execution_count": null,
   "metadata": {},
   "outputs": [],
   "source": [
    "type(mandrill)"
   ]
  },
  {
   "cell_type": "markdown",
   "metadata": {},
   "source": [
    "In this case, the numpy array contains integers:"
   ]
  },
  {
   "cell_type": "code",
   "execution_count": null,
   "metadata": {},
   "outputs": [],
   "source": [
    "mandrill.dtype"
   ]
  },
  {
   "cell_type": "markdown",
   "metadata": {},
   "source": [
    "What are its values?"
   ]
  },
  {
   "cell_type": "code",
   "execution_count": null,
   "metadata": {},
   "outputs": [],
   "source": [
    "plt.hist(mandrill.flatten());\n",
    "plt.xlabel(\"Colour value (int)\");\n",
    "plt.ylabel(\"Count\");"
   ]
  },
  {
   "cell_type": "markdown",
   "metadata": {},
   "source": [
    "From the histogram above, we see that the values in the `mandrill` array range from 0 to 255. This is quite common, and brings us to one of the biggest nuisances of working with images: if they are integers they should be between 0 and 255 in order to display properly, but if they are floats they should be between 0 and 1 in order to display properly. Look what happens if we try to visualize the image after making it into floats:"
   ]
  },
  {
   "cell_type": "code",
   "execution_count": null,
   "metadata": {},
   "outputs": [],
   "source": [
    "mandrill = mandrill.astype(float)\n",
    "plt.imshow(mandrill);"
   ]
  },
  {
   "cell_type": "markdown",
   "metadata": {},
   "source": [
    "The warning explains the issue. To deal with this, I will divide all the values by 255 so they are now between 0 and 1. This is very common practice."
   ]
  },
  {
   "cell_type": "code",
   "execution_count": null,
   "metadata": {},
   "outputs": [],
   "source": [
    "mandrill = mandrill / 255."
   ]
  },
  {
   "cell_type": "code",
   "execution_count": null,
   "metadata": {},
   "outputs": [],
   "source": [
    "plt.hist(mandrill.flatten());\n",
    "plt.xlabel(\"Colour value (float)\");\n",
    "plt.ylabel(\"Count\");"
   ]
  },
  {
   "cell_type": "code",
   "execution_count": null,
   "metadata": {},
   "outputs": [],
   "source": [
    "plt.imshow(mandrill);"
   ]
  },
  {
   "cell_type": "markdown",
   "metadata": {},
   "source": [
    "Ok, we're back on solid ground. It wasn't strictly necessary to change the type from integer to float, but it's generally a good idea and weird unexpected things can sometimes happen if we don't do this. You'll often see this in people's code. "
   ]
  },
  {
   "cell_type": "markdown",
   "metadata": {},
   "source": [
    "Now, let's get back to it. We know the image is represented as a numpy array full of floats between 0 and 1, but what are the dimensions of this array?"
   ]
  },
  {
   "cell_type": "code",
   "execution_count": null,
   "metadata": {},
   "outputs": [],
   "source": [
    "mandrill.shape"
   ]
  },
  {
   "cell_type": "markdown",
   "metadata": {},
   "source": [
    "This is a key point: `mandrill` is a 3D array: it has 298 rows by 298 columns by 3 _colour channels_. By default, the 3 colour channels are red, green and blue. That is,"
   ]
  },
  {
   "cell_type": "code",
   "execution_count": null,
   "metadata": {},
   "outputs": [],
   "source": [
    "red_channel = mandrill[:, :, 0]\n",
    "plt.imshow(red_channel, cmap=\"gray\");\n",
    "plt.title(\"Mandrill's red channel\");"
   ]
  },
  {
   "cell_type": "markdown",
   "metadata": {},
   "source": [
    "shows the red information content of the image. Notice that the nose is bright (close to white) in the red channel - that's because the nose is red. We can also check out the green and blue channels:"
   ]
  },
  {
   "cell_type": "code",
   "execution_count": null,
   "metadata": {},
   "outputs": [],
   "source": [
    "green_channel = mandrill[:, :, 1]\n",
    "plt.imshow(green_channel, cmap=\"gray\");\n",
    "plt.title(\"Mandrill's green channel\");"
   ]
  },
  {
   "cell_type": "code",
   "execution_count": null,
   "metadata": {},
   "outputs": [],
   "source": [
    "blue_channel = mandrill[:, :, 2]\n",
    "plt.imshow(blue_channel, cmap=\"gray\");\n",
    "plt.title(\"Mandrill's blue channel\");"
   ]
  },
  {
   "cell_type": "markdown",
   "metadata": {},
   "source": [
    "If you are interested in reading more about how colours are represented, you can read up on it, for example [here](https://en.wikipedia.org/wiki/Channel_(digital_image)) and [here](https://en.wikipedia.org/wiki/Color_space), but it's not needed for this lab."
   ]
  },
  {
   "cell_type": "markdown",
   "metadata": {},
   "source": [
    "#### Your task\n",
    "rubric={reasoning:2}\n",
    "\n",
    "Your task for this section is to swap the red and green channels of this mandrill image and display the result. Then, discuss your results in 1-2 sentences.\n",
    "\n",
    "Note: this exercise is not used for the rest of the lab; rather, it is meant as a practice exercise for working with RGB colour images."
   ]
  },
  {
   "cell_type": "markdown",
   "metadata": {},
   "source": []
  },
  {
   "cell_type": "markdown",
   "metadata": {},
   "source": [
    "## Now we start the main part of the lab\n",
    "\n",
    "##### Motivation\n",
    "We often want to resize images (say, for different screen sizes/resolutions). A standard solution to make an image smaller would be to just discard some of the pixels. For example, if we want to make the image exactly half its original width and height, we can cut up the images into $2\\times 2$ squares and just keep the upper-left pixel in each square. But what if you want to reduce the size of the image by 30%? Or, what if you want to change the aspect ratio of the image without stretching the image contents? Now things get more complicated. \n",
    "\n",
    "Here, we will explore a technique called _seam carving_. If you are interested, you can check out the 2007 paper by Shai Avidan and Ariel Shamir [_Seam Carving for Content-Aware Image Resizing_](https://www.researchgate.net/profile/Ariel-Shamir/publication/215721610_Seam_Carving_for_Content-Aware_Image_Resizing/links/55f7b1ce08aec948c472947e/Seam-Carving-for-Content-Aware-Image-Resizing.pdf). As the title of the paper suggests, this algorithm is about \"content-aware\" image resizing, which means that the pixels we add/remove are chosen based on the content itself. With seam carving, we can resize to any size, not just nice fractions like double or half. You may find this 5-minute video about Seam Carving helpful: https://www.youtube.com/watch?v=6NcIJXTlugc\n",
    " \n",
    "Note: in this lab we will consider only the problem of making an image smaller. Seam carving can also be used to make an image larger but we skip that here in the interest of time. "
   ]
  },
  {
   "cell_type": "markdown",
   "metadata": {},
   "source": [
    "##### What's the basic idea?\n",
    "\n",
    "Seam carving works by removing _seams_, one at a time.\n",
    "\n",
    "What is a seam? A _vertical seam_ is a connected path from the top to the bottom of the image, where the seam contains one pixel in each row. Similarly, a _horizontal seam_ is a connected path from the left to the right of the image, where the seam contains one pixel in each column. The image below shows a vertical seam and a horizontal seam, both in red.\n",
    "\n",
    "And, when we say a \"connected\" path, what do we mean by connected? Definition: a connected vertical (horizontal) path is a sequence of pixels, one per row (column), such that each pair of adjacent pixels is at most one column (row) apart. In other words, as you move down the image to create a vertical seam, you can only move diagonally or straight down; you can't move to a pixel that is further away.\n",
    "\n",
    "![](http://www.ulfdittmer.com/imagej/imret-Im1.jpg)\n",
    "\n",
    "Seam carving works by repeatedly removing (or adding) seams until the desired size is achieved. You do not need to worry about this part: you are  provided with the function `seam_carve` that takes in an image and a desired size, and finds/removes the seams until the desired size is reached. You are only responsible for writing function `find_vertical_seam`. This is the interesting part."
   ]
  },
  {
   "cell_type": "markdown",
   "metadata": {},
   "source": [
    "##### How do we assess the quality of a seam? \n",
    "Seam carving works by defining an _energy function_, which is a proxy for how important each pixel is. You do not need to  understand how energy is computed (it should make more sense in a few months, after DSCI 572). Instead, we provide you with a function `energy` that takes in an image and returns an array of the same size containing the energy values. For those who are interested in what makes a good energy function, you can refer to the original paper (the basic idea is that when pixel intensities vary more rapidly, this indicates a more important part of the image, and thus higher energy). Next, assuming you have the energy image in hand, a vertical or horizontal seam is simply the minimum-energy connected path from top to bottom, or left to right, respectively.\n",
    "\n",
    "In the three parts below, you will consider a few different methods for finding the best seam out of all possible seams. You will discover that there are many ways of solving the same problem, and some are much better than others!"
   ]
  },
  {
   "cell_type": "markdown",
   "metadata": {},
   "source": [
    "Below you are provided with a class containing the following functions:\n",
    "  * `energy` \n",
    "  * `find_vertical_seam`\n",
    "  * `find_horizontal_seam`\n",
    "  * `remove_vertical_seam`\n",
    "  * `remove_horizontal_seam`\n",
    "  * `seam_carve` \n",
    "\n",
    "You should understand what they do, but you do not need to understand how they work (this is the beauty of functions!). "
   ]
  },
  {
   "cell_type": "code",
   "execution_count": null,
   "metadata": {},
   "outputs": [],
   "source": [
    "class SeamCarve:\n",
    "\n",
    "    def energy(self, image):\n",
    "        \"\"\"\n",
    "        Computes the \"energy\" of an image.\n",
    "\n",
    "        Parameters\n",
    "        ----------\n",
    "        image : numpy.ndarray\n",
    "            A colour image\n",
    "\n",
    "        Returns\n",
    "        -------\n",
    "        numpy.ndarray\n",
    "            A new image where the pixels values represent the energy\n",
    "            of the corresponding pixel in the original image\n",
    "        \"\"\"\n",
    "\n",
    "        dy = np.array([-1, 0, 1])[:, None, None]\n",
    "        dx = np.array([-1, 0, 1])[None, :, None]\n",
    "        energy_img = convolve(image, dx)**2 + convolve(image, dy)**2\n",
    "        return np.sum(energy_img, axis=2)\n",
    "\n",
    "    def find_vertical_seam(self, energy):\n",
    "        \"\"\"\n",
    "        PLACEHOLDER FUNCTION - This will be replaced further on in the lab.  \n",
    "\n",
    "        Parameters\n",
    "        ----------\n",
    "        energy : numpy.ndarray\n",
    "            the 2d energy image\n",
    "\n",
    "        Returns\n",
    "        -------\n",
    "        numpy.ndarray\n",
    "            an array containing all zeros\n",
    "        \"\"\"\n",
    "\n",
    "        return np.zeros(energy.shape[0])\n",
    "\n",
    "    def find_horizontal_seam(self, energy):\n",
    "        \"\"\"\n",
    "        Find the minimum-energy horizontal seam in an image. \n",
    "\n",
    "        Parameters\n",
    "        ----------\n",
    "        energy : numpy.ndarray\n",
    "            a 2d numpy array containing the energy values. Size NxM\n",
    "\n",
    "        Returns\n",
    "        -------\n",
    "        numpy.ndarray\n",
    "            a seam represented as a 1d array of length M, with all values between 0 and N-1\n",
    "        \"\"\"\n",
    "\n",
    "        return self.find_vertical_seam(energy.T)\n",
    "\n",
    "    def remove_vertical_seam(self, image, seam):\n",
    "        \"\"\"\n",
    "        Remove a vertical seam from an image.\n",
    "\n",
    "        Parameters\n",
    "        ----------\n",
    "        image : numpy.ndarray\n",
    "            a 3d numpy array containing the pixel values\n",
    "        seam : numpy.ndarray\n",
    "            a 1d array (or list) containing the column index of each pixel in the seam\n",
    "            length N, all values between 0 and M-1\n",
    "\n",
    "        Returns\n",
    "        -------\n",
    "        numpy.ndarray\n",
    "            a new image that is smaller by 1 column. Size N by M-1.\n",
    "        \"\"\"\n",
    "\n",
    "        height = image.shape[0]\n",
    "        linear_inds = np.array(seam)+np.arange(image.shape[0])*image.shape[1]\n",
    "        new_image = np.zeros(\n",
    "            (height, image.shape[1]-1, image.shape[-1]), dtype=image.dtype)\n",
    "        for c in range(image.shape[-1]):\n",
    "            temp = np.delete(image[:, :, c], linear_inds.astype(int))\n",
    "            temp = np.reshape(temp, (height, image.shape[1]-1))\n",
    "            new_image[:, :, c] = temp\n",
    "        return new_image\n",
    "\n",
    "    # Same as remove_vertical_seam above, but for a horizontal seam. The output image is size N-1 by M.\n",
    "    def remove_horizontal_seam(self, image, seam):\n",
    "        \"\"\"\n",
    "        Remove a horizontal seam from an image.\n",
    "\n",
    "        Parameters\n",
    "        ----------\n",
    "        image : numpy.ndarray \n",
    "            a 2d numpy array containing the pixel values. Size NxM\n",
    "        seam : numpy.ndarray\n",
    "            a 1d array containing the column index of each pixel in the seam\n",
    "            length N, all values between 0 and M-1.\n",
    "\n",
    "        Returns\n",
    "        -------\n",
    "        numpy.ndarray\n",
    "            a new image that is smaller by 1 row. Size N-1 by M.\n",
    "        \"\"\"\n",
    "\n",
    "        return np.transpose(self.remove_vertical_seam(np.transpose(image, (1, 0, 2)), seam), (1, 0, 2))\n",
    "\n",
    "    def seam_carve(self, image, desired_height, desired_width, plot=False, verbose=True):\n",
    "        \"\"\"\n",
    "        Resize an NxM image to a desired height and width. \n",
    "        Note: this function only makes images smaller. Enlarging an image is not implemented. \n",
    "        Note: this function removes all vertical seams before removing any horizontal\n",
    "        seams, which may not be optimal.\n",
    "\n",
    "        Parameters\n",
    "        ----------\n",
    "        image : numpy.ndarray\n",
    "            a 3d numpy array of size N x M x 3\n",
    "        desired_width : int \n",
    "            the desired width\n",
    "        desired_height : int \n",
    "            the desired height\n",
    "        plot : bool (default = False)\n",
    "            whether or not to plot the seams as you go along\n",
    "        verbose : bool (default = True)\n",
    "            whether or not to print output during the seam carving\n",
    "            \n",
    "        Returns\n",
    "        -------\n",
    "        numpy array\n",
    "            the resized image, now of size desired_height x desired_width x 3\n",
    "\n",
    "        Example\n",
    "        ------- \n",
    "        >>> sc = SeamCarve()\n",
    "        >>> image = np.array([[[0.2 , 0.1 , 0.6 ], [0.4 , 0.5 , 0.65]], [[0.3 , 0.7 , 0.3 ], [0.8 , 0.33, 0.7 ]]])\n",
    "        >>> sc.seam_carve(image, 1, 1 )\n",
    "        array([[[0.8 , 0.33, 0.7 ]]])\n",
    "        \"\"\"\n",
    "\n",
    "        while image.shape[1] > desired_width:\n",
    "            seam = self.find_vertical_seam(self.energy(image))\n",
    "            assert len(seam) == image.shape[0], \"the length of the seam must equal the height of the image\"\n",
    "            \n",
    "            if plot:\n",
    "                plt.imshow(image)\n",
    "                plt.plot(seam, np.arange(image.shape[0]), linewidth=5);\n",
    "                plt.show()\n",
    "            \n",
    "            image = self.remove_vertical_seam(image, seam)\n",
    "            if verbose:\n",
    "                print('\\rWidth is now %d' % image.shape[1], end='')\n",
    "        if verbose:\n",
    "            print()\n",
    "        while image.shape[0] > desired_height:\n",
    "            seam = self.find_horizontal_seam(self.energy(image))\n",
    "            assert len(seam) == image.shape[1], \"the length of the seam must equal the width of the image\"\n",
    "            \n",
    "            if plot:\n",
    "                plt.imshow(image)\n",
    "                plt.plot(np.arange(image.shape[1]), seam, linewidth=5);\n",
    "                plt.show()\n",
    "\n",
    "            image = self.remove_horizontal_seam(image, seam)\n",
    "            if verbose:\n",
    "                print('\\rHeight is now %d' % image.shape[0], end='')\n",
    "        if verbose:\n",
    "            print()\n",
    "        \n",
    "        if plot:\n",
    "            plt.imshow(image)\n",
    "        \n",
    "        return image"
   ]
  },
  {
   "cell_type": "markdown",
   "metadata": {},
   "source": [
    "Below is some test code that works on a tiny image. We use a tiny image because the recursive solution is so slow that you wouldn't be able to test the code on any larger images."
   ]
  },
  {
   "cell_type": "code",
   "execution_count": null,
   "metadata": {},
   "outputs": [],
   "source": [
    "img = plt.imread(\"line_of_sight.png\")[:, :, :3]\n",
    "img.shape"
   ]
  },
  {
   "cell_type": "code",
   "execution_count": null,
   "metadata": {},
   "outputs": [],
   "source": [
    "plt.imshow(img);"
   ]
  },
  {
   "cell_type": "code",
   "execution_count": null,
   "metadata": {},
   "outputs": [],
   "source": [
    "sc = SeamCarve()"
   ]
  },
  {
   "cell_type": "markdown",
   "metadata": {},
   "source": [
    "Here is the energy image for the above image:"
   ]
  },
  {
   "cell_type": "code",
   "execution_count": null,
   "metadata": {},
   "outputs": [],
   "source": [
    "plt.imshow(sc.energy(img));\n",
    "plt.colorbar();"
   ]
  },
  {
   "cell_type": "markdown",
   "metadata": {},
   "source": [
    "As you can see, the energy is higher around the non-uniformaties in the image."
   ]
  },
  {
   "cell_type": "markdown",
   "metadata": {},
   "source": [
    "Let's run the (not yet fully implemented) seam carving code:"
   ]
  },
  {
   "cell_type": "code",
   "execution_count": null,
   "metadata": {},
   "outputs": [],
   "source": [
    "new_height = 7\n",
    "new_width = 7\n",
    "\n",
    "img2 = sc.seam_carve(img, new_height, new_width)\n",
    "\n",
    "plt.imshow(img2);"
   ]
  },
  {
   "cell_type": "markdown",
   "metadata": {},
   "source": [
    "Again, the above is not a real seam carving because it is using placeholder `find_vertical_seam` function that just removes the first column of the image (and likewise for horizontal seams). Below we will get to the real seam carving."
   ]
  },
  {
   "cell_type": "markdown",
   "metadata": {},
   "source": [
    "## Part 1: recursive implementation\n",
    "\n",
    "What's the natural way of finding the best (lowest energy) seam? Well, just consider all possible paths, compute the total energy for each one, and take the minimum, right? We have provided a recursive implementation that follows this brute force approach. The code is below. "
   ]
  },
  {
   "cell_type": "code",
   "execution_count": null,
   "metadata": {},
   "outputs": [],
   "source": [
    "def fvs(energy, seam, cost):\n",
    "    \"\"\"\n",
    "    The \"inner\" recursive function for finding a vertical seam.\n",
    "\n",
    "    Parameters\n",
    "    ----------\n",
    "    energy : numpy.ndarray\n",
    "        the 2d energy image\n",
    "    seam : list\n",
    "        the partial seam (from the top, partway down the image)\n",
    "    cost : float\n",
    "        the cost of the partial seam\n",
    "\n",
    "    Returns\n",
    "    -------\n",
    "    tuple \n",
    "        contains the seam and the energy cost\n",
    "\n",
    "    Example\n",
    "    -------    \n",
    "    >>> fvs(np.array([[0.6625, 0.3939], [1.0069, 0.7383]]), [1], 0.0)\n",
    "    ([1, 1], 1.1321999999999999)\n",
    "    \"\"\"\n",
    "\n",
    "    row = len(seam)-1\n",
    "    col = seam[-1]\n",
    "\n",
    "    # if out of bounds on one of the two sides, return infinite energy\n",
    "    if col < 0 or col >= energy.shape[1]:\n",
    "        return seam, np.inf\n",
    "\n",
    "    cost += energy[row, col]\n",
    "\n",
    "    # regular base case: reached bottom of image\n",
    "    if len(seam) == energy.shape[0]:\n",
    "        return seam, cost\n",
    "\n",
    "    return min((fvs(energy, seam+[col], cost),\n",
    "                fvs(energy, seam+[col+1], cost),\n",
    "                fvs(energy, seam+[col-1], cost)), key=lambda x: x[1])\n",
    "    # above: could make syntax nicer if I was willing to tolerate some more inefficiency\n",
    "    # by defining an energy function of seam and re-computing energy of the seam each time\n",
    "\n",
    "\n",
    "class SeamCarveRecursive(SeamCarve):\n",
    "\n",
    "    def find_vertical_seam(self, energy):\n",
    "        \"\"\"\n",
    "        Finds the vertical seam of lowest total energy inside the image.\n",
    "\n",
    "        Parameters\n",
    "        ----------\n",
    "        energy : numpy.ndarray\n",
    "            the 2d energy image\n",
    "\n",
    "        Returns\n",
    "        -------\n",
    "        list \n",
    "            the seam of column indices\n",
    "\n",
    "        Example\n",
    "        -------  \n",
    "        >>> sc_recursive = SeamCarveRecursive()\n",
    "        >>> e = np.array([[0.6625, 0.3939], [1.0069, 0.7383]])\n",
    "        >>> sc_recursive.find_vertical_seam(e)\n",
    "        (1, 1)\n",
    "        \"\"\"\n",
    "        \n",
    "        costs = dict()\n",
    "        for i in range(energy.shape[1]):\n",
    "            best_seam, best_cost = fvs(energy, [i], 0.0)\n",
    "            costs[tuple(best_seam)] = best_cost\n",
    "        return min(costs, key=costs.get)  # the best out of the M best seams\n"
   ]
  },
  {
   "cell_type": "markdown",
   "metadata": {},
   "source": [
    "**Note**: in `class SeamCarveRecursive(SeamCarve):` in the above code, we are using _inheritance_ that we have learned about before in DSCI 511. The idea here is that we made a new class called `SeamCarveRecursive` which is more or less a copy of the original class `SeamCarve`, except we are allowed to modify/augment it. The only modification we're making is overwriting the `find_vertical_seam` function with a new version. All the other functions are carried over from the original `SeamCarve` class. This is convenient because we don't need to copy/paste all the other functions from `SeamCarve` into `SeamCarveRecursive`, which makes for more maintainable and DRY-compliant lab code. What we're doing here is for educational purposes; this is not exactly the standard purpose of inheritance. "
   ]
  },
  {
   "cell_type": "code",
   "execution_count": null,
   "metadata": {},
   "outputs": [],
   "source": [
    "sc_recursive = SeamCarveRecursive()\n",
    "\n",
    "new_height = 7\n",
    "new_width = 7\n",
    "\n",
    "test_img_small_rec = sc_recursive.seam_carve(img, new_height, new_width)\n",
    "\n",
    "plt.imshow(test_img_small_rec);"
   ]
  },
  {
   "cell_type": "markdown",
   "metadata": {},
   "source": [
    "If you want to see how the seams get removed one by one (and this may be a useful debugging tool throughout the lab) you can set `plot=True` when you call `seam_carve`:"
   ]
  },
  {
   "cell_type": "code",
   "execution_count": null,
   "metadata": {},
   "outputs": [],
   "source": [
    "test_img_small_rec = sc_recursive.seam_carve(img, new_height, new_width, plot=True)"
   ]
  },
  {
   "cell_type": "markdown",
   "metadata": {},
   "source": [
    "The seams are shown as a blue line. Note that there are 3 vertical seams followed by 3 horizontal seams, because the code is set up to remove all the vertical seams (reduce width) and then remove all the horizontal seams (reduce height). \n",
    "\n",
    "This is kind of cool, right?"
   ]
  },
  {
   "cell_type": "markdown",
   "metadata": {},
   "source": [
    "#### 1(a)\n",
    "rubric={reasoning:1}\n",
    "\n",
    "Briefly describe the results on the test image above. Are they the same as just removing the first few rows and columns?"
   ]
  },
  {
   "cell_type": "markdown",
   "metadata": {},
   "source": []
  },
  {
   "cell_type": "markdown",
   "metadata": {},
   "source": [
    "#### 1(b)\n",
    "rubric={reasoning:3}\n",
    "\n",
    "What is the time complexity of `find_vertical_seam`, as a function of the image height $N$ and image width $M$? You don't necessarily have to read through all the code carefully to answer this, you can just think about the process of enumerating all possible seams. Also, keep in mind that big-O is an upper bound - it's not technically wrong to say binary search takes $O(n^{100})$ time, it's just unhelpful and confusing to say so. So if you're not exactly sure what the answer is, it would be better to pick something too large than too small."
   ]
  },
  {
   "cell_type": "markdown",
   "metadata": {},
   "source": []
  },
  {
   "cell_type": "markdown",
   "metadata": {},
   "source": [
    "#### (optional) 1(c)\n",
    "rubric={reasoning:1}\n",
    "\n",
    "Empirically test out your time complexity answer. For simplicity, first fix $N=5$ and measure the running time of `find_vertical_seam` as you vary $M$. Then, fix $M$ and measure the running time of `find_vertical_seam` as you vary $N$. Are your results consistent with your theory? Briefly explain.\n",
    "\n",
    "Note: you may want to randomly generate the images so that you can get an input image of any size you want."
   ]
  },
  {
   "cell_type": "markdown",
   "metadata": {},
   "source": []
  },
  {
   "cell_type": "markdown",
   "metadata": {},
   "source": [
    "#### 1(d)\n",
    "rubric={accuracy:1}\n",
    "\n",
    "What is the largest square image in which `find_vertical_seam` runs in 10 seconds or less?\n",
    "\n",
    "Note: you may want to randomly generate the images so that you can get an input image of any size you want."
   ]
  },
  {
   "cell_type": "markdown",
   "metadata": {},
   "source": []
  },
  {
   "cell_type": "markdown",
   "metadata": {},
   "source": [
    "## Part 2: integer linear program\n",
    "\n",
    "Hopefully it's possible to do better than enumerating all possible seams. Here, we will try an approach that takes advantage of the _linearity_ of the problem. To pick a seam, let's define $NM$ binary variables $x_{ij}$, where $i$ represents the row and $j$ represents the column, so that we have one variable for each pixel (note: a binary variable means a variable that can only take on the values 0 or 1). We now need to write down our objective and constraints.\n",
    "\n",
    "Here are our constraints:\n",
    "\n",
    "1. A vertical seam can only have one pixel per row.\n",
    "2. If pixel $(i,j)$ is in the seam and $i<N$, then one of $(i+1,j-1)$, $(i+1,j)$, or $(i+1,j+1)$ must be in the seam. \n",
    "\n",
    "And, our objective is the sum of the energies of all pixels where $x_{ij}$ is 1.\n",
    "\n",
    "#### 2(a)\n",
    "rubric={accuracy:4}\n",
    "\n",
    "Complete the `find_vertical_seam` function below using the [PuLP Python package](http://pythonhosted.org/PuLP/). Most of the code is provided for you, but you need to fill some small parts of it of it in.\n",
    "\n",
    "Make sure your code gives the same result as your recursive implementation, for the small test image.\n",
    "\n",
    "**Note:** unlike numpy arrays, the way we're using PuLP you must index into `x` like `x[i][j]`, not `x[i,j]`.\n",
    "\n",
    "**Hint:** your code should not include any `if` statements checking if `x[i][j]` is in the seam. It has not yet been decided if any particular `x[i][j]` is in the seam or not, so that wouldn't make sense. Rather, we need to create mathematical expressions involving these `x[i][j]` that correctly encode our objective and constraints. However, your code _after_ `prob.solve()` should do this, because after `prob.solve()` is called then it has been determined whether or not each `x[i][j]` is in the seam."
   ]
  },
  {
   "cell_type": "code",
   "execution_count": null,
   "metadata": {},
   "outputs": [],
   "source": [
    "class SeamCarveILP(SeamCarve):\n",
    "\n",
    "    def find_vertical_seam(self, energy):\n",
    "        \"\"\"\n",
    "        Finds the vertical seam of lowest total energy inside the image.\n",
    "\n",
    "        Parameters\n",
    "        ----------\n",
    "        energy : numpy.ndarray\n",
    "            the 2d energy image\n",
    "\n",
    "        Returns\n",
    "        -------\n",
    "        list \n",
    "            the seam of column indices\n",
    "\n",
    "        Example\n",
    "        -------    \n",
    "        >>> sc = SeamCarveILP()\n",
    "        >>> e = np.array([[0.6625, 0.3939], [1.0069, 0.7383]])\n",
    "        sc.find_vertical_seam(e)\n",
    "        [1, 1]\n",
    "        \"\"\" \n",
    "            \n",
    "        N, M = energy.shape\n",
    "\n",
    "        # initialize the optimization problem, give it a name\n",
    "        prob = pulp.LpProblem(\"Seam_carving\", pulp.LpMinimize)\n",
    "\n",
    "        # create the x_ij variables\n",
    "        x = pulp.LpVariable.dicts(\"pixels\",(list(range(N)),list(range(M))),0,1,pulp.LpInteger)\n",
    "\n",
    "        # The objective function is being built here. The objective is the sum of energies in the seam.\n",
    "        objective_terms = list()\n",
    "        for i in range(N):\n",
    "            for j in range(M):\n",
    "                # YOUR CODE HERE\n",
    "                \n",
    "        prob += pulp.lpSum(objective_terms) # adds up all the terms in the list\n",
    "\n",
    "        # Constraint #1: one pixel per row\n",
    "        # YOUR CODE HERE\n",
    "        \n",
    "            \n",
    "        # Constraint #2: connectivity of seam\n",
    "        for i in range(N-1):\n",
    "            for j in range(M): # below: this says: x(i,j) - x(i+1,j-1) - x(i+1,j) - x(i+1,j+1) <= 0\n",
    "                prob += pulp.lpSum([x[i][j]]+[-x[i+1][k] for k in range(max(0,j-1),min(M,j+2))]) <= 0\n",
    "\n",
    "        # Solve the problem\n",
    "        prob.solve(pulp.apis.PULP_CBC_CMD(msg=0))\n",
    "\n",
    "        # Build up the seam by collecting the pixels in the optimal seam\n",
    "        # YOUR CODE HERE\n",
    "        \n",
    "\n",
    "        return seam"
   ]
  },
  {
   "cell_type": "code",
   "execution_count": null,
   "metadata": {},
   "outputs": [],
   "source": [
    "sc_ilp = SeamCarveILP()\n",
    "\n",
    "new_height = 7\n",
    "new_width = 7\n",
    "\n",
    "test_img_small_ilp = sc_ilp.seam_carve(img, new_height, new_width)\n",
    "\n",
    "assert np.array_equal(test_img_small_rec, test_img_small_ilp)\n",
    "\n",
    "plt.imshow(test_img_small_ilp);"
   ]
  },
  {
   "cell_type": "markdown",
   "metadata": {},
   "source": [
    "#### 2(b)\n",
    "rubric={reasoning:1}\n",
    "\n",
    "Compare the speed of `find_vertical_seam` to your recursive implementation. What is the largest square image that this implementation can find a vertical seam from in under 10 s? (An approximate answer is fine, it doesn't have to be perfect to the last pixel.) \n",
    "\n",
    "(You are not asked about time complexity here because that is beyond the scope of this course.)\n",
    "\n",
    "To run the experiment, instead of random images, use the upper-left corner of the mandrill image."
   ]
  },
  {
   "cell_type": "code",
   "execution_count": null,
   "metadata": {},
   "outputs": [],
   "source": [
    "mandrill = plt.imread('mandrill.jpg')"
   ]
  },
  {
   "cell_type": "markdown",
   "metadata": {},
   "source": [
    "E.g. for a square image of size 20, take"
   ]
  },
  {
   "cell_type": "code",
   "execution_count": null,
   "metadata": {},
   "outputs": [],
   "source": [
    "mandrill[:20,:20];"
   ]
  },
  {
   "cell_type": "markdown",
   "metadata": {},
   "source": [
    "This way everyone will be using the same images and it's easier to compare results across students."
   ]
  },
  {
   "cell_type": "code",
   "execution_count": null,
   "metadata": {},
   "outputs": [],
   "source": []
  },
  {
   "cell_type": "markdown",
   "metadata": {},
   "source": [
    "#### 2(c)\n",
    "rubric={reasoning:3}\n",
    "\n",
    "Given the time complexity of the recursive implementation, how long (very approximately) do you expect it would take to run `find_vertical_seam` on an image of the size from 2(b), which took less than 10 seconds with integer linear program? To approach this question, use your image size that took 10 seconds with the recursive implementation, and then think about how $N$ and $M$ changed. Express your answer in the units of years."
   ]
  },
  {
   "cell_type": "markdown",
   "metadata": {},
   "source": []
  },
  {
   "cell_type": "markdown",
   "metadata": {},
   "source": [
    "## Part 3: dynamic programming implementation\n",
    "\n",
    "In Part 1 we used a brute force approach of considering _all_ possible seams and taking the best one. In Part 2 we took advantage of the linearity of the optimization problem. But, actually, this particular problem has more special structure beyond being linear. Loosely speaking, it is a bunch of sequential decisions, where the total objective is the sum of mini-objectives incurred by each decision (total energy = sum of individual seam pixel energies). This means we can use dynamic programming. Hooray!\n",
    "\n",
    "To use dynamic programming for seam carving, we create a table of size $N\\times M$ (the same size as your energy image) that contains, at location $(i,j)$, the minimum energy required to get from the top of the image to that location. For the first row, this is just the energy value. But for the next row, you might arrive at location $(2,j)$ from 3 possible places, namely $(1,j-1)$, $(1,j)$, or $(1,j+1$). \n",
    "\n",
    "Below we provide code that implements `find_vertical_seam` using dynamic programming."
   ]
  },
  {
   "cell_type": "code",
   "execution_count": null,
   "metadata": {},
   "outputs": [],
   "source": [
    "class SeamCarveDP(SeamCarve):\n",
    "\n",
    "    def find_vertical_seam(self, energy):\n",
    "        \"\"\"\n",
    "        The vertical seam of lowest total energy inside the image.\n",
    "\n",
    "        Parameters\n",
    "        ----------\n",
    "        energy : numpy.ndarray\n",
    "            the 2d energy image\n",
    "\n",
    "        Returns\n",
    "        -------\n",
    "        list \n",
    "            the seam of column indices\n",
    "\n",
    "        Example\n",
    "        -------    \n",
    "        >>> sc = SeamCarveDP()\n",
    "        >>> e = np.array([[0.6625, 0.3939], [1.0069, 0.7383]])\n",
    "        sc.find_vertical_seam(e)\n",
    "        [1, 1]     \n",
    "        \"\"\"\n",
    "        \n",
    "        nrows, ncols = energy.shape\n",
    "\n",
    "        # Cumulative Minimum Energy\n",
    "        CME = np.zeros((nrows, ncols+2))\n",
    "        CME[:,0] = np.inf\n",
    "        CME[:,-1] = np.inf\n",
    "        CME[:,1:-1] = energy\n",
    "        # if helpful, the above 4 lines are equivalent to these two lines below\n",
    "        # column_of_inf = np.full((nrows,1), np.inf)\n",
    "        # CME = np.hstack((column_of_inf, energy, column_of_inf))\n",
    "\n",
    "        for i in range(1,nrows):\n",
    "            for j in range(1,ncols+1):\n",
    "                CME[i,j] += min(CME[i-1,j-1],CME[i-1,j],CME[i-1,j+1])\n",
    "        \n",
    "        # create the seam array\n",
    "        seam = np.zeros(nrows, dtype=int)\n",
    "        seam[-1] = np.argmin(CME[-1,:])\n",
    "\n",
    "        # track the path backwards\n",
    "        for i in range(nrows-2,-1,-1):\n",
    "            # min_index is 0, 1, or 2. I subtract 1 to give the offset from\n",
    "            # seam(i+1), namely -1, 0, or 1. Then I add this to the old value.\n",
    "            delta = np.argmin(CME[i, seam[i+1]-1:seam[i+1]+2]) - 1\n",
    "            seam[i] = seam[i+1] + delta\n",
    "\n",
    "        return seam - 1 \n",
    "        # Above: -1 because the indices are all off by 1, due to padding of CME\n",
    "        #        This has nothing to do with the -1 in defining \"delta'\".\n"
   ]
  },
  {
   "cell_type": "code",
   "execution_count": null,
   "metadata": {},
   "outputs": [],
   "source": [
    "sc_dp = SeamCarveDP()\n",
    "\n",
    "new_height = 7\n",
    "new_width = 7\n",
    "\n",
    "test_img_small_dp = sc_dp.seam_carve(img, new_height, new_width)\n",
    "\n",
    "assert np.array_equal(test_img_small_rec, test_img_small_dp)\n",
    "\n",
    "plt.imshow(test_img_small_dp);"
   ]
  },
  {
   "cell_type": "markdown",
   "metadata": {},
   "source": [
    "#### 3(a)\n",
    "rubric={reasoning:1}\n",
    "\n",
    "One possible nuisance is that the leftmost and rightmost columns of the image are special cases: instead of having 3 possible pixels to choose from next, in these cases you only have 2 choices. The implementation above addresses this by \"padding\" the CME array with `np.inf` on the left and right sides to make a slightly larger image. This way, there are always 3 choices and no special cases or `if` statements are needed.\n",
    "\n",
    "Briefly explain why the extra columns are given the value of `np.inf` instead of some other number like 0, or 1, etc."
   ]
  },
  {
   "cell_type": "markdown",
   "metadata": {},
   "source": []
  },
  {
   "cell_type": "markdown",
   "metadata": {},
   "source": [
    "#### 3(b)\n",
    "rubric={reasoning:2}\n",
    "\n",
    "Using big-O notation, state the running time of `find_vertical_seam` as a function of the image height $N$ and width $M$.\n"
   ]
  },
  {
   "cell_type": "markdown",
   "metadata": {},
   "source": []
  },
  {
   "cell_type": "markdown",
   "metadata": {},
   "source": [
    "#### 3(c)\n",
    "rubric={reasoning:1}\n",
    "\n",
    "Empirically compare the speed of your DP implementation of `find_vertical_seam` to the ILP implementation from Part 2. How long does your DP code take for the image size that took 10 seconds with ILP? "
   ]
  },
  {
   "cell_type": "code",
   "execution_count": null,
   "metadata": {},
   "outputs": [],
   "source": []
  },
  {
   "cell_type": "markdown",
   "metadata": {},
   "source": [
    "#### 3(d)\n",
    "rubric={reasoning:1}\n",
    "\n",
    "How big of an image you can run `find_vertical_seam` on in 10 seconds with DP?"
   ]
  },
  {
   "cell_type": "code",
   "execution_count": null,
   "metadata": {},
   "outputs": [],
   "source": []
  },
  {
   "cell_type": "markdown",
   "metadata": {},
   "source": [
    "## Part 4: code vectorization\n",
    "\n",
    "In Part 3 you took things as far as they will go with better algorithms. But you still might not be satisfied with the performance. The next step is to optimize the _implementation_ of the dynamic programming algorithm.\n",
    "\n",
    "A typical approach would be to ditch Python; other languages like C or perhaps Julia would speed things up. Another approach would be to use parallel computing, in which multiple threads of computation are performed at once. However, changing languages and parallelization are not always the only way. In Part 3, we implemented your forward pass with a nested `for` loop over the rows and columns of the image. However, certain languages (Python/NumPy, R, Matlab, etc.) do _vectorized_ operations much faster than loops."
   ]
  },
  {
   "cell_type": "markdown",
   "metadata": {},
   "source": [
    "#### 4(a)\n",
    "rubric={accuracy:2}\n",
    "\n",
    "Here you will write a dynamic programming `find_vertical_seam` function with vectorized code. In particular, we will replace the loop over columns in the CME calculation (the inner loop using `j`) with a vectorized operation. To vectorize this inner loop, you will need to use the fact that calling `np.min(x, axis=0)` on a 2-dimensional array `x` takes the minimum across axis 0 (i.e. \"vertically\"; the minimum of each column) for all columns of `x` in one command, without a loop.\n",
    "\n",
    "For example, say you needed to find the minimum of $(1,2,3)$ and $(5,6,4)$ and $(9,8,7)$ and $(11,10,12)$ all at once (this is just for illustration purposes). You could do this:"
   ]
  },
  {
   "cell_type": "code",
   "execution_count": null,
   "metadata": {},
   "outputs": [],
   "source": [
    "x = np.array([[1, 2, 3], [5, 6, 4], [9, 8, 7], [11, 10, 12]]).T\n",
    "x"
   ]
  },
  {
   "cell_type": "code",
   "execution_count": null,
   "metadata": {},
   "outputs": [],
   "source": [
    "np.min(x, axis=0)"
   ]
  },
  {
   "cell_type": "markdown",
   "metadata": {},
   "source": [
    "This gives you the minimum of each triplet in a vectorized fashion, instead of having to loop over them. (This same syntax applies to many numpy functions, like `sum`, `var`, etc.) "
   ]
  },
  {
   "cell_type": "markdown",
   "metadata": {},
   "source": [
    "In this case, we have a row of the energy image, like this (a toy example with only 6 pixels):\n",
    "\n",
    "```\n",
    "1 8 3 2 0 1\n",
    "```\n",
    "\n",
    "We want to compute the minimums of a bunch of tuples: (1,8) and (1,8,3) and (8,3,2) and (3,2,0) and (2,0,1) and (0,1). Typically we'd use a loop but we want to do this without a loop. The trick is to create a 2D numpy array that looks like this:\n",
    "\n",
    "```\n",
    "    1 8 3 2 0 1\n",
    "  1 8 3 2 0 1\n",
    "1 8 3 2 0 1\n",
    "```\n",
    "\n",
    "This array is the original row repeated 3 times, but shifted over. The size of the above array is 3 rows and M+2 columns.  \n",
    "\n",
    "Now, numpy arrays have to be rectangular so we need to fill in the empty spaces with some value. As in our dynamic programming implementation in 3(a), a good choice of this value is `np.inf`, which I'll denote using the infinity symbol `∞` for visual purposes. So then we have\n",
    "\n",
    "```\n",
    "∞ ∞ 1 8 3 2 0 1\n",
    "∞ 1 8 3 2 0 1 ∞\n",
    "1 8 3 2 0 1 ∞ ∞\n",
    "```\n",
    "\n",
    "Now let's call the above array `z`. Then, once we have this `z`, we can simply call `np.min(z, axis=0)` to get the minimum of each \"column\" of `z` (note this has nothing to do with the columns of the image!). This gives us the min of (∞,∞,1) and (∞,1,8) and (1,8,3) and (8,3,2) and (3,2,0) and (2,0,1) and (0,1,∞) and (1,∞,∞). So, we actually get everything we need because infinity is never going to be the minimum.\n",
    "\n",
    "To implement this vectorized dynamic programming seam carving, start by copy-pasting the dynamic programming code from Part 3. Then, the only change you will need to make (other than the name of the class) is replacing these lines:\n",
    "\n",
    "```python\n",
    "        for i in range(1,nrows):\n",
    "            for j in range(1,ncols+1):\n",
    "                CME[i,j] += min(CME[i-1,j-1],CME[i-1,j],CME[i-1,j+1])\n",
    "```\n",
    "\n",
    "with your new vectorized code. The new code is also just a few lines. All the rest of the code is identical."
   ]
  },
  {
   "cell_type": "code",
   "execution_count": null,
   "metadata": {},
   "outputs": [],
   "source": []
  },
  {
   "cell_type": "code",
   "execution_count": null,
   "metadata": {},
   "outputs": [],
   "source": [
    "sc_dp_vec = SeamCarveDPVec()\n",
    "\n",
    "new_height = 7\n",
    "new_width = 7\n",
    "\n",
    "test_img_small_dp_vec = sc_dp_vec.seam_carve(img, new_height, new_width)\n",
    "\n",
    "assert np.array_equal(test_img_small_rec, test_img_small_dp_vec)\n",
    "\n",
    "plt.imshow(test_img_small_dp_vec);"
   ]
  },
  {
   "cell_type": "markdown",
   "metadata": {},
   "source": [
    "#### 4(b)\n",
    "rubric={reasoning:1}\n",
    "\n",
    "Empirically compare the speed to your vectorized DP implementation of `find_vertical_seam` to the non-vecorized DP implementation from Part 3: how long does your vectorized DP code take for the image size that took 10 seconds with non-vectorized DP, in other words the same size you used in 3(d)?"
   ]
  },
  {
   "cell_type": "code",
   "execution_count": null,
   "metadata": {},
   "outputs": [],
   "source": []
  },
  {
   "cell_type": "markdown",
   "metadata": {},
   "source": [
    "#### 4(c)\n",
    "rubric={reasoning:1}\n",
    "\n",
    "How big of an image you can run `find_vertical_seam` on in 1 second with the vectorized DP? (Note: we aren't asking you to try for 10 seconds because the image would likely be too big to fit in memory!)"
   ]
  },
  {
   "cell_type": "code",
   "execution_count": null,
   "metadata": {},
   "outputs": [],
   "source": []
  },
  {
   "cell_type": "markdown",
   "metadata": {},
   "source": [
    "#### 4(d)\n",
    "rubric={reasoning:1}\n",
    "\n",
    "The original DP code starts like this:\n",
    "\n",
    "```python\n",
    "for i in range(1,nrows):\n",
    "    for j in range(1,ncols+1):\n",
    "        ...\n",
    "```\n",
    "\n",
    "In Part 4(a), we vectorized this inner loop over columns, but we did not vectorize the outer loop over rows. Why didn't we take this one step further and vectorize the loop over rows as well?"
   ]
  },
  {
   "cell_type": "markdown",
   "metadata": {},
   "source": []
  },
  {
   "cell_type": "markdown",
   "metadata": {},
   "source": [
    "## Part 5: Pondering\n",
    "\n",
    "#### 5(a)\n",
    "rubric={reasoning:3}\n",
    "\n",
    "Let's take a moment to reflect on how interesting this all is. You tried 4 approaches and (at least for me), each one is _significantly_ faster than the previous. Amazing! For each of the 3 improvements (over the previous version), was the improvement was due to a better algorithm or a better implementation? "
   ]
  },
  {
   "cell_type": "markdown",
   "metadata": {},
   "source": []
  },
  {
   "cell_type": "markdown",
   "metadata": {},
   "source": [
    "#### 5(b)\n",
    "rubric={reasoning:1}\n",
    "\n",
    "Submit some resized images of your liking. Make sure to include both the original and resized image. You are provided with some test images in this repository: mandrill, Halloween high-res ($2592\\times 3888$), Halloween lower-res ($400\\times 600$). These are read in below. You can try resizing these, or other images. Have fun!"
   ]
  },
  {
   "cell_type": "code",
   "execution_count": null,
   "metadata": {},
   "outputs": [],
   "source": [
    "mandrill_img = plt.imread(\"mandrill.jpg\")\n",
    "halloween_img_small = plt.imread(\"halloween-jack-o-lantern-bucket-with-witch-hat-and-candles-400x600.jpg\")\n",
    "halloween_img_large = plt.imread(\"halloween-jack-o-lantern-bucket-with-witch-hat-and-candles.jpg\")"
   ]
  },
  {
   "cell_type": "code",
   "execution_count": null,
   "metadata": {},
   "outputs": [],
   "source": []
  }
 ],
 "metadata": {
  "anaconda-cloud": {},
  "kernelspec": {
   "display_name": "Python 3.10.6 ('dsci512')",
   "language": "python",
   "name": "python3"
  },
  "language_info": {
   "codemirror_mode": {
    "name": "ipython",
    "version": 3
   },
   "file_extension": ".py",
   "mimetype": "text/x-python",
   "name": "python",
   "nbconvert_exporter": "python",
   "pygments_lexer": "ipython3",
   "version": "3.10.6"
  },
  "vscode": {
   "interpreter": {
    "hash": "833530e805897aab5e7a30ee530b0bcb4cd19373b840f29eae5897b61b26002e"
   }
  }
 },
 "nbformat": 4,
 "nbformat_minor": 4
}
