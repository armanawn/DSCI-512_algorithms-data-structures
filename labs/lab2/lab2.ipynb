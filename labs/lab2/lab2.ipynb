{
 "cells": [
  {
   "cell_type": "markdown",
   "metadata": {},
   "source": [
    "# DSCI 512 Lab 2"
   ]
  },
  {
   "cell_type": "code",
   "execution_count": null,
   "metadata": {},
   "outputs": [],
   "source": [
    "import numpy as np\n",
    "import pandas as pd\n",
    "import matplotlib.pyplot as plt\n",
    "from collections import defaultdict, Counter"
   ]
  },
  {
   "cell_type": "markdown",
   "metadata": {},
   "source": [
    "### Instructions\n",
    "rubric={mechanics:3}\n",
    "\n",
    "Follow the [general lab instructions](https://ubc-mds.github.io/resources_pages/general_lab_instructions/)."
   ]
  },
  {
   "cell_type": "markdown",
   "metadata": {},
   "source": [
    "## Exercise 1: time complexity of recursive functions\n",
    "\n",
    "For each of the following recursive functions, determine the time complexity as a function of the input $n$ and briefly justify your answer. Assume $n$ is a positive integer."
   ]
  },
  {
   "cell_type": "markdown",
   "metadata": {},
   "source": [
    "#### 1.1\n",
    "rubric={reasoning:3}"
   ]
  },
  {
   "cell_type": "code",
   "execution_count": null,
   "metadata": {},
   "outputs": [],
   "source": [
    "def titled(n):\n",
    "    if n >= 0:\n",
    "        print('n: ', n)\n",
    "        return titled(n-1)\n",
    "    else:\n",
    "        return \"sandwich\""
   ]
  },
  {
   "cell_type": "code",
   "execution_count": null,
   "metadata": {},
   "outputs": [],
   "source": [
    "titled(15)"
   ]
  },
  {
   "cell_type": "markdown",
   "metadata": {
    "toc-hr-collapsed": true
   },
   "source": []
  },
  {
   "cell_type": "markdown",
   "metadata": {},
   "source": [
    "#### 1.2\n",
    "rubric={reasoning:3}"
   ]
  },
  {
   "cell_type": "code",
   "execution_count": null,
   "metadata": {},
   "outputs": [],
   "source": [
    "def untitled(n):\n",
    "    if n < 0:\n",
    "        return \"sandwich\"\n",
    "    else:\n",
    "        print('n: ', n)\n",
    "        return untitled(n-2)"
   ]
  },
  {
   "cell_type": "code",
   "execution_count": null,
   "metadata": {},
   "outputs": [],
   "source": [
    "untitled(8)"
   ]
  },
  {
   "cell_type": "markdown",
   "metadata": {
    "toc-hr-collapsed": true
   },
   "source": []
  },
  {
   "cell_type": "markdown",
   "metadata": {},
   "source": [
    "#### 1.3\n",
    "rubric={reasoning:3}"
   ]
  },
  {
   "cell_type": "code",
   "execution_count": null,
   "metadata": {},
   "outputs": [],
   "source": [
    "def does_nothing(n):\n",
    "    print('n:', n)\n",
    "    if n == 0:\n",
    "        return\n",
    "    does_nothing(n-1)\n",
    "    does_nothing(n-1)"
   ]
  },
  {
   "cell_type": "code",
   "execution_count": null,
   "metadata": {},
   "outputs": [],
   "source": [
    "does_nothing(3)"
   ]
  },
  {
   "cell_type": "markdown",
   "metadata": {
    "toc-hr-collapsed": true
   },
   "source": []
  },
  {
   "cell_type": "markdown",
   "metadata": {},
   "source": [
    "#### 1.4\n",
    "rubric={reasoning:3}"
   ]
  },
  {
   "cell_type": "code",
   "execution_count": null,
   "metadata": {},
   "outputs": [],
   "source": [
    "def does_nothing_more_slowly(n):\n",
    "    print(n)\n",
    "    if n == 0:\n",
    "        return\n",
    "    does_nothing_more_slowly(n-1)\n",
    "    does_nothing_more_slowly(n-1)\n",
    "    does_nothing_more_slowly(n-1)"
   ]
  },
  {
   "cell_type": "code",
   "execution_count": null,
   "metadata": {},
   "outputs": [],
   "source": [
    "does_nothing_more_slowly(3)"
   ]
  },
  {
   "cell_type": "markdown",
   "metadata": {
    "toc-hr-collapsed": true
   },
   "source": []
  },
  {
   "cell_type": "markdown",
   "metadata": {},
   "source": [
    "#### (challenging) 1.5\n",
    "rubric={reasoning}"
   ]
  },
  {
   "cell_type": "code",
   "execution_count": null,
   "metadata": {},
   "outputs": [],
   "source": [
    "def looprec(n):\n",
    "    print(\"Hello!\")\n",
    "    print('N: ', n)\n",
    "    for i in range(n):\n",
    "        looprec(n-1)"
   ]
  },
  {
   "cell_type": "code",
   "execution_count": null,
   "metadata": {},
   "outputs": [],
   "source": [
    "looprec(3)"
   ]
  },
  {
   "cell_type": "markdown",
   "metadata": {
    "toc-hr-collapsed": true
   },
   "source": []
  },
  {
   "cell_type": "markdown",
   "metadata": {},
   "source": [
    "#### (challenging) 1.6\n",
    "rubric={reasoning}\n",
    "\n",
    "In this exercise, determine the **space** complexity of `hello` in terms of $n$."
   ]
  },
  {
   "cell_type": "code",
   "execution_count": null,
   "metadata": {},
   "outputs": [],
   "source": [
    "def hello(n):\n",
    "    if n == 0:\n",
    "        return 1\n",
    "    return hello(n-1) + hello(n-1)"
   ]
  },
  {
   "cell_type": "code",
   "execution_count": null,
   "metadata": {},
   "outputs": [],
   "source": [
    "hello(4)"
   ]
  },
  {
   "cell_type": "markdown",
   "metadata": {},
   "source": []
  },
  {
   "cell_type": "markdown",
   "metadata": {},
   "source": [
    "## Exercise 2: recursive sum\n",
    "rubric={accuracy:3,quality:3}\n",
    "\n",
    "Write a recursive function `rec_sum` that takes in a list of numbers and sums up the numbers in the list. If the list is empty, it should return `0`. No loops, `sum`, or numpy operations allowed! And, as usual, a docstring is required."
   ]
  },
  {
   "cell_type": "code",
   "execution_count": null,
   "metadata": {},
   "outputs": [],
   "source": []
  },
  {
   "cell_type": "code",
   "execution_count": null,
   "metadata": {},
   "outputs": [],
   "source": [
    "# An empty list\n",
    "assert rec_sum([]) == 0\n",
    "\n",
    "# A list with one element\n",
    "assert rec_sum([32]) == 32\n",
    "\n",
    "# A list with all positive numbers\n",
    "assert rec_sum([1, 2, 3, 4, 5]) == 15\n",
    "\n",
    "# A list with negative numbers\n",
    "assert rec_sum([1, 2, 3, 4, -5]) == 5"
   ]
  },
  {
   "cell_type": "markdown",
   "metadata": {},
   "source": [
    "## Exercise 3: recursive graphics\n",
    "rubric={accuracy:1,reasoning:1}\n",
    "\n",
    "In this exercise you will use recursion to draw the Sierpinski triangle. An image of one such triangle is shown below.\n",
    "\n",
    "<img width=\"500\" src=\"sierpinski_6_smaller.png\">\n",
    "\n",
    "To help you do this, we are providing some code in the cell below. The `draw_triangle` function draws a triangle for you. When you are done calling `draw_triangle` as many times as you wish, call `show_triangles` once to render the image nicely.\n",
    "\n",
    "You do not need to understand how the code below works. You only need to understand how to use it. In other words, read the docstrings, but you don't need to read the code inside the functions."
   ]
  },
  {
   "cell_type": "code",
   "execution_count": null,
   "metadata": {},
   "outputs": [],
   "source": [
    "def draw_triangle(x, y, side):\n",
    "    \"\"\"\n",
    "    Draw an equilateral triangle at (x,y) with side length `side`.\n",
    "\n",
    "    Parameters:\n",
    "    -----------\n",
    "    x : float\n",
    "        the x-coordinate of the *midpoint* of the triangle base\n",
    "    y : float\n",
    "        the y-coordinate of the *base* of the triangle\n",
    "    side : float\n",
    "        the length of each side of the triangle\n",
    "    \"\"\"\n",
    "    height = np.sqrt(3)*side/2\n",
    "    plt.plot([x-side/2.0, x+side/2.0, x, x-side/2.0], [y, y, y+height, y], 'k')\n",
    "\n",
    "\n",
    "def show_triangles(save=False):\n",
    "    \"\"\"\n",
    "    Make the Sierpinski triangle image look pretty.\n",
    "\n",
    "    Parameters:\n",
    "    -----------\n",
    "    save : bool, optional\n",
    "        Whether or not to save the image to a file (default: False).\n",
    "    \"\"\"\n",
    "    plt.gcf().set_size_inches(10, 8.6)\n",
    "    plt.axis('scaled')\n",
    "    plt.axis('off')\n",
    "    plt.tick_params(labelbottom=False, labelleft=False)\n",
    "    if save:\n",
    "        plt.tight_layout()\n",
    "        plt.savefig('sierpinski.png')\n",
    "    plt.show()\n",
    "\n",
    "draw_triangle(0, 0, 1)  # example: a single triangle (depth=0)\n",
    "show_triangles()        # show the triangle"
   ]
  },
  {
   "cell_type": "markdown",
   "metadata": {},
   "source": [
    "Another example is given below: a Sierpinski triangle with depth 1, drawn without using recursion but just by calling `draw_triangles` 3 times. The point of this is that we provide you with (most of) the geometry, so you can focus on recursion and be less likely to get stuck on the geometry aspects."
   ]
  },
  {
   "cell_type": "code",
   "execution_count": null,
   "metadata": {},
   "outputs": [],
   "source": [
    "draw_triangle(-0.25, 0, 0.5)\n",
    "draw_triangle(+0.25, 0, 0.5)\n",
    "draw_triangle(0, (0.5*(np.sqrt(3)/2)), 0.5)\n",
    "show_triangles()"
   ]
  },
  {
   "cell_type": "markdown",
   "metadata": {},
   "source": [
    "Your tasks are as follows:\n",
    "\n",
    "1. Write a recursive function `sierpinski` that takes four arguments: the coordinates `x` and `y`, the side length of the outermost triangle, `size`, and the depth `n`. Then, use your function to reproduce the figure above of the Sierpinski triangle with depth 6. Note: your code should only call `show_triangles` once, outside the recursive function (**not** within the recursive function)\n",
    "\n",
    "2. What is the big-O running time of your code, as a function of $n$?"
   ]
  },
  {
   "cell_type": "markdown",
   "metadata": {},
   "source": []
  },
  {
   "cell_type": "markdown",
   "metadata": {},
   "source": [
    "## Exercise 4: tricky recursive code\n",
    "rubric={reasoning:1}\n",
    "\n",
    "Explain what the following code does, and how it works:"
   ]
  },
  {
   "cell_type": "code",
   "execution_count": null,
   "metadata": {},
   "outputs": [],
   "source": [
    "def f(letters, n):\n",
    "    \"\"\"\n",
    "    Does something mysterious.\n",
    "\n",
    "    Parameters\n",
    "    ----------\n",
    "    letters : str \n",
    "        ?????\n",
    "    n : int \n",
    "        ?????\n",
    "\n",
    "    Returns\n",
    "    -------\n",
    "    ??? \n",
    "        ?????   \n",
    "\n",
    "    \"\"\"\n",
    "\n",
    "    if n == 0:\n",
    "        return [\"\"]\n",
    "\n",
    "    return [letter + l for letter in letters for l in f(letters, n-1)]"
   ]
  },
  {
   "cell_type": "code",
   "execution_count": null,
   "metadata": {},
   "outputs": [],
   "source": [
    "f(\"MDS!\", 1)"
   ]
  },
  {
   "cell_type": "markdown",
   "metadata": {},
   "source": []
  },
  {
   "cell_type": "markdown",
   "metadata": {},
   "source": [
    "## (optional) Exercise 5: Factorio recipes\n",
    "rubric={reasoning}\n",
    "\n",
    "[Factorio](https://www.factorio.com/) is a popular online strategic game in which you build and maintain factories. In this game, objects are built out of other objects. Let's load the data and then explain further:"
   ]
  },
  {
   "cell_type": "code",
   "execution_count": null,
   "metadata": {},
   "outputs": [],
   "source": [
    "recipe_df = pd.read_csv(\"recipes-factorio.csv\")\n",
    "recipe_df.columns = [\"output\", \"input\", \"quantity\", \"raw\"]\n",
    "recipe_df[\"raw\"] = recipe_df[\"raw\"].astype(bool)"
   ]
  },
  {
   "cell_type": "code",
   "execution_count": null,
   "metadata": {},
   "outputs": [],
   "source": [
    "recipe_df.head()"
   ]
  },
  {
   "cell_type": "markdown",
   "metadata": {},
   "source": [
    "I'll turn this into a dictionary of dictionaries for easier access:"
   ]
  },
  {
   "cell_type": "code",
   "execution_count": null,
   "metadata": {},
   "outputs": [],
   "source": [
    "def recipe_to_dict(recipe_df, item):\n",
    "    z = recipe_df[recipe_df[\"output\"] == item]\n",
    "    return dict(zip(z[\"input\"], z[\"quantity\"]))\n",
    "\n",
    "recipes = {item : recipe_to_dict(recipe_df, item) for item in recipe_df[\"output\"]}"
   ]
  },
  {
   "cell_type": "markdown",
   "metadata": {},
   "source": [
    "Let's look at building a _Roboport_ as an example."
   ]
  },
  {
   "cell_type": "code",
   "execution_count": null,
   "metadata": {},
   "outputs": [],
   "source": [
    "recipes[\"roboport\"]"
   ]
  },
  {
   "cell_type": "markdown",
   "metadata": {},
   "source": [
    "What we see here is that, to construct a Roboport we need 45 advanced circuits, 45 iron gear wheels, and 45 steel plates. But how do you make advanced circuits? You need to make the advanced circuits out of other ingredients as well:"
   ]
  },
  {
   "cell_type": "code",
   "execution_count": null,
   "metadata": {},
   "outputs": [],
   "source": [
    "recipes[\"advanced-circuit\"]"
   ]
  },
  {
   "cell_type": "markdown",
   "metadata": {},
   "source": [
    "This continues until we get to what the game considers \"raw\" ingredients, such as copper plates:"
   ]
  },
  {
   "cell_type": "code",
   "execution_count": null,
   "metadata": {},
   "outputs": [],
   "source": [
    "recipes[\"copper-cable\"]"
   ]
  },
  {
   "cell_type": "markdown",
   "metadata": {},
   "source": [
    "(Optional note: the \"0.5\" means that one copper plate is used to produce two copper cables; see [here](https://wiki.factorio.com/Copper_cable).)"
   ]
  },
  {
   "cell_type": "markdown",
   "metadata": {},
   "source": [
    "It is useful to know the total raw ingredient requirement for an item when crafting things by hand, because you can quickly check whether you have those raw ingredients in your inventory.\n",
    "\n",
    "We can see the full list of raw ingredients required to build a roboport by looking at the [Factorio Wiki's page on Roboport](https://wiki.factorio.com/Roboport):\n",
    "\n",
    "![](roboport-factorio.png)"
   ]
  },
  {
   "cell_type": "markdown",
   "metadata": {},
   "source": [
    "What this page shows is both the recipe or _immediate ingredients_ (advanced circuit, iron gear wheel, steel plate) that we saw earlier, as well as the total _raw ingredients_: 225 copper plates, 180 iron plates, 90 plastic bars, and 45 steel plate. Where did these numbers come from? Well... 1 roboport requires:\n",
    "\n",
    "- 45 advanced circuits which requires\n",
    "  - 90 electronic circuits which requires \n",
    "    - 270 copper cables which requires \n",
    "      - **135 copper plates** (raw)\n",
    "    - and **90 iron plates** (raw)\n",
    "  - **90 plastic bars** (raw)\n",
    "  - 180 copper cables which requires \n",
    "    - **90 copper plates** (raw)\n",
    "- 45 iron gear wheels requires\n",
    "  - **90 iron plates** (raw)\n",
    "- **45 steel plates** (raw)\n",
    "  \n",
    "Add up everything in bold and you get the 225 copper plates, 180 iron plates, 90 plastic bars and 45 steel plates."
   ]
  },
  {
   "cell_type": "markdown",
   "metadata": {},
   "source": [
    "It's a bit complicated to explain which of the ingredients are considered \"raw\" ingredients for the purpose of the game, but I will provide the set of items for you here:"
   ]
  },
  {
   "cell_type": "code",
   "execution_count": null,
   "metadata": {},
   "outputs": [],
   "source": [
    "raw_ingredients = (set(recipe_df[\"input\"]) | set(recipe_df[\"output\"])) - set(recipe_df[~recipe_df[\"raw\"]][\"output\"])"
   ]
  },
  {
   "cell_type": "markdown",
   "metadata": {},
   "source": [
    "**Your task:**\n",
    "\n",
    "Write a recursive function that takes in the recipes, the set of raw ingredients, and the name of an item, and returns _the raw ingredients for that item_ as a dictionary. Some tests are provided below."
   ]
  },
  {
   "cell_type": "code",
   "execution_count": null,
   "metadata": {},
   "outputs": [],
   "source": []
  },
  {
   "cell_type": "code",
   "execution_count": null,
   "metadata": {},
   "outputs": [],
   "source": [
    "assert get_raw_ingredients(recipes, raw_ingredients, 'roboport') == {\n",
    "    'copper-plate' : 225,\n",
    "    'iron-plate'   : 180,\n",
    "    'plastic-bar'  : 90,\n",
    "    'steel-plate'  : 45\n",
    "}"
   ]
  },
  {
   "cell_type": "code",
   "execution_count": null,
   "metadata": {},
   "outputs": [],
   "source": [
    "assert get_raw_ingredients(recipes, raw_ingredients, 'copper-ore') == {\n",
    "    'copper-ore' : 1\n",
    "}"
   ]
  },
  {
   "cell_type": "code",
   "execution_count": null,
   "metadata": {},
   "outputs": [],
   "source": [
    "assert get_raw_ingredients(recipes, raw_ingredients, 'automation-science-pack') == {\n",
    "    'copper-plate' : 1,\n",
    "    'iron-plate'   : 2\n",
    "}"
   ]
  },
  {
   "cell_type": "markdown",
   "metadata": {},
   "source": [
    "![](red-science-pack.png)"
   ]
  },
  {
   "cell_type": "code",
   "execution_count": null,
   "metadata": {},
   "outputs": [],
   "source": [
    "# concrete is considered raw because it can't be crafted by hand\n",
    "# but if we remove it from the set of raw ingredients we can break it down further\n",
    "assert get_raw_ingredients(recipes, raw_ingredients-{'concrete'}, 'concrete') == {\n",
    "    'iron-ore'    : 0.1,\n",
    "    'stone-brick' : 0.5,\n",
    "    'water'       : 10\n",
    "}"
   ]
  },
  {
   "cell_type": "code",
   "execution_count": null,
   "metadata": {},
   "outputs": [],
   "source": [
    "assert get_raw_ingredients(recipes, raw_ingredients, 'satellite') == {\n",
    "    'battery'         : 500,\n",
    "    'copper-plate'    : 4787.5,\n",
    "    'iron-plate'      : 1825,\n",
    "    'plastic-bar'     : 500,\n",
    "    'processing-unit' : 100,\n",
    "    'rocket-fuel'     : 50,\n",
    "    'steel-plate'     : 700\n",
    "}"
   ]
  },
  {
   "cell_type": "markdown",
   "metadata": {},
   "source": [
    "![](satellite-factorio.png)"
   ]
  },
  {
   "cell_type": "markdown",
   "metadata": {},
   "source": [
    "## Exercise 6: Set implementation with BSTs\n",
    "\n",
    "In this exercise, you will implement a set data structure based on a binary search tree. You will write the tree as a Python class. We are providing some starter code for you below. "
   ]
  },
  {
   "cell_type": "markdown",
   "metadata": {},
   "source": [
    "#### 6(a)\n",
    "rubric={accuracy:4,quality:4}\n",
    "\n",
    "Implement a recursive method `insert` that takes a new element and inserts it into the tree. Your function should work by recursively calling `insert` on the left or right subtree depending on whether the new value is less than or greater than the tree's value, respectively. If the element is already in the tree, then the call to `insert` should do nothing. \n",
    "\n",
    "Hint: When inserting something into the tree, you should be creating a new `TreeSet` object with `TreeSet()`, then inserting the value into this newly created `TreeSet`, and then making sure this new `TreeSet` is stored in your current `TreeSet` as either `self.left` or `self.right`."
   ]
  },
  {
   "cell_type": "code",
   "execution_count": null,
   "metadata": {},
   "outputs": [],
   "source": [
    "class TreeSet:\n",
    "    \"\"\"\n",
    "    A set implementation based on a binary tree.\n",
    "    \"\"\"\n",
    "\n",
    "    def __init__(self):\n",
    "        self.value = None\n",
    "        self.left = None\n",
    "        self.right = None\n",
    "\n",
    "    \n",
    "    \n",
    "    def contains(self, value):\n",
    "        \"\"\"\n",
    "        Check to see if the binary tree has a certain value \n",
    "\n",
    "        Parameters\n",
    "        ----------\n",
    "        value : object\n",
    "            the value to search for within the tree\n",
    "\n",
    "        Returns\n",
    "        -------\n",
    "        bool \n",
    "            if contained in the tree returns True, otherwise False  \n",
    "\n",
    "        Example\n",
    "        --------\n",
    "        >>> my_set = TreeSet() \n",
    "        >>> my_set.insert(\"Attempt\") \n",
    "        >>> my_set.contains(\"Failure\")\n",
    "        False\n",
    "        \"\"\"\n",
    "        if value == self.value:\n",
    "            return True\n",
    "\n",
    "        if value < self.value:\n",
    "            if self.left is None:\n",
    "                return False\n",
    "            else:\n",
    "                return self.left.contains(value)\n",
    "        else:\n",
    "            if self.right is None:\n",
    "                return False\n",
    "            else:\n",
    "                return self.right.contains(value)\n",
    "\n",
    "    def __str__(self, s=\"\"):\n",
    "        \"\"\"\n",
    "        A crude way to print the tree. A better way would be to print the tree by depth. \n",
    "\n",
    "        Note: __str__ is a special method, like __init__, that returns a string representation of an object.\n",
    "\n",
    "        Parameters\n",
    "        ----------\n",
    "        s : str\n",
    "           the starting string value. Default is empty string\n",
    "\n",
    "        Returns\n",
    "        -------\n",
    "        str \n",
    "            aggregated items in the set\n",
    "\n",
    "        Example\n",
    "        --------\n",
    "        >>> my_set = TreeSet() \n",
    "        >>> my_set.insert(\"Try\")\n",
    "        >>> my_set.insert(\"your\")\n",
    "        >>> my_set.insert(\"best\")\n",
    "        >>> print(my_set)\n",
    "        Try, your, best,\n",
    "        \"\"\"\n",
    "\n",
    "        if self.value is None:\n",
    "            return \"(An empty tree)\"\n",
    "\n",
    "        if self.left is not None:\n",
    "            s += self.left.__str__()\n",
    "\n",
    "        s += str(self.value) + \", \"\n",
    "\n",
    "        if self.right is not None:\n",
    "            s += self.right.__str__()\n",
    "\n",
    "        return s"
   ]
  },
  {
   "cell_type": "code",
   "execution_count": null,
   "metadata": {},
   "outputs": [],
   "source": [
    "my_set = TreeSet()\n",
    "my_set.insert(\"today\")\n",
    "my_set.insert(\"hello\")\n",
    "my_set.insert(\"data science\")\n",
    "my_set.insert(\"jerry\")\n",
    "my_set.insert(\"apple\")\n",
    "my_set.insert(\"17\")\n",
    "my_set.insert(\"hello\")\n",
    "print(my_set)"
   ]
  },
  {
   "cell_type": "code",
   "execution_count": null,
   "metadata": {},
   "outputs": [],
   "source": [
    "assert my_set.contains(\"data science\")\n",
    "assert my_set.contains(\"apple\")\n",
    "assert not my_set.contains(\"18\")\n",
    "assert not my_set.contains(\"blah\")"
   ]
  },
  {
   "cell_type": "code",
   "execution_count": null,
   "metadata": {},
   "outputs": [],
   "source": [
    "my_set = TreeSet()\n",
    "my_set.insert(3)\n",
    "my_set.insert(5)\n",
    "my_set.insert(10)\n",
    "print(my_set)"
   ]
  },
  {
   "cell_type": "markdown",
   "metadata": {},
   "source": [
    "#### 6(b)\n",
    "rubric={accuracy:3}\n",
    "\n",
    "In lecture 2, we empirically timed the searching operation using four approaches:\n",
    "\n",
    "1. Linear search on an unsorted list\n",
    "2. Binary search on an sorted list\n",
    "3. Python's `in` operator on an unsorted list\n",
    "4. `in` with Python's built-in `set`\n",
    "\n",
    "Similar code to that from lecture, for just Python's `set`, is reproduced below for your convenience:"
   ]
  },
  {
   "cell_type": "code",
   "execution_count": null,
   "metadata": {},
   "outputs": [],
   "source": [
    "list_sizes = [100, 1000, 10_000, 100_000, 1_000_000]\n",
    "\n",
    "results = defaultdict(list)\n",
    "results[\"size\"] = list_sizes\n",
    "\n",
    "key = -1\n",
    "x_all = np.random.randint(1e8, size=max(list_sizes))\n",
    "\n",
    "for list_size in list_sizes:\n",
    "    print('List size: ', list_size)\n",
    "    x = x_all[:list_size]\n",
    "    \n",
    "    x_set = set(x)\n",
    "    time = %timeit -q -o -r 1 (key in x_set)\n",
    "    results[\"Python set in\"].append(time.average)"
   ]
  },
  {
   "cell_type": "code",
   "execution_count": null,
   "metadata": {},
   "outputs": [],
   "source": [
    "df = pd.DataFrame(results)\n",
    "df"
   ]
  },
  {
   "cell_type": "markdown",
   "metadata": {},
   "source": [
    "Empirically measure the speed of `contains` with your `TreeSet` implementation, and then add them to the DataFrame for printing. Print out the DataFrame.\n",
    "\n",
    "(Note: for reasons of speed, we only go up to $n=10^6$ here. Populating the `TreeSet` objects with $10^7$ items would take a long time."
   ]
  },
  {
   "cell_type": "markdown",
   "metadata": {},
   "source": []
  },
  {
   "cell_type": "markdown",
   "metadata": {},
   "source": [
    "#### 6(c)\n",
    "rubric={reasoning:5}\n",
    "\n",
    "Discuss your results from the previous part. How do Python's `set` and your `TreeSet` compare? Specifically:\n",
    "\n",
    "- Which method is faster?\n",
    "- What is the theoretical time complexity of `in` with a `set`, and `contains` with a `TreeSet`?\n",
    "- Are the empirical results consistent with the theoretical time complexities?\n",
    "- Are the results what you expected, overall?"
   ]
  },
  {
   "cell_type": "markdown",
   "metadata": {},
   "source": []
  },
  {
   "cell_type": "markdown",
   "metadata": {},
   "source": [
    "#### (optional) 6(d)\n",
    "rubric={reasoning:1}\n",
    "\n",
    "Now, also time the `insert` function from `TreeSet` and compare it to the speed of `add` from Python's `set`. This time, $n$ is **not** the number of elements we are inserting. Rather, you are measuring the speed of inserting _one_ value into the set, and $n$ is the current size of the set before insertion. \n",
    "\n",
    "Note: you'll have to be a bit careful setting this up. If you repeatedly insert the same value into the set, is the experiment valid?\n",
    "\n",
    "Discuss the results."
   ]
  },
  {
   "cell_type": "markdown",
   "metadata": {},
   "source": []
  }
 ],
 "metadata": {
  "anaconda-cloud": {},
  "kernelspec": {
   "display_name": "Python 3.10.6 ('dsci512')",
   "language": "python",
   "name": "python3"
  },
  "language_info": {
   "codemirror_mode": {
    "name": "ipython",
    "version": 3
   },
   "file_extension": ".py",
   "mimetype": "text/x-python",
   "name": "python",
   "nbconvert_exporter": "python",
   "pygments_lexer": "ipython3",
   "version": "3.10.6"
  },
  "vscode": {
   "interpreter": {
    "hash": "833530e805897aab5e7a30ee530b0bcb4cd19373b840f29eae5897b61b26002e"
   }
  }
 },
 "nbformat": 4,
 "nbformat_minor": 4
}
