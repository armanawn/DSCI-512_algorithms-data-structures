{
 "cells": [
  {
   "cell_type": "markdown",
   "metadata": {},
   "source": [
    "<img src=\"dsci512_header.png\" width=\"600\">\n",
    "\n",
    "# Lecture 2"
   ]
  },
  {
   "cell_type": "code",
   "execution_count": 1,
   "metadata": {
    "jupyter": {
     "source_hidden": true
    }
   },
   "outputs": [],
   "source": [
    "import numpy as np\n",
    "import pandas as pd\n",
    "from collections import defaultdict\n",
    "\n",
    "import matplotlib.pyplot as plt\n",
    "import altair as alt"
   ]
  },
  {
   "cell_type": "markdown",
   "metadata": {},
   "source": [
    "Outline:\n",
    "\n",
    "- Linear search and binary search intro (15 min)\n",
    "- Code timings (15 min)\n",
    "- Sorting (10 min)\n",
    "- Break (5 min)\n",
    "- Hash tables, hash functions (15 min)\n",
    "- Lookup tables, Python `dict` (5 min)\n",
    "- Python's `defaultdict` (15 min)"
   ]
  },
  {
   "cell_type": "markdown",
   "metadata": {},
   "source": [
    "## Learning objectives\n",
    "\n",
    "- Describe some basic sorting algorithms and their time complexities.\n",
    "- Describe the binary search algorithm.\n",
    "- Explain why searching in a sorted list is faster than in an unsorted list.\n",
    "- Explain the pros and cons of hash tables, and how they work at a high level.\n",
    "- Apply python's `dict` and `defaultdict` data structures."
   ]
  },
  {
   "cell_type": "markdown",
   "metadata": {},
   "source": [
    "## Linear search and binary search intro (15 min)\n",
    "\n",
    "We return to the problem of checking whether an element is present in a collection."
   ]
  },
  {
   "cell_type": "markdown",
   "metadata": {},
   "source": [
    "#### Linear search"
   ]
  },
  {
   "cell_type": "code",
   "execution_count": 2,
   "metadata": {},
   "outputs": [],
   "source": [
    "def search_unsorted(data, key):\n",
    "    \"\"\"\n",
    "    Searches the key in data using linear search \n",
    "    and returns True if found and False otherwise. \n",
    "\n",
    "    Parameters\n",
    "    ----------\n",
    "    data : list\n",
    "           the elements to search within\n",
    "    key  : int\n",
    "           the key to search for\n",
    "\n",
    "    Returns\n",
    "    -------\n",
    "    bool\n",
    "        boolean if key is contained in the data \n",
    "\n",
    "    Examples\n",
    "    --------\n",
    "    >>> search_unsorted([1, 7, 67, 35, 45], 3)\n",
    "    False\n",
    "    >>> search_unsorted([1, 7, 67, 35, 45], 7)\n",
    "    True\n",
    "    \"\"\"\n",
    "\n",
    "    for element in data:\n",
    "        if element == key:\n",
    "            return True\n",
    "    return False"
   ]
  },
  {
   "cell_type": "code",
   "execution_count": 3,
   "metadata": {},
   "outputs": [],
   "source": [
    "# Some tests\n",
    "\n",
    "# key is the first element in the list\n",
    "assert search_unsorted([4, 7, 9, -12, 1000], 4)\n",
    "\n",
    "# key is the last element in the list\n",
    "assert search_unsorted([4, 7, 9, -12, 1000], 1000)\n",
    "\n",
    "# key occurs multiple times in the list\n",
    "assert search_unsorted([4, 7, 9, -12, 4, 1000], 4)\n",
    "\n",
    "# key is larger than the largest element in the list\n",
    "assert not search_unsorted([4, 7, 9, -12, 1000], 2000)\n",
    "\n",
    "# key is smaller than the smallest element in the list\n",
    "assert not search_unsorted([4, 7, 9, -12, 1000], -18)\n",
    "\n",
    "# nothing is in an empty list\n",
    "assert not search_unsorted([], 1)"
   ]
  },
  {
   "cell_type": "markdown",
   "metadata": {},
   "source": [
    "**Question:** What is the time complexity of the `search_unsorted`, as a function of the length of the list, $n$? "
   ]
  },
  {
   "cell_type": "markdown",
   "metadata": {},
   "source": [
    "<br><br><br><br><br><br><br><br> \n",
    "**Answer:** The time complexity of the `search_unsorted` function is $O(n)$ because in the worst case the function loops over $n$ elements. "
   ]
  },
  {
   "cell_type": "markdown",
   "metadata": {},
   "source": [
    "#### Binary search\n",
    "\n",
    "- If the list is already sorted, we can search much faster with _binary search_.\n",
    "- See the \"binary search video\" that was recommended as pre-class viewing. \n",
    "- We start in the middle and can just restrict ourselves to searching half the list after a comparison.\n",
    "- Note: the input list must be sorted for the code to work."
   ]
  },
  {
   "cell_type": "code",
   "execution_count": 4,
   "metadata": {},
   "outputs": [],
   "source": [
    "def search_sorted(data, key):\n",
    "    \"\"\"\n",
    "    Searches the key in data using binary search \n",
    "    and returns True if found and False otherwise. \n",
    "\n",
    "    Parameters\n",
    "    ----------\n",
    "    data : list\n",
    "           a list of sorted elements to search within\n",
    "    key  : int\n",
    "           the key to search for\n",
    "\n",
    "    Returns\n",
    "    -------\n",
    "    bool :\n",
    "        boolean if key is contained in the data \n",
    "\n",
    "    Examples\n",
    "    --------\n",
    "    >>> search_sorted([1, 7, 35, 45, 67], 3)\n",
    "    False\n",
    "    >>> search_sorted([1, 7, 35, 45, 67], 7)\n",
    "    True\n",
    "    \"\"\"\n",
    "    \n",
    "    while len(data) > 0:\n",
    "        mid = len(data)//2\n",
    "        if data[mid] == key:\n",
    "            return True\n",
    "        if key < data[mid]:\n",
    "            data = data[:mid] \n",
    "        else:\n",
    "            data = data[mid+1:]\n",
    "    return False"
   ]
  },
  {
   "cell_type": "code",
   "execution_count": 5,
   "metadata": {},
   "outputs": [],
   "source": [
    "data = [-12, 4, 7, 9, 45, 45, 987, 1000, 2000]"
   ]
  },
  {
   "cell_type": "code",
   "execution_count": 6,
   "metadata": {},
   "outputs": [],
   "source": [
    "# Test cases for binary search\n",
    "\n",
    "# key is the first element in the list\n",
    "assert search_sorted(data, -12) == True\n",
    "\n",
    "# key is the last element in the list\n",
    "assert search_sorted(data, 2000) == True\n",
    "\n",
    "# key occurs multiple times in the list\n",
    "assert search_sorted(data, 45) == True\n",
    "\n",
    "# key is larger than the largest element in the list\n",
    "assert search_sorted(data, 3000) == False\n",
    "\n",
    "# key is smaller than the smallest element in the list\n",
    "assert search_sorted(data, -18) == False\n",
    "\n",
    "# nothing is in an empty list\n",
    "assert search_sorted([], 1) == False"
   ]
  },
  {
   "cell_type": "markdown",
   "metadata": {},
   "source": [
    "**Question:** What is the time complexity of the `search_sorted`, as a function of the length of the list, $n$? "
   ]
  },
  {
   "cell_type": "markdown",
   "metadata": {},
   "source": [
    "<br><br><br><br><br><br><br><br> **Answer:** The time complexity of the `search_sorted` function is $O(\\log n)$ because in the worst case, the function loops over $\\log n$ elements, as the search space reduces by half in each iteration of the loop. "
   ]
  },
  {
   "cell_type": "markdown",
   "metadata": {},
   "source": [
    "**Question:** What happens if you call `search_unsorted` on sorted data? What happens if you call `search_sorted` on unsorted data?"
   ]
  },
  {
   "cell_type": "markdown",
   "metadata": {},
   "source": [
    "<br><br><br><br><br><br> **Answer:** The `search_unsorted` function does not care about whether the data is sorted or not. In both cases, it sequentially searches for the key and returns `True` when it is found. The `search_sorted` function, on the other hand, is based on the assumption that the data is sorted in ascending order and you might miss the element you are looking for if called on unsorted data. In binary search, whenever we are in a position, all elements on the left are less than (or equal to in cases where values occur multiple times in the data) the element at the position and all elements on the right are greater than the element at the position, which is helpful in deciding which part of the list the next search should happen.   \n",
    "\n",
    "For example:"
   ]
  },
  {
   "cell_type": "code",
   "execution_count": 7,
   "metadata": {},
   "outputs": [
    {
     "data": {
      "text/plain": [
       "False"
      ]
     },
     "execution_count": 7,
     "metadata": {},
     "output_type": "execute_result"
    }
   ],
   "source": [
    "search_sorted([3, 2, 1], 1)"
   ]
  },
  {
   "cell_type": "markdown",
   "metadata": {},
   "source": [
    "**Question:** Why doesn't the `search_sorted` function start by verifying that the list is indeed sorted?"
   ]
  },
  {
   "cell_type": "markdown",
   "metadata": {},
   "source": [
    "<br><br><br><br><br><br>\n",
    "**Answer:** because this would take $O(n)$ time, defeating the purpose of the $O(\\log\\, n)$ lookup."
   ]
  },
  {
   "cell_type": "code",
   "execution_count": null,
   "metadata": {},
   "outputs": [],
   "source": []
  },
  {
   "cell_type": "markdown",
   "metadata": {},
   "source": [
    "## Code timing (15 min)\n",
    "\n",
    "Below we empirically measure the running times of 4 approaches:\n",
    "\n",
    "1. Using `in` with a Python `set` (same as last class)\n",
    "2. `search_sorted`, that is, our implementation of binary search above\n",
    "3. Using `in` with a Python `list` (same as last class)\n",
    "4. `search_unsorted`, that is, our implementation of linear search above"
   ]
  },
  {
   "cell_type": "markdown",
   "metadata": {},
   "source": [
    "**Question:** Why do I search for $-1$ in the code below? Why not $1$?"
   ]
  },
  {
   "cell_type": "code",
   "execution_count": 8,
   "metadata": {},
   "outputs": [
    {
     "name": "stdout",
     "output_type": "stream",
     "text": [
      "List size:  100\n",
      "List size:  1000\n",
      "List size:  10000\n",
      "List size:  100000\n",
      "List size:  1000000\n",
      "List size:  10000000\n"
     ]
    }
   ],
   "source": [
    "list_sizes = [100, 1000, 10_000, 100_000, 1_000_000, 10_000_000]\n",
    "\n",
    "results = defaultdict(list)\n",
    "results[\"size\"] = list_sizes\n",
    "\n",
    "key = -1\n",
    "\n",
    "for list_size in list_sizes:\n",
    "    print('List size: ', list_size)\n",
    "    x = np.random.randint(1e8, size=list_size)\n",
    "\n",
    "    time = %timeit -q -o -r 1 search_unsorted(x, key)\n",
    "    results[\"Unsorted list linear\"].append(time.average)\n",
    "    # Note: -q prevents it from printing to the terminal\n",
    "    #       -o sends the result to a variable (average time in seconds)\n",
    "    #       -r 3 makes it average only 3 trials instead of the default of 7, which saves time\n",
    "\n",
    "    time = %timeit -q -o -r 1 (key in x)\n",
    "    results[\"Unsorted list in\"].append(time.average)\n",
    "\n",
    "    x.sort()\n",
    "    time = %timeit -q -o -r 1 search_sorted(x, key)\n",
    "    results[\"Sorted list binary\"].append(time.average)\n",
    "\n",
    "    x_set = set(x)\n",
    "    time = %timeit -q -o -r 1 (key in x_set)\n",
    "    results[\"Python set in\"].append(time.average)"
   ]
  },
  {
   "cell_type": "markdown",
   "metadata": {},
   "source": [
    "**Answer**: we search for -1 because we know it will not be in the array. This gives us a worst case timing, because searching is the slowest  if it has to keep looking; it can be faster if it finds something right away. For example, if it's the 1st element, then linear search would seem extremely fast."
   ]
  },
  {
   "cell_type": "code",
   "execution_count": 9,
   "metadata": {},
   "outputs": [
    {
     "data": {
      "text/html": [
       "<div>\n",
       "<style scoped>\n",
       "    .dataframe tbody tr th:only-of-type {\n",
       "        vertical-align: middle;\n",
       "    }\n",
       "\n",
       "    .dataframe tbody tr th {\n",
       "        vertical-align: top;\n",
       "    }\n",
       "\n",
       "    .dataframe thead th {\n",
       "        text-align: right;\n",
       "    }\n",
       "</style>\n",
       "<table border=\"1\" class=\"dataframe\">\n",
       "  <thead>\n",
       "    <tr style=\"text-align: right;\">\n",
       "      <th></th>\n",
       "      <th>size</th>\n",
       "      <th>Unsorted list linear</th>\n",
       "      <th>Unsorted list in</th>\n",
       "      <th>Sorted list binary</th>\n",
       "      <th>Python set in</th>\n",
       "    </tr>\n",
       "  </thead>\n",
       "  <tbody>\n",
       "    <tr>\n",
       "      <th>0</th>\n",
       "      <td>100</td>\n",
       "      <td>0.000016</td>\n",
       "      <td>0.000002</td>\n",
       "      <td>0.000005</td>\n",
       "      <td>3.961091e-08</td>\n",
       "    </tr>\n",
       "    <tr>\n",
       "      <th>1</th>\n",
       "      <td>1000</td>\n",
       "      <td>0.000171</td>\n",
       "      <td>0.000003</td>\n",
       "      <td>0.000008</td>\n",
       "      <td>4.132132e-08</td>\n",
       "    </tr>\n",
       "    <tr>\n",
       "      <th>2</th>\n",
       "      <td>10000</td>\n",
       "      <td>0.001515</td>\n",
       "      <td>0.000006</td>\n",
       "      <td>0.000010</td>\n",
       "      <td>3.969443e-08</td>\n",
       "    </tr>\n",
       "    <tr>\n",
       "      <th>3</th>\n",
       "      <td>100000</td>\n",
       "      <td>0.015571</td>\n",
       "      <td>0.000038</td>\n",
       "      <td>0.000012</td>\n",
       "      <td>4.082971e-08</td>\n",
       "    </tr>\n",
       "    <tr>\n",
       "      <th>4</th>\n",
       "      <td>1000000</td>\n",
       "      <td>0.151856</td>\n",
       "      <td>0.000517</td>\n",
       "      <td>0.000015</td>\n",
       "      <td>4.082498e-08</td>\n",
       "    </tr>\n",
       "    <tr>\n",
       "      <th>5</th>\n",
       "      <td>10000000</td>\n",
       "      <td>1.524873</td>\n",
       "      <td>0.008633</td>\n",
       "      <td>0.000018</td>\n",
       "      <td>4.522875e-08</td>\n",
       "    </tr>\n",
       "  </tbody>\n",
       "</table>\n",
       "</div>"
      ],
      "text/plain": [
       "       size  Unsorted list linear  Unsorted list in  Sorted list binary  \\\n",
       "0       100              0.000016          0.000002            0.000005   \n",
       "1      1000              0.000171          0.000003            0.000008   \n",
       "2     10000              0.001515          0.000006            0.000010   \n",
       "3    100000              0.015571          0.000038            0.000012   \n",
       "4   1000000              0.151856          0.000517            0.000015   \n",
       "5  10000000              1.524873          0.008633            0.000018   \n",
       "\n",
       "   Python set in  \n",
       "0   3.961091e-08  \n",
       "1   4.132132e-08  \n",
       "2   3.969443e-08  \n",
       "3   4.082971e-08  \n",
       "4   4.082498e-08  \n",
       "5   4.522875e-08  "
      ]
     },
     "execution_count": 9,
     "metadata": {},
     "output_type": "execute_result"
    }
   ],
   "source": [
    "df = pd.DataFrame(results, columns=list(results.keys()))\n",
    "df"
   ]
  },
  {
   "cell_type": "markdown",
   "metadata": {},
   "source": [
    "Are these consistent with the time complexities we expected?"
   ]
  },
  {
   "cell_type": "markdown",
   "metadata": {},
   "source": [
    "Reading runtimes from a table: what happens of $N$ becomes $10N$?\n",
    "\n",
    "- Linear: time $T$ goes up to $10T$\n",
    "- Logarithmic: time $T$ goes up to $T+\\Delta T$\n",
    "- Constant: time $T$ stays about the same"
   ]
  },
  {
   "cell_type": "code",
   "execution_count": 10,
   "metadata": {},
   "outputs": [
    {
     "data": {
      "text/html": [
       "\n",
       "<div id=\"altair-viz-879d09dd9fe64ed89e0571cf4a3cdf5b\"></div>\n",
       "<script type=\"text/javascript\">\n",
       "  (function(spec, embedOpt){\n",
       "    let outputDiv = document.currentScript.previousElementSibling;\n",
       "    if (outputDiv.id !== \"altair-viz-879d09dd9fe64ed89e0571cf4a3cdf5b\") {\n",
       "      outputDiv = document.getElementById(\"altair-viz-879d09dd9fe64ed89e0571cf4a3cdf5b\");\n",
       "    }\n",
       "    const paths = {\n",
       "      \"vega\": \"https://cdn.jsdelivr.net/npm//vega@5?noext\",\n",
       "      \"vega-lib\": \"https://cdn.jsdelivr.net/npm//vega-lib?noext\",\n",
       "      \"vega-lite\": \"https://cdn.jsdelivr.net/npm//vega-lite@4.8.1?noext\",\n",
       "      \"vega-embed\": \"https://cdn.jsdelivr.net/npm//vega-embed@6?noext\",\n",
       "    };\n",
       "\n",
       "    function loadScript(lib) {\n",
       "      return new Promise(function(resolve, reject) {\n",
       "        var s = document.createElement('script');\n",
       "        s.src = paths[lib];\n",
       "        s.async = true;\n",
       "        s.onload = () => resolve(paths[lib]);\n",
       "        s.onerror = () => reject(`Error loading script: ${paths[lib]}`);\n",
       "        document.getElementsByTagName(\"head\")[0].appendChild(s);\n",
       "      });\n",
       "    }\n",
       "\n",
       "    function showError(err) {\n",
       "      outputDiv.innerHTML = `<div class=\"error\" style=\"color:red;\">${err}</div>`;\n",
       "      throw err;\n",
       "    }\n",
       "\n",
       "    function displayChart(vegaEmbed) {\n",
       "      vegaEmbed(outputDiv, spec, embedOpt)\n",
       "        .catch(err => showError(`Javascript Error: ${err.message}<br>This usually means there's a typo in your chart specification. See the javascript console for the full traceback.`));\n",
       "    }\n",
       "\n",
       "    if(typeof define === \"function\" && define.amd) {\n",
       "      requirejs.config({paths});\n",
       "      require([\"vega-embed\"], displayChart, err => showError(`Error loading script: ${err.message}`));\n",
       "    } else if (typeof vegaEmbed === \"function\") {\n",
       "      displayChart(vegaEmbed);\n",
       "    } else {\n",
       "      loadScript(\"vega\")\n",
       "        .then(() => loadScript(\"vega-lite\"))\n",
       "        .then(() => loadScript(\"vega-embed\"))\n",
       "        .catch(showError)\n",
       "        .then(() => displayChart(vegaEmbed));\n",
       "    }\n",
       "  })({\"config\": {\"view\": {\"continuousWidth\": 400, \"continuousHeight\": 300}, \"axis\": {\"grid\": false}}, \"data\": {\"name\": \"data-ebaee2ff92090f338a15ff9835fbf84c\"}, \"mark\": \"line\", \"encoding\": {\"color\": {\"type\": \"nominal\", \"field\": \"method\"}, \"x\": {\"type\": \"quantitative\", \"field\": \"size\", \"scale\": {\"type\": \"log\"}}, \"y\": {\"type\": \"quantitative\", \"field\": \"time (s)\", \"scale\": {\"type\": \"log\"}}}, \"$schema\": \"https://vega.github.io/schema/vega-lite/v4.8.1.json\", \"datasets\": {\"data-ebaee2ff92090f338a15ff9835fbf84c\": [{\"size\": 100, \"method\": \"Unsorted list linear\", \"time (s)\": 1.6370626599999996e-05}, {\"size\": 1000, \"method\": \"Unsorted list linear\", \"time (s)\": 0.0001710357257}, {\"size\": 10000, \"method\": \"Unsorted list linear\", \"time (s)\": 0.0015145792180000016}, {\"size\": 100000, \"method\": \"Unsorted list linear\", \"time (s)\": 0.015570951089999986}, {\"size\": 1000000, \"method\": \"Unsorted list linear\", \"time (s)\": 0.15185638580000002}, {\"size\": 10000000, \"method\": \"Unsorted list linear\", \"time (s)\": 1.5248725360000037}, {\"size\": 100, \"method\": \"Unsorted list in\", \"time (s)\": 2.48311685e-06}, {\"size\": 1000, \"method\": \"Unsorted list in\", \"time (s)\": 3.2439633799999965e-06}, {\"size\": 10000, \"method\": \"Unsorted list in\", \"time (s)\": 6.417117179999998e-06}, {\"size\": 100000, \"method\": \"Unsorted list in\", \"time (s)\": 3.759661879999996e-05}, {\"size\": 1000000, \"method\": \"Unsorted list in\", \"time (s)\": 0.0005166301220000022}, {\"size\": 10000000, \"method\": \"Unsorted list in\", \"time (s)\": 0.00863328439}, {\"size\": 100, \"method\": \"Sorted list binary\", \"time (s)\": 5.142758650000001e-06}, {\"size\": 1000, \"method\": \"Sorted list binary\", \"time (s)\": 8.25073841e-06}, {\"size\": 10000, \"method\": \"Sorted list binary\", \"time (s)\": 9.954796779999989e-06}, {\"size\": 100000, \"method\": \"Sorted list binary\", \"time (s)\": 1.2145415530000001e-05}, {\"size\": 1000000, \"method\": \"Sorted list binary\", \"time (s)\": 1.4594452449999978e-05}, {\"size\": 10000000, \"method\": \"Sorted list binary\", \"time (s)\": 1.8169224649999976e-05}, {\"size\": 100, \"method\": \"Python set in\", \"time (s)\": 3.961090909999996e-08}, {\"size\": 1000, \"method\": \"Python set in\", \"time (s)\": 4.1321321700000094e-08}, {\"size\": 10000, \"method\": \"Python set in\", \"time (s)\": 3.9694429099999696e-08}, {\"size\": 100000, \"method\": \"Python set in\", \"time (s)\": 4.0829710999999947e-08}, {\"size\": 1000000, \"method\": \"Python set in\", \"time (s)\": 4.082497939999996e-08}, {\"size\": 10000000, \"method\": \"Python set in\", \"time (s)\": 4.522875199999987e-08}]}}, {\"mode\": \"vega-lite\"});\n",
       "</script>"
      ],
      "text/plain": [
       "alt.Chart(...)"
      ]
     },
     "execution_count": 10,
     "metadata": {},
     "output_type": "execute_result"
    }
   ],
   "source": [
    "df_long = pd.melt(df, id_vars=\"size\", var_name=\"method\", value_name=\"time (s)\")\n",
    "\n",
    "alt.Chart(df_long).mark_line().encode(\n",
    "    alt.X('size', scale=alt.Scale(type='log')),\n",
    "    alt.Y('time (s)', scale=alt.Scale(type='log')),\n",
    "    color='method'\n",
    ").configure_axis(grid=False)"
   ]
  },
  {
   "cell_type": "markdown",
   "metadata": {},
   "source": [
    "Note that the `binary_search` we wrote is actually slower than the linear search using `in` when the list is smaller than $10,000$ elements. Remember, big-O is just an \"asymptotic\" trend. There could be:\n",
    "\n",
    "- Large/small constants, like $1000\\log(n)$ vs. $n$.\n",
    "- \"Lower order terms\", like $\\log(n)+100 \\log \\log(n) + 100$ vs. $n$.\n",
    "\n",
    "We are probably seeing the former; my code performs fewer steps (better complexity), but each step is much slower because the implementation is not optimized. (Often, though, we don't care too much about how code performs for very small inputs.)"
   ]
  },
  {
   "cell_type": "markdown",
   "metadata": {},
   "source": [
    "(**Note:** the last ~10 minutes of material are not easy and very important. If you didn't completely follow, please review them later and ask questions as needed!)"
   ]
  },
  {
   "cell_type": "markdown",
   "metadata": {},
   "source": [
    "The two fastest methods (the orange and blue curves) look quite similar, possible because of the log scale on the y-axis. Let's plot time vs. $\\log n$ to try and tell the difference."
   ]
  },
  {
   "cell_type": "code",
   "execution_count": 11,
   "metadata": {},
   "outputs": [
    {
     "data": {
      "text/html": [
       "\n",
       "<div id=\"altair-viz-aeb7ee61ffd045e48fd6be9787807140\"></div>\n",
       "<script type=\"text/javascript\">\n",
       "  (function(spec, embedOpt){\n",
       "    let outputDiv = document.currentScript.previousElementSibling;\n",
       "    if (outputDiv.id !== \"altair-viz-aeb7ee61ffd045e48fd6be9787807140\") {\n",
       "      outputDiv = document.getElementById(\"altair-viz-aeb7ee61ffd045e48fd6be9787807140\");\n",
       "    }\n",
       "    const paths = {\n",
       "      \"vega\": \"https://cdn.jsdelivr.net/npm//vega@5?noext\",\n",
       "      \"vega-lib\": \"https://cdn.jsdelivr.net/npm//vega-lib?noext\",\n",
       "      \"vega-lite\": \"https://cdn.jsdelivr.net/npm//vega-lite@4.8.1?noext\",\n",
       "      \"vega-embed\": \"https://cdn.jsdelivr.net/npm//vega-embed@6?noext\",\n",
       "    };\n",
       "\n",
       "    function loadScript(lib) {\n",
       "      return new Promise(function(resolve, reject) {\n",
       "        var s = document.createElement('script');\n",
       "        s.src = paths[lib];\n",
       "        s.async = true;\n",
       "        s.onload = () => resolve(paths[lib]);\n",
       "        s.onerror = () => reject(`Error loading script: ${paths[lib]}`);\n",
       "        document.getElementsByTagName(\"head\")[0].appendChild(s);\n",
       "      });\n",
       "    }\n",
       "\n",
       "    function showError(err) {\n",
       "      outputDiv.innerHTML = `<div class=\"error\" style=\"color:red;\">${err}</div>`;\n",
       "      throw err;\n",
       "    }\n",
       "\n",
       "    function displayChart(vegaEmbed) {\n",
       "      vegaEmbed(outputDiv, spec, embedOpt)\n",
       "        .catch(err => showError(`Javascript Error: ${err.message}<br>This usually means there's a typo in your chart specification. See the javascript console for the full traceback.`));\n",
       "    }\n",
       "\n",
       "    if(typeof define === \"function\" && define.amd) {\n",
       "      requirejs.config({paths});\n",
       "      require([\"vega-embed\"], displayChart, err => showError(`Error loading script: ${err.message}`));\n",
       "    } else if (typeof vegaEmbed === \"function\") {\n",
       "      displayChart(vegaEmbed);\n",
       "    } else {\n",
       "      loadScript(\"vega\")\n",
       "        .then(() => loadScript(\"vega-lite\"))\n",
       "        .then(() => loadScript(\"vega-embed\"))\n",
       "        .catch(showError)\n",
       "        .then(() => displayChart(vegaEmbed));\n",
       "    }\n",
       "  })({\"config\": {\"view\": {\"continuousWidth\": 400, \"continuousHeight\": 300}, \"axis\": {\"grid\": false}}, \"data\": {\"name\": \"data-b3e3ea643825b444a1c50630c5b982c1\"}, \"mark\": \"line\", \"encoding\": {\"color\": {\"type\": \"nominal\", \"field\": \"method\"}, \"x\": {\"type\": \"quantitative\", \"field\": \"size\", \"scale\": {\"type\": \"log\"}}, \"y\": {\"type\": \"quantitative\", \"field\": \"time (s)\"}}, \"$schema\": \"https://vega.github.io/schema/vega-lite/v4.8.1.json\", \"datasets\": {\"data-b3e3ea643825b444a1c50630c5b982c1\": [{\"size\": 100, \"method\": \"Sorted list binary\", \"time (s)\": 5.142758650000001e-06}, {\"size\": 1000, \"method\": \"Sorted list binary\", \"time (s)\": 8.25073841e-06}, {\"size\": 10000, \"method\": \"Sorted list binary\", \"time (s)\": 9.954796779999989e-06}, {\"size\": 100000, \"method\": \"Sorted list binary\", \"time (s)\": 1.2145415530000001e-05}, {\"size\": 1000000, \"method\": \"Sorted list binary\", \"time (s)\": 1.4594452449999978e-05}, {\"size\": 10000000, \"method\": \"Sorted list binary\", \"time (s)\": 1.8169224649999976e-05}, {\"size\": 100, \"method\": \"Python set in\", \"time (s)\": 3.961090909999996e-08}, {\"size\": 1000, \"method\": \"Python set in\", \"time (s)\": 4.1321321700000094e-08}, {\"size\": 10000, \"method\": \"Python set in\", \"time (s)\": 3.9694429099999696e-08}, {\"size\": 100000, \"method\": \"Python set in\", \"time (s)\": 4.0829710999999947e-08}, {\"size\": 1000000, \"method\": \"Python set in\", \"time (s)\": 4.082497939999996e-08}, {\"size\": 10000000, \"method\": \"Python set in\", \"time (s)\": 4.522875199999987e-08}]}}, {\"mode\": \"vega-lite\"});\n",
       "</script>"
      ],
      "text/plain": [
       "alt.Chart(...)"
      ]
     },
     "execution_count": 11,
     "metadata": {},
     "output_type": "execute_result"
    }
   ],
   "source": [
    "df_long = pd.melt(df[[\"size\", \"Sorted list binary\", \"Python set in\"]],\n",
    "                  id_vars=\"size\", var_name=\"method\", value_name=\"time (s)\")\n",
    "\n",
    "alt.Chart(df_long).mark_line().encode(\n",
    "    alt.X('size', scale=alt.Scale(type='log')),\n",
    "    alt.Y('time (s)'),\n",
    "    color='method'\n",
    ").configure_axis(grid=False)\n"
   ]
  },
  {
   "cell_type": "markdown",
   "metadata": {},
   "source": [
    "We can see that the set really is constant, but the binary search is logarithmic - in the plot, time is linear in $\\log(n)$."
   ]
  },
  {
   "cell_type": "markdown",
   "metadata": {},
   "source": [
    "## Sorting (10 min)"
   ]
  },
  {
   "cell_type": "markdown",
   "metadata": {},
   "source": [
    "- Sorting is a very popular topic in Algorithms and Data Structures courses.\n",
    "- We'll start with \"[selection sort](https://en.wikipedia.org/wiki/Selection_sort)\"."
   ]
  },
  {
   "cell_type": "code",
   "execution_count": 12,
   "metadata": {},
   "outputs": [],
   "source": [
    "def selection_sort(x):\n",
    "    \"\"\"Sorts x inplace... slowly.\n",
    "\n",
    "    Parameters\n",
    "    ----------\n",
    "    x : list\n",
    "           the list needed to be sorted\n",
    "\n",
    "    Returns\n",
    "    -------\n",
    "    list :\n",
    "        the sorted list \n",
    "\n",
    "    Examples\n",
    "    --------\n",
    "    >>> selection_sort([7, 1, 67, 35, 45])\n",
    "    [1, 7, 35, 45, 67]\n",
    "    >>> selection_sort([357, 6, 55, 12, 112])\n",
    "    [6, 12, 55, 112, 357]\n",
    "    \"\"\"\n",
    "\n",
    "    n = len(x)\n",
    "\n",
    "    for i in range(n):\n",
    "        # Get the index of the smallest value from location i onward\n",
    "        min_ind = np.argmin(x[i:]) + i\n",
    "\n",
    "        # Swap this with element i\n",
    "        x[i], x[min_ind] = x[min_ind], x[i] # swap\n",
    "    return x"
   ]
  },
  {
   "cell_type": "markdown",
   "metadata": {},
   "source": [
    "- How does the above code work?\n",
    "  - For the remaining part of the array `x[i:]`, find the smallest element.\n",
    "  - Swap this with the current element.\n",
    "  - Repeat until reaching the end of the array.\n",
    "- We will revisit this code next class"
   ]
  },
  {
   "cell_type": "markdown",
   "metadata": {},
   "source": [
    "**Question:** What is the time complexity of this method?"
   ]
  },
  {
   "cell_type": "markdown",
   "metadata": {},
   "source": [
    "<br><br><br><br><br><br>\n",
    "\n",
    "**Answer:** $O(n^2)$. `argmin` itself takes $O(n)$, and this is called $n$ times, for a total of $O(n^2)$. The actual number of steps is more like $n^2/2$.\n",
    "\n",
    "<br>"
   ]
  },
  {
   "cell_type": "markdown",
   "metadata": {},
   "source": [
    "Detailed analysis:\n",
    "\n",
    "- The swapping takes constant time.\n",
    "- The call to `np.argmin` needs to look through the array.\n",
    "  - This takes time proportional to the length of the array.\n",
    "  - The first time, the length is $n$. Then $n-1$, then $n-2$, etc.\n",
    "- The number of steps in the above code is\n",
    "\n",
    "$n+(n-1)+(n-2)+\\ldots+3+2+1$\n",
    "\n",
    "This is an arithmetic series; the sum is $\\frac{n(n+1)}{2}=\\frac12 n^2 + \\frac{n}{2}$"
   ]
  },
  {
   "cell_type": "markdown",
   "metadata": {},
   "source": [
    "- We ignore the $\\frac{n}{2}$ because it is very small compared to $\\frac12 n^2$ when $n$ is large.\n",
    "- E.g. for $n=1000$ we have $\\frac{1}{2}n^2= 500000$ vs. $\\frac{n}{2}=500$.\n",
    "- We ignore the $\\frac12$ because we're only interested in the growth, not the scaling factor.\n",
    "- Result: we say the above code is $O(n^2)$.\n",
    "\n",
    "Put another way, for our purposes this is the same as code that performs $n$ steps inside the loop. The fact that it actually decreases each time is not important enough to show up in the Big O."
   ]
  },
  {
   "cell_type": "markdown",
   "metadata": {},
   "source": [
    "**Question:** could we find a sorting algorithm that takes $\\log(n)$ time?"
   ]
  },
  {
   "cell_type": "markdown",
   "metadata": {},
   "source": [
    "<br><br><br><br><br><br>\n",
    "\n",
    "**Answer:** no way, because it takes $n$ steps to even inspect every element of the input!"
   ]
  },
  {
   "cell_type": "markdown",
   "metadata": {},
   "source": [
    "- The real answer is that the best sorting algorithms are $n \\log(n)$ time. This is close enough to $O(n)$ that we should be very happy with the result. \n",
    "- If you are interested, you can read more about [mergesort](https://www.geeksforgeeks.org/merge-sort/) and [quicksort](https://www.geeksforgeeks.org/quick-sort/). We may go into this a bit next week."
   ]
  },
  {
   "cell_type": "markdown",
   "metadata": {},
   "source": [
    "## Break (5 min)"
   ]
  },
  {
   "cell_type": "markdown",
   "metadata": {},
   "source": [
    "## Hash tables, hash functions (15 min)\n"
   ]
  },
  {
   "cell_type": "markdown",
   "metadata": {},
   "source": [
    "- Python's `set` type supports the following operations in $O(1)$ time:\n",
    "  - inserting a new element\n",
    "  - deleting an element\n",
    "  - checking if an element is present"
   ]
  },
  {
   "cell_type": "markdown",
   "metadata": {},
   "source": [
    "How could we implement this using the tools we already have?\n",
    "\n",
    "- Well, what about using linear search to find elements, e.g. a `list`?\n",
    "  - This is too slow\n",
    "- What about using binary search?\n",
    "  - Now searching is fast, but insertion/deletion is slow, because we need to maintain an ordered list\n",
    "- Enter the [hash table](https://en.wikipedia.org/wiki/Hash_table) - to save the day!\n",
    "  - Trees could also work (see Lecture 4), but hash tables are the most popular.\n",
    "  \n",
    "#### Hash functions\n",
    "\n",
    "Python objects have a _hash_:"
   ]
  },
  {
   "cell_type": "code",
   "execution_count": 13,
   "metadata": {},
   "outputs": [
    {
     "data": {
      "text/plain": [
       "-7949029789803057674"
      ]
     },
     "execution_count": 13,
     "metadata": {},
     "output_type": "execute_result"
    }
   ],
   "source": [
    "hash(\"mds\")"
   ]
  },
  {
   "cell_type": "code",
   "execution_count": 14,
   "metadata": {},
   "outputs": [
    {
     "data": {
      "text/plain": [
       "0"
      ]
     },
     "execution_count": 14,
     "metadata": {},
     "output_type": "execute_result"
    }
   ],
   "source": [
    "hash(\"\")"
   ]
  },
  {
   "cell_type": "markdown",
   "metadata": {},
   "source": [
    "It looks like the hash function returns an integer."
   ]
  },
  {
   "cell_type": "code",
   "execution_count": 15,
   "metadata": {},
   "outputs": [
    {
     "data": {
      "text/plain": [
       "1152921504606846981"
      ]
     },
     "execution_count": 15,
     "metadata": {},
     "output_type": "execute_result"
    }
   ],
   "source": [
    "hash(5.5)"
   ]
  },
  {
   "cell_type": "code",
   "execution_count": 16,
   "metadata": {},
   "outputs": [
    {
     "data": {
      "text/plain": [
       "5"
      ]
     },
     "execution_count": 16,
     "metadata": {},
     "output_type": "execute_result"
    }
   ],
   "source": [
    "hash(5)"
   ]
  },
  {
   "cell_type": "code",
   "execution_count": 17,
   "metadata": {},
   "outputs": [
    {
     "data": {
      "text/plain": [
       "-9999"
      ]
     },
     "execution_count": 17,
     "metadata": {},
     "output_type": "execute_result"
    }
   ],
   "source": [
    "hash(-9999)"
   ]
  },
  {
   "cell_type": "markdown",
   "metadata": {},
   "source": [
    "It looks like the hash function of a Python integer is itself. Or at least small enough integers."
   ]
  },
  {
   "cell_type": "code",
   "execution_count": 18,
   "metadata": {},
   "outputs": [
    {
     "data": {
      "text/plain": [
       "2003764205207330319"
      ]
     },
     "execution_count": 18,
     "metadata": {},
     "output_type": "execute_result"
    }
   ],
   "source": [
    "hash(999999999999999999999999)"
   ]
  },
  {
   "cell_type": "markdown",
   "metadata": {},
   "source": [
    "Sometimes it fails?"
   ]
  },
  {
   "cell_type": "code",
   "execution_count": 19,
   "metadata": {},
   "outputs": [
    {
     "ename": "TypeError",
     "evalue": "unhashable type: 'list'",
     "output_type": "error",
     "traceback": [
      "\u001b[0;31m---------------------------------------------------------------------------\u001b[0m",
      "\u001b[0;31mTypeError\u001b[0m                                 Traceback (most recent call last)",
      "\u001b[0;32m/var/folders/sl/_n6p71ds1vb5tr2zmd73gnpr0000gp/T/ipykernel_95037/2492717709.py\u001b[0m in \u001b[0;36m<module>\u001b[0;34m\u001b[0m\n\u001b[0;32m----> 1\u001b[0;31m \u001b[0mhash\u001b[0m\u001b[0;34m(\u001b[0m\u001b[0;34m[\u001b[0m\u001b[0;36m1\u001b[0m\u001b[0;34m,\u001b[0m \u001b[0;36m2\u001b[0m\u001b[0;34m,\u001b[0m \u001b[0;36m3\u001b[0m\u001b[0;34m]\u001b[0m\u001b[0;34m)\u001b[0m\u001b[0;34m\u001b[0m\u001b[0;34m\u001b[0m\u001b[0m\n\u001b[0m",
      "\u001b[0;31mTypeError\u001b[0m: unhashable type: 'list'"
     ]
    }
   ],
   "source": [
    "hash([1, 2, 3])"
   ]
  },
  {
   "cell_type": "code",
   "execution_count": 20,
   "metadata": {},
   "outputs": [
    {
     "data": {
      "text/plain": [
       "529344067295497451"
      ]
     },
     "execution_count": 20,
     "metadata": {},
     "output_type": "execute_result"
    }
   ],
   "source": [
    "hash((1, 2, 3))"
   ]
  },
  {
   "cell_type": "code",
   "execution_count": 21,
   "metadata": {},
   "outputs": [
    {
     "data": {
      "text/plain": [
       "281576614"
      ]
     },
     "execution_count": 21,
     "metadata": {},
     "output_type": "execute_result"
    }
   ],
   "source": [
    "hash(None)"
   ]
  },
  {
   "cell_type": "markdown",
   "metadata": {},
   "source": [
    "If a Python `set` is a hash table, that means items in it must be hashable (`dict` has the same requirement, for keys):"
   ]
  },
  {
   "cell_type": "code",
   "execution_count": 22,
   "metadata": {},
   "outputs": [],
   "source": [
    "s = set()"
   ]
  },
  {
   "cell_type": "code",
   "execution_count": 23,
   "metadata": {},
   "outputs": [],
   "source": [
    "s.add(5.5)"
   ]
  },
  {
   "cell_type": "code",
   "execution_count": 24,
   "metadata": {},
   "outputs": [],
   "source": [
    "s.add(\"mds\")"
   ]
  },
  {
   "cell_type": "code",
   "execution_count": 25,
   "metadata": {},
   "outputs": [
    {
     "data": {
      "text/plain": [
       "{5.5, 'mds'}"
      ]
     },
     "execution_count": 25,
     "metadata": {},
     "output_type": "execute_result"
    }
   ],
   "source": [
    "s"
   ]
  },
  {
   "cell_type": "code",
   "execution_count": 26,
   "metadata": {},
   "outputs": [
    {
     "ename": "TypeError",
     "evalue": "unhashable type: 'list'",
     "output_type": "error",
     "traceback": [
      "\u001b[0;31m---------------------------------------------------------------------------\u001b[0m",
      "\u001b[0;31mTypeError\u001b[0m                                 Traceback (most recent call last)",
      "\u001b[0;32m/var/folders/sl/_n6p71ds1vb5tr2zmd73gnpr0000gp/T/ipykernel_95037/361714062.py\u001b[0m in \u001b[0;36m<module>\u001b[0;34m\u001b[0m\n\u001b[0;32m----> 1\u001b[0;31m \u001b[0ms\u001b[0m\u001b[0;34m.\u001b[0m\u001b[0madd\u001b[0m\u001b[0;34m(\u001b[0m\u001b[0;34m[\u001b[0m\u001b[0;36m1\u001b[0m\u001b[0;34m,\u001b[0m \u001b[0;36m2\u001b[0m\u001b[0;34m,\u001b[0m \u001b[0;36m3\u001b[0m\u001b[0;34m]\u001b[0m\u001b[0;34m)\u001b[0m\u001b[0;34m\u001b[0m\u001b[0;34m\u001b[0m\u001b[0m\n\u001b[0m",
      "\u001b[0;31mTypeError\u001b[0m: unhashable type: 'list'"
     ]
    }
   ],
   "source": [
    "s.add([1, 2, 3])"
   ]
  },
  {
   "cell_type": "code",
   "execution_count": 27,
   "metadata": {},
   "outputs": [],
   "source": [
    "s.add((1, 2, 3))"
   ]
  },
  {
   "cell_type": "code",
   "execution_count": 28,
   "metadata": {},
   "outputs": [
    {
     "data": {
      "text/plain": [
       "{(1, 2, 3), 5.5, 'mds'}"
      ]
     },
     "execution_count": 28,
     "metadata": {},
     "output_type": "execute_result"
    }
   ],
   "source": [
    "s"
   ]
  },
  {
   "cell_type": "markdown",
   "metadata": {},
   "source": [
    "- Typically, mutable objects are not hashable."
   ]
  },
  {
   "cell_type": "markdown",
   "metadata": {},
   "source": [
    "#### Hash tables\n",
    "\n",
    "- So, it looks like the hash function maps from an object to an integer.\n",
    "- And that Python `set`s use these hash functions.\n",
    "- How do they work?\n",
    "- The hash table is basically a list of lists, and the hash function (mod the array size) maps an object to its location in the outer list.\n",
    "  - But it's a bit more complicated than that.\n",
    "  - The list typically expands and contracts automatically as needed.\n",
    "  - These operations may be slow, but averaged or \"amortized\" over many operations, the runtime is $O(1)$\n",
    "  - The hash function depends on this array size.\n",
    "  - There's also an issue of collisions: when two different objects hash to the same place.\n",
    "- Roughly speaking, we can insert, retrieve, and delete things in $O(1)$ time so long as we have a \"good\" hash function.\n",
    "  - The hash function will be \"good\" for default Python objects, and if you end up needing to implement your own one day you should read a bit more about it."
   ]
  },
  {
   "cell_type": "markdown",
   "metadata": {},
   "source": [
    "#### A simple hash table implementation\n",
    "\n",
    "Below is a (very low-quality) hash table implementation, with only 4 buckets by default:"
   ]
  },
  {
   "cell_type": "code",
   "execution_count": 29,
   "metadata": {},
   "outputs": [],
   "source": [
    "# myset = HashTable()\n",
    "# myset.add(5)\n",
    "# myset.contains(5)"
   ]
  },
  {
   "cell_type": "code",
   "execution_count": 30,
   "metadata": {},
   "outputs": [],
   "source": [
    "# myset.contains(6)"
   ]
  },
  {
   "cell_type": "code",
   "execution_count": 37,
   "metadata": {},
   "outputs": [],
   "source": [
    "class HashTable:\n",
    "    \n",
    "    def __init__(self, num_buckets=4):\n",
    "        self.stuff = list() # A list of lists\n",
    "        self.n = num_buckets\n",
    "        \n",
    "        for i in range(num_buckets):\n",
    "            self.stuff.append([]) # Create the inner lists, one per bucket\n",
    "        \n",
    "    def add(self, item):\n",
    "        if not self.contains(item):\n",
    "            self.stuff[hash(item) % self.n].append(item)\n",
    "        \n",
    "    def contains(self, item):\n",
    "        return item in self.stuff[hash(item) % self.n]\n",
    "    \n",
    "    def __str__(self):\n",
    "        return str(self.stuff)"
   ]
  },
  {
   "cell_type": "markdown",
   "metadata": {},
   "source": [
    "(Note: The `hash` function has a random seed that is set at the start of every Python session, so your actual results my vary from mine.)"
   ]
  },
  {
   "cell_type": "code",
   "execution_count": 38,
   "metadata": {},
   "outputs": [
    {
     "name": "stdout",
     "output_type": "stream",
     "text": [
      "[[], [], [], []]\n"
     ]
    }
   ],
   "source": [
    "ht = HashTable()\n",
    "print(ht)"
   ]
  },
  {
   "cell_type": "markdown",
   "metadata": {},
   "source": [
    "- So far, all 4 buckets are empty. \n",
    "- Now let's add something:"
   ]
  },
  {
   "cell_type": "code",
   "execution_count": 39,
   "metadata": {},
   "outputs": [
    {
     "name": "stdout",
     "output_type": "stream",
     "text": [
      "[[], [], [], ['hello']]\n"
     ]
    }
   ],
   "source": [
    "ht.add(\"hello\")\n",
    "print(ht)"
   ]
  },
  {
   "cell_type": "markdown",
   "metadata": {},
   "source": [
    "\"hello\" went into this bucket because "
   ]
  },
  {
   "cell_type": "code",
   "execution_count": 40,
   "metadata": {},
   "outputs": [
    {
     "data": {
      "text/plain": [
       "9217359063657435943"
      ]
     },
     "execution_count": 40,
     "metadata": {},
     "output_type": "execute_result"
    }
   ],
   "source": [
    "hash(\"hello\")"
   ]
  },
  {
   "cell_type": "code",
   "execution_count": 41,
   "metadata": {},
   "outputs": [
    {
     "data": {
      "text/plain": [
       "3"
      ]
     },
     "execution_count": 41,
     "metadata": {},
     "output_type": "execute_result"
    }
   ],
   "source": [
    "hash(\"hello\") % 4"
   ]
  },
  {
   "cell_type": "markdown",
   "metadata": {},
   "source": [
    "Now let's add more things:"
   ]
  },
  {
   "cell_type": "code",
   "execution_count": 42,
   "metadata": {},
   "outputs": [
    {
     "name": "stdout",
     "output_type": "stream",
     "text": [
      "[[], ['goodbye'], [], ['hello']]\n"
     ]
    }
   ],
   "source": [
    "ht.add(\"goodbye\")\n",
    "print(ht)"
   ]
  },
  {
   "cell_type": "code",
   "execution_count": 43,
   "metadata": {},
   "outputs": [
    {
     "name": "stdout",
     "output_type": "stream",
     "text": [
      "[['test'], ['goodbye'], [], ['hello']]\n"
     ]
    }
   ],
   "source": [
    "ht.add(\"test\")\n",
    "print(ht)"
   ]
  },
  {
   "cell_type": "code",
   "execution_count": 44,
   "metadata": {},
   "outputs": [
    {
     "name": "stdout",
     "output_type": "stream",
     "text": [
      "[['test'], ['goodbye'], ['item'], ['hello']]\n"
     ]
    }
   ],
   "source": [
    "ht.add(\"item\")\n",
    "print(ht)"
   ]
  },
  {
   "cell_type": "code",
   "execution_count": 45,
   "metadata": {},
   "outputs": [
    {
     "name": "stdout",
     "output_type": "stream",
     "text": [
      "[['test'], ['goodbye'], ['item'], ['hello', 'what']]\n"
     ]
    }
   ],
   "source": [
    "ht.add(\"what\")\n",
    "print(ht)"
   ]
  },
  {
   "cell_type": "markdown",
   "metadata": {},
   "source": [
    "If we want to look for something:"
   ]
  },
  {
   "cell_type": "code",
   "execution_count": 46,
   "metadata": {},
   "outputs": [
    {
     "data": {
      "text/plain": [
       "False"
      ]
     },
     "execution_count": 46,
     "metadata": {},
     "output_type": "execute_result"
    }
   ],
   "source": [
    "ht.contains(\"blah\")"
   ]
  },
  {
   "cell_type": "markdown",
   "metadata": {},
   "source": [
    "False because "
   ]
  },
  {
   "cell_type": "code",
   "execution_count": 47,
   "metadata": {},
   "outputs": [
    {
     "data": {
      "text/plain": [
       "2"
      ]
     },
     "execution_count": 47,
     "metadata": {},
     "output_type": "execute_result"
    }
   ],
   "source": [
    "hash(\"blah\") % 4"
   ]
  },
  {
   "cell_type": "markdown",
   "metadata": {},
   "source": [
    "And \"blah\" is not found in bucket. "
   ]
  },
  {
   "cell_type": "code",
   "execution_count": 48,
   "metadata": {},
   "outputs": [
    {
     "data": {
      "text/plain": [
       "True"
      ]
     },
     "execution_count": 48,
     "metadata": {},
     "output_type": "execute_result"
    }
   ],
   "source": [
    "ht.contains(\"item\")"
   ]
  },
  {
   "cell_type": "markdown",
   "metadata": {},
   "source": [
    "- Same thing here.\n",
    "- The key idea is that you only need to look in one bucket - either it's in that bucket, or it's not in the _entire_ hash table."
   ]
  },
  {
   "cell_type": "code",
   "execution_count": 49,
   "metadata": {},
   "outputs": [
    {
     "name": "stdout",
     "output_type": "stream",
     "text": [
      "[['test'], ['goodbye'], ['item'], ['hello', 'what']]\n"
     ]
    }
   ],
   "source": [
    "print(ht)"
   ]
  },
  {
   "cell_type": "markdown",
   "metadata": {},
   "source": [
    "- Above we have a _collision_: that is, 2 items in the same bucket.\n",
    "- If the main list is able to dynamically grow as the number of items grows, we can keep the number of collisions low.\n",
    "- This preserves the $O(1)$ operations."
   ]
  },
  {
   "cell_type": "markdown",
   "metadata": {},
   "source": [
    "## Lookup tables, Python `dict` (5 min)"
   ]
  },
  {
   "cell_type": "markdown",
   "metadata": {},
   "source": [
    "- Python's `dict` type is a dictionary (aka symbol table)\n",
    "- A dictionary should support the following operations:\n",
    "  - inserting a new element\n",
    "  - deleting an element\n",
    "  - finding an element\n",
    "- It is much like a `set` except the entries, called \"keys\", now have some data payload associated with them, which we call \"values\".\n",
    "- It is also implemented as a hash table, meaning you can expect $O(1)$ operations.\n",
    "- Only the keys are hashed, so only the keys have to be hashable.\n",
    "  - A list can be a value, but not a key."
   ]
  },
  {
   "cell_type": "code",
   "execution_count": 50,
   "metadata": {},
   "outputs": [
    {
     "data": {
      "text/plain": [
       "{5: 'a', 'b': 9}"
      ]
     },
     "execution_count": 50,
     "metadata": {},
     "output_type": "execute_result"
    }
   ],
   "source": [
    "d = dict()\n",
    "d[5] = \"a\"\n",
    "d[\"b\"] = 9\n",
    "d"
   ]
  },
  {
   "cell_type": "code",
   "execution_count": 51,
   "metadata": {},
   "outputs": [
    {
     "data": {
      "text/plain": [
       "True"
      ]
     },
     "execution_count": 51,
     "metadata": {},
     "output_type": "execute_result"
    }
   ],
   "source": [
    "5 in d"
   ]
  },
  {
   "cell_type": "code",
   "execution_count": 52,
   "metadata": {},
   "outputs": [
    {
     "data": {
      "text/plain": [
       "False"
      ]
     },
     "execution_count": 52,
     "metadata": {},
     "output_type": "execute_result"
    }
   ],
   "source": [
    "9 in d  # it only searches the keys"
   ]
  },
  {
   "cell_type": "code",
   "execution_count": 53,
   "metadata": {},
   "outputs": [
    {
     "data": {
      "text/plain": [
       "'a'"
      ]
     },
     "execution_count": 53,
     "metadata": {},
     "output_type": "execute_result"
    }
   ],
   "source": [
    "d[5]"
   ]
  },
  {
   "cell_type": "code",
   "execution_count": 54,
   "metadata": {},
   "outputs": [
    {
     "ename": "KeyError",
     "evalue": "6",
     "output_type": "error",
     "traceback": [
      "\u001b[0;31m---------------------------------------------------------------------------\u001b[0m",
      "\u001b[0;31mKeyError\u001b[0m                                  Traceback (most recent call last)",
      "\u001b[0;32m/var/folders/sl/_n6p71ds1vb5tr2zmd73gnpr0000gp/T/ipykernel_95037/78197457.py\u001b[0m in \u001b[0;36m<module>\u001b[0;34m\u001b[0m\n\u001b[0;32m----> 1\u001b[0;31m \u001b[0md\u001b[0m\u001b[0;34m[\u001b[0m\u001b[0;36m6\u001b[0m\u001b[0;34m]\u001b[0m\u001b[0;34m\u001b[0m\u001b[0;34m\u001b[0m\u001b[0m\n\u001b[0m",
      "\u001b[0;31mKeyError\u001b[0m: 6"
     ]
    }
   ],
   "source": [
    "d[6]"
   ]
  },
  {
   "cell_type": "markdown",
   "metadata": {},
   "source": [
    "Hashable types:"
   ]
  },
  {
   "cell_type": "code",
   "execution_count": 55,
   "metadata": {},
   "outputs": [
    {
     "ename": "TypeError",
     "evalue": "unhashable type: 'list'",
     "output_type": "error",
     "traceback": [
      "\u001b[0;31m---------------------------------------------------------------------------\u001b[0m",
      "\u001b[0;31mTypeError\u001b[0m                                 Traceback (most recent call last)",
      "\u001b[0;32m/var/folders/sl/_n6p71ds1vb5tr2zmd73gnpr0000gp/T/ipykernel_95037/1100773387.py\u001b[0m in \u001b[0;36m<module>\u001b[0;34m\u001b[0m\n\u001b[0;32m----> 1\u001b[0;31m \u001b[0md\u001b[0m\u001b[0;34m[\u001b[0m\u001b[0;34m[\u001b[0m\u001b[0;36m1\u001b[0m\u001b[0;34m,\u001b[0m\u001b[0;36m2\u001b[0m\u001b[0;34m,\u001b[0m\u001b[0;36m3\u001b[0m\u001b[0;34m]\u001b[0m\u001b[0;34m]\u001b[0m \u001b[0;34m=\u001b[0m \u001b[0;36m10\u001b[0m\u001b[0;34m\u001b[0m\u001b[0;34m\u001b[0m\u001b[0m\n\u001b[0m",
      "\u001b[0;31mTypeError\u001b[0m: unhashable type: 'list'"
     ]
    }
   ],
   "source": [
    "d[[1,2,3]] = 10"
   ]
  },
  {
   "cell_type": "code",
   "execution_count": 56,
   "metadata": {},
   "outputs": [],
   "source": [
    "d[10] = [1,2,3] # OK"
   ]
  },
  {
   "cell_type": "markdown",
   "metadata": {},
   "source": [
    "A reminder of some dictionary syntax:"
   ]
  },
  {
   "cell_type": "code",
   "execution_count": 57,
   "metadata": {},
   "outputs": [
    {
     "data": {
      "text/plain": [
       "{0: 0, 1: 2, 2: 4, 3: 6, 4: 8, 5: 10, 6: 12, 7: 14, 8: 16, 9: 18}"
      ]
     },
     "execution_count": 57,
     "metadata": {},
     "output_type": "execute_result"
    }
   ],
   "source": [
    "f = {i: i*2 for i in range(10)}\n",
    "f"
   ]
  },
  {
   "cell_type": "code",
   "execution_count": 58,
   "metadata": {},
   "outputs": [
    {
     "name": "stdout",
     "output_type": "stream",
     "text": [
      "key = 0  val = 0\n",
      "key = 1  val = 2\n",
      "key = 2  val = 4\n",
      "key = 3  val = 6\n",
      "key = 4  val = 8\n",
      "key = 5  val = 10\n",
      "key = 6  val = 12\n",
      "key = 7  val = 14\n",
      "key = 8  val = 16\n",
      "key = 9  val = 18\n"
     ]
    }
   ],
   "source": [
    "for key, val in f.items():\n",
    "    print(\"key =\", key, \" val =\", val)"
   ]
  },
  {
   "cell_type": "markdown",
   "metadata": {},
   "source": [
    "Nested dictionaries:"
   ]
  },
  {
   "cell_type": "code",
   "execution_count": 59,
   "metadata": {},
   "outputs": [
    {
     "data": {
      "text/plain": [
       "{5: {0: 0, 1: 2, 2: 4, 3: 6, 4: 8, 5: 10, 6: 12, 7: 14, 8: 16, 9: 18}}"
      ]
     },
     "execution_count": 59,
     "metadata": {},
     "output_type": "execute_result"
    }
   ],
   "source": [
    "g = dict()\n",
    "g[5] = f\n",
    "g"
   ]
  },
  {
   "cell_type": "code",
   "execution_count": null,
   "metadata": {},
   "outputs": [],
   "source": []
  },
  {
   "cell_type": "markdown",
   "metadata": {},
   "source": [
    "## Python's `defaultdict` (15 min)\n",
    "\n",
    "_Meta-comment: As with parts of our labs, this could be considered DSCI 511 content. But 1 course isn't enough for all the Python we need!_\n",
    "\n",
    "- Python dictionaries are super useful\n",
    "- It's often the case that we want to add something to the value of a dictionary. \n",
    "- Example: listing multiples\n"
   ]
  },
  {
   "cell_type": "code",
   "execution_count": 60,
   "metadata": {},
   "outputs": [
    {
     "name": "stdout",
     "output_type": "stream",
     "text": [
      "[0, 5, 10, 15, 20, 25, 30, 35, 40, 45, 50, 55, 60, 65, 70, 75, 80, 85, 90, 95]\n"
     ]
    }
   ],
   "source": [
    "multiples_of_5 = list()\n",
    "for i in range(100):\n",
    "    if i % 5 == 0:\n",
    "        multiples_of_5.append(i)\n",
    "\n",
    "print(multiples_of_5)"
   ]
  },
  {
   "cell_type": "code",
   "execution_count": 61,
   "metadata": {},
   "outputs": [
    {
     "name": "stdout",
     "output_type": "stream",
     "text": [
      "[0, 2, 4, 6, 8, 10, 12, 14, 16, 18, 20, 22, 24, 26, 28, 30, 32, 34, 36, 38, 40, 42, 44, 46, 48, 50, 52, 54, 56, 58, 60, 62, 64, 66, 68, 70, 72, 74, 76, 78, 80, 82, 84, 86, 88, 90, 92, 94, 96, 98]\n"
     ]
    }
   ],
   "source": [
    "multiples_of_2 = list()\n",
    "for i in range(100):\n",
    "    if i % 2 == 0:\n",
    "        multiples_of_2.append(i)\n",
    "\n",
    "print(multiples_of_2)"
   ]
  },
  {
   "cell_type": "code",
   "execution_count": 62,
   "metadata": {},
   "outputs": [
    {
     "name": "stdout",
     "output_type": "stream",
     "text": [
      "[0, 3, 6, 9, 12, 15, 18, 21, 24, 27, 30, 33, 36, 39, 42, 45, 48, 51, 54, 57, 60, 63, 66, 69, 72, 75, 78, 81, 84, 87, 90, 93, 96, 99]\n"
     ]
    }
   ],
   "source": [
    "multiples_of_3 = list()\n",
    "for i in range(100):\n",
    "    if i % 3 == 0:\n",
    "        multiples_of_3.append(i)\n",
    "\n",
    "print(multiples_of_3)"
   ]
  },
  {
   "cell_type": "code",
   "execution_count": 63,
   "metadata": {},
   "outputs": [
    {
     "name": "stdout",
     "output_type": "stream",
     "text": [
      "[0, 3, 6, 9, 12, 15, 18, 21, 24, 27, 30, 33, 36, 39, 42, 45, 48, 51, 54, 57, 60, 63, 66, 69, 72, 75, 78, 81, 84, 87, 90, 93, 96, 99, 0, 4, 8, 12, 16, 20, 24, 28, 32, 36, 40, 44, 48, 52, 56, 60, 64, 68, 72, 76, 80, 84, 88, 92, 96]\n"
     ]
    }
   ],
   "source": [
    "multiples_of_4 = list()\n",
    "for i in range(100):\n",
    "    if i % 4 == 0:\n",
    "        multiples_of_3.append(i)\n",
    "\n",
    "print(multiples_of_3)"
   ]
  },
  {
   "cell_type": "markdown",
   "metadata": {},
   "source": [
    "- But now let's say we want multiples of 2, 3, 4, 5, 6, 7, 8, 9 all in one place.\n",
    "- Well, we don't want to violate DRY and copy-paste the above code.\n",
    "- A dictionary would be ideal for this!"
   ]
  },
  {
   "cell_type": "code",
   "execution_count": 64,
   "metadata": {
    "tags": [
     "raises-exception"
    ]
   },
   "outputs": [
    {
     "name": "stdout",
     "output_type": "stream",
     "text": [
      "Finding the multiples of 2\n"
     ]
    },
    {
     "ename": "KeyError",
     "evalue": "2",
     "output_type": "error",
     "traceback": [
      "\u001b[0;31m---------------------------------------------------------------------------\u001b[0m",
      "\u001b[0;31mKeyError\u001b[0m                                  Traceback (most recent call last)",
      "\u001b[0;32m/var/folders/sl/_n6p71ds1vb5tr2zmd73gnpr0000gp/T/ipykernel_95037/882339564.py\u001b[0m in \u001b[0;36m<module>\u001b[0;34m\u001b[0m\n\u001b[1;32m      6\u001b[0m     \u001b[0;32mfor\u001b[0m \u001b[0mi\u001b[0m \u001b[0;32min\u001b[0m \u001b[0mrange\u001b[0m\u001b[0;34m(\u001b[0m\u001b[0;36m100\u001b[0m\u001b[0;34m)\u001b[0m\u001b[0;34m:\u001b[0m\u001b[0;34m\u001b[0m\u001b[0;34m\u001b[0m\u001b[0m\n\u001b[1;32m      7\u001b[0m         \u001b[0;32mif\u001b[0m \u001b[0mi\u001b[0m \u001b[0;34m%\u001b[0m \u001b[0mbase_number\u001b[0m \u001b[0;34m==\u001b[0m \u001b[0;36m0\u001b[0m\u001b[0;34m:\u001b[0m\u001b[0;34m\u001b[0m\u001b[0;34m\u001b[0m\u001b[0m\n\u001b[0;32m----> 8\u001b[0;31m             \u001b[0mmultiples_of\u001b[0m\u001b[0;34m[\u001b[0m\u001b[0mbase_number\u001b[0m\u001b[0;34m]\u001b[0m\u001b[0;34m.\u001b[0m\u001b[0mappend\u001b[0m\u001b[0;34m(\u001b[0m\u001b[0mi\u001b[0m\u001b[0;34m)\u001b[0m\u001b[0;34m\u001b[0m\u001b[0;34m\u001b[0m\u001b[0m\n\u001b[0m\u001b[1;32m      9\u001b[0m \u001b[0;34m\u001b[0m\u001b[0m\n\u001b[1;32m     10\u001b[0m \u001b[0mprint\u001b[0m\u001b[0;34m(\u001b[0m\u001b[0mmultiples_of\u001b[0m\u001b[0;34m)\u001b[0m\u001b[0;34m\u001b[0m\u001b[0;34m\u001b[0m\u001b[0m\n",
      "\u001b[0;31mKeyError\u001b[0m: 2"
     ]
    }
   ],
   "source": [
    "multiples_of = dict()\n",
    "\n",
    "for base_number in range(2, 10):\n",
    "    print(\"Finding the multiples of\", base_number)\n",
    "    \n",
    "    for i in range(100):\n",
    "        if i % base_number == 0:\n",
    "            multiples_of[base_number].append(i)\n",
    "\n",
    "print(multiples_of)"
   ]
  },
  {
   "cell_type": "markdown",
   "metadata": {},
   "source": [
    "- What happened here?\n",
    "- I tried `multiples_of[base_number]` but that key was not present in the dictionary.\n",
    "- I need to initialize all those lists!\n",
    "- Another attempt:"
   ]
  },
  {
   "cell_type": "code",
   "execution_count": 65,
   "metadata": {},
   "outputs": [
    {
     "name": "stdout",
     "output_type": "stream",
     "text": [
      "Finding the multiples of 2\n",
      "Finding the multiples of 3\n",
      "Finding the multiples of 4\n",
      "Finding the multiples of 5\n",
      "Finding the multiples of 6\n",
      "Finding the multiples of 7\n",
      "Finding the multiples of 8\n",
      "Finding the multiples of 9\n",
      "{2: [0, 2, 4, 6, 8, 10, 12, 14, 16, 18, 20, 22, 24, 26, 28, 30, 32, 34, 36, 38, 40, 42, 44, 46, 48, 50, 52, 54, 56, 58, 60, 62, 64, 66, 68, 70, 72, 74, 76, 78, 80, 82, 84, 86, 88, 90, 92, 94, 96, 98], 3: [0, 3, 6, 9, 12, 15, 18, 21, 24, 27, 30, 33, 36, 39, 42, 45, 48, 51, 54, 57, 60, 63, 66, 69, 72, 75, 78, 81, 84, 87, 90, 93, 96, 99], 4: [0, 4, 8, 12, 16, 20, 24, 28, 32, 36, 40, 44, 48, 52, 56, 60, 64, 68, 72, 76, 80, 84, 88, 92, 96], 5: [0, 5, 10, 15, 20, 25, 30, 35, 40, 45, 50, 55, 60, 65, 70, 75, 80, 85, 90, 95], 6: [0, 6, 12, 18, 24, 30, 36, 42, 48, 54, 60, 66, 72, 78, 84, 90, 96], 7: [0, 7, 14, 21, 28, 35, 42, 49, 56, 63, 70, 77, 84, 91, 98], 8: [0, 8, 16, 24, 32, 40, 48, 56, 64, 72, 80, 88, 96], 9: [0, 9, 18, 27, 36, 45, 54, 63, 72, 81, 90, 99]}\n"
     ]
    }
   ],
   "source": [
    "multiples_of = dict()\n",
    "\n",
    "for base_number in range(2, 10):\n",
    "    print(\"Finding the multiples of\", base_number)\n",
    "    \n",
    "    for i in range(100):\n",
    "        if i % base_number == 0:\n",
    "            if base_number not in multiples_of:    # added\n",
    "                multiples_of[base_number] = list() # added\n",
    "                \n",
    "            multiples_of[base_number].append(i)\n",
    "\n",
    "print(multiples_of)"
   ]
  },
  {
   "cell_type": "markdown",
   "metadata": {},
   "source": [
    "- This works but we Python users are a bit lazy.\n",
    "- Enter the `defaultdict`.\n",
    "- A dictionary with a default value for cases when the key does not exist.\n",
    "- Use case here: the default is an empty list!"
   ]
  },
  {
   "cell_type": "code",
   "execution_count": 66,
   "metadata": {
    "tags": [
     "raises-exception"
    ]
   },
   "outputs": [
    {
     "ename": "KeyError",
     "evalue": "'hello'",
     "output_type": "error",
     "traceback": [
      "\u001b[0;31m---------------------------------------------------------------------------\u001b[0m",
      "\u001b[0;31mKeyError\u001b[0m                                  Traceback (most recent call last)",
      "\u001b[0;32m/var/folders/sl/_n6p71ds1vb5tr2zmd73gnpr0000gp/T/ipykernel_95037/1735539054.py\u001b[0m in \u001b[0;36m<module>\u001b[0;34m\u001b[0m\n\u001b[1;32m      1\u001b[0m \u001b[0md\u001b[0m \u001b[0;34m=\u001b[0m \u001b[0mdict\u001b[0m\u001b[0;34m(\u001b[0m\u001b[0;34m)\u001b[0m\u001b[0;34m\u001b[0m\u001b[0;34m\u001b[0m\u001b[0m\n\u001b[0;32m----> 2\u001b[0;31m \u001b[0md\u001b[0m\u001b[0;34m[\u001b[0m\u001b[0;34m\"hello\"\u001b[0m\u001b[0;34m]\u001b[0m\u001b[0;34m\u001b[0m\u001b[0;34m\u001b[0m\u001b[0m\n\u001b[0m",
      "\u001b[0;31mKeyError\u001b[0m: 'hello'"
     ]
    }
   ],
   "source": [
    "d = dict()\n",
    "d[\"hello\"]"
   ]
  },
  {
   "cell_type": "code",
   "execution_count": 67,
   "metadata": {},
   "outputs": [
    {
     "data": {
      "text/plain": [
       "5"
      ]
     },
     "execution_count": 67,
     "metadata": {},
     "output_type": "execute_result"
    }
   ],
   "source": [
    "d.get(\"hello\", 5) # equivalent to d[\"hello\"] but returns 5 if \"hello\" not in d"
   ]
  },
  {
   "cell_type": "code",
   "execution_count": 68,
   "metadata": {},
   "outputs": [
    {
     "data": {
      "text/plain": [
       "100000"
      ]
     },
     "execution_count": 68,
     "metadata": {},
     "output_type": "execute_result"
    }
   ],
   "source": [
    "d[4] = 100000\n",
    "d.get(4, 5)"
   ]
  },
  {
   "cell_type": "code",
   "execution_count": 69,
   "metadata": {},
   "outputs": [],
   "source": [
    "from collections import defaultdict"
   ]
  },
  {
   "cell_type": "code",
   "execution_count": 70,
   "metadata": {},
   "outputs": [
    {
     "data": {
      "text/plain": [
       "[]"
      ]
     },
     "execution_count": 70,
     "metadata": {},
     "output_type": "execute_result"
    }
   ],
   "source": [
    "dd = defaultdict(list)\n",
    "dd[\"hello\"]"
   ]
  },
  {
   "cell_type": "code",
   "execution_count": 71,
   "metadata": {},
   "outputs": [],
   "source": [
    "dd[\"new key\"].append(5)"
   ]
  },
  {
   "cell_type": "code",
   "execution_count": 72,
   "metadata": {},
   "outputs": [
    {
     "data": {
      "text/plain": [
       "defaultdict(list, {'hello': [], 'new key': [5]})"
      ]
     },
     "execution_count": 72,
     "metadata": {},
     "output_type": "execute_result"
    }
   ],
   "source": [
    "dd"
   ]
  },
  {
   "cell_type": "code",
   "execution_count": 73,
   "metadata": {},
   "outputs": [
    {
     "data": {
      "text/plain": [
       "defaultdict(list, {'hello': [], 'new key': [5]})"
      ]
     },
     "execution_count": 73,
     "metadata": {},
     "output_type": "execute_result"
    }
   ],
   "source": [
    "dd"
   ]
  },
  {
   "cell_type": "markdown",
   "metadata": {},
   "source": [
    "- The beauty here is that we can call `append` on a key that doesn't exist.\n",
    "- It defaults to a new empty list and then immediately appends. \n",
    "- So... our original (broken) code works again, if we change `multiples_of` to a `defaultdict`:"
   ]
  },
  {
   "cell_type": "code",
   "execution_count": 74,
   "metadata": {},
   "outputs": [
    {
     "name": "stdout",
     "output_type": "stream",
     "text": [
      "Finding the multiples of 2\n",
      "Finding the multiples of 3\n",
      "Finding the multiples of 4\n",
      "Finding the multiples of 5\n",
      "Finding the multiples of 6\n",
      "Finding the multiples of 7\n",
      "Finding the multiples of 8\n",
      "Finding the multiples of 9\n",
      "defaultdict(<class 'list'>, {2: [0, 2, 4, 6, 8, 10, 12, 14, 16, 18, 20, 22, 24, 26, 28, 30, 32, 34, 36, 38, 40, 42, 44, 46, 48, 50, 52, 54, 56, 58, 60, 62, 64, 66, 68, 70, 72, 74, 76, 78, 80, 82, 84, 86, 88, 90, 92, 94, 96, 98], 3: [0, 3, 6, 9, 12, 15, 18, 21, 24, 27, 30, 33, 36, 39, 42, 45, 48, 51, 54, 57, 60, 63, 66, 69, 72, 75, 78, 81, 84, 87, 90, 93, 96, 99], 4: [0, 4, 8, 12, 16, 20, 24, 28, 32, 36, 40, 44, 48, 52, 56, 60, 64, 68, 72, 76, 80, 84, 88, 92, 96], 5: [0, 5, 10, 15, 20, 25, 30, 35, 40, 45, 50, 55, 60, 65, 70, 75, 80, 85, 90, 95], 6: [0, 6, 12, 18, 24, 30, 36, 42, 48, 54, 60, 66, 72, 78, 84, 90, 96], 7: [0, 7, 14, 21, 28, 35, 42, 49, 56, 63, 70, 77, 84, 91, 98], 8: [0, 8, 16, 24, 32, 40, 48, 56, 64, 72, 80, 88, 96], 9: [0, 9, 18, 27, 36, 45, 54, 63, 72, 81, 90, 99]})\n"
     ]
    }
   ],
   "source": [
    "multiples_of = defaultdict(list)\n",
    "\n",
    "for base_number in range(2, 10):\n",
    "    print(\"Finding the multiples of\", base_number)\n",
    "    \n",
    "    for i in range(100):\n",
    "        if i % base_number == 0:\n",
    "            multiples_of[base_number].append(i)\n",
    "\n",
    "print(multiples_of)"
   ]
  },
  {
   "cell_type": "markdown",
   "metadata": {},
   "source": [
    "#### (optional) Type of defaultdict"
   ]
  },
  {
   "cell_type": "markdown",
   "metadata": {},
   "source": [
    "- In DSCI 511 you saw classes and inheritance.\n",
    "- Just for fun, we can look at the implementation of `defaultdict` in PyPy, which is an implementation of Python in Python (the OG Python is written in C): https://github.com/reingart/pypy/blob/master/lib_pypy/_collections.py#L387\n",
    "- We can see here that `defaultdict` inherits from `dict`. Indeed:"
   ]
  },
  {
   "cell_type": "code",
   "execution_count": 75,
   "metadata": {},
   "outputs": [
    {
     "data": {
      "text/plain": [
       "dict"
      ]
     },
     "execution_count": 75,
     "metadata": {},
     "output_type": "execute_result"
    }
   ],
   "source": [
    "type(d)"
   ]
  },
  {
   "cell_type": "code",
   "execution_count": 76,
   "metadata": {},
   "outputs": [
    {
     "data": {
      "text/plain": [
       "collections.defaultdict"
      ]
     },
     "execution_count": 76,
     "metadata": {},
     "output_type": "execute_result"
    }
   ],
   "source": [
    "type(dd)"
   ]
  },
  {
   "cell_type": "code",
   "execution_count": 77,
   "metadata": {},
   "outputs": [
    {
     "data": {
      "text/plain": [
       "False"
      ]
     },
     "execution_count": 77,
     "metadata": {},
     "output_type": "execute_result"
    }
   ],
   "source": [
    "type(d) == type(dd)"
   ]
  },
  {
   "cell_type": "code",
   "execution_count": 78,
   "metadata": {},
   "outputs": [
    {
     "data": {
      "text/plain": [
       "True"
      ]
     },
     "execution_count": 78,
     "metadata": {},
     "output_type": "execute_result"
    }
   ],
   "source": [
    "isinstance(d, dict)"
   ]
  },
  {
   "cell_type": "code",
   "execution_count": 79,
   "metadata": {},
   "outputs": [
    {
     "data": {
      "text/plain": [
       "True"
      ]
     },
     "execution_count": 79,
     "metadata": {},
     "output_type": "execute_result"
    }
   ],
   "source": [
    "isinstance(dd, dict)"
   ]
  },
  {
   "cell_type": "code",
   "execution_count": 80,
   "metadata": {},
   "outputs": [
    {
     "data": {
      "text/plain": [
       "False"
      ]
     },
     "execution_count": 80,
     "metadata": {},
     "output_type": "execute_result"
    }
   ],
   "source": [
    "type(dd) == dict"
   ]
  },
  {
   "cell_type": "markdown",
   "metadata": {},
   "source": [
    "So in general people prefer the use of `isinstance(obj, class)` over `type(obj) == class`."
   ]
  },
  {
   "cell_type": "markdown",
   "metadata": {},
   "source": [
    "#### list vs. list()\n",
    "\n",
    "- Question: why was it `defaultdict(list)` instead of `defaultdict(list())`?\n",
    "- What happens when I run this code:"
   ]
  },
  {
   "cell_type": "code",
   "execution_count": 81,
   "metadata": {},
   "outputs": [
    {
     "data": {
      "text/plain": [
       "[]"
      ]
     },
     "execution_count": 81,
     "metadata": {},
     "output_type": "execute_result"
    }
   ],
   "source": [
    "my_list = list()\n",
    "my_list"
   ]
  },
  {
   "cell_type": "code",
   "execution_count": 82,
   "metadata": {},
   "outputs": [
    {
     "ename": "TypeError",
     "evalue": "first argument must be callable or None",
     "output_type": "error",
     "traceback": [
      "\u001b[0;31m---------------------------------------------------------------------------\u001b[0m",
      "\u001b[0;31mTypeError\u001b[0m                                 Traceback (most recent call last)",
      "\u001b[0;32m/var/folders/sl/_n6p71ds1vb5tr2zmd73gnpr0000gp/T/ipykernel_95037/1693589389.py\u001b[0m in \u001b[0;36m<module>\u001b[0;34m\u001b[0m\n\u001b[0;32m----> 1\u001b[0;31m \u001b[0mbad\u001b[0m \u001b[0;34m=\u001b[0m \u001b[0mdefaultdict\u001b[0m\u001b[0;34m(\u001b[0m\u001b[0;34m[\u001b[0m\u001b[0;34m]\u001b[0m\u001b[0;34m)\u001b[0m\u001b[0;34m\u001b[0m\u001b[0;34m\u001b[0m\u001b[0m\n\u001b[0m",
      "\u001b[0;31mTypeError\u001b[0m: first argument must be callable or None"
     ]
    }
   ],
   "source": [
    "bad = defaultdict([])"
   ]
  },
  {
   "cell_type": "code",
   "execution_count": 83,
   "metadata": {
    "tags": [
     "raises-exception"
    ]
   },
   "outputs": [
    {
     "ename": "TypeError",
     "evalue": "first argument must be callable or None",
     "output_type": "error",
     "traceback": [
      "\u001b[0;31m---------------------------------------------------------------------------\u001b[0m",
      "\u001b[0;31mTypeError\u001b[0m                                 Traceback (most recent call last)",
      "\u001b[0;32m/var/folders/sl/_n6p71ds1vb5tr2zmd73gnpr0000gp/T/ipykernel_95037/635166434.py\u001b[0m in \u001b[0;36m<module>\u001b[0;34m\u001b[0m\n\u001b[0;32m----> 1\u001b[0;31m \u001b[0mbad\u001b[0m \u001b[0;34m=\u001b[0m \u001b[0mdefaultdict\u001b[0m\u001b[0;34m(\u001b[0m\u001b[0mlist\u001b[0m\u001b[0;34m(\u001b[0m\u001b[0;34m)\u001b[0m\u001b[0;34m)\u001b[0m\u001b[0;34m\u001b[0m\u001b[0;34m\u001b[0m\u001b[0m\n\u001b[0m",
      "\u001b[0;31mTypeError\u001b[0m: first argument must be callable or None"
     ]
    }
   ],
   "source": [
    "bad = defaultdict(list())"
   ]
  },
  {
   "cell_type": "markdown",
   "metadata": {},
   "source": [
    "- But why?\n",
    "- The code that executes first is `list()`.\n",
    "- Now we have _a particular list_ being passed in.\n",
    "- But we don't want one particular list, we want lots of new lists all the time.\n",
    "- So you need to pass in _the ability to create lists_ \n",
    "  - in other words, a function that creates lists.\n",
    "- That is `list`"
   ]
  },
  {
   "cell_type": "code",
   "execution_count": 84,
   "metadata": {},
   "outputs": [
    {
     "data": {
      "text/plain": [
       "list"
      ]
     },
     "execution_count": 84,
     "metadata": {},
     "output_type": "execute_result"
    }
   ],
   "source": [
    "list"
   ]
  },
  {
   "cell_type": "code",
   "execution_count": 85,
   "metadata": {},
   "outputs": [
    {
     "data": {
      "text/plain": [
       "[]"
      ]
     },
     "execution_count": 85,
     "metadata": {},
     "output_type": "execute_result"
    }
   ],
   "source": [
    "list()"
   ]
  },
  {
   "cell_type": "code",
   "execution_count": 2,
   "metadata": {},
   "outputs": [],
   "source": [
    "x = defaultdict(lambda : \"hello my name is Arman\")"
   ]
  },
  {
   "cell_type": "code",
   "execution_count": 3,
   "metadata": {},
   "outputs": [
    {
     "data": {
      "text/plain": [
       "'hello my name is Arman'"
      ]
     },
     "execution_count": 3,
     "metadata": {},
     "output_type": "execute_result"
    }
   ],
   "source": [
    "x[5]"
   ]
  },
  {
   "cell_type": "markdown",
   "metadata": {},
   "source": [
    "- In lab you need to count occurrences.\n",
    "- So, in that case, what is my default value?"
   ]
  },
  {
   "cell_type": "code",
   "execution_count": 88,
   "metadata": {},
   "outputs": [],
   "source": [
    "text = \"Blah blah is he still talking about dictionaries??\""
   ]
  },
  {
   "cell_type": "markdown",
   "metadata": {},
   "source": [
    "(This can be done with a Python function)"
   ]
  },
  {
   "cell_type": "code",
   "execution_count": 89,
   "metadata": {},
   "outputs": [
    {
     "data": {
      "text/plain": [
       "5"
      ]
     },
     "execution_count": 89,
     "metadata": {},
     "output_type": "execute_result"
    }
   ],
   "source": [
    "text.count('a')"
   ]
  },
  {
   "cell_type": "markdown",
   "metadata": {},
   "source": [
    "(But in the lab we're doing something more sophisticated so let's ignore this for now)"
   ]
  },
  {
   "cell_type": "code",
   "execution_count": 90,
   "metadata": {},
   "outputs": [
    {
     "data": {
      "text/plain": [
       "5"
      ]
     },
     "execution_count": 90,
     "metadata": {},
     "output_type": "execute_result"
    }
   ],
   "source": [
    "number_of_a = 0\n",
    "for t in text:\n",
    "    if t == \"a\":\n",
    "        number_of_a += 1\n",
    "        \n",
    "number_of_a"
   ]
  },
  {
   "cell_type": "markdown",
   "metadata": {},
   "source": [
    "- Ok, but now we want to count \"a\" and \"b\".\n",
    "- Same as before, let's use a dict.\n",
    "- We already know this won't work - it's the same problem as before:"
   ]
  },
  {
   "cell_type": "code",
   "execution_count": 91,
   "metadata": {
    "tags": [
     "raises-exception"
    ]
   },
   "outputs": [
    {
     "ename": "KeyError",
     "evalue": "'a'",
     "output_type": "error",
     "traceback": [
      "\u001b[0;31m---------------------------------------------------------------------------\u001b[0m",
      "\u001b[0;31mKeyError\u001b[0m                                  Traceback (most recent call last)",
      "\u001b[0;32m/var/folders/sl/_n6p71ds1vb5tr2zmd73gnpr0000gp/T/ipykernel_95037/3477669618.py\u001b[0m in \u001b[0;36m<module>\u001b[0;34m\u001b[0m\n\u001b[1;32m      4\u001b[0m     \u001b[0;32mfor\u001b[0m \u001b[0mt\u001b[0m \u001b[0;32min\u001b[0m \u001b[0mtext\u001b[0m\u001b[0;34m:\u001b[0m\u001b[0;34m\u001b[0m\u001b[0;34m\u001b[0m\u001b[0m\n\u001b[1;32m      5\u001b[0m         \u001b[0;32mif\u001b[0m \u001b[0mt\u001b[0m \u001b[0;34m==\u001b[0m \u001b[0mchar\u001b[0m\u001b[0;34m:\u001b[0m\u001b[0;34m\u001b[0m\u001b[0;34m\u001b[0m\u001b[0m\n\u001b[0;32m----> 6\u001b[0;31m             \u001b[0mnumber_of_times\u001b[0m\u001b[0;34m[\u001b[0m\u001b[0mchar\u001b[0m\u001b[0;34m]\u001b[0m \u001b[0;34m=\u001b[0m \u001b[0mnumber_of_times\u001b[0m\u001b[0;34m[\u001b[0m\u001b[0mchar\u001b[0m\u001b[0;34m]\u001b[0m \u001b[0;34m+\u001b[0m \u001b[0;36m1\u001b[0m\u001b[0;34m\u001b[0m\u001b[0;34m\u001b[0m\u001b[0m\n\u001b[0m\u001b[1;32m      7\u001b[0m \u001b[0;34m\u001b[0m\u001b[0m\n\u001b[1;32m      8\u001b[0m \u001b[0mnumber_of_times\u001b[0m\u001b[0;34m\u001b[0m\u001b[0;34m\u001b[0m\u001b[0m\n",
      "\u001b[0;31mKeyError\u001b[0m: 'a'"
     ]
    }
   ],
   "source": [
    "number_of_times = dict()\n",
    "\n",
    "for char in ('a', 'b'):\n",
    "    for t in text:\n",
    "        if t == char:\n",
    "            number_of_times[char] = number_of_times[char] + 1\n",
    "        \n",
    "number_of_times"
   ]
  },
  {
   "cell_type": "markdown",
   "metadata": {},
   "source": [
    "- So, we use a defaultdict.\n",
    "- What do we want the default value to be?\n",
    "\n",
    "<br><br><br>"
   ]
  },
  {
   "cell_type": "markdown",
   "metadata": {},
   "source": [
    "Answer: 0"
   ]
  },
  {
   "cell_type": "code",
   "execution_count": 92,
   "metadata": {
    "tags": [
     "raises-exception"
    ]
   },
   "outputs": [
    {
     "ename": "TypeError",
     "evalue": "first argument must be callable or None",
     "output_type": "error",
     "traceback": [
      "\u001b[0;31m---------------------------------------------------------------------------\u001b[0m",
      "\u001b[0;31mTypeError\u001b[0m                                 Traceback (most recent call last)",
      "\u001b[0;32m/var/folders/sl/_n6p71ds1vb5tr2zmd73gnpr0000gp/T/ipykernel_95037/2049576769.py\u001b[0m in \u001b[0;36m<module>\u001b[0;34m\u001b[0m\n\u001b[0;32m----> 1\u001b[0;31m \u001b[0mdefaultdict\u001b[0m\u001b[0;34m(\u001b[0m\u001b[0;36m0\u001b[0m\u001b[0;34m)\u001b[0m\u001b[0;34m\u001b[0m\u001b[0;34m\u001b[0m\u001b[0m\n\u001b[0m",
      "\u001b[0;31mTypeError\u001b[0m: first argument must be callable or None"
     ]
    }
   ],
   "source": [
    "defaultdict(0)"
   ]
  },
  {
   "cell_type": "markdown",
   "metadata": {},
   "source": [
    "Same problem as before! So:"
   ]
  },
  {
   "cell_type": "code",
   "execution_count": 93,
   "metadata": {},
   "outputs": [
    {
     "data": {
      "text/plain": [
       "defaultdict(<function __main__.<lambda>()>, {})"
      ]
     },
     "execution_count": 93,
     "metadata": {},
     "output_type": "execute_result"
    }
   ],
   "source": [
    "defaultdict(lambda: 0)"
   ]
  },
  {
   "cell_type": "code",
   "execution_count": 94,
   "metadata": {},
   "outputs": [
    {
     "data": {
      "text/plain": [
       "defaultdict(int, {})"
      ]
     },
     "execution_count": 94,
     "metadata": {},
     "output_type": "execute_result"
    }
   ],
   "source": [
    "defaultdict(int)"
   ]
  },
  {
   "cell_type": "code",
   "execution_count": 95,
   "metadata": {},
   "outputs": [
    {
     "data": {
      "text/plain": [
       "0"
      ]
     },
     "execution_count": 95,
     "metadata": {},
     "output_type": "execute_result"
    }
   ],
   "source": [
    "int()"
   ]
  },
  {
   "cell_type": "markdown",
   "metadata": {},
   "source": [
    "Back to the code:"
   ]
  },
  {
   "cell_type": "code",
   "execution_count": 96,
   "metadata": {},
   "outputs": [
    {
     "data": {
      "text/plain": [
       "defaultdict(int, {'a': 5, 'b': 2, 'c': 1})"
      ]
     },
     "execution_count": 96,
     "metadata": {},
     "output_type": "execute_result"
    }
   ],
   "source": [
    "number_of_times = defaultdict(int)\n",
    "\n",
    "for char in ('a', 'b', 'c'):\n",
    "    for t in text:\n",
    "        if t == char:\n",
    "            number_of_times[char] += 1\n",
    "        \n",
    "number_of_times"
   ]
  },
  {
   "cell_type": "markdown",
   "metadata": {},
   "source": [
    "#### Counter"
   ]
  },
  {
   "cell_type": "markdown",
   "metadata": {},
   "source": [
    "And finally, for the supremely ~~lazy~~ awesome, we can use `Counter`:"
   ]
  },
  {
   "cell_type": "code",
   "execution_count": 97,
   "metadata": {},
   "outputs": [],
   "source": [
    "from collections import Counter"
   ]
  },
  {
   "cell_type": "markdown",
   "metadata": {},
   "source": [
    "This is basically a `defaultdict(int)` but with some fancy methods added:"
   ]
  },
  {
   "cell_type": "code",
   "execution_count": 98,
   "metadata": {},
   "outputs": [
    {
     "data": {
      "text/plain": [
       "Counter({'a': 5, 'b': 2})"
      ]
     },
     "execution_count": 98,
     "metadata": {},
     "output_type": "execute_result"
    }
   ],
   "source": [
    "number_of_times = Counter()\n",
    "\n",
    "for char in ('a', 'b'):\n",
    "    for t in text:\n",
    "        if t == char:\n",
    "            number_of_times[char] += 1\n",
    "        \n",
    "number_of_times"
   ]
  },
  {
   "cell_type": "code",
   "execution_count": 99,
   "metadata": {},
   "outputs": [
    {
     "data": {
      "text/plain": [
       "[('a', 5)]"
      ]
     },
     "execution_count": 99,
     "metadata": {},
     "output_type": "execute_result"
    }
   ],
   "source": [
    "number_of_times.most_common(1)"
   ]
  }
 ],
 "metadata": {
  "kernelspec": {
   "display_name": "Python 3.10.6 ('dsci512')",
   "language": "python",
   "name": "python3"
  },
  "language_info": {
   "codemirror_mode": {
    "name": "ipython",
    "version": 3
   },
   "file_extension": ".py",
   "mimetype": "text/x-python",
   "name": "python",
   "nbconvert_exporter": "python",
   "pygments_lexer": "ipython3",
   "version": "3.10.6"
  },
  "vscode": {
   "interpreter": {
    "hash": "833530e805897aab5e7a30ee530b0bcb4cd19373b840f29eae5897b61b26002e"
   }
  }
 },
 "nbformat": 4,
 "nbformat_minor": 4
}
