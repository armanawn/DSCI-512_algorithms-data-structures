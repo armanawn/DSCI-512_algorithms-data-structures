{
 "cells": [
  {
   "cell_type": "markdown",
   "metadata": {},
   "source": [
    "<img src=\"dsci512_header.png\" width=\"600\">\n",
    "\n",
    "# Lecture 4"
   ]
  },
  {
   "cell_type": "markdown",
   "metadata": {},
   "source": [
    "Outline: \n",
    "\n",
    "- Recursive data structures (15 min)\n",
    "- Trees, binary search trees (20 min)\n",
    "- Break (5 min)\n",
    "- Nearest neighbours intro (5 min)\n",
    "- $k$-d trees (20 min)\n",
    "- Amortization (5 min)\n",
    "- Activities (time-permitting)"
   ]
  },
  {
   "cell_type": "markdown",
   "metadata": {},
   "source": [
    "## Learning objectives\n",
    "\n",
    "* Implement a simple recursive data structure such as a linked list.\n",
    "* Compare and contrast a binary search tree to a hash table.\n",
    "* Select an appropriate algorithm for finding nearest neighbours."
   ]
  },
  {
   "cell_type": "code",
   "execution_count": 1,
   "metadata": {},
   "outputs": [],
   "source": [
    "import numpy as np\n",
    "import pandas as pd\n",
    "\n",
    "import matplotlib.pyplot as plt\n",
    "import altair as alt\n",
    "\n",
    "from collections import defaultdict\n",
    "\n",
    "import sklearn.neighbors"
   ]
  },
  {
   "cell_type": "markdown",
   "metadata": {},
   "source": [
    "## Motivation for recursion\n",
    "\n",
    "- Last class we talked about recursive functions, which call themselves. \n",
    "- We saw how this made the binary search code more elegant.\n",
    "- Today we'll see a stronger motivation for recursive functions and recursive thinking. "
   ]
  },
  {
   "cell_type": "markdown",
   "metadata": {},
   "source": [
    "## Recursive data structures (15 min)"
   ]
  },
  {
   "cell_type": "markdown",
   "metadata": {},
   "source": [
    "We have talked about nested data structures, like:"
   ]
  },
  {
   "cell_type": "code",
   "execution_count": 2,
   "metadata": {},
   "outputs": [
    {
     "data": {
      "text/plain": [
       "[[1, 2, 3], ['a', 'b', 'c']]"
      ]
     },
     "execution_count": 2,
     "metadata": {},
     "output_type": "execute_result"
    }
   ],
   "source": [
    "x = [[1, 2, 3], [\"a\", \"b\", \"c\"]]\n",
    "x"
   ]
  },
  {
   "cell_type": "markdown",
   "metadata": {},
   "source": [
    "- This is a list of lists. \n",
    "- We also had dicts of dicts in Lab 1; another example is the JSON format.\n",
    "- We can also have a doll within a doll:"
   ]
  },
  {
   "cell_type": "markdown",
   "metadata": {},
   "source": [
    "<img src=\"https://upload.wikimedia.org/wikipedia/commons/7/71/Russian-Matroshka.jpg\" width=\"600\">\n",
    "\n",
    "(Image attribution to Fanghong, from [Wikipedia article](https://en.wikipedia.org/wiki/Matryoshka_doll))"
   ]
  },
  {
   "cell_type": "markdown",
   "metadata": {},
   "source": [
    "- Consider that you wanted to store items, one inside each doll.\n",
    "- How would you add a new item? Describe it in words.\n",
    "   - To the outside?\n",
    "   - To the inside?"
   ]
  },
  {
   "cell_type": "code",
   "execution_count": 3,
   "metadata": {},
   "outputs": [],
   "source": [
    "class TreasureBox:\n",
    "    \"\"\"\n",
    "    A linked list, aka treasure box. The user add and retrive items from it.\n",
    "    \"\"\"\n",
    "\n",
    "    def __init__(self, treasure):\n",
    "        self.next = None # data type: TreasureBox\n",
    "        self.treasure = treasure # data type: whatever\n",
    "\n",
    "    def append_outer(self, treasure):\n",
    "        \"\"\"Add a new treasure box to the outside by putting lastest box inside it.\n",
    "\n",
    "        Parameters\n",
    "        ----------\n",
    "        treasure : object\n",
    "           the label designated to the newly covered treasure box\n",
    "\n",
    "        Returns\n",
    "        -------\n",
    "        new_box : TreasureBox\n",
    "             new treasure box object containing previous boxes inside    \n",
    "\n",
    "        Example\n",
    "        --------\n",
    "        >>> box = box.append_outer(10)\n",
    "        \"\"\"\n",
    "\n",
    "        new_box = TreasureBox(treasure)\n",
    "        new_box.next = self\n",
    "        return new_box\n",
    "\n",
    "    def append_inner(self, treasure):\n",
    "        \"\"\"Add a new treasure box inside the innermost current box.\n",
    "\n",
    "        Parameters\n",
    "        ----------\n",
    "        treasure : object \n",
    "           the label designated to the newly inserted treasure box\n",
    "\n",
    "        Returns\n",
    "        -------\n",
    "        new_box : TreasureBox\n",
    "             new treasure box object contained within innermost box of \n",
    "             the last treasure box    \n",
    "\n",
    "        Example\n",
    "        --------\n",
    "        >>> box.append_inner(55)\n",
    "        \"\"\"\n",
    "\n",
    "        if self.next is None:\n",
    "            self.next = TreasureBox(treasure)\n",
    "        else:\n",
    "            self.next.append_inner(treasure)\n",
    "        return self\n",
    "\n",
    "    def get(self, depth):\n",
    "        \"\"\"Get the treasure by going depth levels deep into the treasure boxes.\n",
    "\n",
    "        Parameters\n",
    "        ----------\n",
    "        depth : int \n",
    "           the depth of which to unwrap the treasure box \n",
    "\n",
    "        Returns\n",
    "        -------\n",
    "        object : \n",
    "             the treasure retrieved after recursing the specified depth. \n",
    "\n",
    "        Example\n",
    "        --------\n",
    "        >>> box = TreasureBox(12)\n",
    "        >>> box = box.append_outer(9)\n",
    "        >>> box = box.append_inner(55)\n",
    "        >>> box.get(0)\n",
    "        9 \n",
    "        >>> box.get(1)\n",
    "        55\n",
    "        \"\"\"\n",
    "\n",
    "        if depth == 0:\n",
    "            return self.treasure\n",
    "\n",
    "        if self.next is None:\n",
    "            return None  # Index out of bounds\n",
    "\n",
    "        return self.next.get(depth-1)"
   ]
  },
  {
   "cell_type": "code",
   "execution_count": 4,
   "metadata": {},
   "outputs": [],
   "source": [
    "box = TreasureBox(\"$5\")\n",
    "\n",
    "box = box.append_outer(\"$100\")\n",
    "box = box.append_outer(\"$20\")"
   ]
  },
  {
   "cell_type": "markdown",
   "metadata": {},
   "source": [
    "To do in class: draw a picture of what this looks like."
   ]
  },
  {
   "cell_type": "code",
   "execution_count": 5,
   "metadata": {},
   "outputs": [
    {
     "data": {
      "text/plain": [
       "'$20'"
      ]
     },
     "execution_count": 5,
     "metadata": {},
     "output_type": "execute_result"
    }
   ],
   "source": [
    "box.get(0)"
   ]
  },
  {
   "cell_type": "code",
   "execution_count": 6,
   "metadata": {},
   "outputs": [
    {
     "data": {
      "text/plain": [
       "'$100'"
      ]
     },
     "execution_count": 6,
     "metadata": {},
     "output_type": "execute_result"
    }
   ],
   "source": [
    "box.get(1)"
   ]
  },
  {
   "cell_type": "code",
   "execution_count": 7,
   "metadata": {},
   "outputs": [
    {
     "data": {
      "text/plain": [
       "'$5'"
      ]
     },
     "execution_count": 7,
     "metadata": {},
     "output_type": "execute_result"
    }
   ],
   "source": [
    "box.get(2)"
   ]
  },
  {
   "cell_type": "code",
   "execution_count": 8,
   "metadata": {},
   "outputs": [],
   "source": [
    "box.get(3)"
   ]
  },
  {
   "cell_type": "code",
   "execution_count": 9,
   "metadata": {},
   "outputs": [],
   "source": [
    "box = TreasureBox(\"Initial box\")\n",
    "\n",
    "box = box.append_inner(\"Box in initial box\")\n",
    "box = box.append_inner(\"Box in the second box\")"
   ]
  },
  {
   "cell_type": "code",
   "execution_count": 10,
   "metadata": {},
   "outputs": [
    {
     "data": {
      "text/plain": [
       "'Initial box'"
      ]
     },
     "execution_count": 10,
     "metadata": {},
     "output_type": "execute_result"
    }
   ],
   "source": [
    "box.get(0)"
   ]
  },
  {
   "cell_type": "code",
   "execution_count": 11,
   "metadata": {},
   "outputs": [
    {
     "data": {
      "text/plain": [
       "'Box in initial box'"
      ]
     },
     "execution_count": 11,
     "metadata": {},
     "output_type": "execute_result"
    }
   ],
   "source": [
    "box.get(1)"
   ]
  },
  {
   "cell_type": "code",
   "execution_count": 12,
   "metadata": {},
   "outputs": [
    {
     "data": {
      "text/plain": [
       "'Box in the second box'"
      ]
     },
     "execution_count": 12,
     "metadata": {},
     "output_type": "execute_result"
    }
   ],
   "source": [
    "box.get(2)"
   ]
  },
  {
   "cell_type": "code",
   "execution_count": 13,
   "metadata": {},
   "outputs": [],
   "source": [
    "box.get(3)"
   ]
  },
  {
   "cell_type": "markdown",
   "metadata": {},
   "source": [
    "Activity: without running the code, what will this return?"
   ]
  },
  {
   "cell_type": "code",
   "execution_count": 14,
   "metadata": {},
   "outputs": [
    {
     "data": {
      "text/plain": [
       "'B'"
      ]
     },
     "execution_count": 14,
     "metadata": {},
     "output_type": "execute_result"
    }
   ],
   "source": [
    "box = TreasureBox(\"A\")\n",
    "\n",
    "box = box.append_inner(\"B\")\n",
    "box = box.append_outer(\"C\")\n",
    "box = box.append_outer(\"D\")\n",
    "box = box.append_inner(\"E\")\n",
    "\n",
    "box.get(3)"
   ]
  },
  {
   "cell_type": "markdown",
   "metadata": {},
   "source": [
    "```\n",
    "[D [C [A [B [E]] ]]]\n",
    "```"
   ]
  },
  {
   "cell_type": "markdown",
   "metadata": {},
   "source": [
    "- In computer science, this is called a [linked list](https://en.wikipedia.org/wiki/Linked_list).\n",
    "- It's not just a nested data structure (list of lists); the definition of the data type itself is recursive. \n",
    "  - What is a list? It contains stuff (including possibly lists).\n",
    "  - What is a treasure box? It contains one thing, and _another treasure box_."
   ]
  },
  {
   "cell_type": "markdown",
   "metadata": {},
   "source": [
    "#### Recursive algorithms vs. data structures\n",
    "\n",
    "- We have a relationship between recursive function calls (see `append_inner` and `get`) and recursive data types (see `__init__`).\n",
    "- Recursion is an important idea in understanding algorithms _and_ data structures."
   ]
  },
  {
   "cell_type": "markdown",
   "metadata": {},
   "source": [
    "#### Could we just implement this with lists?\n",
    "\n",
    "- Yes, if we decide each list contains 2 elements, an item and another list.\n",
    "- But using OOP we can make it more clear / less buggy."
   ]
  },
  {
   "cell_type": "markdown",
   "metadata": {},
   "source": [
    "## Trees, binary search trees (20 min)"
   ]
  },
  {
   "cell_type": "markdown",
   "metadata": {},
   "source": [
    "- Trees are recursive data structures, like the linked lists above.\n",
    "- In lab, you will implement a set based on trees instead of a hash table.\n",
    "  - In particular this data structure is called a [binary search tree](https://www.geeksforgeeks.org/binary-search-tree-data-structure/).\n",
    "  - We will talk about them a bit to help with the lab.\n",
    "- Below we have a generic tree:"
   ]
  },
  {
   "cell_type": "markdown",
   "metadata": {},
   "source": [
    "<img src=\"https://upload.wikimedia.org/wikipedia/commons/2/2e/Organizational_chart.svg\" width=\"600\">\n",
    "\n",
    "(Image attribution to TotoBaggins, from [Wikipedia article](https://en.wikipedia.org/wiki/Organizational_chart))"
   ]
  },
  {
   "cell_type": "markdown",
   "metadata": {},
   "source": [
    "Tree terminology:\n",
    "\n",
    "- A tree is either empty or a node with zero or more _children_ that are themselves trees (or \"subtrees\").\n",
    "- If $X$ is the child of $Y$, then $Y$ is the _parent_ of $X$ (e.g. Captain A is a child of Colonel B; Colonel B is the parent of Captain A).\n",
    "- The _root_ is the only node without a parent (e.g. General).\n",
    "- A _leaf_ is a node that does not have children (e.g. Private A).\n",
    "- An _internal node_ is a node that is not a leaf (e.g. Captain A).\n",
    "- The _height_ (aka _depth_) of the tree is the largest number of edges connecting the root to a leaf (here, 4).\n"
   ]
  },
  {
   "cell_type": "markdown",
   "metadata": {},
   "source": [
    "Let's build a simple binary tree class using Python. A binary tree is a tree where each node has at most 2 children (the above is not a binary tree). So each tree node will have a label and two children."
   ]
  },
  {
   "cell_type": "code",
   "execution_count": 15,
   "metadata": {},
   "outputs": [],
   "source": [
    "class BinaryTree:\n",
    "    \n",
    "    def __init__(self, item):\n",
    "        self.item = item\n",
    "        self.left = None  # type = BinaryTree\n",
    "        self.right = None # type = BinaryTree\n",
    "    \n",
    "    def insert(self, item):\n",
    "        # pick a random side to insert on\n",
    "        left = np.random.rand() < 0.5\n",
    "        if left:\n",
    "            if self.left is None:\n",
    "                self.left = BinaryTree(item)\n",
    "            else:\n",
    "                self.left.insert(item)\n",
    "        else:\n",
    "            if self.right is None:\n",
    "                self.right = BinaryTree(item)\n",
    "            else:\n",
    "                self.right.insert(item)\n",
    "    \n",
    "    def contains(self, item):\n",
    "        if self.item == item:\n",
    "            return True\n",
    "        \n",
    "        if self.left is not None:\n",
    "            if self.left.contains(item):\n",
    "                return True\n",
    "\n",
    "        if self.right is not None:\n",
    "            if self.right.contains(item):\n",
    "                return True\n",
    "\n",
    "        return False\n",
    "    \n",
    "    # We would want some more functions here, e.g. to add/remove things from the tree."
   ]
  },
  {
   "cell_type": "markdown",
   "metadata": {},
   "source": [
    "Let's manually build a binary tree containing some of the information in the example above:"
   ]
  },
  {
   "cell_type": "code",
   "execution_count": 16,
   "metadata": {},
   "outputs": [],
   "source": [
    "tree = BinaryTree(\"General\")\n",
    "tree.insert(\"Colonel A\")\n",
    "tree.insert(\"Colonel B\")\n",
    "tree.insert(\"Captain A\")\n",
    "tree.insert(\"Captain B\")"
   ]
  },
  {
   "cell_type": "code",
   "execution_count": 17,
   "metadata": {},
   "outputs": [
    {
     "data": {
      "text/plain": [
       "False"
      ]
     },
     "execution_count": 17,
     "metadata": {},
     "output_type": "execute_result"
    }
   ],
   "source": [
    "tree.contains(\"Clown\")"
   ]
  },
  {
   "cell_type": "code",
   "execution_count": 18,
   "metadata": {},
   "outputs": [
    {
     "data": {
      "text/plain": [
       "True"
      ]
     },
     "execution_count": 18,
     "metadata": {},
     "output_type": "execute_result"
    }
   ],
   "source": [
    "tree.contains(\"Captain B\")"
   ]
  },
  {
   "cell_type": "code",
   "execution_count": 19,
   "metadata": {},
   "outputs": [
    {
     "data": {
      "text/plain": [
       "__main__.BinaryTree"
      ]
     },
     "execution_count": 19,
     "metadata": {},
     "output_type": "execute_result"
    }
   ],
   "source": [
    "type(tree)"
   ]
  },
  {
   "cell_type": "code",
   "execution_count": 20,
   "metadata": {},
   "outputs": [
    {
     "data": {
      "text/plain": [
       "__main__.BinaryTree"
      ]
     },
     "execution_count": 20,
     "metadata": {},
     "output_type": "execute_result"
    }
   ],
   "source": [
    "type(tree.left)"
   ]
  },
  {
   "cell_type": "markdown",
   "metadata": {},
   "source": [
    "- The key idea here is that, like `TreasureBox`, the `BinaryTree` object stores more binary tree objects.\n",
    "- However, each `TreasureBox` only stores one `TreasureBox`, whereas each `BinaryTree` stores **two** `BinaryTree`s."
   ]
  },
  {
   "cell_type": "markdown",
   "metadata": {},
   "source": [
    "#### Binary search trees (BSTs)\n",
    "\n",
    "- _Binary search tree_: for all nodes, all keys in its left subtree are smaller than its key, and all keys in its right subtree are larger than its key."
   ]
  },
  {
   "cell_type": "code",
   "execution_count": 21,
   "metadata": {},
   "outputs": [
    {
     "data": {
      "text/plain": [
       "True"
      ]
     },
     "execution_count": 21,
     "metadata": {},
     "output_type": "execute_result"
    }
   ],
   "source": [
    "\"abc\" < \"zzz\""
   ]
  },
  {
   "cell_type": "markdown",
   "metadata": {},
   "source": [
    "To do in class: draw out a binary search tree, show the process of adding nodes."
   ]
  },
  {
   "cell_type": "markdown",
   "metadata": {},
   "source": [
    "```\n",
    "            8\n",
    "          /   \\\n",
    "         1    13\n",
    "             /  \\\n",
    "            9   5942\n",
    "\n",
    "```"
   ]
  },
  {
   "cell_type": "markdown",
   "metadata": {},
   "source": [
    "```\n",
    "    1\n",
    "     \\\n",
    "      2\n",
    "       \\\n",
    "        3\n",
    "         \\ \n",
    "          4\n",
    "           \\\n",
    "            5\n",
    "```"
   ]
  },
  {
   "cell_type": "markdown",
   "metadata": {},
   "source": [
    "- Requirement to use BSTs: we must be able to compare keys.\n",
    "- Compare this to a hash table: we need to be able to hash the keys. "
   ]
  },
  {
   "cell_type": "markdown",
   "metadata": {},
   "source": [
    "Computational complexity: \n",
    "\n",
    "- Binary search trees (BSTs) can be slow if they become very unbalanced (think of adding numbers in increasing order).\n",
    "- Industrial strength implementations automatically stay balanced and are still efficient.\n",
    "- Deletion is more tricky and we won't cover it here.\n",
    "- But the take-home message is that search/insert/delete all run in $O(\\log n)$ time, which is pretty fast."
   ]
  },
  {
   "cell_type": "markdown",
   "metadata": {},
   "source": [
    "#### Could we do this with lists/dictionaries?\n",
    "\n",
    "- Again, yes. But here the python data type best reflects the conceptual structure best."
   ]
  },
  {
   "cell_type": "markdown",
   "metadata": {},
   "source": [
    "## Break (5 min)"
   ]
  },
  {
   "cell_type": "markdown",
   "metadata": {},
   "source": [
    "## Nearest neighbours intro (5 min)"
   ]
  },
  {
   "cell_type": "markdown",
   "metadata": {},
   "source": [
    "- A common problem (DSCI 571, 563, more) is to find the _nearest neighbours_ of a point.\n",
    "- We can start in 2D:"
   ]
  },
  {
   "cell_type": "code",
   "execution_count": 22,
   "metadata": {},
   "outputs": [],
   "source": [
    "# You can ignore the code - we'll just look at the plot\n",
    "###\n",
    "\n",
    "# Creating Data\n",
    "n = 20\n",
    "np.random.seed(1)\n",
    "X = np.random.rand(n, 2)"
   ]
  },
  {
   "cell_type": "code",
   "execution_count": 23,
   "metadata": {},
   "outputs": [
    {
     "name": "stderr",
     "output_type": "stream",
     "text": [
      "/Users/armansa/opt/miniconda3/envs/dsci512/lib/python3.10/site-packages/altair/utils/core.py:317: FutureWarning: iteritems is deprecated and will be removed in a future version. Use .items instead.\n",
      "  for col_name, dtype in df.dtypes.iteritems():\n"
     ]
    },
    {
     "data": {
      "text/html": [
       "\n",
       "<div id=\"altair-viz-69d144ebb57f4985908d7056437ec286\"></div>\n",
       "<script type=\"text/javascript\">\n",
       "  var VEGA_DEBUG = (typeof VEGA_DEBUG == \"undefined\") ? {} : VEGA_DEBUG;\n",
       "  (function(spec, embedOpt){\n",
       "    let outputDiv = document.currentScript.previousElementSibling;\n",
       "    if (outputDiv.id !== \"altair-viz-69d144ebb57f4985908d7056437ec286\") {\n",
       "      outputDiv = document.getElementById(\"altair-viz-69d144ebb57f4985908d7056437ec286\");\n",
       "    }\n",
       "    const paths = {\n",
       "      \"vega\": \"https://cdn.jsdelivr.net/npm//vega@5?noext\",\n",
       "      \"vega-lib\": \"https://cdn.jsdelivr.net/npm//vega-lib?noext\",\n",
       "      \"vega-lite\": \"https://cdn.jsdelivr.net/npm//vega-lite@4.17.0?noext\",\n",
       "      \"vega-embed\": \"https://cdn.jsdelivr.net/npm//vega-embed@6?noext\",\n",
       "    };\n",
       "\n",
       "    function maybeLoadScript(lib, version) {\n",
       "      var key = `${lib.replace(\"-\", \"\")}_version`;\n",
       "      return (VEGA_DEBUG[key] == version) ?\n",
       "        Promise.resolve(paths[lib]) :\n",
       "        new Promise(function(resolve, reject) {\n",
       "          var s = document.createElement('script');\n",
       "          document.getElementsByTagName(\"head\")[0].appendChild(s);\n",
       "          s.async = true;\n",
       "          s.onload = () => {\n",
       "            VEGA_DEBUG[key] = version;\n",
       "            return resolve(paths[lib]);\n",
       "          };\n",
       "          s.onerror = () => reject(`Error loading script: ${paths[lib]}`);\n",
       "          s.src = paths[lib];\n",
       "        });\n",
       "    }\n",
       "\n",
       "    function showError(err) {\n",
       "      outputDiv.innerHTML = `<div class=\"error\" style=\"color:red;\">${err}</div>`;\n",
       "      throw err;\n",
       "    }\n",
       "\n",
       "    function displayChart(vegaEmbed) {\n",
       "      vegaEmbed(outputDiv, spec, embedOpt)\n",
       "        .catch(err => showError(`Javascript Error: ${err.message}<br>This usually means there's a typo in your chart specification. See the javascript console for the full traceback.`));\n",
       "    }\n",
       "\n",
       "    if(typeof define === \"function\" && define.amd) {\n",
       "      requirejs.config({paths});\n",
       "      require([\"vega-embed\"], displayChart, err => showError(`Error loading script: ${err.message}`));\n",
       "    } else {\n",
       "      maybeLoadScript(\"vega\", \"5\")\n",
       "        .then(() => maybeLoadScript(\"vega-lite\", \"4.17.0\"))\n",
       "        .then(() => maybeLoadScript(\"vega-embed\", \"6\"))\n",
       "        .catch(showError)\n",
       "        .then(() => displayChart(vegaEmbed));\n",
       "    }\n",
       "  })({\"config\": {\"view\": {\"continuousWidth\": 400, \"continuousHeight\": 300}}, \"layer\": [{\"mark\": {\"type\": \"circle\", \"size\": 60}, \"encoding\": {\"x\": {\"axis\": {\"grid\": false}, \"field\": \"x0\", \"type\": \"quantitative\"}, \"y\": {\"axis\": {\"grid\": false}, \"field\": \"x1\", \"type\": \"quantitative\"}}}, {\"mark\": \"circle\", \"encoding\": {\"color\": {\"value\": \"red\"}, \"size\": {\"value\": 50}, \"x\": {\"axis\": {\"title\": \"\"}, \"field\": \"m0\", \"type\": \"quantitative\"}, \"y\": {\"axis\": {\"title\": \"\"}, \"field\": \"m1\", \"type\": \"quantitative\"}}}], \"data\": {\"name\": \"data-c1efa3485bc54d5ce629e74e2a4b8128\"}, \"$schema\": \"https://vega.github.io/schema/vega-lite/v4.17.0.json\", \"datasets\": {\"data-c1efa3485bc54d5ce629e74e2a4b8128\": [{\"x0\": 0.417022004702574, \"x1\": 0.7203244934421581, \"m0\": 0.5, \"m1\": 0.5}, {\"x0\": 0.00011437481734488664, \"x1\": 0.30233257263183977, \"m0\": 0.5, \"m1\": 0.5}, {\"x0\": 0.14675589081711304, \"x1\": 0.0923385947687978, \"m0\": 0.5, \"m1\": 0.5}, {\"x0\": 0.1862602113776709, \"x1\": 0.34556072704304774, \"m0\": 0.5, \"m1\": 0.5}, {\"x0\": 0.39676747423066994, \"x1\": 0.538816734003357, \"m0\": 0.5, \"m1\": 0.5}, {\"x0\": 0.4191945144032948, \"x1\": 0.6852195003967595, \"m0\": 0.5, \"m1\": 0.5}, {\"x0\": 0.20445224973151743, \"x1\": 0.8781174363909454, \"m0\": 0.5, \"m1\": 0.5}, {\"x0\": 0.027387593197926163, \"x1\": 0.6704675101784022, \"m0\": 0.5, \"m1\": 0.5}, {\"x0\": 0.41730480236712697, \"x1\": 0.5586898284457517, \"m0\": 0.5, \"m1\": 0.5}, {\"x0\": 0.14038693859523377, \"x1\": 0.1981014890848788, \"m0\": 0.5, \"m1\": 0.5}, {\"x0\": 0.8007445686755367, \"x1\": 0.9682615757193975, \"m0\": 0.5, \"m1\": 0.5}, {\"x0\": 0.31342417815924284, \"x1\": 0.6923226156693141, \"m0\": 0.5, \"m1\": 0.5}, {\"x0\": 0.8763891522960383, \"x1\": 0.8946066635038473, \"m0\": 0.5, \"m1\": 0.5}, {\"x0\": 0.08504421136977791, \"x1\": 0.03905478323288236, \"m0\": 0.5, \"m1\": 0.5}, {\"x0\": 0.1698304195645689, \"x1\": 0.8781425034294131, \"m0\": 0.5, \"m1\": 0.5}, {\"x0\": 0.0983468338330501, \"x1\": 0.42110762500505217, \"m0\": 0.5, \"m1\": 0.5}, {\"x0\": 0.9578895301505019, \"x1\": 0.5331652849730171, \"m0\": 0.5, \"m1\": 0.5}, {\"x0\": 0.6918771139504734, \"x1\": 0.31551563100606295, \"m0\": 0.5, \"m1\": 0.5}, {\"x0\": 0.6865009276815837, \"x1\": 0.8346256718973729, \"m0\": 0.5, \"m1\": 0.5}, {\"x0\": 0.018288277344191806, \"x1\": 0.7501443149449675, \"m0\": 0.5, \"m1\": 0.5}]}}, {\"mode\": \"vega-lite\"});\n",
       "</script>"
      ],
      "text/plain": [
       "alt.LayerChart(...)"
      ]
     },
     "execution_count": 23,
     "metadata": {},
     "output_type": "execute_result"
    }
   ],
   "source": [
    "# Creating Dataframe\n",
    "data = pd.DataFrame({'x0': X[:, 0], \"x1\" : X[:, 1]})\n",
    "data['m0'] = .5\n",
    "data['m1'] = .5\n",
    "\n",
    "# Creating Plot\n",
    "chart1 = alt.Chart(data).mark_circle(size=60).encode(\n",
    "    x= alt.X('x0',\n",
    "             axis=alt.Axis(grid=False)),\n",
    "    y = alt.Y('x1',\n",
    "             axis=alt.Axis(grid=False)))\n",
    "\n",
    "\n",
    "chart2 = alt.Chart(data).mark_circle().encode(\n",
    "    x= alt.X('m0',\n",
    "              axis=alt.Axis(title = \"\")),\n",
    "    y = alt.Y('m1',\n",
    "               axis=alt.Axis(title = \"\")),\n",
    "    color = alt.value('red'),\n",
    "    size = alt.value(50)\n",
    ")\n",
    "\n",
    "chart1 + chart2"
   ]
  },
  {
   "cell_type": "markdown",
   "metadata": {},
   "source": [
    "- Which blue points are nearest to the red (\"query\") point?\n",
    "  - To define \"nearest\" we need a notion of _distance_.\n",
    "  - For now, we'll use Euclidean distance (the one you're used to from day-to-day life).\n",
    "  - In future courses, this might change.\n",
    "  - Choosing a distance metric is actually important in machine learning."
   ]
  },
  {
   "cell_type": "markdown",
   "metadata": {},
   "source": [
    "The algorithmic approach is:\n",
    "\n",
    "1. Find the distance from the red point to all the blue points.\n",
    "2. Find the smallest distances."
   ]
  },
  {
   "cell_type": "code",
   "execution_count": 24,
   "metadata": {},
   "outputs": [],
   "source": [
    "# It's OK if you don't understand this code, especially during lecture\n",
    "# (It uses numpy broadcasting, which is covered in the second half of DSCI 523.)\n",
    "\n",
    "\n",
    "def nearest_neighbour(data, query):\n",
    "    \"\"\"\n",
    "    Find the point in the data that is nearest to the query point.\n",
    "\n",
    "    Parameters\n",
    "    ----------\n",
    "    data : numpy.ndarray\n",
    "        a 2D array containing the points as rows\n",
    "    query : numpy.ndarray\n",
    "        a 1D array containing the query point\n",
    "    \n",
    "    Returns\n",
    "    -------\n",
    "    int\n",
    "        the index of the nearest point\n",
    "                 \n",
    "    Example\n",
    "    --------\n",
    "    >>> array = np.array([[1, 1], [2, 5], [5, 6], [3, 0], [9, 9]])\n",
    "    >>> nearest_neighbour(array, [10, 10])\n",
    "    4\n",
    "    \"\"\"\n",
    "    \n",
    "    if query.ndim == 1:\n",
    "        query = query[None]\n",
    "\n",
    "    return np.argmin(np.sum((data - query)**2, axis=1))"
   ]
  },
  {
   "cell_type": "code",
   "execution_count": 25,
   "metadata": {},
   "outputs": [
    {
     "name": "stdout",
     "output_type": "stream",
     "text": [
      "[[4.17022005e-01 7.20324493e-01]\n",
      " [1.14374817e-04 3.02332573e-01]\n",
      " [1.46755891e-01 9.23385948e-02]\n",
      " [1.86260211e-01 3.45560727e-01]\n",
      " [3.96767474e-01 5.38816734e-01]\n",
      " [4.19194514e-01 6.85219500e-01]\n",
      " [2.04452250e-01 8.78117436e-01]\n",
      " [2.73875932e-02 6.70467510e-01]\n",
      " [4.17304802e-01 5.58689828e-01]\n",
      " [1.40386939e-01 1.98101489e-01]\n",
      " [8.00744569e-01 9.68261576e-01]\n",
      " [3.13424178e-01 6.92322616e-01]\n",
      " [8.76389152e-01 8.94606664e-01]\n",
      " [8.50442114e-02 3.90547832e-02]\n",
      " [1.69830420e-01 8.78142503e-01]\n",
      " [9.83468338e-02 4.21107625e-01]\n",
      " [9.57889530e-01 5.33165285e-01]\n",
      " [6.91877114e-01 3.15515631e-01]\n",
      " [6.86500928e-01 8.34625672e-01]\n",
      " [1.82882773e-02 7.50144315e-01]]\n"
     ]
    }
   ],
   "source": [
    "print(X)"
   ]
  },
  {
   "cell_type": "code",
   "execution_count": 26,
   "metadata": {
    "scrolled": true
   },
   "outputs": [
    {
     "data": {
      "text/plain": [
       "8"
      ]
     },
     "execution_count": 26,
     "metadata": {},
     "output_type": "execute_result"
    }
   ],
   "source": [
    "query = np.array([0.5, 0.5])\n",
    "nn = nearest_neighbour(X, query)\n",
    "nn"
   ]
  },
  {
   "cell_type": "code",
   "execution_count": 27,
   "metadata": {},
   "outputs": [
    {
     "data": {
      "text/plain": [
       "array([0.4173048 , 0.55868983])"
      ]
     },
     "execution_count": 27,
     "metadata": {},
     "output_type": "execute_result"
    }
   ],
   "source": [
    "X[8]"
   ]
  },
  {
   "cell_type": "markdown",
   "metadata": {},
   "source": [
    "**Question:** what is the time complexity of `nearest_neighbour` if we have $n$ points in $k$ dimensions?"
   ]
  },
  {
   "cell_type": "markdown",
   "metadata": {},
   "source": [
    "<br><br><br><br><br><br><br><br>\n",
    "\n",
    "**Answer:** $O(nk)$, because we have to loop over all $n$ points, and computing the distance requires looping over the $k$ dimensions.\n",
    "\n",
    "- Problem: this may be way too slow!\n",
    "- For example, if you want to find similar items on Amazon, and they have a billion items, you don't want to have to look through _all_ of them every time."
   ]
  },
  {
   "cell_type": "markdown",
   "metadata": {},
   "source": [
    "## $k$-d trees (10 min)\n"
   ]
  },
  {
   "cell_type": "markdown",
   "metadata": {},
   "source": [
    "- Sometimes we speed things up with faster algorithms.\n",
    "  - We'll see a lot of that in lab 4. \n",
    "- But, as we've seen with trees and hash tables, sometime we speed things up with _better data structures_. \n",
    "- One of the classic ways to speed up nearest neighbours is a data structure call the [$k$-d tree](https://en.wikipedia.org/wiki/K-d_tree).\n",
    "- (Optional) Warning: the use of the letter $k$ here is a bit unfortunate.\n",
    "  - In future machine learning courses, we'll use $d$ instead of $k$.\n",
    "  - This will also help avoid confusion with $k$-nearest neighbours, which is a totally different $k$.\n",
    "  - But I do understand not wanting to call them $d$-d trees... so we'll use $k$ for today."
   ]
  },
  {
   "cell_type": "code",
   "execution_count": 28,
   "metadata": {},
   "outputs": [],
   "source": [
    "# You do not need to read/understand this code, but I think\n",
    "# you shouldn't have any problem understanding it with a bit of time spent.\n",
    "\n",
    "\n",
    "class KDTree:\n",
    "    \"\"\"A k-d tree data structure for fast nearest neighbour searches\"\"\"\n",
    "\n",
    "    def __init__(self):\n",
    "\n",
    "        self.location = None\n",
    "        self.leftSubTree = None # type KDTree\n",
    "        self.rightSubTree = None # type KDTree\n",
    "        self.dim = None\n",
    "        self.data = None\n",
    "\n",
    "    def build(self, data, depth=0):\n",
    "        \"\"\"\n",
    "        Build the k-d tree from the given data.\n",
    "        Implementation inspired by https://en.wikipedia.org/wiki/K-d_tree\n",
    "\n",
    "        Parameters\n",
    "        ----------\n",
    "        data : numpy.ndarray\n",
    "            a 2D array where each row is a point in space\n",
    "        depth : int \n",
    "            this can be ignored, for internal bookkeeping (default: 0)    \n",
    "        \"\"\"\n",
    "        nrows = data.shape[0]\n",
    "        self.dim = depth % data.shape[1]\n",
    "        self.data = data\n",
    "\n",
    "        self.location = np.median(data[:, self.dim])\n",
    "        # above, or just data[nrows//2,dim] after sorting\n",
    "        # although this one will average if there's a tie.\n",
    "\n",
    "        if nrows == 1:\n",
    "            return\n",
    "\n",
    "        data = data[np.argsort(data[:, self.dim])]\n",
    "\n",
    "        self.leftSubTree = KDTree()\n",
    "        self.leftSubTree.build(data[:nrows//2], depth+1)\n",
    "\n",
    "        self.rightSubTree = KDTree()\n",
    "        self.rightSubTree.build(data[nrows//2:], depth+1)\n",
    "\n",
    "    def approximateNearestNeighbour(self, query):\n",
    "        \"\"\"\n",
    "        Find the nearest neighbor to the query point.\n",
    "        However, this is just approximate; it finds a point in\n",
    "        the same rectangle, not necessarily the actual nearest neighbour.\n",
    "        This is just for educational purposes; a correct algorithm\n",
    "        exists but it's too messy to put here.\n",
    "\n",
    "        Parameters\n",
    "        ----------\n",
    "        query : numpy.ndarray \n",
    "            a point in space\n",
    "\n",
    "        Returns\n",
    "        -------\n",
    "        numpy.ndarray\n",
    "            the coordinates of the point closest to the query\n",
    "        \"\"\"\n",
    "        if self.data.shape[0] == 1:\n",
    "            return self.data[0]\n",
    "\n",
    "        if query[self.dim] < self.location:\n",
    "            return self.leftSubTree.approximateNearestNeighbour(query)\n",
    "        else:\n",
    "            return self.rightSubTree.approximateNearestNeighbour(query)\n",
    "\n",
    "    def plot2d(self, depth=1, minx=0.0, maxx=1.0, miny=0.0, maxy=1.0):\n",
    "        \"\"\"\n",
    "        Plot the k-d tree.\n",
    "\n",
    "        Parameters\n",
    "        ----------\n",
    "        depth : int\n",
    "            how deep to go down the tree when plotting (defult: 0)\n",
    "        minx : int\n",
    "            the left edge of the plot (default: 0.0)\n",
    "        maxx : int\n",
    "            the right edge of the plot (default: 1.0)\n",
    "        miny : int\n",
    "            the bottom edge of the plot (default: 0.0)\n",
    "        maxy : int\n",
    "            the top edge of the plot (default: 0.0)\n",
    "\n",
    "        Returns\n",
    "        -------\n",
    "        numpy.ndarray\n",
    "            the coordinates of the point closest to the query    \n",
    "        \"\"\"\n",
    "\n",
    "        data = pd.DataFrame({'x0': self.data[:, 0], \"x1\": self.data[:, 1]})\n",
    "        chart1 = alt.Chart(data).mark_circle(size=60).encode(\n",
    "            x=alt.X('x0',\n",
    "                    axis=alt.Axis(grid=False)),\n",
    "            y=alt.Y('x1',\n",
    "                    axis=alt.Axis(grid=False)))\n",
    "        charts_list = [chart1]\n",
    "        if depth == 0:\n",
    "            return\n",
    "\n",
    "        if self.dim == 0:\n",
    "            data2 = pd.DataFrame(\n",
    "                {'x0': (self.location, self.location), \"x1\": (miny, maxy)})\n",
    "            chart2 = alt.Chart(data2).mark_line().encode(\n",
    "                x=alt.X('x0',\n",
    "                        axis=alt.Axis(grid=False)),\n",
    "                y=alt.Y('x1',\n",
    "                        axis=alt.Axis(grid=False)))\n",
    "            charts_list.append(chart2)\n",
    "\n",
    "            if self.leftSubTree is not None:\n",
    "                chart0l = self.leftSubTree.plot2d(\n",
    "                    depth-1, minx=minx, maxx=self.location, miny=miny, maxy=maxy)\n",
    "                charts_list.append(chart0l)\n",
    "            if self.rightSubTree is not None:\n",
    "                chart0r = self.rightSubTree.plot2d(\n",
    "                    depth-1, minx=self.location, maxx=maxx, miny=miny, maxy=maxy)\n",
    "                charts_list.append(chart0r)\n",
    "        elif self.dim == 1:\n",
    "            data3 = pd.DataFrame(\n",
    "                {'x0': (minx, maxx), \"x1\": (self.location, self.location)})\n",
    "            chart3 = alt.Chart(data3).mark_line().encode(\n",
    "                x=alt.X('x0',\n",
    "                        axis=alt.Axis(grid=False)),\n",
    "                y=alt.Y('x1',\n",
    "                        axis=alt.Axis(grid=False)))\n",
    "            charts_list.append(chart3)\n",
    "            if self.leftSubTree is not None:\n",
    "                chart1l = self.leftSubTree.plot2d(\n",
    "                    depth-1, minx=minx, maxx=maxx, miny=miny, maxy=self.location)\n",
    "                charts_list.append(chart1l)\n",
    "            if self.rightSubTree is not None:\n",
    "                chart1r = self.rightSubTree.plot2d(\n",
    "                    depth-1, minx=minx, maxx=maxx, miny=self.location, maxy=maxy)\n",
    "                charts_list.append(chart1r)\n",
    "\n",
    "        params = list(filter(None, charts_list))\n",
    "        return alt.layer(*params).encode()\n",
    "\n",
    "        # alt.layer(*params).display()\n",
    "        #alt.layer(whisker_low, box, whisker_high, midline, data=data)"
   ]
  },
  {
   "cell_type": "markdown",
   "metadata": {},
   "source": [
    "Basic idea:\n",
    "\n",
    "- In each recursive step, there is a certain number of datapoints. If there's only one, we're done.\n",
    "- Otherwise, for one of the two dimensions (we alternate back and forth), find the median value along the dimension.\n",
    "- Split the data into two subsets based on being above or below that median, and build a (sub)tree for each of those subsets.\n",
    "- Starting from the full dataset, you will create a tree where each leaf is a datapoint.\n",
    "- You can find an approximate nearest neighbour by traversing the down the tree using the same decision points as were used to original split the data; the final leaf is the desired neighbour."
   ]
  },
  {
   "cell_type": "code",
   "execution_count": 29,
   "metadata": {},
   "outputs": [],
   "source": [
    "# np.median(X[:,0])"
   ]
  },
  {
   "cell_type": "code",
   "execution_count": 30,
   "metadata": {},
   "outputs": [
    {
     "data": {
      "text/html": [
       "\n",
       "<div id=\"altair-viz-0f2c2d8304b24df5af17219d54297e60\"></div>\n",
       "<script type=\"text/javascript\">\n",
       "  var VEGA_DEBUG = (typeof VEGA_DEBUG == \"undefined\") ? {} : VEGA_DEBUG;\n",
       "  (function(spec, embedOpt){\n",
       "    let outputDiv = document.currentScript.previousElementSibling;\n",
       "    if (outputDiv.id !== \"altair-viz-0f2c2d8304b24df5af17219d54297e60\") {\n",
       "      outputDiv = document.getElementById(\"altair-viz-0f2c2d8304b24df5af17219d54297e60\");\n",
       "    }\n",
       "    const paths = {\n",
       "      \"vega\": \"https://cdn.jsdelivr.net/npm//vega@5?noext\",\n",
       "      \"vega-lib\": \"https://cdn.jsdelivr.net/npm//vega-lib?noext\",\n",
       "      \"vega-lite\": \"https://cdn.jsdelivr.net/npm//vega-lite@4.17.0?noext\",\n",
       "      \"vega-embed\": \"https://cdn.jsdelivr.net/npm//vega-embed@6?noext\",\n",
       "    };\n",
       "\n",
       "    function maybeLoadScript(lib, version) {\n",
       "      var key = `${lib.replace(\"-\", \"\")}_version`;\n",
       "      return (VEGA_DEBUG[key] == version) ?\n",
       "        Promise.resolve(paths[lib]) :\n",
       "        new Promise(function(resolve, reject) {\n",
       "          var s = document.createElement('script');\n",
       "          document.getElementsByTagName(\"head\")[0].appendChild(s);\n",
       "          s.async = true;\n",
       "          s.onload = () => {\n",
       "            VEGA_DEBUG[key] = version;\n",
       "            return resolve(paths[lib]);\n",
       "          };\n",
       "          s.onerror = () => reject(`Error loading script: ${paths[lib]}`);\n",
       "          s.src = paths[lib];\n",
       "        });\n",
       "    }\n",
       "\n",
       "    function showError(err) {\n",
       "      outputDiv.innerHTML = `<div class=\"error\" style=\"color:red;\">${err}</div>`;\n",
       "      throw err;\n",
       "    }\n",
       "\n",
       "    function displayChart(vegaEmbed) {\n",
       "      vegaEmbed(outputDiv, spec, embedOpt)\n",
       "        .catch(err => showError(`Javascript Error: ${err.message}<br>This usually means there's a typo in your chart specification. See the javascript console for the full traceback.`));\n",
       "    }\n",
       "\n",
       "    if(typeof define === \"function\" && define.amd) {\n",
       "      requirejs.config({paths});\n",
       "      require([\"vega-embed\"], displayChart, err => showError(`Error loading script: ${err.message}`));\n",
       "    } else {\n",
       "      maybeLoadScript(\"vega\", \"5\")\n",
       "        .then(() => maybeLoadScript(\"vega-lite\", \"4.17.0\"))\n",
       "        .then(() => maybeLoadScript(\"vega-embed\", \"6\"))\n",
       "        .catch(showError)\n",
       "        .then(() => displayChart(vegaEmbed));\n",
       "    }\n",
       "  })({\"config\": {\"view\": {\"continuousWidth\": 400, \"continuousHeight\": 300}}, \"layer\": [{\"data\": {\"name\": \"data-27c49ca2d2c0e4fe4f94f1d7c160a361\"}, \"mark\": {\"type\": \"circle\", \"size\": 60}, \"encoding\": {\"x\": {\"axis\": {\"grid\": false}, \"field\": \"x0\", \"type\": \"quantitative\"}, \"y\": {\"axis\": {\"grid\": false}, \"field\": \"x1\", \"type\": \"quantitative\"}}}, {\"data\": {\"name\": \"data-9bc712eec4862e0da7b537a787dfb3ee\"}, \"mark\": \"line\", \"encoding\": {\"x\": {\"axis\": {\"grid\": false}, \"field\": \"x0\", \"type\": \"quantitative\"}, \"y\": {\"axis\": {\"grid\": false}, \"field\": \"x1\", \"type\": \"quantitative\"}}}], \"encoding\": {}, \"$schema\": \"https://vega.github.io/schema/vega-lite/v4.17.0.json\", \"datasets\": {\"data-27c49ca2d2c0e4fe4f94f1d7c160a361\": [{\"x0\": 0.417022004702574, \"x1\": 0.7203244934421581}, {\"x0\": 0.00011437481734488664, \"x1\": 0.30233257263183977}, {\"x0\": 0.14675589081711304, \"x1\": 0.0923385947687978}, {\"x0\": 0.1862602113776709, \"x1\": 0.34556072704304774}, {\"x0\": 0.39676747423066994, \"x1\": 0.538816734003357}, {\"x0\": 0.4191945144032948, \"x1\": 0.6852195003967595}, {\"x0\": 0.20445224973151743, \"x1\": 0.8781174363909454}, {\"x0\": 0.027387593197926163, \"x1\": 0.6704675101784022}, {\"x0\": 0.41730480236712697, \"x1\": 0.5586898284457517}, {\"x0\": 0.14038693859523377, \"x1\": 0.1981014890848788}, {\"x0\": 0.8007445686755367, \"x1\": 0.9682615757193975}, {\"x0\": 0.31342417815924284, \"x1\": 0.6923226156693141}, {\"x0\": 0.8763891522960383, \"x1\": 0.8946066635038473}, {\"x0\": 0.08504421136977791, \"x1\": 0.03905478323288236}, {\"x0\": 0.1698304195645689, \"x1\": 0.8781425034294131}, {\"x0\": 0.0983468338330501, \"x1\": 0.42110762500505217}, {\"x0\": 0.9578895301505019, \"x1\": 0.5331652849730171}, {\"x0\": 0.6918771139504734, \"x1\": 0.31551563100606295}, {\"x0\": 0.6865009276815837, \"x1\": 0.8346256718973729}, {\"x0\": 0.018288277344191806, \"x1\": 0.7501443149449675}], \"data-9bc712eec4862e0da7b537a787dfb3ee\": [{\"x0\": 0.25893821394538014, \"x1\": 0.0}, {\"x0\": 0.25893821394538014, \"x1\": 1.0}]}}, {\"mode\": \"vega-lite\"});\n",
       "</script>"
      ],
      "text/plain": [
       "alt.LayerChart(...)"
      ]
     },
     "execution_count": 30,
     "metadata": {},
     "output_type": "execute_result"
    }
   ],
   "source": [
    "kdt = KDTree()\n",
    "kdt.build(X)\n",
    "kdt.plot2d(depth=1)"
   ]
  },
  {
   "cell_type": "code",
   "execution_count": 31,
   "metadata": {},
   "outputs": [],
   "source": [
    "kdt = KDTree()\n",
    "kdt.build(X)"
   ]
  },
  {
   "cell_type": "code",
   "execution_count": 32,
   "metadata": {},
   "outputs": [
    {
     "data": {
      "text/html": [
       "\n",
       "<div id=\"altair-viz-4492fa2e24d0430a906942dddaa71ba1\"></div>\n",
       "<script type=\"text/javascript\">\n",
       "  var VEGA_DEBUG = (typeof VEGA_DEBUG == \"undefined\") ? {} : VEGA_DEBUG;\n",
       "  (function(spec, embedOpt){\n",
       "    let outputDiv = document.currentScript.previousElementSibling;\n",
       "    if (outputDiv.id !== \"altair-viz-4492fa2e24d0430a906942dddaa71ba1\") {\n",
       "      outputDiv = document.getElementById(\"altair-viz-4492fa2e24d0430a906942dddaa71ba1\");\n",
       "    }\n",
       "    const paths = {\n",
       "      \"vega\": \"https://cdn.jsdelivr.net/npm//vega@5?noext\",\n",
       "      \"vega-lib\": \"https://cdn.jsdelivr.net/npm//vega-lib?noext\",\n",
       "      \"vega-lite\": \"https://cdn.jsdelivr.net/npm//vega-lite@4.17.0?noext\",\n",
       "      \"vega-embed\": \"https://cdn.jsdelivr.net/npm//vega-embed@6?noext\",\n",
       "    };\n",
       "\n",
       "    function maybeLoadScript(lib, version) {\n",
       "      var key = `${lib.replace(\"-\", \"\")}_version`;\n",
       "      return (VEGA_DEBUG[key] == version) ?\n",
       "        Promise.resolve(paths[lib]) :\n",
       "        new Promise(function(resolve, reject) {\n",
       "          var s = document.createElement('script');\n",
       "          document.getElementsByTagName(\"head\")[0].appendChild(s);\n",
       "          s.async = true;\n",
       "          s.onload = () => {\n",
       "            VEGA_DEBUG[key] = version;\n",
       "            return resolve(paths[lib]);\n",
       "          };\n",
       "          s.onerror = () => reject(`Error loading script: ${paths[lib]}`);\n",
       "          s.src = paths[lib];\n",
       "        });\n",
       "    }\n",
       "\n",
       "    function showError(err) {\n",
       "      outputDiv.innerHTML = `<div class=\"error\" style=\"color:red;\">${err}</div>`;\n",
       "      throw err;\n",
       "    }\n",
       "\n",
       "    function displayChart(vegaEmbed) {\n",
       "      vegaEmbed(outputDiv, spec, embedOpt)\n",
       "        .catch(err => showError(`Javascript Error: ${err.message}<br>This usually means there's a typo in your chart specification. See the javascript console for the full traceback.`));\n",
       "    }\n",
       "\n",
       "    if(typeof define === \"function\" && define.amd) {\n",
       "      requirejs.config({paths});\n",
       "      require([\"vega-embed\"], displayChart, err => showError(`Error loading script: ${err.message}`));\n",
       "    } else {\n",
       "      maybeLoadScript(\"vega\", \"5\")\n",
       "        .then(() => maybeLoadScript(\"vega-lite\", \"4.17.0\"))\n",
       "        .then(() => maybeLoadScript(\"vega-embed\", \"6\"))\n",
       "        .catch(showError)\n",
       "        .then(() => displayChart(vegaEmbed));\n",
       "    }\n",
       "  })({\"config\": {\"view\": {\"continuousWidth\": 400, \"continuousHeight\": 300}}, \"layer\": [{\"data\": {\"name\": \"data-27c49ca2d2c0e4fe4f94f1d7c160a361\"}, \"mark\": {\"type\": \"circle\", \"size\": 60}, \"encoding\": {\"x\": {\"axis\": {\"grid\": false}, \"field\": \"x0\", \"type\": \"quantitative\"}, \"y\": {\"axis\": {\"grid\": false}, \"field\": \"x1\", \"type\": \"quantitative\"}}}, {\"data\": {\"name\": \"data-9bc712eec4862e0da7b537a787dfb3ee\"}, \"mark\": \"line\", \"encoding\": {\"x\": {\"axis\": {\"grid\": false}, \"field\": \"x0\", \"type\": \"quantitative\"}, \"y\": {\"axis\": {\"grid\": false}, \"field\": \"x1\", \"type\": \"quantitative\"}}}, {\"layer\": [{\"data\": {\"name\": \"data-7973e3913bac78a2baa4c4ec11621abd\"}, \"mark\": {\"type\": \"circle\", \"size\": 60}, \"encoding\": {\"x\": {\"axis\": {\"grid\": false}, \"field\": \"x0\", \"type\": \"quantitative\"}, \"y\": {\"axis\": {\"grid\": false}, \"field\": \"x1\", \"type\": \"quantitative\"}}}, {\"data\": {\"name\": \"data-e97518c52016479bcce556dfc5709844\"}, \"mark\": \"line\", \"encoding\": {\"x\": {\"axis\": {\"grid\": false}, \"field\": \"x0\", \"type\": \"quantitative\"}, \"y\": {\"axis\": {\"grid\": false}, \"field\": \"x1\", \"type\": \"quantitative\"}}}], \"encoding\": {}}, {\"layer\": [{\"data\": {\"name\": \"data-dd7c6600cc9575f5eda9bc467c82864d\"}, \"mark\": {\"type\": \"circle\", \"size\": 60}, \"encoding\": {\"x\": {\"axis\": {\"grid\": false}, \"field\": \"x0\", \"type\": \"quantitative\"}, \"y\": {\"axis\": {\"grid\": false}, \"field\": \"x1\", \"type\": \"quantitative\"}}}, {\"data\": {\"name\": \"data-8d3d33f07fb14f5590a66386df1a92e2\"}, \"mark\": \"line\", \"encoding\": {\"x\": {\"axis\": {\"grid\": false}, \"field\": \"x0\", \"type\": \"quantitative\"}, \"y\": {\"axis\": {\"grid\": false}, \"field\": \"x1\", \"type\": \"quantitative\"}}}], \"encoding\": {}}], \"encoding\": {}, \"$schema\": \"https://vega.github.io/schema/vega-lite/v4.17.0.json\", \"datasets\": {\"data-27c49ca2d2c0e4fe4f94f1d7c160a361\": [{\"x0\": 0.417022004702574, \"x1\": 0.7203244934421581}, {\"x0\": 0.00011437481734488664, \"x1\": 0.30233257263183977}, {\"x0\": 0.14675589081711304, \"x1\": 0.0923385947687978}, {\"x0\": 0.1862602113776709, \"x1\": 0.34556072704304774}, {\"x0\": 0.39676747423066994, \"x1\": 0.538816734003357}, {\"x0\": 0.4191945144032948, \"x1\": 0.6852195003967595}, {\"x0\": 0.20445224973151743, \"x1\": 0.8781174363909454}, {\"x0\": 0.027387593197926163, \"x1\": 0.6704675101784022}, {\"x0\": 0.41730480236712697, \"x1\": 0.5586898284457517}, {\"x0\": 0.14038693859523377, \"x1\": 0.1981014890848788}, {\"x0\": 0.8007445686755367, \"x1\": 0.9682615757193975}, {\"x0\": 0.31342417815924284, \"x1\": 0.6923226156693141}, {\"x0\": 0.8763891522960383, \"x1\": 0.8946066635038473}, {\"x0\": 0.08504421136977791, \"x1\": 0.03905478323288236}, {\"x0\": 0.1698304195645689, \"x1\": 0.8781425034294131}, {\"x0\": 0.0983468338330501, \"x1\": 0.42110762500505217}, {\"x0\": 0.9578895301505019, \"x1\": 0.5331652849730171}, {\"x0\": 0.6918771139504734, \"x1\": 0.31551563100606295}, {\"x0\": 0.6865009276815837, \"x1\": 0.8346256718973729}, {\"x0\": 0.018288277344191806, \"x1\": 0.7501443149449675}], \"data-9bc712eec4862e0da7b537a787dfb3ee\": [{\"x0\": 0.25893821394538014, \"x1\": 0.0}, {\"x0\": 0.25893821394538014, \"x1\": 1.0}], \"data-7973e3913bac78a2baa4c4ec11621abd\": [{\"x0\": 0.00011437481734488664, \"x1\": 0.30233257263183977}, {\"x0\": 0.018288277344191806, \"x1\": 0.7501443149449675}, {\"x0\": 0.027387593197926163, \"x1\": 0.6704675101784022}, {\"x0\": 0.08504421136977791, \"x1\": 0.03905478323288236}, {\"x0\": 0.0983468338330501, \"x1\": 0.42110762500505217}, {\"x0\": 0.14038693859523377, \"x1\": 0.1981014890848788}, {\"x0\": 0.14675589081711304, \"x1\": 0.0923385947687978}, {\"x0\": 0.1698304195645689, \"x1\": 0.8781425034294131}, {\"x0\": 0.1862602113776709, \"x1\": 0.34556072704304774}, {\"x0\": 0.20445224973151743, \"x1\": 0.8781174363909454}], \"data-e97518c52016479bcce556dfc5709844\": [{\"x0\": 0.0, \"x1\": 0.38333417602404996}, {\"x0\": 0.25893821394538014, \"x1\": 0.38333417602404996}], \"data-dd7c6600cc9575f5eda9bc467c82864d\": [{\"x0\": 0.31342417815924284, \"x1\": 0.6923226156693141}, {\"x0\": 0.39676747423066994, \"x1\": 0.538816734003357}, {\"x0\": 0.417022004702574, \"x1\": 0.7203244934421581}, {\"x0\": 0.41730480236712697, \"x1\": 0.5586898284457517}, {\"x0\": 0.4191945144032948, \"x1\": 0.6852195003967595}, {\"x0\": 0.6865009276815837, \"x1\": 0.8346256718973729}, {\"x0\": 0.6918771139504734, \"x1\": 0.31551563100606295}, {\"x0\": 0.8007445686755367, \"x1\": 0.9682615757193975}, {\"x0\": 0.8763891522960383, \"x1\": 0.8946066635038473}, {\"x0\": 0.9578895301505019, \"x1\": 0.5331652849730171}], \"data-8d3d33f07fb14f5590a66386df1a92e2\": [{\"x0\": 0.25893821394538014, \"x1\": 0.6887710580330368}, {\"x0\": 1.0, \"x1\": 0.6887710580330368}]}}, {\"mode\": \"vega-lite\"});\n",
       "</script>"
      ],
      "text/plain": [
       "alt.LayerChart(...)"
      ]
     },
     "execution_count": 32,
     "metadata": {},
     "output_type": "execute_result"
    }
   ],
   "source": [
    "kdt.plot2d(depth=2)"
   ]
  },
  {
   "cell_type": "code",
   "execution_count": 33,
   "metadata": {},
   "outputs": [
    {
     "data": {
      "text/html": [
       "\n",
       "<div id=\"altair-viz-dc43decc54a34c719e60332cde95d51c\"></div>\n",
       "<script type=\"text/javascript\">\n",
       "  var VEGA_DEBUG = (typeof VEGA_DEBUG == \"undefined\") ? {} : VEGA_DEBUG;\n",
       "  (function(spec, embedOpt){\n",
       "    let outputDiv = document.currentScript.previousElementSibling;\n",
       "    if (outputDiv.id !== \"altair-viz-dc43decc54a34c719e60332cde95d51c\") {\n",
       "      outputDiv = document.getElementById(\"altair-viz-dc43decc54a34c719e60332cde95d51c\");\n",
       "    }\n",
       "    const paths = {\n",
       "      \"vega\": \"https://cdn.jsdelivr.net/npm//vega@5?noext\",\n",
       "      \"vega-lib\": \"https://cdn.jsdelivr.net/npm//vega-lib?noext\",\n",
       "      \"vega-lite\": \"https://cdn.jsdelivr.net/npm//vega-lite@4.17.0?noext\",\n",
       "      \"vega-embed\": \"https://cdn.jsdelivr.net/npm//vega-embed@6?noext\",\n",
       "    };\n",
       "\n",
       "    function maybeLoadScript(lib, version) {\n",
       "      var key = `${lib.replace(\"-\", \"\")}_version`;\n",
       "      return (VEGA_DEBUG[key] == version) ?\n",
       "        Promise.resolve(paths[lib]) :\n",
       "        new Promise(function(resolve, reject) {\n",
       "          var s = document.createElement('script');\n",
       "          document.getElementsByTagName(\"head\")[0].appendChild(s);\n",
       "          s.async = true;\n",
       "          s.onload = () => {\n",
       "            VEGA_DEBUG[key] = version;\n",
       "            return resolve(paths[lib]);\n",
       "          };\n",
       "          s.onerror = () => reject(`Error loading script: ${paths[lib]}`);\n",
       "          s.src = paths[lib];\n",
       "        });\n",
       "    }\n",
       "\n",
       "    function showError(err) {\n",
       "      outputDiv.innerHTML = `<div class=\"error\" style=\"color:red;\">${err}</div>`;\n",
       "      throw err;\n",
       "    }\n",
       "\n",
       "    function displayChart(vegaEmbed) {\n",
       "      vegaEmbed(outputDiv, spec, embedOpt)\n",
       "        .catch(err => showError(`Javascript Error: ${err.message}<br>This usually means there's a typo in your chart specification. See the javascript console for the full traceback.`));\n",
       "    }\n",
       "\n",
       "    if(typeof define === \"function\" && define.amd) {\n",
       "      requirejs.config({paths});\n",
       "      require([\"vega-embed\"], displayChart, err => showError(`Error loading script: ${err.message}`));\n",
       "    } else {\n",
       "      maybeLoadScript(\"vega\", \"5\")\n",
       "        .then(() => maybeLoadScript(\"vega-lite\", \"4.17.0\"))\n",
       "        .then(() => maybeLoadScript(\"vega-embed\", \"6\"))\n",
       "        .catch(showError)\n",
       "        .then(() => displayChart(vegaEmbed));\n",
       "    }\n",
       "  })({\"config\": {\"view\": {\"continuousWidth\": 400, \"continuousHeight\": 300}}, \"layer\": [{\"data\": {\"name\": \"data-27c49ca2d2c0e4fe4f94f1d7c160a361\"}, \"mark\": {\"type\": \"circle\", \"size\": 60}, \"encoding\": {\"x\": {\"axis\": {\"grid\": false}, \"field\": \"x0\", \"type\": \"quantitative\"}, \"y\": {\"axis\": {\"grid\": false}, \"field\": \"x1\", \"type\": \"quantitative\"}}}, {\"data\": {\"name\": \"data-9bc712eec4862e0da7b537a787dfb3ee\"}, \"mark\": \"line\", \"encoding\": {\"x\": {\"axis\": {\"grid\": false}, \"field\": \"x0\", \"type\": \"quantitative\"}, \"y\": {\"axis\": {\"grid\": false}, \"field\": \"x1\", \"type\": \"quantitative\"}}}, {\"layer\": [{\"data\": {\"name\": \"data-7973e3913bac78a2baa4c4ec11621abd\"}, \"mark\": {\"type\": \"circle\", \"size\": 60}, \"encoding\": {\"x\": {\"axis\": {\"grid\": false}, \"field\": \"x0\", \"type\": \"quantitative\"}, \"y\": {\"axis\": {\"grid\": false}, \"field\": \"x1\", \"type\": \"quantitative\"}}}, {\"data\": {\"name\": \"data-e97518c52016479bcce556dfc5709844\"}, \"mark\": \"line\", \"encoding\": {\"x\": {\"axis\": {\"grid\": false}, \"field\": \"x0\", \"type\": \"quantitative\"}, \"y\": {\"axis\": {\"grid\": false}, \"field\": \"x1\", \"type\": \"quantitative\"}}}, {\"layer\": [{\"data\": {\"name\": \"data-657747fab5880c708469930737ea95ef\"}, \"mark\": {\"type\": \"circle\", \"size\": 60}, \"encoding\": {\"x\": {\"axis\": {\"grid\": false}, \"field\": \"x0\", \"type\": \"quantitative\"}, \"y\": {\"axis\": {\"grid\": false}, \"field\": \"x1\", \"type\": \"quantitative\"}}}, {\"data\": {\"name\": \"data-05126c66c4ff0f169733929c9a1f1121\"}, \"mark\": \"line\", \"encoding\": {\"x\": {\"axis\": {\"grid\": false}, \"field\": \"x0\", \"type\": \"quantitative\"}, \"y\": {\"axis\": {\"grid\": false}, \"field\": \"x1\", \"type\": \"quantitative\"}}}], \"encoding\": {}}, {\"layer\": [{\"data\": {\"name\": \"data-a5bfb3ebb114c79d889a25cb59fe8c56\"}, \"mark\": {\"type\": \"circle\", \"size\": 60}, \"encoding\": {\"x\": {\"axis\": {\"grid\": false}, \"field\": \"x0\", \"type\": \"quantitative\"}, \"y\": {\"axis\": {\"grid\": false}, \"field\": \"x1\", \"type\": \"quantitative\"}}}, {\"data\": {\"name\": \"data-27c1ded7b6ba14a375b2a970054cbf74\"}, \"mark\": \"line\", \"encoding\": {\"x\": {\"axis\": {\"grid\": false}, \"field\": \"x0\", \"type\": \"quantitative\"}, \"y\": {\"axis\": {\"grid\": false}, \"field\": \"x1\", \"type\": \"quantitative\"}}}], \"encoding\": {}}], \"encoding\": {}}, {\"layer\": [{\"data\": {\"name\": \"data-dd7c6600cc9575f5eda9bc467c82864d\"}, \"mark\": {\"type\": \"circle\", \"size\": 60}, \"encoding\": {\"x\": {\"axis\": {\"grid\": false}, \"field\": \"x0\", \"type\": \"quantitative\"}, \"y\": {\"axis\": {\"grid\": false}, \"field\": \"x1\", \"type\": \"quantitative\"}}}, {\"data\": {\"name\": \"data-8d3d33f07fb14f5590a66386df1a92e2\"}, \"mark\": \"line\", \"encoding\": {\"x\": {\"axis\": {\"grid\": false}, \"field\": \"x0\", \"type\": \"quantitative\"}, \"y\": {\"axis\": {\"grid\": false}, \"field\": \"x1\", \"type\": \"quantitative\"}}}, {\"layer\": [{\"data\": {\"name\": \"data-a86604c8a75a2a2ce7fe89bf9a1b4dc2\"}, \"mark\": {\"type\": \"circle\", \"size\": 60}, \"encoding\": {\"x\": {\"axis\": {\"grid\": false}, \"field\": \"x0\", \"type\": \"quantitative\"}, \"y\": {\"axis\": {\"grid\": false}, \"field\": \"x1\", \"type\": \"quantitative\"}}}, {\"data\": {\"name\": \"data-1b7adb1dccc7cebdbc14ba303905813a\"}, \"mark\": \"line\", \"encoding\": {\"x\": {\"axis\": {\"grid\": false}, \"field\": \"x0\", \"type\": \"quantitative\"}, \"y\": {\"axis\": {\"grid\": false}, \"field\": \"x1\", \"type\": \"quantitative\"}}}], \"encoding\": {}}, {\"layer\": [{\"data\": {\"name\": \"data-fb99218048d74684c8738b9f89b0a7c6\"}, \"mark\": {\"type\": \"circle\", \"size\": 60}, \"encoding\": {\"x\": {\"axis\": {\"grid\": false}, \"field\": \"x0\", \"type\": \"quantitative\"}, \"y\": {\"axis\": {\"grid\": false}, \"field\": \"x1\", \"type\": \"quantitative\"}}}, {\"data\": {\"name\": \"data-115aab6c315102839f7afa8a96ddcf0a\"}, \"mark\": \"line\", \"encoding\": {\"x\": {\"axis\": {\"grid\": false}, \"field\": \"x0\", \"type\": \"quantitative\"}, \"y\": {\"axis\": {\"grid\": false}, \"field\": \"x1\", \"type\": \"quantitative\"}}}], \"encoding\": {}}], \"encoding\": {}}], \"encoding\": {}, \"$schema\": \"https://vega.github.io/schema/vega-lite/v4.17.0.json\", \"datasets\": {\"data-27c49ca2d2c0e4fe4f94f1d7c160a361\": [{\"x0\": 0.417022004702574, \"x1\": 0.7203244934421581}, {\"x0\": 0.00011437481734488664, \"x1\": 0.30233257263183977}, {\"x0\": 0.14675589081711304, \"x1\": 0.0923385947687978}, {\"x0\": 0.1862602113776709, \"x1\": 0.34556072704304774}, {\"x0\": 0.39676747423066994, \"x1\": 0.538816734003357}, {\"x0\": 0.4191945144032948, \"x1\": 0.6852195003967595}, {\"x0\": 0.20445224973151743, \"x1\": 0.8781174363909454}, {\"x0\": 0.027387593197926163, \"x1\": 0.6704675101784022}, {\"x0\": 0.41730480236712697, \"x1\": 0.5586898284457517}, {\"x0\": 0.14038693859523377, \"x1\": 0.1981014890848788}, {\"x0\": 0.8007445686755367, \"x1\": 0.9682615757193975}, {\"x0\": 0.31342417815924284, \"x1\": 0.6923226156693141}, {\"x0\": 0.8763891522960383, \"x1\": 0.8946066635038473}, {\"x0\": 0.08504421136977791, \"x1\": 0.03905478323288236}, {\"x0\": 0.1698304195645689, \"x1\": 0.8781425034294131}, {\"x0\": 0.0983468338330501, \"x1\": 0.42110762500505217}, {\"x0\": 0.9578895301505019, \"x1\": 0.5331652849730171}, {\"x0\": 0.6918771139504734, \"x1\": 0.31551563100606295}, {\"x0\": 0.6865009276815837, \"x1\": 0.8346256718973729}, {\"x0\": 0.018288277344191806, \"x1\": 0.7501443149449675}], \"data-9bc712eec4862e0da7b537a787dfb3ee\": [{\"x0\": 0.25893821394538014, \"x1\": 0.0}, {\"x0\": 0.25893821394538014, \"x1\": 1.0}], \"data-7973e3913bac78a2baa4c4ec11621abd\": [{\"x0\": 0.00011437481734488664, \"x1\": 0.30233257263183977}, {\"x0\": 0.018288277344191806, \"x1\": 0.7501443149449675}, {\"x0\": 0.027387593197926163, \"x1\": 0.6704675101784022}, {\"x0\": 0.08504421136977791, \"x1\": 0.03905478323288236}, {\"x0\": 0.0983468338330501, \"x1\": 0.42110762500505217}, {\"x0\": 0.14038693859523377, \"x1\": 0.1981014890848788}, {\"x0\": 0.14675589081711304, \"x1\": 0.0923385947687978}, {\"x0\": 0.1698304195645689, \"x1\": 0.8781425034294131}, {\"x0\": 0.1862602113776709, \"x1\": 0.34556072704304774}, {\"x0\": 0.20445224973151743, \"x1\": 0.8781174363909454}], \"data-e97518c52016479bcce556dfc5709844\": [{\"x0\": 0.0, \"x1\": 0.38333417602404996}, {\"x0\": 0.25893821394538014, \"x1\": 0.38333417602404996}], \"data-657747fab5880c708469930737ea95ef\": [{\"x0\": 0.08504421136977791, \"x1\": 0.03905478323288236}, {\"x0\": 0.14675589081711304, \"x1\": 0.0923385947687978}, {\"x0\": 0.14038693859523377, \"x1\": 0.1981014890848788}, {\"x0\": 0.00011437481734488664, \"x1\": 0.30233257263183977}, {\"x0\": 0.1862602113776709, \"x1\": 0.34556072704304774}], \"data-05126c66c4ff0f169733929c9a1f1121\": [{\"x0\": 0.14038693859523377, \"x1\": 0.0}, {\"x0\": 0.14038693859523377, \"x1\": 0.38333417602404996}], \"data-a5bfb3ebb114c79d889a25cb59fe8c56\": [{\"x0\": 0.0983468338330501, \"x1\": 0.42110762500505217}, {\"x0\": 0.027387593197926163, \"x1\": 0.6704675101784022}, {\"x0\": 0.018288277344191806, \"x1\": 0.7501443149449675}, {\"x0\": 0.20445224973151743, \"x1\": 0.8781174363909454}, {\"x0\": 0.1698304195645689, \"x1\": 0.8781425034294131}], \"data-27c1ded7b6ba14a375b2a970054cbf74\": [{\"x0\": 0.0983468338330501, \"x1\": 0.38333417602404996}, {\"x0\": 0.0983468338330501, \"x1\": 1.0}], \"data-dd7c6600cc9575f5eda9bc467c82864d\": [{\"x0\": 0.31342417815924284, \"x1\": 0.6923226156693141}, {\"x0\": 0.39676747423066994, \"x1\": 0.538816734003357}, {\"x0\": 0.417022004702574, \"x1\": 0.7203244934421581}, {\"x0\": 0.41730480236712697, \"x1\": 0.5586898284457517}, {\"x0\": 0.4191945144032948, \"x1\": 0.6852195003967595}, {\"x0\": 0.6865009276815837, \"x1\": 0.8346256718973729}, {\"x0\": 0.6918771139504734, \"x1\": 0.31551563100606295}, {\"x0\": 0.8007445686755367, \"x1\": 0.9682615757193975}, {\"x0\": 0.8763891522960383, \"x1\": 0.8946066635038473}, {\"x0\": 0.9578895301505019, \"x1\": 0.5331652849730171}], \"data-8d3d33f07fb14f5590a66386df1a92e2\": [{\"x0\": 0.25893821394538014, \"x1\": 0.6887710580330368}, {\"x0\": 1.0, \"x1\": 0.6887710580330368}], \"data-a86604c8a75a2a2ce7fe89bf9a1b4dc2\": [{\"x0\": 0.6918771139504734, \"x1\": 0.31551563100606295}, {\"x0\": 0.9578895301505019, \"x1\": 0.5331652849730171}, {\"x0\": 0.39676747423066994, \"x1\": 0.538816734003357}, {\"x0\": 0.41730480236712697, \"x1\": 0.5586898284457517}, {\"x0\": 0.4191945144032948, \"x1\": 0.6852195003967595}], \"data-1b7adb1dccc7cebdbc14ba303905813a\": [{\"x0\": 0.4191945144032948, \"x1\": 0.0}, {\"x0\": 0.4191945144032948, \"x1\": 0.6887710580330368}], \"data-fb99218048d74684c8738b9f89b0a7c6\": [{\"x0\": 0.31342417815924284, \"x1\": 0.6923226156693141}, {\"x0\": 0.417022004702574, \"x1\": 0.7203244934421581}, {\"x0\": 0.6865009276815837, \"x1\": 0.8346256718973729}, {\"x0\": 0.8763891522960383, \"x1\": 0.8946066635038473}, {\"x0\": 0.8007445686755367, \"x1\": 0.9682615757193975}], \"data-115aab6c315102839f7afa8a96ddcf0a\": [{\"x0\": 0.6865009276815837, \"x1\": 0.6887710580330368}, {\"x0\": 0.6865009276815837, \"x1\": 1.0}]}}, {\"mode\": \"vega-lite\"});\n",
       "</script>"
      ],
      "text/plain": [
       "alt.LayerChart(...)"
      ]
     },
     "execution_count": 33,
     "metadata": {},
     "output_type": "execute_result"
    }
   ],
   "source": [
    "kdt.plot2d(depth=3)"
   ]
  },
  {
   "cell_type": "code",
   "execution_count": 34,
   "metadata": {},
   "outputs": [
    {
     "data": {
      "text/html": [
       "\n",
       "<div id=\"altair-viz-3243de61f446429fab629316e87fde8b\"></div>\n",
       "<script type=\"text/javascript\">\n",
       "  var VEGA_DEBUG = (typeof VEGA_DEBUG == \"undefined\") ? {} : VEGA_DEBUG;\n",
       "  (function(spec, embedOpt){\n",
       "    let outputDiv = document.currentScript.previousElementSibling;\n",
       "    if (outputDiv.id !== \"altair-viz-3243de61f446429fab629316e87fde8b\") {\n",
       "      outputDiv = document.getElementById(\"altair-viz-3243de61f446429fab629316e87fde8b\");\n",
       "    }\n",
       "    const paths = {\n",
       "      \"vega\": \"https://cdn.jsdelivr.net/npm//vega@5?noext\",\n",
       "      \"vega-lib\": \"https://cdn.jsdelivr.net/npm//vega-lib?noext\",\n",
       "      \"vega-lite\": \"https://cdn.jsdelivr.net/npm//vega-lite@4.17.0?noext\",\n",
       "      \"vega-embed\": \"https://cdn.jsdelivr.net/npm//vega-embed@6?noext\",\n",
       "    };\n",
       "\n",
       "    function maybeLoadScript(lib, version) {\n",
       "      var key = `${lib.replace(\"-\", \"\")}_version`;\n",
       "      return (VEGA_DEBUG[key] == version) ?\n",
       "        Promise.resolve(paths[lib]) :\n",
       "        new Promise(function(resolve, reject) {\n",
       "          var s = document.createElement('script');\n",
       "          document.getElementsByTagName(\"head\")[0].appendChild(s);\n",
       "          s.async = true;\n",
       "          s.onload = () => {\n",
       "            VEGA_DEBUG[key] = version;\n",
       "            return resolve(paths[lib]);\n",
       "          };\n",
       "          s.onerror = () => reject(`Error loading script: ${paths[lib]}`);\n",
       "          s.src = paths[lib];\n",
       "        });\n",
       "    }\n",
       "\n",
       "    function showError(err) {\n",
       "      outputDiv.innerHTML = `<div class=\"error\" style=\"color:red;\">${err}</div>`;\n",
       "      throw err;\n",
       "    }\n",
       "\n",
       "    function displayChart(vegaEmbed) {\n",
       "      vegaEmbed(outputDiv, spec, embedOpt)\n",
       "        .catch(err => showError(`Javascript Error: ${err.message}<br>This usually means there's a typo in your chart specification. See the javascript console for the full traceback.`));\n",
       "    }\n",
       "\n",
       "    if(typeof define === \"function\" && define.amd) {\n",
       "      requirejs.config({paths});\n",
       "      require([\"vega-embed\"], displayChart, err => showError(`Error loading script: ${err.message}`));\n",
       "    } else {\n",
       "      maybeLoadScript(\"vega\", \"5\")\n",
       "        .then(() => maybeLoadScript(\"vega-lite\", \"4.17.0\"))\n",
       "        .then(() => maybeLoadScript(\"vega-embed\", \"6\"))\n",
       "        .catch(showError)\n",
       "        .then(() => displayChart(vegaEmbed));\n",
       "    }\n",
       "  })({\"config\": {\"view\": {\"continuousWidth\": 400, \"continuousHeight\": 300}}, \"layer\": [{\"data\": {\"name\": \"data-27c49ca2d2c0e4fe4f94f1d7c160a361\"}, \"mark\": {\"type\": \"circle\", \"size\": 60}, \"encoding\": {\"x\": {\"axis\": {\"grid\": false}, \"field\": \"x0\", \"type\": \"quantitative\"}, \"y\": {\"axis\": {\"grid\": false}, \"field\": \"x1\", \"type\": \"quantitative\"}}}, {\"data\": {\"name\": \"data-9bc712eec4862e0da7b537a787dfb3ee\"}, \"mark\": \"line\", \"encoding\": {\"x\": {\"axis\": {\"grid\": false}, \"field\": \"x0\", \"type\": \"quantitative\"}, \"y\": {\"axis\": {\"grid\": false}, \"field\": \"x1\", \"type\": \"quantitative\"}}}, {\"layer\": [{\"data\": {\"name\": \"data-7973e3913bac78a2baa4c4ec11621abd\"}, \"mark\": {\"type\": \"circle\", \"size\": 60}, \"encoding\": {\"x\": {\"axis\": {\"grid\": false}, \"field\": \"x0\", \"type\": \"quantitative\"}, \"y\": {\"axis\": {\"grid\": false}, \"field\": \"x1\", \"type\": \"quantitative\"}}}, {\"data\": {\"name\": \"data-e97518c52016479bcce556dfc5709844\"}, \"mark\": \"line\", \"encoding\": {\"x\": {\"axis\": {\"grid\": false}, \"field\": \"x0\", \"type\": \"quantitative\"}, \"y\": {\"axis\": {\"grid\": false}, \"field\": \"x1\", \"type\": \"quantitative\"}}}, {\"layer\": [{\"data\": {\"name\": \"data-657747fab5880c708469930737ea95ef\"}, \"mark\": {\"type\": \"circle\", \"size\": 60}, \"encoding\": {\"x\": {\"axis\": {\"grid\": false}, \"field\": \"x0\", \"type\": \"quantitative\"}, \"y\": {\"axis\": {\"grid\": false}, \"field\": \"x1\", \"type\": \"quantitative\"}}}, {\"data\": {\"name\": \"data-05126c66c4ff0f169733929c9a1f1121\"}, \"mark\": \"line\", \"encoding\": {\"x\": {\"axis\": {\"grid\": false}, \"field\": \"x0\", \"type\": \"quantitative\"}, \"y\": {\"axis\": {\"grid\": false}, \"field\": \"x1\", \"type\": \"quantitative\"}}}, {\"layer\": [{\"data\": {\"name\": \"data-6b8208f326e6d944cb4cc74e5f514bf5\"}, \"mark\": {\"type\": \"circle\", \"size\": 60}, \"encoding\": {\"x\": {\"axis\": {\"grid\": false}, \"field\": \"x0\", \"type\": \"quantitative\"}, \"y\": {\"axis\": {\"grid\": false}, \"field\": \"x1\", \"type\": \"quantitative\"}}}, {\"data\": {\"name\": \"data-2978f75270fea57a0d7c409ec5258dd1\"}, \"mark\": \"line\", \"encoding\": {\"x\": {\"axis\": {\"grid\": false}, \"field\": \"x0\", \"type\": \"quantitative\"}, \"y\": {\"axis\": {\"grid\": false}, \"field\": \"x1\", \"type\": \"quantitative\"}}}], \"encoding\": {}}, {\"layer\": [{\"data\": {\"name\": \"data-37491875782d34cf27b2db40e9de331f\"}, \"mark\": {\"type\": \"circle\", \"size\": 60}, \"encoding\": {\"x\": {\"axis\": {\"grid\": false}, \"field\": \"x0\", \"type\": \"quantitative\"}, \"y\": {\"axis\": {\"grid\": false}, \"field\": \"x1\", \"type\": \"quantitative\"}}}, {\"data\": {\"name\": \"data-272cfdd71140b1f14cf76a091111326a\"}, \"mark\": \"line\", \"encoding\": {\"x\": {\"axis\": {\"grid\": false}, \"field\": \"x0\", \"type\": \"quantitative\"}, \"y\": {\"axis\": {\"grid\": false}, \"field\": \"x1\", \"type\": \"quantitative\"}}}], \"encoding\": {}}], \"encoding\": {}}, {\"layer\": [{\"data\": {\"name\": \"data-a5bfb3ebb114c79d889a25cb59fe8c56\"}, \"mark\": {\"type\": \"circle\", \"size\": 60}, \"encoding\": {\"x\": {\"axis\": {\"grid\": false}, \"field\": \"x0\", \"type\": \"quantitative\"}, \"y\": {\"axis\": {\"grid\": false}, \"field\": \"x1\", \"type\": \"quantitative\"}}}, {\"data\": {\"name\": \"data-27c1ded7b6ba14a375b2a970054cbf74\"}, \"mark\": \"line\", \"encoding\": {\"x\": {\"axis\": {\"grid\": false}, \"field\": \"x0\", \"type\": \"quantitative\"}, \"y\": {\"axis\": {\"grid\": false}, \"field\": \"x1\", \"type\": \"quantitative\"}}}, {\"layer\": [{\"data\": {\"name\": \"data-77b7cd5628178a8b9abe841181f4d4b3\"}, \"mark\": {\"type\": \"circle\", \"size\": 60}, \"encoding\": {\"x\": {\"axis\": {\"grid\": false}, \"field\": \"x0\", \"type\": \"quantitative\"}, \"y\": {\"axis\": {\"grid\": false}, \"field\": \"x1\", \"type\": \"quantitative\"}}}, {\"data\": {\"name\": \"data-fbe160e667b26ef5e7db63c19939b7bd\"}, \"mark\": \"line\", \"encoding\": {\"x\": {\"axis\": {\"grid\": false}, \"field\": \"x0\", \"type\": \"quantitative\"}, \"y\": {\"axis\": {\"grid\": false}, \"field\": \"x1\", \"type\": \"quantitative\"}}}], \"encoding\": {}}, {\"layer\": [{\"data\": {\"name\": \"data-3521b7894724bfe0a27c0f3d4c5996fb\"}, \"mark\": {\"type\": \"circle\", \"size\": 60}, \"encoding\": {\"x\": {\"axis\": {\"grid\": false}, \"field\": \"x0\", \"type\": \"quantitative\"}, \"y\": {\"axis\": {\"grid\": false}, \"field\": \"x1\", \"type\": \"quantitative\"}}}, {\"data\": {\"name\": \"data-6c14a308836a7be6db6e93f732cfb20e\"}, \"mark\": \"line\", \"encoding\": {\"x\": {\"axis\": {\"grid\": false}, \"field\": \"x0\", \"type\": \"quantitative\"}, \"y\": {\"axis\": {\"grid\": false}, \"field\": \"x1\", \"type\": \"quantitative\"}}}], \"encoding\": {}}], \"encoding\": {}}], \"encoding\": {}}, {\"layer\": [{\"data\": {\"name\": \"data-dd7c6600cc9575f5eda9bc467c82864d\"}, \"mark\": {\"type\": \"circle\", \"size\": 60}, \"encoding\": {\"x\": {\"axis\": {\"grid\": false}, \"field\": \"x0\", \"type\": \"quantitative\"}, \"y\": {\"axis\": {\"grid\": false}, \"field\": \"x1\", \"type\": \"quantitative\"}}}, {\"data\": {\"name\": \"data-8d3d33f07fb14f5590a66386df1a92e2\"}, \"mark\": \"line\", \"encoding\": {\"x\": {\"axis\": {\"grid\": false}, \"field\": \"x0\", \"type\": \"quantitative\"}, \"y\": {\"axis\": {\"grid\": false}, \"field\": \"x1\", \"type\": \"quantitative\"}}}, {\"layer\": [{\"data\": {\"name\": \"data-a86604c8a75a2a2ce7fe89bf9a1b4dc2\"}, \"mark\": {\"type\": \"circle\", \"size\": 60}, \"encoding\": {\"x\": {\"axis\": {\"grid\": false}, \"field\": \"x0\", \"type\": \"quantitative\"}, \"y\": {\"axis\": {\"grid\": false}, \"field\": \"x1\", \"type\": \"quantitative\"}}}, {\"data\": {\"name\": \"data-1b7adb1dccc7cebdbc14ba303905813a\"}, \"mark\": \"line\", \"encoding\": {\"x\": {\"axis\": {\"grid\": false}, \"field\": \"x0\", \"type\": \"quantitative\"}, \"y\": {\"axis\": {\"grid\": false}, \"field\": \"x1\", \"type\": \"quantitative\"}}}, {\"layer\": [{\"data\": {\"name\": \"data-f6d6a57b9dbe9d83aa23a54c12a86580\"}, \"mark\": {\"type\": \"circle\", \"size\": 60}, \"encoding\": {\"x\": {\"axis\": {\"grid\": false}, \"field\": \"x0\", \"type\": \"quantitative\"}, \"y\": {\"axis\": {\"grid\": false}, \"field\": \"x1\", \"type\": \"quantitative\"}}}, {\"data\": {\"name\": \"data-35a861d08b68bdd3a757d9c51f87cd66\"}, \"mark\": \"line\", \"encoding\": {\"x\": {\"axis\": {\"grid\": false}, \"field\": \"x0\", \"type\": \"quantitative\"}, \"y\": {\"axis\": {\"grid\": false}, \"field\": \"x1\", \"type\": \"quantitative\"}}}], \"encoding\": {}}, {\"layer\": [{\"data\": {\"name\": \"data-b7e3c74d0c3d5dedc8a8b6cf9fe980d2\"}, \"mark\": {\"type\": \"circle\", \"size\": 60}, \"encoding\": {\"x\": {\"axis\": {\"grid\": false}, \"field\": \"x0\", \"type\": \"quantitative\"}, \"y\": {\"axis\": {\"grid\": false}, \"field\": \"x1\", \"type\": \"quantitative\"}}}, {\"data\": {\"name\": \"data-673f77417a2199ec3b94475ae364545e\"}, \"mark\": \"line\", \"encoding\": {\"x\": {\"axis\": {\"grid\": false}, \"field\": \"x0\", \"type\": \"quantitative\"}, \"y\": {\"axis\": {\"grid\": false}, \"field\": \"x1\", \"type\": \"quantitative\"}}}], \"encoding\": {}}], \"encoding\": {}}, {\"layer\": [{\"data\": {\"name\": \"data-fb99218048d74684c8738b9f89b0a7c6\"}, \"mark\": {\"type\": \"circle\", \"size\": 60}, \"encoding\": {\"x\": {\"axis\": {\"grid\": false}, \"field\": \"x0\", \"type\": \"quantitative\"}, \"y\": {\"axis\": {\"grid\": false}, \"field\": \"x1\", \"type\": \"quantitative\"}}}, {\"data\": {\"name\": \"data-115aab6c315102839f7afa8a96ddcf0a\"}, \"mark\": \"line\", \"encoding\": {\"x\": {\"axis\": {\"grid\": false}, \"field\": \"x0\", \"type\": \"quantitative\"}, \"y\": {\"axis\": {\"grid\": false}, \"field\": \"x1\", \"type\": \"quantitative\"}}}, {\"layer\": [{\"data\": {\"name\": \"data-17c8966e93f384d27cce5fdd45404893\"}, \"mark\": {\"type\": \"circle\", \"size\": 60}, \"encoding\": {\"x\": {\"axis\": {\"grid\": false}, \"field\": \"x0\", \"type\": \"quantitative\"}, \"y\": {\"axis\": {\"grid\": false}, \"field\": \"x1\", \"type\": \"quantitative\"}}}, {\"data\": {\"name\": \"data-dce5973907b059c02e1b5d21eb984509\"}, \"mark\": \"line\", \"encoding\": {\"x\": {\"axis\": {\"grid\": false}, \"field\": \"x0\", \"type\": \"quantitative\"}, \"y\": {\"axis\": {\"grid\": false}, \"field\": \"x1\", \"type\": \"quantitative\"}}}], \"encoding\": {}}, {\"layer\": [{\"data\": {\"name\": \"data-9e7d634cc980b362c98bcff5248a1192\"}, \"mark\": {\"type\": \"circle\", \"size\": 60}, \"encoding\": {\"x\": {\"axis\": {\"grid\": false}, \"field\": \"x0\", \"type\": \"quantitative\"}, \"y\": {\"axis\": {\"grid\": false}, \"field\": \"x1\", \"type\": \"quantitative\"}}}, {\"data\": {\"name\": \"data-1781e5fe6884bdb5eb306e4f06d51867\"}, \"mark\": \"line\", \"encoding\": {\"x\": {\"axis\": {\"grid\": false}, \"field\": \"x0\", \"type\": \"quantitative\"}, \"y\": {\"axis\": {\"grid\": false}, \"field\": \"x1\", \"type\": \"quantitative\"}}}], \"encoding\": {}}], \"encoding\": {}}], \"encoding\": {}}], \"encoding\": {}, \"$schema\": \"https://vega.github.io/schema/vega-lite/v4.17.0.json\", \"datasets\": {\"data-27c49ca2d2c0e4fe4f94f1d7c160a361\": [{\"x0\": 0.417022004702574, \"x1\": 0.7203244934421581}, {\"x0\": 0.00011437481734488664, \"x1\": 0.30233257263183977}, {\"x0\": 0.14675589081711304, \"x1\": 0.0923385947687978}, {\"x0\": 0.1862602113776709, \"x1\": 0.34556072704304774}, {\"x0\": 0.39676747423066994, \"x1\": 0.538816734003357}, {\"x0\": 0.4191945144032948, \"x1\": 0.6852195003967595}, {\"x0\": 0.20445224973151743, \"x1\": 0.8781174363909454}, {\"x0\": 0.027387593197926163, \"x1\": 0.6704675101784022}, {\"x0\": 0.41730480236712697, \"x1\": 0.5586898284457517}, {\"x0\": 0.14038693859523377, \"x1\": 0.1981014890848788}, {\"x0\": 0.8007445686755367, \"x1\": 0.9682615757193975}, {\"x0\": 0.31342417815924284, \"x1\": 0.6923226156693141}, {\"x0\": 0.8763891522960383, \"x1\": 0.8946066635038473}, {\"x0\": 0.08504421136977791, \"x1\": 0.03905478323288236}, {\"x0\": 0.1698304195645689, \"x1\": 0.8781425034294131}, {\"x0\": 0.0983468338330501, \"x1\": 0.42110762500505217}, {\"x0\": 0.9578895301505019, \"x1\": 0.5331652849730171}, {\"x0\": 0.6918771139504734, \"x1\": 0.31551563100606295}, {\"x0\": 0.6865009276815837, \"x1\": 0.8346256718973729}, {\"x0\": 0.018288277344191806, \"x1\": 0.7501443149449675}], \"data-9bc712eec4862e0da7b537a787dfb3ee\": [{\"x0\": 0.25893821394538014, \"x1\": 0.0}, {\"x0\": 0.25893821394538014, \"x1\": 1.0}], \"data-7973e3913bac78a2baa4c4ec11621abd\": [{\"x0\": 0.00011437481734488664, \"x1\": 0.30233257263183977}, {\"x0\": 0.018288277344191806, \"x1\": 0.7501443149449675}, {\"x0\": 0.027387593197926163, \"x1\": 0.6704675101784022}, {\"x0\": 0.08504421136977791, \"x1\": 0.03905478323288236}, {\"x0\": 0.0983468338330501, \"x1\": 0.42110762500505217}, {\"x0\": 0.14038693859523377, \"x1\": 0.1981014890848788}, {\"x0\": 0.14675589081711304, \"x1\": 0.0923385947687978}, {\"x0\": 0.1698304195645689, \"x1\": 0.8781425034294131}, {\"x0\": 0.1862602113776709, \"x1\": 0.34556072704304774}, {\"x0\": 0.20445224973151743, \"x1\": 0.8781174363909454}], \"data-e97518c52016479bcce556dfc5709844\": [{\"x0\": 0.0, \"x1\": 0.38333417602404996}, {\"x0\": 0.25893821394538014, \"x1\": 0.38333417602404996}], \"data-657747fab5880c708469930737ea95ef\": [{\"x0\": 0.08504421136977791, \"x1\": 0.03905478323288236}, {\"x0\": 0.14675589081711304, \"x1\": 0.0923385947687978}, {\"x0\": 0.14038693859523377, \"x1\": 0.1981014890848788}, {\"x0\": 0.00011437481734488664, \"x1\": 0.30233257263183977}, {\"x0\": 0.1862602113776709, \"x1\": 0.34556072704304774}], \"data-05126c66c4ff0f169733929c9a1f1121\": [{\"x0\": 0.14038693859523377, \"x1\": 0.0}, {\"x0\": 0.14038693859523377, \"x1\": 0.38333417602404996}], \"data-6b8208f326e6d944cb4cc74e5f514bf5\": [{\"x0\": 0.00011437481734488664, \"x1\": 0.30233257263183977}, {\"x0\": 0.08504421136977791, \"x1\": 0.03905478323288236}], \"data-2978f75270fea57a0d7c409ec5258dd1\": [{\"x0\": 0.0, \"x1\": 0.17069367793236107}, {\"x0\": 0.14038693859523377, \"x1\": 0.17069367793236107}], \"data-37491875782d34cf27b2db40e9de331f\": [{\"x0\": 0.14038693859523377, \"x1\": 0.1981014890848788}, {\"x0\": 0.14675589081711304, \"x1\": 0.0923385947687978}, {\"x0\": 0.1862602113776709, \"x1\": 0.34556072704304774}], \"data-272cfdd71140b1f14cf76a091111326a\": [{\"x0\": 0.14038693859523377, \"x1\": 0.1981014890848788}, {\"x0\": 0.25893821394538014, \"x1\": 0.1981014890848788}], \"data-a5bfb3ebb114c79d889a25cb59fe8c56\": [{\"x0\": 0.0983468338330501, \"x1\": 0.42110762500505217}, {\"x0\": 0.027387593197926163, \"x1\": 0.6704675101784022}, {\"x0\": 0.018288277344191806, \"x1\": 0.7501443149449675}, {\"x0\": 0.20445224973151743, \"x1\": 0.8781174363909454}, {\"x0\": 0.1698304195645689, \"x1\": 0.8781425034294131}], \"data-27c1ded7b6ba14a375b2a970054cbf74\": [{\"x0\": 0.0983468338330501, \"x1\": 0.38333417602404996}, {\"x0\": 0.0983468338330501, \"x1\": 1.0}], \"data-77b7cd5628178a8b9abe841181f4d4b3\": [{\"x0\": 0.018288277344191806, \"x1\": 0.7501443149449675}, {\"x0\": 0.027387593197926163, \"x1\": 0.6704675101784022}], \"data-fbe160e667b26ef5e7db63c19939b7bd\": [{\"x0\": 0.0, \"x1\": 0.7103059125616848}, {\"x0\": 0.0983468338330501, \"x1\": 0.7103059125616848}], \"data-3521b7894724bfe0a27c0f3d4c5996fb\": [{\"x0\": 0.0983468338330501, \"x1\": 0.42110762500505217}, {\"x0\": 0.1698304195645689, \"x1\": 0.8781425034294131}, {\"x0\": 0.20445224973151743, \"x1\": 0.8781174363909454}], \"data-6c14a308836a7be6db6e93f732cfb20e\": [{\"x0\": 0.0983468338330501, \"x1\": 0.8781174363909454}, {\"x0\": 0.25893821394538014, \"x1\": 0.8781174363909454}], \"data-dd7c6600cc9575f5eda9bc467c82864d\": [{\"x0\": 0.31342417815924284, \"x1\": 0.6923226156693141}, {\"x0\": 0.39676747423066994, \"x1\": 0.538816734003357}, {\"x0\": 0.417022004702574, \"x1\": 0.7203244934421581}, {\"x0\": 0.41730480236712697, \"x1\": 0.5586898284457517}, {\"x0\": 0.4191945144032948, \"x1\": 0.6852195003967595}, {\"x0\": 0.6865009276815837, \"x1\": 0.8346256718973729}, {\"x0\": 0.6918771139504734, \"x1\": 0.31551563100606295}, {\"x0\": 0.8007445686755367, \"x1\": 0.9682615757193975}, {\"x0\": 0.8763891522960383, \"x1\": 0.8946066635038473}, {\"x0\": 0.9578895301505019, \"x1\": 0.5331652849730171}], \"data-8d3d33f07fb14f5590a66386df1a92e2\": [{\"x0\": 0.25893821394538014, \"x1\": 0.6887710580330368}, {\"x0\": 1.0, \"x1\": 0.6887710580330368}], \"data-a86604c8a75a2a2ce7fe89bf9a1b4dc2\": [{\"x0\": 0.6918771139504734, \"x1\": 0.31551563100606295}, {\"x0\": 0.9578895301505019, \"x1\": 0.5331652849730171}, {\"x0\": 0.39676747423066994, \"x1\": 0.538816734003357}, {\"x0\": 0.41730480236712697, \"x1\": 0.5586898284457517}, {\"x0\": 0.4191945144032948, \"x1\": 0.6852195003967595}], \"data-1b7adb1dccc7cebdbc14ba303905813a\": [{\"x0\": 0.4191945144032948, \"x1\": 0.0}, {\"x0\": 0.4191945144032948, \"x1\": 0.6887710580330368}], \"data-f6d6a57b9dbe9d83aa23a54c12a86580\": [{\"x0\": 0.39676747423066994, \"x1\": 0.538816734003357}, {\"x0\": 0.41730480236712697, \"x1\": 0.5586898284457517}], \"data-35a861d08b68bdd3a757d9c51f87cd66\": [{\"x0\": 0.25893821394538014, \"x1\": 0.5487532812245544}, {\"x0\": 0.4191945144032948, \"x1\": 0.5487532812245544}], \"data-b7e3c74d0c3d5dedc8a8b6cf9fe980d2\": [{\"x0\": 0.4191945144032948, \"x1\": 0.6852195003967595}, {\"x0\": 0.6918771139504734, \"x1\": 0.31551563100606295}, {\"x0\": 0.9578895301505019, \"x1\": 0.5331652849730171}], \"data-673f77417a2199ec3b94475ae364545e\": [{\"x0\": 0.4191945144032948, \"x1\": 0.5331652849730171}, {\"x0\": 1.0, \"x1\": 0.5331652849730171}], \"data-fb99218048d74684c8738b9f89b0a7c6\": [{\"x0\": 0.31342417815924284, \"x1\": 0.6923226156693141}, {\"x0\": 0.417022004702574, \"x1\": 0.7203244934421581}, {\"x0\": 0.6865009276815837, \"x1\": 0.8346256718973729}, {\"x0\": 0.8763891522960383, \"x1\": 0.8946066635038473}, {\"x0\": 0.8007445686755367, \"x1\": 0.9682615757193975}], \"data-115aab6c315102839f7afa8a96ddcf0a\": [{\"x0\": 0.6865009276815837, \"x1\": 0.6887710580330368}, {\"x0\": 0.6865009276815837, \"x1\": 1.0}], \"data-17c8966e93f384d27cce5fdd45404893\": [{\"x0\": 0.31342417815924284, \"x1\": 0.6923226156693141}, {\"x0\": 0.417022004702574, \"x1\": 0.7203244934421581}], \"data-dce5973907b059c02e1b5d21eb984509\": [{\"x0\": 0.25893821394538014, \"x1\": 0.706323554555736}, {\"x0\": 0.6865009276815837, \"x1\": 0.706323554555736}], \"data-9e7d634cc980b362c98bcff5248a1192\": [{\"x0\": 0.6865009276815837, \"x1\": 0.8346256718973729}, {\"x0\": 0.8007445686755367, \"x1\": 0.9682615757193975}, {\"x0\": 0.8763891522960383, \"x1\": 0.8946066635038473}], \"data-1781e5fe6884bdb5eb306e4f06d51867\": [{\"x0\": 0.6865009276815837, \"x1\": 0.8946066635038473}, {\"x0\": 1.0, \"x1\": 0.8946066635038473}]}}, {\"mode\": \"vega-lite\"});\n",
       "</script>"
      ],
      "text/plain": [
       "alt.LayerChart(...)"
      ]
     },
     "execution_count": 34,
     "metadata": {},
     "output_type": "execute_result"
    }
   ],
   "source": [
    "kdt.plot2d(depth=4)"
   ]
  },
  {
   "cell_type": "code",
   "execution_count": 35,
   "metadata": {},
   "outputs": [
    {
     "data": {
      "text/html": [
       "\n",
       "<div id=\"altair-viz-f31eb9e56b59460bb42d4667489280ab\"></div>\n",
       "<script type=\"text/javascript\">\n",
       "  var VEGA_DEBUG = (typeof VEGA_DEBUG == \"undefined\") ? {} : VEGA_DEBUG;\n",
       "  (function(spec, embedOpt){\n",
       "    let outputDiv = document.currentScript.previousElementSibling;\n",
       "    if (outputDiv.id !== \"altair-viz-f31eb9e56b59460bb42d4667489280ab\") {\n",
       "      outputDiv = document.getElementById(\"altair-viz-f31eb9e56b59460bb42d4667489280ab\");\n",
       "    }\n",
       "    const paths = {\n",
       "      \"vega\": \"https://cdn.jsdelivr.net/npm//vega@5?noext\",\n",
       "      \"vega-lib\": \"https://cdn.jsdelivr.net/npm//vega-lib?noext\",\n",
       "      \"vega-lite\": \"https://cdn.jsdelivr.net/npm//vega-lite@4.17.0?noext\",\n",
       "      \"vega-embed\": \"https://cdn.jsdelivr.net/npm//vega-embed@6?noext\",\n",
       "    };\n",
       "\n",
       "    function maybeLoadScript(lib, version) {\n",
       "      var key = `${lib.replace(\"-\", \"\")}_version`;\n",
       "      return (VEGA_DEBUG[key] == version) ?\n",
       "        Promise.resolve(paths[lib]) :\n",
       "        new Promise(function(resolve, reject) {\n",
       "          var s = document.createElement('script');\n",
       "          document.getElementsByTagName(\"head\")[0].appendChild(s);\n",
       "          s.async = true;\n",
       "          s.onload = () => {\n",
       "            VEGA_DEBUG[key] = version;\n",
       "            return resolve(paths[lib]);\n",
       "          };\n",
       "          s.onerror = () => reject(`Error loading script: ${paths[lib]}`);\n",
       "          s.src = paths[lib];\n",
       "        });\n",
       "    }\n",
       "\n",
       "    function showError(err) {\n",
       "      outputDiv.innerHTML = `<div class=\"error\" style=\"color:red;\">${err}</div>`;\n",
       "      throw err;\n",
       "    }\n",
       "\n",
       "    function displayChart(vegaEmbed) {\n",
       "      vegaEmbed(outputDiv, spec, embedOpt)\n",
       "        .catch(err => showError(`Javascript Error: ${err.message}<br>This usually means there's a typo in your chart specification. See the javascript console for the full traceback.`));\n",
       "    }\n",
       "\n",
       "    if(typeof define === \"function\" && define.amd) {\n",
       "      requirejs.config({paths});\n",
       "      require([\"vega-embed\"], displayChart, err => showError(`Error loading script: ${err.message}`));\n",
       "    } else {\n",
       "      maybeLoadScript(\"vega\", \"5\")\n",
       "        .then(() => maybeLoadScript(\"vega-lite\", \"4.17.0\"))\n",
       "        .then(() => maybeLoadScript(\"vega-embed\", \"6\"))\n",
       "        .catch(showError)\n",
       "        .then(() => displayChart(vegaEmbed));\n",
       "    }\n",
       "  })({\"config\": {\"view\": {\"continuousWidth\": 400, \"continuousHeight\": 300}}, \"layer\": [{\"data\": {\"name\": \"data-27c49ca2d2c0e4fe4f94f1d7c160a361\"}, \"mark\": {\"type\": \"circle\", \"size\": 60}, \"encoding\": {\"x\": {\"axis\": {\"grid\": false}, \"field\": \"x0\", \"type\": \"quantitative\"}, \"y\": {\"axis\": {\"grid\": false}, \"field\": \"x1\", \"type\": \"quantitative\"}}}, {\"data\": {\"name\": \"data-9bc712eec4862e0da7b537a787dfb3ee\"}, \"mark\": \"line\", \"encoding\": {\"x\": {\"axis\": {\"grid\": false}, \"field\": \"x0\", \"type\": \"quantitative\"}, \"y\": {\"axis\": {\"grid\": false}, \"field\": \"x1\", \"type\": \"quantitative\"}}}, {\"layer\": [{\"data\": {\"name\": \"data-7973e3913bac78a2baa4c4ec11621abd\"}, \"mark\": {\"type\": \"circle\", \"size\": 60}, \"encoding\": {\"x\": {\"axis\": {\"grid\": false}, \"field\": \"x0\", \"type\": \"quantitative\"}, \"y\": {\"axis\": {\"grid\": false}, \"field\": \"x1\", \"type\": \"quantitative\"}}}, {\"data\": {\"name\": \"data-e97518c52016479bcce556dfc5709844\"}, \"mark\": \"line\", \"encoding\": {\"x\": {\"axis\": {\"grid\": false}, \"field\": \"x0\", \"type\": \"quantitative\"}, \"y\": {\"axis\": {\"grid\": false}, \"field\": \"x1\", \"type\": \"quantitative\"}}}, {\"layer\": [{\"data\": {\"name\": \"data-657747fab5880c708469930737ea95ef\"}, \"mark\": {\"type\": \"circle\", \"size\": 60}, \"encoding\": {\"x\": {\"axis\": {\"grid\": false}, \"field\": \"x0\", \"type\": \"quantitative\"}, \"y\": {\"axis\": {\"grid\": false}, \"field\": \"x1\", \"type\": \"quantitative\"}}}, {\"data\": {\"name\": \"data-05126c66c4ff0f169733929c9a1f1121\"}, \"mark\": \"line\", \"encoding\": {\"x\": {\"axis\": {\"grid\": false}, \"field\": \"x0\", \"type\": \"quantitative\"}, \"y\": {\"axis\": {\"grid\": false}, \"field\": \"x1\", \"type\": \"quantitative\"}}}, {\"layer\": [{\"data\": {\"name\": \"data-6b8208f326e6d944cb4cc74e5f514bf5\"}, \"mark\": {\"type\": \"circle\", \"size\": 60}, \"encoding\": {\"x\": {\"axis\": {\"grid\": false}, \"field\": \"x0\", \"type\": \"quantitative\"}, \"y\": {\"axis\": {\"grid\": false}, \"field\": \"x1\", \"type\": \"quantitative\"}}}, {\"data\": {\"name\": \"data-2978f75270fea57a0d7c409ec5258dd1\"}, \"mark\": \"line\", \"encoding\": {\"x\": {\"axis\": {\"grid\": false}, \"field\": \"x0\", \"type\": \"quantitative\"}, \"y\": {\"axis\": {\"grid\": false}, \"field\": \"x1\", \"type\": \"quantitative\"}}}, {\"layer\": [{\"data\": {\"name\": \"data-03e125d35e5be573ece06c807ca2a7b4\"}, \"mark\": {\"type\": \"circle\", \"size\": 60}, \"encoding\": {\"x\": {\"axis\": {\"grid\": false}, \"field\": \"x0\", \"type\": \"quantitative\"}, \"y\": {\"axis\": {\"grid\": false}, \"field\": \"x1\", \"type\": \"quantitative\"}}}, {\"data\": {\"name\": \"data-69ecfa8dd2be3a07621be85a8e886a0f\"}, \"mark\": \"line\", \"encoding\": {\"x\": {\"axis\": {\"grid\": false}, \"field\": \"x0\", \"type\": \"quantitative\"}, \"y\": {\"axis\": {\"grid\": false}, \"field\": \"x1\", \"type\": \"quantitative\"}}}], \"encoding\": {}}, {\"layer\": [{\"data\": {\"name\": \"data-322b8b176f219d4ba47b132335a0fe3d\"}, \"mark\": {\"type\": \"circle\", \"size\": 60}, \"encoding\": {\"x\": {\"axis\": {\"grid\": false}, \"field\": \"x0\", \"type\": \"quantitative\"}, \"y\": {\"axis\": {\"grid\": false}, \"field\": \"x1\", \"type\": \"quantitative\"}}}, {\"data\": {\"name\": \"data-e98355266a71f3e6704d92bfb50c9109\"}, \"mark\": \"line\", \"encoding\": {\"x\": {\"axis\": {\"grid\": false}, \"field\": \"x0\", \"type\": \"quantitative\"}, \"y\": {\"axis\": {\"grid\": false}, \"field\": \"x1\", \"type\": \"quantitative\"}}}], \"encoding\": {}}], \"encoding\": {}}, {\"layer\": [{\"data\": {\"name\": \"data-37491875782d34cf27b2db40e9de331f\"}, \"mark\": {\"type\": \"circle\", \"size\": 60}, \"encoding\": {\"x\": {\"axis\": {\"grid\": false}, \"field\": \"x0\", \"type\": \"quantitative\"}, \"y\": {\"axis\": {\"grid\": false}, \"field\": \"x1\", \"type\": \"quantitative\"}}}, {\"data\": {\"name\": \"data-272cfdd71140b1f14cf76a091111326a\"}, \"mark\": \"line\", \"encoding\": {\"x\": {\"axis\": {\"grid\": false}, \"field\": \"x0\", \"type\": \"quantitative\"}, \"y\": {\"axis\": {\"grid\": false}, \"field\": \"x1\", \"type\": \"quantitative\"}}}, {\"layer\": [{\"data\": {\"name\": \"data-391d93bbf5f172546c6f6dfe04ab8f9f\"}, \"mark\": {\"type\": \"circle\", \"size\": 60}, \"encoding\": {\"x\": {\"axis\": {\"grid\": false}, \"field\": \"x0\", \"type\": \"quantitative\"}, \"y\": {\"axis\": {\"grid\": false}, \"field\": \"x1\", \"type\": \"quantitative\"}}}, {\"data\": {\"name\": \"data-50c7a10c9da802f911a4732cc0b1d32d\"}, \"mark\": \"line\", \"encoding\": {\"x\": {\"axis\": {\"grid\": false}, \"field\": \"x0\", \"type\": \"quantitative\"}, \"y\": {\"axis\": {\"grid\": false}, \"field\": \"x1\", \"type\": \"quantitative\"}}}], \"encoding\": {}}, {\"layer\": [{\"data\": {\"name\": \"data-a4b4189cc6142edad10a2ee278f59f2e\"}, \"mark\": {\"type\": \"circle\", \"size\": 60}, \"encoding\": {\"x\": {\"axis\": {\"grid\": false}, \"field\": \"x0\", \"type\": \"quantitative\"}, \"y\": {\"axis\": {\"grid\": false}, \"field\": \"x1\", \"type\": \"quantitative\"}}}, {\"data\": {\"name\": \"data-e9959138dcf076b2aff2b14a732e2bc5\"}, \"mark\": \"line\", \"encoding\": {\"x\": {\"axis\": {\"grid\": false}, \"field\": \"x0\", \"type\": \"quantitative\"}, \"y\": {\"axis\": {\"grid\": false}, \"field\": \"x1\", \"type\": \"quantitative\"}}}, {\"layer\": [{\"data\": {\"name\": \"data-de3270efd3c1298a8783de7603e79ac7\"}, \"mark\": {\"type\": \"circle\", \"size\": 60}, \"encoding\": {\"x\": {\"axis\": {\"grid\": false}, \"field\": \"x0\", \"type\": \"quantitative\"}, \"y\": {\"axis\": {\"grid\": false}, \"field\": \"x1\", \"type\": \"quantitative\"}}}, {\"data\": {\"name\": \"data-9e813ff60b0e2165894ea790b5451d58\"}, \"mark\": \"line\", \"encoding\": {\"x\": {\"axis\": {\"grid\": false}, \"field\": \"x0\", \"type\": \"quantitative\"}, \"y\": {\"axis\": {\"grid\": false}, \"field\": \"x1\", \"type\": \"quantitative\"}}}], \"encoding\": {}}, {\"layer\": [{\"data\": {\"name\": \"data-0d64c17c51be70f62db6e756b7989b59\"}, \"mark\": {\"type\": \"circle\", \"size\": 60}, \"encoding\": {\"x\": {\"axis\": {\"grid\": false}, \"field\": \"x0\", \"type\": \"quantitative\"}, \"y\": {\"axis\": {\"grid\": false}, \"field\": \"x1\", \"type\": \"quantitative\"}}}, {\"data\": {\"name\": \"data-19d2099a2e93c2928b4bb07cf2cfcccf\"}, \"mark\": \"line\", \"encoding\": {\"x\": {\"axis\": {\"grid\": false}, \"field\": \"x0\", \"type\": \"quantitative\"}, \"y\": {\"axis\": {\"grid\": false}, \"field\": \"x1\", \"type\": \"quantitative\"}}}], \"encoding\": {}}], \"encoding\": {}}], \"encoding\": {}}], \"encoding\": {}}, {\"layer\": [{\"data\": {\"name\": \"data-a5bfb3ebb114c79d889a25cb59fe8c56\"}, \"mark\": {\"type\": \"circle\", \"size\": 60}, \"encoding\": {\"x\": {\"axis\": {\"grid\": false}, \"field\": \"x0\", \"type\": \"quantitative\"}, \"y\": {\"axis\": {\"grid\": false}, \"field\": \"x1\", \"type\": \"quantitative\"}}}, {\"data\": {\"name\": \"data-27c1ded7b6ba14a375b2a970054cbf74\"}, \"mark\": \"line\", \"encoding\": {\"x\": {\"axis\": {\"grid\": false}, \"field\": \"x0\", \"type\": \"quantitative\"}, \"y\": {\"axis\": {\"grid\": false}, \"field\": \"x1\", \"type\": \"quantitative\"}}}, {\"layer\": [{\"data\": {\"name\": \"data-77b7cd5628178a8b9abe841181f4d4b3\"}, \"mark\": {\"type\": \"circle\", \"size\": 60}, \"encoding\": {\"x\": {\"axis\": {\"grid\": false}, \"field\": \"x0\", \"type\": \"quantitative\"}, \"y\": {\"axis\": {\"grid\": false}, \"field\": \"x1\", \"type\": \"quantitative\"}}}, {\"data\": {\"name\": \"data-fbe160e667b26ef5e7db63c19939b7bd\"}, \"mark\": \"line\", \"encoding\": {\"x\": {\"axis\": {\"grid\": false}, \"field\": \"x0\", \"type\": \"quantitative\"}, \"y\": {\"axis\": {\"grid\": false}, \"field\": \"x1\", \"type\": \"quantitative\"}}}, {\"layer\": [{\"data\": {\"name\": \"data-69dec39d147bd16689dd551b94ff838a\"}, \"mark\": {\"type\": \"circle\", \"size\": 60}, \"encoding\": {\"x\": {\"axis\": {\"grid\": false}, \"field\": \"x0\", \"type\": \"quantitative\"}, \"y\": {\"axis\": {\"grid\": false}, \"field\": \"x1\", \"type\": \"quantitative\"}}}, {\"data\": {\"name\": \"data-1a996f2865c4c9c20465800b0e30c721\"}, \"mark\": \"line\", \"encoding\": {\"x\": {\"axis\": {\"grid\": false}, \"field\": \"x0\", \"type\": \"quantitative\"}, \"y\": {\"axis\": {\"grid\": false}, \"field\": \"x1\", \"type\": \"quantitative\"}}}], \"encoding\": {}}, {\"layer\": [{\"data\": {\"name\": \"data-2fc53f74066f757f3e6b1ea5b4836033\"}, \"mark\": {\"type\": \"circle\", \"size\": 60}, \"encoding\": {\"x\": {\"axis\": {\"grid\": false}, \"field\": \"x0\", \"type\": \"quantitative\"}, \"y\": {\"axis\": {\"grid\": false}, \"field\": \"x1\", \"type\": \"quantitative\"}}}, {\"data\": {\"name\": \"data-7701acf289018ab82c5fa5c134d2e7e7\"}, \"mark\": \"line\", \"encoding\": {\"x\": {\"axis\": {\"grid\": false}, \"field\": \"x0\", \"type\": \"quantitative\"}, \"y\": {\"axis\": {\"grid\": false}, \"field\": \"x1\", \"type\": \"quantitative\"}}}], \"encoding\": {}}], \"encoding\": {}}, {\"layer\": [{\"data\": {\"name\": \"data-3521b7894724bfe0a27c0f3d4c5996fb\"}, \"mark\": {\"type\": \"circle\", \"size\": 60}, \"encoding\": {\"x\": {\"axis\": {\"grid\": false}, \"field\": \"x0\", \"type\": \"quantitative\"}, \"y\": {\"axis\": {\"grid\": false}, \"field\": \"x1\", \"type\": \"quantitative\"}}}, {\"data\": {\"name\": \"data-6c14a308836a7be6db6e93f732cfb20e\"}, \"mark\": \"line\", \"encoding\": {\"x\": {\"axis\": {\"grid\": false}, \"field\": \"x0\", \"type\": \"quantitative\"}, \"y\": {\"axis\": {\"grid\": false}, \"field\": \"x1\", \"type\": \"quantitative\"}}}, {\"layer\": [{\"data\": {\"name\": \"data-f22e98b1a1c1388a30bf58a81394e016\"}, \"mark\": {\"type\": \"circle\", \"size\": 60}, \"encoding\": {\"x\": {\"axis\": {\"grid\": false}, \"field\": \"x0\", \"type\": \"quantitative\"}, \"y\": {\"axis\": {\"grid\": false}, \"field\": \"x1\", \"type\": \"quantitative\"}}}, {\"data\": {\"name\": \"data-51fd9eaff8f61217169baeb9b7bf41e7\"}, \"mark\": \"line\", \"encoding\": {\"x\": {\"axis\": {\"grid\": false}, \"field\": \"x0\", \"type\": \"quantitative\"}, \"y\": {\"axis\": {\"grid\": false}, \"field\": \"x1\", \"type\": \"quantitative\"}}}], \"encoding\": {}}, {\"layer\": [{\"data\": {\"name\": \"data-efda157698f4b31d2ad85a40dc535aec\"}, \"mark\": {\"type\": \"circle\", \"size\": 60}, \"encoding\": {\"x\": {\"axis\": {\"grid\": false}, \"field\": \"x0\", \"type\": \"quantitative\"}, \"y\": {\"axis\": {\"grid\": false}, \"field\": \"x1\", \"type\": \"quantitative\"}}}, {\"data\": {\"name\": \"data-e5f380769378b8c102cc63e703d8b944\"}, \"mark\": \"line\", \"encoding\": {\"x\": {\"axis\": {\"grid\": false}, \"field\": \"x0\", \"type\": \"quantitative\"}, \"y\": {\"axis\": {\"grid\": false}, \"field\": \"x1\", \"type\": \"quantitative\"}}}, {\"layer\": [{\"data\": {\"name\": \"data-dfcbfc5a7c77db96fd699ccd9908fd61\"}, \"mark\": {\"type\": \"circle\", \"size\": 60}, \"encoding\": {\"x\": {\"axis\": {\"grid\": false}, \"field\": \"x0\", \"type\": \"quantitative\"}, \"y\": {\"axis\": {\"grid\": false}, \"field\": \"x1\", \"type\": \"quantitative\"}}}, {\"data\": {\"name\": \"data-f611c266102f65c7ac3cbc3e5e71fe07\"}, \"mark\": \"line\", \"encoding\": {\"x\": {\"axis\": {\"grid\": false}, \"field\": \"x0\", \"type\": \"quantitative\"}, \"y\": {\"axis\": {\"grid\": false}, \"field\": \"x1\", \"type\": \"quantitative\"}}}], \"encoding\": {}}, {\"layer\": [{\"data\": {\"name\": \"data-4a7879d612107509b0c915165e4c4b04\"}, \"mark\": {\"type\": \"circle\", \"size\": 60}, \"encoding\": {\"x\": {\"axis\": {\"grid\": false}, \"field\": \"x0\", \"type\": \"quantitative\"}, \"y\": {\"axis\": {\"grid\": false}, \"field\": \"x1\", \"type\": \"quantitative\"}}}, {\"data\": {\"name\": \"data-5367093ff4d935a4c363631880f4bd5c\"}, \"mark\": \"line\", \"encoding\": {\"x\": {\"axis\": {\"grid\": false}, \"field\": \"x0\", \"type\": \"quantitative\"}, \"y\": {\"axis\": {\"grid\": false}, \"field\": \"x1\", \"type\": \"quantitative\"}}}], \"encoding\": {}}], \"encoding\": {}}], \"encoding\": {}}], \"encoding\": {}}], \"encoding\": {}}, {\"layer\": [{\"data\": {\"name\": \"data-dd7c6600cc9575f5eda9bc467c82864d\"}, \"mark\": {\"type\": \"circle\", \"size\": 60}, \"encoding\": {\"x\": {\"axis\": {\"grid\": false}, \"field\": \"x0\", \"type\": \"quantitative\"}, \"y\": {\"axis\": {\"grid\": false}, \"field\": \"x1\", \"type\": \"quantitative\"}}}, {\"data\": {\"name\": \"data-8d3d33f07fb14f5590a66386df1a92e2\"}, \"mark\": \"line\", \"encoding\": {\"x\": {\"axis\": {\"grid\": false}, \"field\": \"x0\", \"type\": \"quantitative\"}, \"y\": {\"axis\": {\"grid\": false}, \"field\": \"x1\", \"type\": \"quantitative\"}}}, {\"layer\": [{\"data\": {\"name\": \"data-a86604c8a75a2a2ce7fe89bf9a1b4dc2\"}, \"mark\": {\"type\": \"circle\", \"size\": 60}, \"encoding\": {\"x\": {\"axis\": {\"grid\": false}, \"field\": \"x0\", \"type\": \"quantitative\"}, \"y\": {\"axis\": {\"grid\": false}, \"field\": \"x1\", \"type\": \"quantitative\"}}}, {\"data\": {\"name\": \"data-1b7adb1dccc7cebdbc14ba303905813a\"}, \"mark\": \"line\", \"encoding\": {\"x\": {\"axis\": {\"grid\": false}, \"field\": \"x0\", \"type\": \"quantitative\"}, \"y\": {\"axis\": {\"grid\": false}, \"field\": \"x1\", \"type\": \"quantitative\"}}}, {\"layer\": [{\"data\": {\"name\": \"data-f6d6a57b9dbe9d83aa23a54c12a86580\"}, \"mark\": {\"type\": \"circle\", \"size\": 60}, \"encoding\": {\"x\": {\"axis\": {\"grid\": false}, \"field\": \"x0\", \"type\": \"quantitative\"}, \"y\": {\"axis\": {\"grid\": false}, \"field\": \"x1\", \"type\": \"quantitative\"}}}, {\"data\": {\"name\": \"data-35a861d08b68bdd3a757d9c51f87cd66\"}, \"mark\": \"line\", \"encoding\": {\"x\": {\"axis\": {\"grid\": false}, \"field\": \"x0\", \"type\": \"quantitative\"}, \"y\": {\"axis\": {\"grid\": false}, \"field\": \"x1\", \"type\": \"quantitative\"}}}, {\"layer\": [{\"data\": {\"name\": \"data-7b001dbd3571a57eda12a699561888b4\"}, \"mark\": {\"type\": \"circle\", \"size\": 60}, \"encoding\": {\"x\": {\"axis\": {\"grid\": false}, \"field\": \"x0\", \"type\": \"quantitative\"}, \"y\": {\"axis\": {\"grid\": false}, \"field\": \"x1\", \"type\": \"quantitative\"}}}, {\"data\": {\"name\": \"data-5562a44acd61b07b1e3988dde02a556a\"}, \"mark\": \"line\", \"encoding\": {\"x\": {\"axis\": {\"grid\": false}, \"field\": \"x0\", \"type\": \"quantitative\"}, \"y\": {\"axis\": {\"grid\": false}, \"field\": \"x1\", \"type\": \"quantitative\"}}}], \"encoding\": {}}, {\"layer\": [{\"data\": {\"name\": \"data-033ded7ff6c860b2c881d6a68c561170\"}, \"mark\": {\"type\": \"circle\", \"size\": 60}, \"encoding\": {\"x\": {\"axis\": {\"grid\": false}, \"field\": \"x0\", \"type\": \"quantitative\"}, \"y\": {\"axis\": {\"grid\": false}, \"field\": \"x1\", \"type\": \"quantitative\"}}}, {\"data\": {\"name\": \"data-4388312d38abf221c504b684770d33ab\"}, \"mark\": \"line\", \"encoding\": {\"x\": {\"axis\": {\"grid\": false}, \"field\": \"x0\", \"type\": \"quantitative\"}, \"y\": {\"axis\": {\"grid\": false}, \"field\": \"x1\", \"type\": \"quantitative\"}}}], \"encoding\": {}}], \"encoding\": {}}, {\"layer\": [{\"data\": {\"name\": \"data-b7e3c74d0c3d5dedc8a8b6cf9fe980d2\"}, \"mark\": {\"type\": \"circle\", \"size\": 60}, \"encoding\": {\"x\": {\"axis\": {\"grid\": false}, \"field\": \"x0\", \"type\": \"quantitative\"}, \"y\": {\"axis\": {\"grid\": false}, \"field\": \"x1\", \"type\": \"quantitative\"}}}, {\"data\": {\"name\": \"data-673f77417a2199ec3b94475ae364545e\"}, \"mark\": \"line\", \"encoding\": {\"x\": {\"axis\": {\"grid\": false}, \"field\": \"x0\", \"type\": \"quantitative\"}, \"y\": {\"axis\": {\"grid\": false}, \"field\": \"x1\", \"type\": \"quantitative\"}}}, {\"layer\": [{\"data\": {\"name\": \"data-2784434c55369a820e42d22ebff017fa\"}, \"mark\": {\"type\": \"circle\", \"size\": 60}, \"encoding\": {\"x\": {\"axis\": {\"grid\": false}, \"field\": \"x0\", \"type\": \"quantitative\"}, \"y\": {\"axis\": {\"grid\": false}, \"field\": \"x1\", \"type\": \"quantitative\"}}}, {\"data\": {\"name\": \"data-33a04cc8b2613720e9414b16ee492c07\"}, \"mark\": \"line\", \"encoding\": {\"x\": {\"axis\": {\"grid\": false}, \"field\": \"x0\", \"type\": \"quantitative\"}, \"y\": {\"axis\": {\"grid\": false}, \"field\": \"x1\", \"type\": \"quantitative\"}}}], \"encoding\": {}}, {\"layer\": [{\"data\": {\"name\": \"data-9766cf63b3cf3e37823e0f7b44eccc54\"}, \"mark\": {\"type\": \"circle\", \"size\": 60}, \"encoding\": {\"x\": {\"axis\": {\"grid\": false}, \"field\": \"x0\", \"type\": \"quantitative\"}, \"y\": {\"axis\": {\"grid\": false}, \"field\": \"x1\", \"type\": \"quantitative\"}}}, {\"data\": {\"name\": \"data-70ca9dd25a3bad2aae27d9fbecdbc714\"}, \"mark\": \"line\", \"encoding\": {\"x\": {\"axis\": {\"grid\": false}, \"field\": \"x0\", \"type\": \"quantitative\"}, \"y\": {\"axis\": {\"grid\": false}, \"field\": \"x1\", \"type\": \"quantitative\"}}}, {\"layer\": [{\"data\": {\"name\": \"data-681cd1580939c94ac0410bbefbf314e8\"}, \"mark\": {\"type\": \"circle\", \"size\": 60}, \"encoding\": {\"x\": {\"axis\": {\"grid\": false}, \"field\": \"x0\", \"type\": \"quantitative\"}, \"y\": {\"axis\": {\"grid\": false}, \"field\": \"x1\", \"type\": \"quantitative\"}}}, {\"data\": {\"name\": \"data-f736da05b7cb3ae5f739cb994442795f\"}, \"mark\": \"line\", \"encoding\": {\"x\": {\"axis\": {\"grid\": false}, \"field\": \"x0\", \"type\": \"quantitative\"}, \"y\": {\"axis\": {\"grid\": false}, \"field\": \"x1\", \"type\": \"quantitative\"}}}], \"encoding\": {}}, {\"layer\": [{\"data\": {\"name\": \"data-69fb0c7812914a2e2e60fefdd1acdefc\"}, \"mark\": {\"type\": \"circle\", \"size\": 60}, \"encoding\": {\"x\": {\"axis\": {\"grid\": false}, \"field\": \"x0\", \"type\": \"quantitative\"}, \"y\": {\"axis\": {\"grid\": false}, \"field\": \"x1\", \"type\": \"quantitative\"}}}, {\"data\": {\"name\": \"data-dc2250b1edbb81c5341d537cf80bd5fa\"}, \"mark\": \"line\", \"encoding\": {\"x\": {\"axis\": {\"grid\": false}, \"field\": \"x0\", \"type\": \"quantitative\"}, \"y\": {\"axis\": {\"grid\": false}, \"field\": \"x1\", \"type\": \"quantitative\"}}}], \"encoding\": {}}], \"encoding\": {}}], \"encoding\": {}}], \"encoding\": {}}, {\"layer\": [{\"data\": {\"name\": \"data-fb99218048d74684c8738b9f89b0a7c6\"}, \"mark\": {\"type\": \"circle\", \"size\": 60}, \"encoding\": {\"x\": {\"axis\": {\"grid\": false}, \"field\": \"x0\", \"type\": \"quantitative\"}, \"y\": {\"axis\": {\"grid\": false}, \"field\": \"x1\", \"type\": \"quantitative\"}}}, {\"data\": {\"name\": \"data-115aab6c315102839f7afa8a96ddcf0a\"}, \"mark\": \"line\", \"encoding\": {\"x\": {\"axis\": {\"grid\": false}, \"field\": \"x0\", \"type\": \"quantitative\"}, \"y\": {\"axis\": {\"grid\": false}, \"field\": \"x1\", \"type\": \"quantitative\"}}}, {\"layer\": [{\"data\": {\"name\": \"data-17c8966e93f384d27cce5fdd45404893\"}, \"mark\": {\"type\": \"circle\", \"size\": 60}, \"encoding\": {\"x\": {\"axis\": {\"grid\": false}, \"field\": \"x0\", \"type\": \"quantitative\"}, \"y\": {\"axis\": {\"grid\": false}, \"field\": \"x1\", \"type\": \"quantitative\"}}}, {\"data\": {\"name\": \"data-dce5973907b059c02e1b5d21eb984509\"}, \"mark\": \"line\", \"encoding\": {\"x\": {\"axis\": {\"grid\": false}, \"field\": \"x0\", \"type\": \"quantitative\"}, \"y\": {\"axis\": {\"grid\": false}, \"field\": \"x1\", \"type\": \"quantitative\"}}}, {\"layer\": [{\"data\": {\"name\": \"data-54b778381f78e1d1696cd32561e57faa\"}, \"mark\": {\"type\": \"circle\", \"size\": 60}, \"encoding\": {\"x\": {\"axis\": {\"grid\": false}, \"field\": \"x0\", \"type\": \"quantitative\"}, \"y\": {\"axis\": {\"grid\": false}, \"field\": \"x1\", \"type\": \"quantitative\"}}}, {\"data\": {\"name\": \"data-046c73c328634988a74f03b35d994bf4\"}, \"mark\": \"line\", \"encoding\": {\"x\": {\"axis\": {\"grid\": false}, \"field\": \"x0\", \"type\": \"quantitative\"}, \"y\": {\"axis\": {\"grid\": false}, \"field\": \"x1\", \"type\": \"quantitative\"}}}], \"encoding\": {}}, {\"layer\": [{\"data\": {\"name\": \"data-e8fcb803498330aef9b8277544705a5e\"}, \"mark\": {\"type\": \"circle\", \"size\": 60}, \"encoding\": {\"x\": {\"axis\": {\"grid\": false}, \"field\": \"x0\", \"type\": \"quantitative\"}, \"y\": {\"axis\": {\"grid\": false}, \"field\": \"x1\", \"type\": \"quantitative\"}}}, {\"data\": {\"name\": \"data-07380f28811f75705ed7e36a04dedb77\"}, \"mark\": \"line\", \"encoding\": {\"x\": {\"axis\": {\"grid\": false}, \"field\": \"x0\", \"type\": \"quantitative\"}, \"y\": {\"axis\": {\"grid\": false}, \"field\": \"x1\", \"type\": \"quantitative\"}}}], \"encoding\": {}}], \"encoding\": {}}, {\"layer\": [{\"data\": {\"name\": \"data-9e7d634cc980b362c98bcff5248a1192\"}, \"mark\": {\"type\": \"circle\", \"size\": 60}, \"encoding\": {\"x\": {\"axis\": {\"grid\": false}, \"field\": \"x0\", \"type\": \"quantitative\"}, \"y\": {\"axis\": {\"grid\": false}, \"field\": \"x1\", \"type\": \"quantitative\"}}}, {\"data\": {\"name\": \"data-1781e5fe6884bdb5eb306e4f06d51867\"}, \"mark\": \"line\", \"encoding\": {\"x\": {\"axis\": {\"grid\": false}, \"field\": \"x0\", \"type\": \"quantitative\"}, \"y\": {\"axis\": {\"grid\": false}, \"field\": \"x1\", \"type\": \"quantitative\"}}}, {\"layer\": [{\"data\": {\"name\": \"data-8786f7f8b756a52cfc4187a478c33238\"}, \"mark\": {\"type\": \"circle\", \"size\": 60}, \"encoding\": {\"x\": {\"axis\": {\"grid\": false}, \"field\": \"x0\", \"type\": \"quantitative\"}, \"y\": {\"axis\": {\"grid\": false}, \"field\": \"x1\", \"type\": \"quantitative\"}}}, {\"data\": {\"name\": \"data-ae56ae1a82d807f651c75a7db25ab1b3\"}, \"mark\": \"line\", \"encoding\": {\"x\": {\"axis\": {\"grid\": false}, \"field\": \"x0\", \"type\": \"quantitative\"}, \"y\": {\"axis\": {\"grid\": false}, \"field\": \"x1\", \"type\": \"quantitative\"}}}], \"encoding\": {}}, {\"layer\": [{\"data\": {\"name\": \"data-97d6b2b2a74c446c3ab1dc9dbc080c4a\"}, \"mark\": {\"type\": \"circle\", \"size\": 60}, \"encoding\": {\"x\": {\"axis\": {\"grid\": false}, \"field\": \"x0\", \"type\": \"quantitative\"}, \"y\": {\"axis\": {\"grid\": false}, \"field\": \"x1\", \"type\": \"quantitative\"}}}, {\"data\": {\"name\": \"data-b0f764309992b163dcc8d99cf4dc9f85\"}, \"mark\": \"line\", \"encoding\": {\"x\": {\"axis\": {\"grid\": false}, \"field\": \"x0\", \"type\": \"quantitative\"}, \"y\": {\"axis\": {\"grid\": false}, \"field\": \"x1\", \"type\": \"quantitative\"}}}, {\"layer\": [{\"data\": {\"name\": \"data-30d5c00377d1badaff11945afa377d25\"}, \"mark\": {\"type\": \"circle\", \"size\": 60}, \"encoding\": {\"x\": {\"axis\": {\"grid\": false}, \"field\": \"x0\", \"type\": \"quantitative\"}, \"y\": {\"axis\": {\"grid\": false}, \"field\": \"x1\", \"type\": \"quantitative\"}}}, {\"data\": {\"name\": \"data-c9ee1d657e8a342c5c7b2db9ad067966\"}, \"mark\": \"line\", \"encoding\": {\"x\": {\"axis\": {\"grid\": false}, \"field\": \"x0\", \"type\": \"quantitative\"}, \"y\": {\"axis\": {\"grid\": false}, \"field\": \"x1\", \"type\": \"quantitative\"}}}], \"encoding\": {}}, {\"layer\": [{\"data\": {\"name\": \"data-9cb91d435b010d61ed33816cac2f3760\"}, \"mark\": {\"type\": \"circle\", \"size\": 60}, \"encoding\": {\"x\": {\"axis\": {\"grid\": false}, \"field\": \"x0\", \"type\": \"quantitative\"}, \"y\": {\"axis\": {\"grid\": false}, \"field\": \"x1\", \"type\": \"quantitative\"}}}, {\"data\": {\"name\": \"data-c44b65c192db3ed8f6a45caacb128b73\"}, \"mark\": \"line\", \"encoding\": {\"x\": {\"axis\": {\"grid\": false}, \"field\": \"x0\", \"type\": \"quantitative\"}, \"y\": {\"axis\": {\"grid\": false}, \"field\": \"x1\", \"type\": \"quantitative\"}}}], \"encoding\": {}}], \"encoding\": {}}], \"encoding\": {}}], \"encoding\": {}}], \"encoding\": {}}], \"encoding\": {}, \"$schema\": \"https://vega.github.io/schema/vega-lite/v4.17.0.json\", \"datasets\": {\"data-27c49ca2d2c0e4fe4f94f1d7c160a361\": [{\"x0\": 0.417022004702574, \"x1\": 0.7203244934421581}, {\"x0\": 0.00011437481734488664, \"x1\": 0.30233257263183977}, {\"x0\": 0.14675589081711304, \"x1\": 0.0923385947687978}, {\"x0\": 0.1862602113776709, \"x1\": 0.34556072704304774}, {\"x0\": 0.39676747423066994, \"x1\": 0.538816734003357}, {\"x0\": 0.4191945144032948, \"x1\": 0.6852195003967595}, {\"x0\": 0.20445224973151743, \"x1\": 0.8781174363909454}, {\"x0\": 0.027387593197926163, \"x1\": 0.6704675101784022}, {\"x0\": 0.41730480236712697, \"x1\": 0.5586898284457517}, {\"x0\": 0.14038693859523377, \"x1\": 0.1981014890848788}, {\"x0\": 0.8007445686755367, \"x1\": 0.9682615757193975}, {\"x0\": 0.31342417815924284, \"x1\": 0.6923226156693141}, {\"x0\": 0.8763891522960383, \"x1\": 0.8946066635038473}, {\"x0\": 0.08504421136977791, \"x1\": 0.03905478323288236}, {\"x0\": 0.1698304195645689, \"x1\": 0.8781425034294131}, {\"x0\": 0.0983468338330501, \"x1\": 0.42110762500505217}, {\"x0\": 0.9578895301505019, \"x1\": 0.5331652849730171}, {\"x0\": 0.6918771139504734, \"x1\": 0.31551563100606295}, {\"x0\": 0.6865009276815837, \"x1\": 0.8346256718973729}, {\"x0\": 0.018288277344191806, \"x1\": 0.7501443149449675}], \"data-9bc712eec4862e0da7b537a787dfb3ee\": [{\"x0\": 0.25893821394538014, \"x1\": 0.0}, {\"x0\": 0.25893821394538014, \"x1\": 1.0}], \"data-7973e3913bac78a2baa4c4ec11621abd\": [{\"x0\": 0.00011437481734488664, \"x1\": 0.30233257263183977}, {\"x0\": 0.018288277344191806, \"x1\": 0.7501443149449675}, {\"x0\": 0.027387593197926163, \"x1\": 0.6704675101784022}, {\"x0\": 0.08504421136977791, \"x1\": 0.03905478323288236}, {\"x0\": 0.0983468338330501, \"x1\": 0.42110762500505217}, {\"x0\": 0.14038693859523377, \"x1\": 0.1981014890848788}, {\"x0\": 0.14675589081711304, \"x1\": 0.0923385947687978}, {\"x0\": 0.1698304195645689, \"x1\": 0.8781425034294131}, {\"x0\": 0.1862602113776709, \"x1\": 0.34556072704304774}, {\"x0\": 0.20445224973151743, \"x1\": 0.8781174363909454}], \"data-e97518c52016479bcce556dfc5709844\": [{\"x0\": 0.0, \"x1\": 0.38333417602404996}, {\"x0\": 0.25893821394538014, \"x1\": 0.38333417602404996}], \"data-657747fab5880c708469930737ea95ef\": [{\"x0\": 0.08504421136977791, \"x1\": 0.03905478323288236}, {\"x0\": 0.14675589081711304, \"x1\": 0.0923385947687978}, {\"x0\": 0.14038693859523377, \"x1\": 0.1981014890848788}, {\"x0\": 0.00011437481734488664, \"x1\": 0.30233257263183977}, {\"x0\": 0.1862602113776709, \"x1\": 0.34556072704304774}], \"data-05126c66c4ff0f169733929c9a1f1121\": [{\"x0\": 0.14038693859523377, \"x1\": 0.0}, {\"x0\": 0.14038693859523377, \"x1\": 0.38333417602404996}], \"data-6b8208f326e6d944cb4cc74e5f514bf5\": [{\"x0\": 0.00011437481734488664, \"x1\": 0.30233257263183977}, {\"x0\": 0.08504421136977791, \"x1\": 0.03905478323288236}], \"data-2978f75270fea57a0d7c409ec5258dd1\": [{\"x0\": 0.0, \"x1\": 0.17069367793236107}, {\"x0\": 0.14038693859523377, \"x1\": 0.17069367793236107}], \"data-03e125d35e5be573ece06c807ca2a7b4\": [{\"x0\": 0.08504421136977791, \"x1\": 0.03905478323288236}], \"data-69ecfa8dd2be3a07621be85a8e886a0f\": [{\"x0\": 0.08504421136977791, \"x1\": 0.0}, {\"x0\": 0.08504421136977791, \"x1\": 0.17069367793236107}], \"data-322b8b176f219d4ba47b132335a0fe3d\": [{\"x0\": 0.00011437481734488664, \"x1\": 0.30233257263183977}], \"data-e98355266a71f3e6704d92bfb50c9109\": [{\"x0\": 0.00011437481734488664, \"x1\": 0.17069367793236107}, {\"x0\": 0.00011437481734488664, \"x1\": 0.38333417602404996}], \"data-37491875782d34cf27b2db40e9de331f\": [{\"x0\": 0.14038693859523377, \"x1\": 0.1981014890848788}, {\"x0\": 0.14675589081711304, \"x1\": 0.0923385947687978}, {\"x0\": 0.1862602113776709, \"x1\": 0.34556072704304774}], \"data-272cfdd71140b1f14cf76a091111326a\": [{\"x0\": 0.14038693859523377, \"x1\": 0.1981014890848788}, {\"x0\": 0.25893821394538014, \"x1\": 0.1981014890848788}], \"data-391d93bbf5f172546c6f6dfe04ab8f9f\": [{\"x0\": 0.14675589081711304, \"x1\": 0.0923385947687978}], \"data-50c7a10c9da802f911a4732cc0b1d32d\": [{\"x0\": 0.14675589081711304, \"x1\": 0.0}, {\"x0\": 0.14675589081711304, \"x1\": 0.1981014890848788}], \"data-a4b4189cc6142edad10a2ee278f59f2e\": [{\"x0\": 0.14038693859523377, \"x1\": 0.1981014890848788}, {\"x0\": 0.1862602113776709, \"x1\": 0.34556072704304774}], \"data-e9959138dcf076b2aff2b14a732e2bc5\": [{\"x0\": 0.16332357498645234, \"x1\": 0.1981014890848788}, {\"x0\": 0.16332357498645234, \"x1\": 0.38333417602404996}], \"data-de3270efd3c1298a8783de7603e79ac7\": [{\"x0\": 0.14038693859523377, \"x1\": 0.1981014890848788}], \"data-9e813ff60b0e2165894ea790b5451d58\": [{\"x0\": 0.14038693859523377, \"x1\": 0.1981014890848788}, {\"x0\": 0.16332357498645234, \"x1\": 0.1981014890848788}], \"data-0d64c17c51be70f62db6e756b7989b59\": [{\"x0\": 0.1862602113776709, \"x1\": 0.34556072704304774}], \"data-19d2099a2e93c2928b4bb07cf2cfcccf\": [{\"x0\": 0.16332357498645234, \"x1\": 0.34556072704304774}, {\"x0\": 0.25893821394538014, \"x1\": 0.34556072704304774}], \"data-a5bfb3ebb114c79d889a25cb59fe8c56\": [{\"x0\": 0.0983468338330501, \"x1\": 0.42110762500505217}, {\"x0\": 0.027387593197926163, \"x1\": 0.6704675101784022}, {\"x0\": 0.018288277344191806, \"x1\": 0.7501443149449675}, {\"x0\": 0.20445224973151743, \"x1\": 0.8781174363909454}, {\"x0\": 0.1698304195645689, \"x1\": 0.8781425034294131}], \"data-27c1ded7b6ba14a375b2a970054cbf74\": [{\"x0\": 0.0983468338330501, \"x1\": 0.38333417602404996}, {\"x0\": 0.0983468338330501, \"x1\": 1.0}], \"data-77b7cd5628178a8b9abe841181f4d4b3\": [{\"x0\": 0.018288277344191806, \"x1\": 0.7501443149449675}, {\"x0\": 0.027387593197926163, \"x1\": 0.6704675101784022}], \"data-fbe160e667b26ef5e7db63c19939b7bd\": [{\"x0\": 0.0, \"x1\": 0.7103059125616848}, {\"x0\": 0.0983468338330501, \"x1\": 0.7103059125616848}], \"data-69dec39d147bd16689dd551b94ff838a\": [{\"x0\": 0.027387593197926163, \"x1\": 0.6704675101784022}], \"data-1a996f2865c4c9c20465800b0e30c721\": [{\"x0\": 0.027387593197926163, \"x1\": 0.38333417602404996}, {\"x0\": 0.027387593197926163, \"x1\": 0.7103059125616848}], \"data-2fc53f74066f757f3e6b1ea5b4836033\": [{\"x0\": 0.018288277344191806, \"x1\": 0.7501443149449675}], \"data-7701acf289018ab82c5fa5c134d2e7e7\": [{\"x0\": 0.018288277344191806, \"x1\": 0.7103059125616848}, {\"x0\": 0.018288277344191806, \"x1\": 1.0}], \"data-3521b7894724bfe0a27c0f3d4c5996fb\": [{\"x0\": 0.0983468338330501, \"x1\": 0.42110762500505217}, {\"x0\": 0.1698304195645689, \"x1\": 0.8781425034294131}, {\"x0\": 0.20445224973151743, \"x1\": 0.8781174363909454}], \"data-6c14a308836a7be6db6e93f732cfb20e\": [{\"x0\": 0.0983468338330501, \"x1\": 0.8781174363909454}, {\"x0\": 0.25893821394538014, \"x1\": 0.8781174363909454}], \"data-f22e98b1a1c1388a30bf58a81394e016\": [{\"x0\": 0.0983468338330501, \"x1\": 0.42110762500505217}], \"data-51fd9eaff8f61217169baeb9b7bf41e7\": [{\"x0\": 0.0983468338330501, \"x1\": 0.38333417602404996}, {\"x0\": 0.0983468338330501, \"x1\": 0.8781174363909454}], \"data-efda157698f4b31d2ad85a40dc535aec\": [{\"x0\": 0.20445224973151743, \"x1\": 0.8781174363909454}, {\"x0\": 0.1698304195645689, \"x1\": 0.8781425034294131}], \"data-e5f380769378b8c102cc63e703d8b944\": [{\"x0\": 0.18714133464804317, \"x1\": 0.8781174363909454}, {\"x0\": 0.18714133464804317, \"x1\": 1.0}], \"data-dfcbfc5a7c77db96fd699ccd9908fd61\": [{\"x0\": 0.1698304195645689, \"x1\": 0.8781425034294131}], \"data-f611c266102f65c7ac3cbc3e5e71fe07\": [{\"x0\": 0.0983468338330501, \"x1\": 0.8781425034294131}, {\"x0\": 0.18714133464804317, \"x1\": 0.8781425034294131}], \"data-4a7879d612107509b0c915165e4c4b04\": [{\"x0\": 0.20445224973151743, \"x1\": 0.8781174363909454}], \"data-5367093ff4d935a4c363631880f4bd5c\": [{\"x0\": 0.18714133464804317, \"x1\": 0.8781174363909454}, {\"x0\": 0.25893821394538014, \"x1\": 0.8781174363909454}], \"data-dd7c6600cc9575f5eda9bc467c82864d\": [{\"x0\": 0.31342417815924284, \"x1\": 0.6923226156693141}, {\"x0\": 0.39676747423066994, \"x1\": 0.538816734003357}, {\"x0\": 0.417022004702574, \"x1\": 0.7203244934421581}, {\"x0\": 0.41730480236712697, \"x1\": 0.5586898284457517}, {\"x0\": 0.4191945144032948, \"x1\": 0.6852195003967595}, {\"x0\": 0.6865009276815837, \"x1\": 0.8346256718973729}, {\"x0\": 0.6918771139504734, \"x1\": 0.31551563100606295}, {\"x0\": 0.8007445686755367, \"x1\": 0.9682615757193975}, {\"x0\": 0.8763891522960383, \"x1\": 0.8946066635038473}, {\"x0\": 0.9578895301505019, \"x1\": 0.5331652849730171}], \"data-8d3d33f07fb14f5590a66386df1a92e2\": [{\"x0\": 0.25893821394538014, \"x1\": 0.6887710580330368}, {\"x0\": 1.0, \"x1\": 0.6887710580330368}], \"data-a86604c8a75a2a2ce7fe89bf9a1b4dc2\": [{\"x0\": 0.6918771139504734, \"x1\": 0.31551563100606295}, {\"x0\": 0.9578895301505019, \"x1\": 0.5331652849730171}, {\"x0\": 0.39676747423066994, \"x1\": 0.538816734003357}, {\"x0\": 0.41730480236712697, \"x1\": 0.5586898284457517}, {\"x0\": 0.4191945144032948, \"x1\": 0.6852195003967595}], \"data-1b7adb1dccc7cebdbc14ba303905813a\": [{\"x0\": 0.4191945144032948, \"x1\": 0.0}, {\"x0\": 0.4191945144032948, \"x1\": 0.6887710580330368}], \"data-f6d6a57b9dbe9d83aa23a54c12a86580\": [{\"x0\": 0.39676747423066994, \"x1\": 0.538816734003357}, {\"x0\": 0.41730480236712697, \"x1\": 0.5586898284457517}], \"data-35a861d08b68bdd3a757d9c51f87cd66\": [{\"x0\": 0.25893821394538014, \"x1\": 0.5487532812245544}, {\"x0\": 0.4191945144032948, \"x1\": 0.5487532812245544}], \"data-7b001dbd3571a57eda12a699561888b4\": [{\"x0\": 0.39676747423066994, \"x1\": 0.538816734003357}], \"data-5562a44acd61b07b1e3988dde02a556a\": [{\"x0\": 0.39676747423066994, \"x1\": 0.0}, {\"x0\": 0.39676747423066994, \"x1\": 0.5487532812245544}], \"data-033ded7ff6c860b2c881d6a68c561170\": [{\"x0\": 0.41730480236712697, \"x1\": 0.5586898284457517}], \"data-4388312d38abf221c504b684770d33ab\": [{\"x0\": 0.41730480236712697, \"x1\": 0.5487532812245544}, {\"x0\": 0.41730480236712697, \"x1\": 0.6887710580330368}], \"data-b7e3c74d0c3d5dedc8a8b6cf9fe980d2\": [{\"x0\": 0.4191945144032948, \"x1\": 0.6852195003967595}, {\"x0\": 0.6918771139504734, \"x1\": 0.31551563100606295}, {\"x0\": 0.9578895301505019, \"x1\": 0.5331652849730171}], \"data-673f77417a2199ec3b94475ae364545e\": [{\"x0\": 0.4191945144032948, \"x1\": 0.5331652849730171}, {\"x0\": 1.0, \"x1\": 0.5331652849730171}], \"data-2784434c55369a820e42d22ebff017fa\": [{\"x0\": 0.6918771139504734, \"x1\": 0.31551563100606295}], \"data-33a04cc8b2613720e9414b16ee492c07\": [{\"x0\": 0.6918771139504734, \"x1\": 0.0}, {\"x0\": 0.6918771139504734, \"x1\": 0.5331652849730171}], \"data-9766cf63b3cf3e37823e0f7b44eccc54\": [{\"x0\": 0.9578895301505019, \"x1\": 0.5331652849730171}, {\"x0\": 0.4191945144032948, \"x1\": 0.6852195003967595}], \"data-70ca9dd25a3bad2aae27d9fbecdbc714\": [{\"x0\": 0.6885420222768983, \"x1\": 0.5331652849730171}, {\"x0\": 0.6885420222768983, \"x1\": 0.6887710580330368}], \"data-681cd1580939c94ac0410bbefbf314e8\": [{\"x0\": 0.4191945144032948, \"x1\": 0.6852195003967595}], \"data-f736da05b7cb3ae5f739cb994442795f\": [{\"x0\": 0.4191945144032948, \"x1\": 0.6852195003967595}, {\"x0\": 0.6885420222768983, \"x1\": 0.6852195003967595}], \"data-69fb0c7812914a2e2e60fefdd1acdefc\": [{\"x0\": 0.9578895301505019, \"x1\": 0.5331652849730171}], \"data-dc2250b1edbb81c5341d537cf80bd5fa\": [{\"x0\": 0.6885420222768983, \"x1\": 0.5331652849730171}, {\"x0\": 1.0, \"x1\": 0.5331652849730171}], \"data-fb99218048d74684c8738b9f89b0a7c6\": [{\"x0\": 0.31342417815924284, \"x1\": 0.6923226156693141}, {\"x0\": 0.417022004702574, \"x1\": 0.7203244934421581}, {\"x0\": 0.6865009276815837, \"x1\": 0.8346256718973729}, {\"x0\": 0.8763891522960383, \"x1\": 0.8946066635038473}, {\"x0\": 0.8007445686755367, \"x1\": 0.9682615757193975}], \"data-115aab6c315102839f7afa8a96ddcf0a\": [{\"x0\": 0.6865009276815837, \"x1\": 0.6887710580330368}, {\"x0\": 0.6865009276815837, \"x1\": 1.0}], \"data-17c8966e93f384d27cce5fdd45404893\": [{\"x0\": 0.31342417815924284, \"x1\": 0.6923226156693141}, {\"x0\": 0.417022004702574, \"x1\": 0.7203244934421581}], \"data-dce5973907b059c02e1b5d21eb984509\": [{\"x0\": 0.25893821394538014, \"x1\": 0.706323554555736}, {\"x0\": 0.6865009276815837, \"x1\": 0.706323554555736}], \"data-54b778381f78e1d1696cd32561e57faa\": [{\"x0\": 0.31342417815924284, \"x1\": 0.6923226156693141}], \"data-046c73c328634988a74f03b35d994bf4\": [{\"x0\": 0.31342417815924284, \"x1\": 0.6887710580330368}, {\"x0\": 0.31342417815924284, \"x1\": 0.706323554555736}], \"data-e8fcb803498330aef9b8277544705a5e\": [{\"x0\": 0.417022004702574, \"x1\": 0.7203244934421581}], \"data-07380f28811f75705ed7e36a04dedb77\": [{\"x0\": 0.417022004702574, \"x1\": 0.706323554555736}, {\"x0\": 0.417022004702574, \"x1\": 1.0}], \"data-9e7d634cc980b362c98bcff5248a1192\": [{\"x0\": 0.6865009276815837, \"x1\": 0.8346256718973729}, {\"x0\": 0.8007445686755367, \"x1\": 0.9682615757193975}, {\"x0\": 0.8763891522960383, \"x1\": 0.8946066635038473}], \"data-1781e5fe6884bdb5eb306e4f06d51867\": [{\"x0\": 0.6865009276815837, \"x1\": 0.8946066635038473}, {\"x0\": 1.0, \"x1\": 0.8946066635038473}], \"data-8786f7f8b756a52cfc4187a478c33238\": [{\"x0\": 0.6865009276815837, \"x1\": 0.8346256718973729}], \"data-ae56ae1a82d807f651c75a7db25ab1b3\": [{\"x0\": 0.6865009276815837, \"x1\": 0.6887710580330368}, {\"x0\": 0.6865009276815837, \"x1\": 0.8946066635038473}], \"data-97d6b2b2a74c446c3ab1dc9dbc080c4a\": [{\"x0\": 0.8763891522960383, \"x1\": 0.8946066635038473}, {\"x0\": 0.8007445686755367, \"x1\": 0.9682615757193975}], \"data-b0f764309992b163dcc8d99cf4dc9f85\": [{\"x0\": 0.8385668604857874, \"x1\": 0.8946066635038473}, {\"x0\": 0.8385668604857874, \"x1\": 1.0}], \"data-30d5c00377d1badaff11945afa377d25\": [{\"x0\": 0.8007445686755367, \"x1\": 0.9682615757193975}], \"data-c9ee1d657e8a342c5c7b2db9ad067966\": [{\"x0\": 0.6865009276815837, \"x1\": 0.9682615757193975}, {\"x0\": 0.8385668604857874, \"x1\": 0.9682615757193975}], \"data-9cb91d435b010d61ed33816cac2f3760\": [{\"x0\": 0.8763891522960383, \"x1\": 0.8946066635038473}], \"data-c44b65c192db3ed8f6a45caacb128b73\": [{\"x0\": 0.8385668604857874, \"x1\": 0.8946066635038473}, {\"x0\": 1.0, \"x1\": 0.8946066635038473}]}}, {\"mode\": \"vega-lite\"});\n",
       "</script>"
      ],
      "text/plain": [
       "alt.LayerChart(...)"
      ]
     },
     "execution_count": 35,
     "metadata": {},
     "output_type": "execute_result"
    }
   ],
   "source": [
    "kdt.plot2d(depth=6)"
   ]
  },
  {
   "cell_type": "code",
   "execution_count": 36,
   "metadata": {},
   "outputs": [
    {
     "data": {
      "text/plain": [
       "array([0.87638915, 0.89460666])"
      ]
     },
     "execution_count": 36,
     "metadata": {},
     "output_type": "execute_result"
    }
   ],
   "source": [
    "kdt.approximateNearestNeighbour(np.array([1, 1]))"
   ]
  },
  {
   "cell_type": "code",
   "execution_count": 37,
   "metadata": {},
   "outputs": [
    {
     "data": {
      "text/plain": [
       "array([0.87638915, 0.89460666])"
      ]
     },
     "execution_count": 37,
     "metadata": {},
     "output_type": "execute_result"
    }
   ],
   "source": [
    "X[nearest_neighbour(X, np.array([1,1]))]"
   ]
  },
  {
   "cell_type": "code",
   "execution_count": 38,
   "metadata": {},
   "outputs": [
    {
     "data": {
      "text/plain": [
       "array([0.69187711, 0.31551563])"
      ]
     },
     "execution_count": 38,
     "metadata": {},
     "output_type": "execute_result"
    }
   ],
   "source": [
    "kdt.approximateNearestNeighbour(np.array([0.5, 0.5]))"
   ]
  },
  {
   "cell_type": "code",
   "execution_count": 39,
   "metadata": {},
   "outputs": [
    {
     "data": {
      "text/plain": [
       "array([0.4173048 , 0.55868983])"
      ]
     },
     "execution_count": 39,
     "metadata": {},
     "output_type": "execute_result"
    }
   ],
   "source": [
    "X[nearest_neighbour(X, np.array([0.5,0.5]))]"
   ]
  },
  {
   "cell_type": "markdown",
   "metadata": {},
   "source": [
    "- Doesn't work perfectly here, but there is a fast correct algorithm, which is beyond the scope of the course.\n",
    "  - See [`sklearn.neighbors.KDTree`](https://scikit-learn.org/stable/modules/generated/sklearn.neighbors.KDTree.html#sklearn.neighbors.KDTree).\n",
    "- However, $k$-d trees get slow when the number of dimensions is large.\n",
    "- Some alternative methods are discussed below."
   ]
  },
  {
   "cell_type": "code",
   "execution_count": 40,
   "metadata": {},
   "outputs": [],
   "source": [
    "# ??sklearn.neighbors.KNeighborsClassifier"
   ]
  },
  {
   "cell_type": "code",
   "execution_count": 41,
   "metadata": {},
   "outputs": [],
   "source": [
    "# ??sklearn.neighbors.KDTree"
   ]
  },
  {
   "cell_type": "markdown",
   "metadata": {},
   "source": [
    "#### Timing experiments"
   ]
  },
  {
   "cell_type": "markdown",
   "metadata": {},
   "source": [
    "We'll time scikit-learn's `KDTree` and compare it to brute force."
   ]
  },
  {
   "cell_type": "code",
   "execution_count": 42,
   "metadata": {},
   "outputs": [
    {
     "name": "stdout",
     "output_type": "stream",
     "text": [
      "n:  100\n",
      "  KDTree\n",
      "  Brute force\n",
      "n:  1000\n",
      "  KDTree\n",
      "  Brute force\n",
      "n:  10000\n",
      "  KDTree\n",
      "  Brute force\n",
      "n:  100000\n",
      "  KDTree\n",
      "  Brute force\n"
     ]
    }
   ],
   "source": [
    "n_sizes = [100, 1000, 10_000, 100_000]\n",
    "\n",
    "results = defaultdict(list)\n",
    "results[\"n\"] = n_sizes\n",
    "\n",
    "d = 10\n",
    "\n",
    "for n in n_sizes:\n",
    "    print('n: ', n)\n",
    "    X = np.random.rand(n, d)\n",
    "    query = np.random.rand(1, d)\n",
    "\n",
    "    print(\"  KDTree\")\n",
    "    time = %timeit -q -o -r 3 sklearn.neighbors.KDTree(X)\n",
    "    results[\"KDTree init\"].append(time.average)\n",
    "    KDT = sklearn.neighbors.KDTree(X)\n",
    "\n",
    "    time = %timeit -q -o -r 3 KDT.query(query)\n",
    "    results[\"KDTree query\"].append(time.average)\n",
    "\n",
    "    print(\"  Brute force\")\n",
    "    time = %timeit -q -o -r 3 nearest_neighbour(X, query)\n",
    "    results[\"Brute force\"].append(time.average)"
   ]
  },
  {
   "cell_type": "code",
   "execution_count": 43,
   "metadata": {},
   "outputs": [
    {
     "data": {
      "text/html": [
       "<div>\n",
       "<style scoped>\n",
       "    .dataframe tbody tr th:only-of-type {\n",
       "        vertical-align: middle;\n",
       "    }\n",
       "\n",
       "    .dataframe tbody tr th {\n",
       "        vertical-align: top;\n",
       "    }\n",
       "\n",
       "    .dataframe thead th {\n",
       "        text-align: right;\n",
       "    }\n",
       "</style>\n",
       "<table border=\"1\" class=\"dataframe\">\n",
       "  <thead>\n",
       "    <tr style=\"text-align: right;\">\n",
       "      <th></th>\n",
       "      <th>n</th>\n",
       "      <th>KDTree init</th>\n",
       "      <th>KDTree query</th>\n",
       "      <th>Brute force</th>\n",
       "    </tr>\n",
       "  </thead>\n",
       "  <tbody>\n",
       "    <tr>\n",
       "      <th>0</th>\n",
       "      <td>100</td>\n",
       "      <td>0.000020</td>\n",
       "      <td>0.000014</td>\n",
       "      <td>0.000005</td>\n",
       "    </tr>\n",
       "    <tr>\n",
       "      <th>1</th>\n",
       "      <td>1000</td>\n",
       "      <td>0.000096</td>\n",
       "      <td>0.000021</td>\n",
       "      <td>0.000024</td>\n",
       "    </tr>\n",
       "    <tr>\n",
       "      <th>2</th>\n",
       "      <td>10000</td>\n",
       "      <td>0.002047</td>\n",
       "      <td>0.000030</td>\n",
       "      <td>0.000153</td>\n",
       "    </tr>\n",
       "    <tr>\n",
       "      <th>3</th>\n",
       "      <td>100000</td>\n",
       "      <td>0.032669</td>\n",
       "      <td>0.000029</td>\n",
       "      <td>0.001963</td>\n",
       "    </tr>\n",
       "  </tbody>\n",
       "</table>\n",
       "</div>"
      ],
      "text/plain": [
       "        n  KDTree init  KDTree query  Brute force\n",
       "0     100     0.000020      0.000014     0.000005\n",
       "1    1000     0.000096      0.000021     0.000024\n",
       "2   10000     0.002047      0.000030     0.000153\n",
       "3  100000     0.032669      0.000029     0.001963"
      ]
     },
     "execution_count": 43,
     "metadata": {},
     "output_type": "execute_result"
    }
   ],
   "source": [
    "df = pd.DataFrame(results, columns=list(results.keys()))\n",
    "df"
   ]
  },
  {
   "cell_type": "markdown",
   "metadata": {},
   "source": [
    "**Question:** What does the time complexity look like for the 3 columns?"
   ]
  },
  {
   "cell_type": "markdown",
   "metadata": {},
   "source": [
    "<br><br><br><br><br><br>\n",
    "\n",
    "**Answer:** Brute force looks linear, the query looks logarithmic(?), the initialization grows _faster than linear_, perhaps $O(n \\log n)$ or perhaps something else, we won't worry about that here."
   ]
  },
  {
   "cell_type": "markdown",
   "metadata": {},
   "source": [
    "**Question:** Which is better, the $k$-d tree or brute force?"
   ]
  },
  {
   "cell_type": "markdown",
   "metadata": {},
   "source": [
    "<br><br><br><br><br><br>\n",
    "\n",
    "**Answer:** It depends how many queries you do."
   ]
  },
  {
   "cell_type": "markdown",
   "metadata": {},
   "source": [
    "## Amoritzation (5 min)"
   ]
  },
  {
   "cell_type": "markdown",
   "metadata": {},
   "source": [
    "Let's focus on $n=10000$, and $k=10$. Then,\n",
    "\n",
    "- $k$-d tree initialization takes $\\approx 4$ ms\n",
    "- $k$-d tree query takes $\\approx 0.1$ ms\n",
    "- brute force search takes $\\approx 1$ ms\n",
    "\n",
    "**Question:** How many queries do we need to do such that the $k$-d tree is better?"
   ]
  },
  {
   "cell_type": "markdown",
   "metadata": {},
   "source": [
    "<br><br><br><br><br><br>\n",
    "**Answer:** around 5.\n",
    "\n",
    "- So if we're doing 100 queries, the $k$-d tree is much better.\n",
    "- This reflects a general phenomenon in algorithms: _doing a lot of work up front to save time later_.\n",
    "  - We saw this earlier with sorting a list and then doing binary search multiple times.\n",
    "- We say the up-front effort is _amortized_ (or spread out) over the many queries.\n",
    "- In some cases, we can make more precise calculations.\n",
    "  - For example, we say hash table operations are $O(1)$.\n",
    "  - In fact, once in a while a slower operation must be done.\n",
    "  - However, we can show that an $O(n)$ operation only needs to be done every $1/n$ steps.\n",
    "  - In which case we say the cost is amortized and the overall cost is still $O(1)$. \n",
    "  - This is an important idea.\n",
    "  - You will see this in DSCI 513 with the idea of indexing a database."
   ]
  },
  {
   "cell_type": "markdown",
   "metadata": {},
   "source": [
    "#### Other nearest neighbour approaches\n",
    "\n",
    "- Note: there are other nearest neighbour approaches besides $k$-d trees, including some very fast approximate algorithms. \n",
    "- In general, _you can often do something faster if the result can be slightly wrong_.\n",
    "- There are approaches based on hashing instead of trees.\n",
    "- Here are some resources:\n",
    "  - [`sklearn.neighbours` documentation](https://scikit-learn.org/stable/modules/neighbors.html#nearest-neighbor-algorithms)\n",
    "  - Approximate nearest neighbours, e.g. [locality-sensitive hashing](https://en.wikipedia.org/wiki/Locality-sensitive_hashing) (LSH), [this package](https://github.com/spotify/annoy)."
   ]
  },
  {
   "cell_type": "markdown",
   "metadata": {},
   "source": [
    "#### Related: amortization of hash table growth"
   ]
  },
  {
   "cell_type": "markdown",
   "metadata": {},
   "source": [
    "- Growth is slow, but only occurs rarely, and so the cost \"averages out\" because after adding $n$ elements you've spent $O(n)$ time on growth, for an average of $O(1)$ per insertion."
   ]
  }
 ],
 "metadata": {
  "kernelspec": {
   "display_name": "Python 3.10.6 ('dsci512')",
   "language": "python",
   "name": "python3"
  },
  "language_info": {
   "codemirror_mode": {
    "name": "ipython",
    "version": 3
   },
   "file_extension": ".py",
   "mimetype": "text/x-python",
   "name": "python",
   "nbconvert_exporter": "python",
   "pygments_lexer": "ipython3",
   "version": "3.10.6"
  },
  "vscode": {
   "interpreter": {
    "hash": "833530e805897aab5e7a30ee530b0bcb4cd19373b840f29eae5897b61b26002e"
   }
  }
 },
 "nbformat": 4,
 "nbformat_minor": 4
}
