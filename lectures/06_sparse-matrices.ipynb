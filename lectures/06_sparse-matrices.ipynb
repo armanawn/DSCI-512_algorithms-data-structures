{
 "cells": [
  {
   "cell_type": "markdown",
   "metadata": {},
   "source": [
    "<img src=\"dsci512_header.png\" width=\"600\">\n",
    "\n",
    "# Lecture 6"
   ]
  },
  {
   "cell_type": "code",
   "execution_count": 1,
   "metadata": {},
   "outputs": [],
   "source": [
    "import numpy as np\n",
    "import networkx as nx\n",
    "import scipy.sparse\n",
    "import urllib.request\n",
    "from collections import Counter"
   ]
  },
  {
   "cell_type": "code",
   "execution_count": 2,
   "metadata": {},
   "outputs": [],
   "source": [
    "# The defaults are hard to see on a projector in class\n",
    "import matplotlib.pyplot as plt\n",
    "plt.rcParams[\"figure.figsize\"] = (4, 3)\n",
    "%config InlineBackend.figure_formats = ['svg']\n",
    "\n",
    "draw_params = {\n",
    "    \"node_color\": \"pink\",\n",
    "    \"font_size\": 16,\n",
    "    \"with_labels\": True,\n",
    "    \"arrowsize\": 15,\n",
    "    # \"width\": 1\n",
    "    # \"node_size\": 200\n",
    "}"
   ]
  },
  {
   "cell_type": "markdown",
   "metadata": {},
   "source": [
    "Outline:\n",
    "\n",
    "- Centrality, PageRank (15 min)\n",
    "- Other graph properties (5 min)\n",
    "- Graph representations: adjacency matrices, adjacency lists (5 min)\n",
    "- Sparse matrices part 1 (15 min)\n",
    "- Break (5 min)\n",
    "- Sparse matrices part 2 (15 min)\n",
    "- Sparse matrix timing (15 min)\n",
    "- Activities (time-permitting)"
   ]
  },
  {
   "cell_type": "markdown",
   "metadata": {},
   "source": [
    "## Learning objectives\n",
    "\n",
    "- Describe the PageRank algorithm.\n",
    "- Convert between adjacency matrices and their corresponding graphs.\n",
    "- Manipulate scipy sparse matrix objects in Python.\n",
    "- Analyze the space complexity of sparse and dense matrix representations.\n",
    "- Appropriately use row-wise vs. column-wise sparse matrices."
   ]
  },
  {
   "cell_type": "markdown",
   "metadata": {},
   "source": [
    "## Centrality, PageRank (10 min)\n"
   ]
  },
  {
   "cell_type": "code",
   "execution_count": 3,
   "metadata": {},
   "outputs": [],
   "source": [
    "sfg = nx.scale_free_graph(10, seed=20)"
   ]
  },
  {
   "cell_type": "code",
   "execution_count": 4,
   "metadata": {},
   "outputs": [
    {
     "data": {
      "image/svg+xml": "<?xml version=\"1.0\" encoding=\"utf-8\" standalone=\"no\"?>\n<!DOCTYPE svg PUBLIC \"-//W3C//DTD SVG 1.1//EN\"\n  \"http://www.w3.org/Graphics/SVG/1.1/DTD/svg11.dtd\">\n<svg xmlns:xlink=\"http://www.w3.org/1999/xlink\" width=\"302.4pt\" height=\"230.4pt\" viewBox=\"0 0 302.4 230.4\" xmlns=\"http://www.w3.org/2000/svg\" version=\"1.1\">\n <metadata>\n  <rdf:RDF xmlns:dc=\"http://purl.org/dc/elements/1.1/\" xmlns:cc=\"http://creativecommons.org/ns#\" xmlns:rdf=\"http://www.w3.org/1999/02/22-rdf-syntax-ns#\">\n   <cc:Work>\n    <dc:type rdf:resource=\"http://purl.org/dc/dcmitype/StillImage\"/>\n    <dc:date>2022-10-30T00:37:23.198732</dc:date>\n    <dc:format>image/svg+xml</dc:format>\n    <dc:creator>\n     <cc:Agent>\n      <dc:title>Matplotlib v3.6.1, https://matplotlib.org/</dc:title>\n     </cc:Agent>\n    </dc:creator>\n   </cc:Work>\n  </rdf:RDF>\n </metadata>\n <defs>\n  <style type=\"text/css\">*{stroke-linejoin: round; stroke-linecap: butt}</style>\n </defs>\n <g id=\"figure_1\">\n  <g id=\"patch_1\">\n   <path d=\"M 0 230.4 \nL 302.4 230.4 \nL 302.4 0 \nL 0 0 \nz\n\" style=\"fill: #ffffff\"/>\n  </g>\n  <g id=\"axes_1\">\n   <g id=\"patch_2\">\n    <path d=\"M 78.786909 135.689467 \nQ 72.43479 165.835771 66.31319 194.888064 \n\" clip-path=\"url(#p840c9f5d96)\" style=\"fill: none; stroke: #000000; stroke-linecap: round\"/>\n    <path d=\"M 70.485825 189.635529 \nL 66.31319 194.888064 \nL 64.614743 188.398435 \nL 70.485825 189.635529 \nz\n\" clip-path=\"url(#p840c9f5d96)\" style=\"stroke: #000000; stroke-linecap: round\"/>\n   </g>\n   <g id=\"patch_3\">\n    <path d=\"M 78.786909 135.689467 \nQ 72.43479 165.835771 66.31319 194.888064 \n\" clip-path=\"url(#p840c9f5d96)\" style=\"fill: none; stroke: #000000; stroke-linecap: round\"/>\n    <path d=\"M 70.485825 189.635529 \nL 66.31319 194.888064 \nL 64.614743 188.398435 \nL 70.485825 189.635529 \nz\n\" clip-path=\"url(#p840c9f5d96)\" style=\"stroke: #000000; stroke-linecap: round\"/>\n   </g>\n   <g id=\"patch_4\">\n    <path d=\"M 86.712929 133.324398 \nQ 91.726975 138.310228 95.948223 142.507722 \n\" clip-path=\"url(#p840c9f5d96)\" style=\"fill: none; stroke: #000000; stroke-linecap: round\"/>\n    <path d=\"M 93.808955 136.149772 \nL 95.948223 142.507722 \nL 89.578302 140.404367 \nL 93.808955 136.149772 \nz\n\" clip-path=\"url(#p840c9f5d96)\" style=\"stroke: #000000; stroke-linecap: round\"/>\n   </g>\n   <g id=\"patch_5\">\n    <path d=\"M 69.268447 197.362666 \nQ 83.589287 176.928535 97.268467 157.409976 \n\" clip-path=\"url(#p840c9f5d96)\" style=\"fill: none; stroke: #000000; stroke-linecap: round\"/>\n    <path d=\"M 91.36822 160.601698 \nL 97.268467 157.409976 \nL 96.281696 164.045206 \nL 91.36822 160.601698 \nz\n\" clip-path=\"url(#p840c9f5d96)\" style=\"stroke: #000000; stroke-linecap: round\"/>\n   </g>\n   <g id=\"patch_6\">\n    <path d=\"M 96.740039 143.295082 \nQ 91.725993 138.309252 87.504744 134.111758 \n\" clip-path=\"url(#p840c9f5d96)\" style=\"fill: none; stroke: #000000; stroke-linecap: round\"/>\n    <path d=\"M 89.644013 140.469708 \nL 87.504744 134.111758 \nL 93.874665 136.215113 \nL 89.644013 140.469708 \nz\n\" clip-path=\"url(#p840c9f5d96)\" style=\"stroke: #000000; stroke-linecap: round\"/>\n   </g>\n   <g id=\"patch_7\">\n    <path d=\"M 96.740039 143.295082 \nQ 91.725993 138.309252 87.504744 134.111758 \n\" clip-path=\"url(#p840c9f5d96)\" style=\"fill: none; stroke: #000000; stroke-linecap: round\"/>\n    <path d=\"M 89.644013 140.469708 \nL 87.504744 134.111758 \nL 93.874665 136.215113 \nL 89.644013 140.469708 \nz\n\" clip-path=\"url(#p840c9f5d96)\" style=\"stroke: #000000; stroke-linecap: round\"/>\n   </g>\n   <g id=\"patch_8\">\n    <path d=\"M 96.740039 143.295082 \nQ 91.725993 138.309252 87.504744 134.111758 \n\" clip-path=\"url(#p840c9f5d96)\" style=\"fill: none; stroke: #000000; stroke-linecap: round\"/>\n    <path d=\"M 89.644013 140.469708 \nL 87.504744 134.111758 \nL 93.874665 136.215113 \nL 89.644013 140.469708 \nz\n\" clip-path=\"url(#p840c9f5d96)\" style=\"stroke: #000000; stroke-linecap: round\"/>\n   </g>\n   <g id=\"patch_9\">\n    <path d=\"M 40.834854 129.688218 \nQ 56.383831 128.721617 70.816928 127.824384 \n\" clip-path=\"url(#p840c9f5d96)\" style=\"fill: none; stroke: #000000; stroke-linecap: round\"/>\n    <path d=\"M 64.642352 125.202435 \nL 70.816928 127.824384 \nL 65.014624 131.190875 \nL 64.642352 125.202435 \nz\n\" clip-path=\"url(#p840c9f5d96)\" style=\"stroke: #000000; stroke-linecap: round\"/>\n   </g>\n   <g id=\"patch_10\">\n    <path d=\"M 40.834854 129.688218 \nQ 56.383831 128.721617 70.816928 127.824384 \n\" clip-path=\"url(#p840c9f5d96)\" style=\"fill: none; stroke: #000000; stroke-linecap: round\"/>\n    <path d=\"M 64.642352 125.202435 \nL 70.816928 127.824384 \nL 65.014624 131.190875 \nL 64.642352 125.202435 \nz\n\" clip-path=\"url(#p840c9f5d96)\" style=\"stroke: #000000; stroke-linecap: round\"/>\n   </g>\n   <g id=\"patch_11\">\n    <path d=\"M 40.834854 129.688218 \nQ 56.383831 128.721617 70.816928 127.824384 \n\" clip-path=\"url(#p840c9f5d96)\" style=\"fill: none; stroke: #000000; stroke-linecap: round\"/>\n    <path d=\"M 64.642352 125.202435 \nL 70.816928 127.824384 \nL 65.014624 131.190875 \nL 64.642352 125.202435 \nz\n\" clip-path=\"url(#p840c9f5d96)\" style=\"stroke: #000000; stroke-linecap: round\"/>\n   </g>\n   <g id=\"patch_12\">\n    <path d=\"M 35.630755 138.176863 \nQ 48.244888 167.341955 60.415195 195.48088 \n\" clip-path=\"url(#p840c9f5d96)\" style=\"fill: none; stroke: #000000; stroke-linecap: round\"/>\n    <path d=\"M 60.786874 188.782981 \nL 60.415195 195.48088 \nL 55.279883 191.164798 \nL 60.786874 188.782981 \nz\n\" clip-path=\"url(#p840c9f5d96)\" style=\"stroke: #000000; stroke-linecap: round\"/>\n   </g>\n   <g id=\"patch_13\">\n    <path d=\"M 156.037319 138.421841 \nQ 122.585943 133.455523 90.24048 128.653392 \n\" clip-path=\"url(#p840c9f5d96)\" style=\"fill: none; stroke: #000000; stroke-linecap: round\"/>\n    <path d=\"M 95.734867 132.501992 \nL 90.24048 128.653392 \nL 96.615992 126.567043 \nL 95.734867 132.501992 \nz\n\" clip-path=\"url(#p840c9f5d96)\" style=\"stroke: #000000; stroke-linecap: round\"/>\n   </g>\n   <g id=\"patch_14\">\n    <path d=\"M 262.393103 92.964091 \nQ 217.407071 114.461532 173.429809 135.476912 \n\" clip-path=\"url(#p840c9f5d96)\" style=\"fill: none; stroke: #000000; stroke-linecap: round\"/>\n    <path d=\"M 180.136943 135.59672 \nL 173.429809 135.476912 \nL 177.549935 130.183089 \nL 180.136943 135.59672 \nz\n\" clip-path=\"url(#p840c9f5d96)\" style=\"stroke: #000000; stroke-linecap: round\"/>\n   </g>\n   <g id=\"patch_15\">\n    <path d=\"M 49.569404 34.161819 \nQ 63.702105 76.582051 77.481418 117.941567 \n\" clip-path=\"url(#p840c9f5d96)\" style=\"fill: none; stroke: #000000; stroke-linecap: round\"/>\n    <path d=\"M 78.431141 111.300933 \nL 77.481418 117.941567 \nL 72.738744 113.197409 \nL 78.431141 111.300933 \nz\n\" clip-path=\"url(#p840c9f5d96)\" style=\"stroke: #000000; stroke-linecap: round\"/>\n   </g>\n   <g id=\"patch_16\">\n    <path d=\"M 212.96915 67.405764 \nQ 191.195231 99.950636 170.043014 131.566268 \n\" clip-path=\"url(#p840c9f5d96)\" style=\"fill: none; stroke: #000000; stroke-linecap: round\"/>\n    <path d=\"M 175.872828 128.247642 \nL 170.043014 131.566268 \nL 170.886002 124.911242 \nL 175.872828 128.247642 \nz\n\" clip-path=\"url(#p840c9f5d96)\" style=\"stroke: #000000; stroke-linecap: round\"/>\n   </g>\n   <g id=\"patch_17\">\n    <path d=\"M 67.778891 53.115244 \nQ 51.799533 87.739329 36.288672 121.348273 \n\" clip-path=\"url(#p840c9f5d96)\" style=\"fill: none; stroke: #000000; stroke-linecap: round\"/>\n    <path d=\"M 41.5268 117.157568 \nL 36.288672 121.348273 \nL 36.078985 114.643347 \nL 41.5268 117.157568 \nz\n\" clip-path=\"url(#p840c9f5d96)\" style=\"stroke: #000000; stroke-linecap: round\"/>\n   </g>\n   <g id=\"patch_18\">\n    <path d=\"M 242.587269 174.034253 \nQ 207.559874 158.609484 173.555695 143.635301 \n\" clip-path=\"url(#p840c9f5d96)\" style=\"fill: none; stroke: #000000; stroke-linecap: round\"/>\n    <path d=\"M 177.8378 148.79898 \nL 173.555695 143.635301 \nL 180.255901 143.307825 \nL 177.8378 148.79898 \nz\n\" clip-path=\"url(#p840c9f5d96)\" style=\"stroke: #000000; stroke-linecap: round\"/>\n   </g>\n   <g id=\"PathCollection_1\">\n    <defs>\n     <path id=\"m9121391063\" d=\"M 0 8.660254 \nC 2.296726 8.660254 4.499694 7.747755 6.123724 6.123724 \nC 7.747755 4.499694 8.660254 2.296726 8.660254 0 \nC 8.660254 -2.296726 7.747755 -4.499694 6.123724 -6.123724 \nC 4.499694 -7.747755 2.296726 -8.660254 0 -8.660254 \nC -2.296726 -8.660254 -4.499694 -7.747755 -6.123724 -6.123724 \nC -7.747755 -4.499694 -8.660254 -2.296726 -8.660254 0 \nC -8.660254 2.296726 -7.747755 4.499694 -6.123724 6.123724 \nC -4.499694 7.747755 -2.296726 8.660254 0 8.660254 \nz\n\" style=\"stroke: #ffc0cb\"/>\n    </defs>\n    <g clip-path=\"url(#p840c9f5d96)\">\n     <use xlink:href=\"#m9121391063\" x=\"80.571937\" y=\"127.217964\" style=\"fill: #ffc0cb; stroke: #ffc0cb\"/>\n     <use xlink:href=\"#m9121391063\" x=\"64.297091\" y=\"204.456198\" style=\"fill: #ffc0cb; stroke: #ffc0cb\"/>\n     <use xlink:href=\"#m9121391063\" x=\"102.88103\" y=\"149.401516\" style=\"fill: #ffc0cb; stroke: #ffc0cb\"/>\n     <use xlink:href=\"#m9121391063\" x=\"32.191736\" y=\"130.225518\" style=\"fill: #ffc0cb; stroke: #ffc0cb\"/>\n     <use xlink:href=\"#m9121391063\" x=\"164.605295\" y=\"139.693875\" style=\"fill: #ffc0cb; stroke: #ffc0cb\"/>\n     <use xlink:href=\"#m9121391063\" x=\"270.208264\" y=\"89.229466\" style=\"fill: #ffc0cb; stroke: #ffc0cb\"/>\n     <use xlink:href=\"#m9121391063\" x=\"46.831493\" y=\"25.943802\" style=\"fill: #ffc0cb; stroke: #ffc0cb\"/>\n     <use xlink:href=\"#m9121391063\" x=\"217.784276\" y=\"60.208729\" style=\"fill: #ffc0cb; stroke: #ffc0cb\"/>\n     <use xlink:href=\"#m9121391063\" x=\"71.408817\" y=\"45.249918\" style=\"fill: #ffc0cb; stroke: #ffc0cb\"/>\n     <use xlink:href=\"#m9121391063\" x=\"250.512618\" y=\"177.524284\" style=\"fill: #ffc0cb; stroke: #ffc0cb\"/>\n    </g>\n   </g>\n   <g id=\"text_1\">\n    <g clip-path=\"url(#p840c9f5d96)\">\n     <!-- 0 -->\n     <g transform=\"translate(75.481937 131.632964) scale(0.16 -0.16)\">\n      <defs>\n       <path id=\"DejaVuSans-30\" d=\"M 2034 4250 \nQ 1547 4250 1301 3770 \nQ 1056 3291 1056 2328 \nQ 1056 1369 1301 889 \nQ 1547 409 2034 409 \nQ 2525 409 2770 889 \nQ 3016 1369 3016 2328 \nQ 3016 3291 2770 3770 \nQ 2525 4250 2034 4250 \nz\nM 2034 4750 \nQ 2819 4750 3233 4129 \nQ 3647 3509 3647 2328 \nQ 3647 1150 3233 529 \nQ 2819 -91 2034 -91 \nQ 1250 -91 836 529 \nQ 422 1150 422 2328 \nQ 422 3509 836 4129 \nQ 1250 4750 2034 4750 \nz\n\" transform=\"scale(0.015625)\"/>\n      </defs>\n      <use xlink:href=\"#DejaVuSans-30\"/>\n     </g>\n    </g>\n   </g>\n   <g id=\"text_2\">\n    <g clip-path=\"url(#p840c9f5d96)\">\n     <!-- 1 -->\n     <g transform=\"translate(59.207091 208.871198) scale(0.16 -0.16)\">\n      <defs>\n       <path id=\"DejaVuSans-31\" d=\"M 794 531 \nL 1825 531 \nL 1825 4091 \nL 703 3866 \nL 703 4441 \nL 1819 4666 \nL 2450 4666 \nL 2450 531 \nL 3481 531 \nL 3481 0 \nL 794 0 \nL 794 531 \nz\n\" transform=\"scale(0.015625)\"/>\n      </defs>\n      <use xlink:href=\"#DejaVuSans-31\"/>\n     </g>\n    </g>\n   </g>\n   <g id=\"text_3\">\n    <g clip-path=\"url(#p840c9f5d96)\">\n     <!-- 2 -->\n     <g transform=\"translate(97.79103 153.816516) scale(0.16 -0.16)\">\n      <defs>\n       <path id=\"DejaVuSans-32\" d=\"M 1228 531 \nL 3431 531 \nL 3431 0 \nL 469 0 \nL 469 531 \nQ 828 903 1448 1529 \nQ 2069 2156 2228 2338 \nQ 2531 2678 2651 2914 \nQ 2772 3150 2772 3378 \nQ 2772 3750 2511 3984 \nQ 2250 4219 1831 4219 \nQ 1534 4219 1204 4116 \nQ 875 4013 500 3803 \nL 500 4441 \nQ 881 4594 1212 4672 \nQ 1544 4750 1819 4750 \nQ 2544 4750 2975 4387 \nQ 3406 4025 3406 3419 \nQ 3406 3131 3298 2873 \nQ 3191 2616 2906 2266 \nQ 2828 2175 2409 1742 \nQ 1991 1309 1228 531 \nz\n\" transform=\"scale(0.015625)\"/>\n      </defs>\n      <use xlink:href=\"#DejaVuSans-32\"/>\n     </g>\n    </g>\n   </g>\n   <g id=\"text_4\">\n    <g clip-path=\"url(#p840c9f5d96)\">\n     <!-- 3 -->\n     <g transform=\"translate(27.101736 134.640518) scale(0.16 -0.16)\">\n      <defs>\n       <path id=\"DejaVuSans-33\" d=\"M 2597 2516 \nQ 3050 2419 3304 2112 \nQ 3559 1806 3559 1356 \nQ 3559 666 3084 287 \nQ 2609 -91 1734 -91 \nQ 1441 -91 1130 -33 \nQ 819 25 488 141 \nL 488 750 \nQ 750 597 1062 519 \nQ 1375 441 1716 441 \nQ 2309 441 2620 675 \nQ 2931 909 2931 1356 \nQ 2931 1769 2642 2001 \nQ 2353 2234 1838 2234 \nL 1294 2234 \nL 1294 2753 \nL 1863 2753 \nQ 2328 2753 2575 2939 \nQ 2822 3125 2822 3475 \nQ 2822 3834 2567 4026 \nQ 2313 4219 1838 4219 \nQ 1578 4219 1281 4162 \nQ 984 4106 628 3988 \nL 628 4550 \nQ 988 4650 1302 4700 \nQ 1616 4750 1894 4750 \nQ 2613 4750 3031 4423 \nQ 3450 4097 3450 3541 \nQ 3450 3153 3228 2886 \nQ 3006 2619 2597 2516 \nz\n\" transform=\"scale(0.015625)\"/>\n      </defs>\n      <use xlink:href=\"#DejaVuSans-33\"/>\n     </g>\n    </g>\n   </g>\n   <g id=\"text_5\">\n    <g clip-path=\"url(#p840c9f5d96)\">\n     <!-- 4 -->\n     <g transform=\"translate(159.515295 144.108875) scale(0.16 -0.16)\">\n      <defs>\n       <path id=\"DejaVuSans-34\" d=\"M 2419 4116 \nL 825 1625 \nL 2419 1625 \nL 2419 4116 \nz\nM 2253 4666 \nL 3047 4666 \nL 3047 1625 \nL 3713 1625 \nL 3713 1100 \nL 3047 1100 \nL 3047 0 \nL 2419 0 \nL 2419 1100 \nL 313 1100 \nL 313 1709 \nL 2253 4666 \nz\n\" transform=\"scale(0.015625)\"/>\n      </defs>\n      <use xlink:href=\"#DejaVuSans-34\"/>\n     </g>\n    </g>\n   </g>\n   <g id=\"text_6\">\n    <g clip-path=\"url(#p840c9f5d96)\">\n     <!-- 5 -->\n     <g transform=\"translate(265.118264 93.644466) scale(0.16 -0.16)\">\n      <defs>\n       <path id=\"DejaVuSans-35\" d=\"M 691 4666 \nL 3169 4666 \nL 3169 4134 \nL 1269 4134 \nL 1269 2991 \nQ 1406 3038 1543 3061 \nQ 1681 3084 1819 3084 \nQ 2600 3084 3056 2656 \nQ 3513 2228 3513 1497 \nQ 3513 744 3044 326 \nQ 2575 -91 1722 -91 \nQ 1428 -91 1123 -41 \nQ 819 9 494 109 \nL 494 744 \nQ 775 591 1075 516 \nQ 1375 441 1709 441 \nQ 2250 441 2565 725 \nQ 2881 1009 2881 1497 \nQ 2881 1984 2565 2268 \nQ 2250 2553 1709 2553 \nQ 1456 2553 1204 2497 \nQ 953 2441 691 2322 \nL 691 4666 \nz\n\" transform=\"scale(0.015625)\"/>\n      </defs>\n      <use xlink:href=\"#DejaVuSans-35\"/>\n     </g>\n    </g>\n   </g>\n   <g id=\"text_7\">\n    <g clip-path=\"url(#p840c9f5d96)\">\n     <!-- 6 -->\n     <g transform=\"translate(41.741493 30.358802) scale(0.16 -0.16)\">\n      <defs>\n       <path id=\"DejaVuSans-36\" d=\"M 2113 2584 \nQ 1688 2584 1439 2293 \nQ 1191 2003 1191 1497 \nQ 1191 994 1439 701 \nQ 1688 409 2113 409 \nQ 2538 409 2786 701 \nQ 3034 994 3034 1497 \nQ 3034 2003 2786 2293 \nQ 2538 2584 2113 2584 \nz\nM 3366 4563 \nL 3366 3988 \nQ 3128 4100 2886 4159 \nQ 2644 4219 2406 4219 \nQ 1781 4219 1451 3797 \nQ 1122 3375 1075 2522 \nQ 1259 2794 1537 2939 \nQ 1816 3084 2150 3084 \nQ 2853 3084 3261 2657 \nQ 3669 2231 3669 1497 \nQ 3669 778 3244 343 \nQ 2819 -91 2113 -91 \nQ 1303 -91 875 529 \nQ 447 1150 447 2328 \nQ 447 3434 972 4092 \nQ 1497 4750 2381 4750 \nQ 2619 4750 2861 4703 \nQ 3103 4656 3366 4563 \nz\n\" transform=\"scale(0.015625)\"/>\n      </defs>\n      <use xlink:href=\"#DejaVuSans-36\"/>\n     </g>\n    </g>\n   </g>\n   <g id=\"text_8\">\n    <g clip-path=\"url(#p840c9f5d96)\">\n     <!-- 7 -->\n     <g transform=\"translate(212.694276 64.623729) scale(0.16 -0.16)\">\n      <defs>\n       <path id=\"DejaVuSans-37\" d=\"M 525 4666 \nL 3525 4666 \nL 3525 4397 \nL 1831 0 \nL 1172 0 \nL 2766 4134 \nL 525 4134 \nL 525 4666 \nz\n\" transform=\"scale(0.015625)\"/>\n      </defs>\n      <use xlink:href=\"#DejaVuSans-37\"/>\n     </g>\n    </g>\n   </g>\n   <g id=\"text_9\">\n    <g clip-path=\"url(#p840c9f5d96)\">\n     <!-- 8 -->\n     <g transform=\"translate(66.318817 49.664918) scale(0.16 -0.16)\">\n      <defs>\n       <path id=\"DejaVuSans-38\" d=\"M 2034 2216 \nQ 1584 2216 1326 1975 \nQ 1069 1734 1069 1313 \nQ 1069 891 1326 650 \nQ 1584 409 2034 409 \nQ 2484 409 2743 651 \nQ 3003 894 3003 1313 \nQ 3003 1734 2745 1975 \nQ 2488 2216 2034 2216 \nz\nM 1403 2484 \nQ 997 2584 770 2862 \nQ 544 3141 544 3541 \nQ 544 4100 942 4425 \nQ 1341 4750 2034 4750 \nQ 2731 4750 3128 4425 \nQ 3525 4100 3525 3541 \nQ 3525 3141 3298 2862 \nQ 3072 2584 2669 2484 \nQ 3125 2378 3379 2068 \nQ 3634 1759 3634 1313 \nQ 3634 634 3220 271 \nQ 2806 -91 2034 -91 \nQ 1263 -91 848 271 \nQ 434 634 434 1313 \nQ 434 1759 690 2068 \nQ 947 2378 1403 2484 \nz\nM 1172 3481 \nQ 1172 3119 1398 2916 \nQ 1625 2713 2034 2713 \nQ 2441 2713 2670 2916 \nQ 2900 3119 2900 3481 \nQ 2900 3844 2670 4047 \nQ 2441 4250 2034 4250 \nQ 1625 4250 1398 4047 \nQ 1172 3844 1172 3481 \nz\n\" transform=\"scale(0.015625)\"/>\n      </defs>\n      <use xlink:href=\"#DejaVuSans-38\"/>\n     </g>\n    </g>\n   </g>\n   <g id=\"text_10\">\n    <g clip-path=\"url(#p840c9f5d96)\">\n     <!-- 9 -->\n     <g transform=\"translate(245.422618 181.939284) scale(0.16 -0.16)\">\n      <defs>\n       <path id=\"DejaVuSans-39\" d=\"M 703 97 \nL 703 672 \nQ 941 559 1184 500 \nQ 1428 441 1663 441 \nQ 2288 441 2617 861 \nQ 2947 1281 2994 2138 \nQ 2813 1869 2534 1725 \nQ 2256 1581 1919 1581 \nQ 1219 1581 811 2004 \nQ 403 2428 403 3163 \nQ 403 3881 828 4315 \nQ 1253 4750 1959 4750 \nQ 2769 4750 3195 4129 \nQ 3622 3509 3622 2328 \nQ 3622 1225 3098 567 \nQ 2575 -91 1691 -91 \nQ 1453 -91 1209 -44 \nQ 966 3 703 97 \nz\nM 1959 2075 \nQ 2384 2075 2632 2365 \nQ 2881 2656 2881 3163 \nQ 2881 3666 2632 3958 \nQ 2384 4250 1959 4250 \nQ 1534 4250 1286 3958 \nQ 1038 3666 1038 3163 \nQ 1038 2656 1286 2365 \nQ 1534 2075 1959 2075 \nz\n\" transform=\"scale(0.015625)\"/>\n      </defs>\n      <use xlink:href=\"#DejaVuSans-39\"/>\n     </g>\n    </g>\n   </g>\n  </g>\n </g>\n <defs>\n  <clipPath id=\"p840c9f5d96\">\n   <rect x=\"7.2\" y=\"7.2\" width=\"288\" height=\"216\"/>\n  </clipPath>\n </defs>\n</svg>\n",
      "text/plain": [
       "<Figure size 400x300 with 1 Axes>"
      ]
     },
     "metadata": {},
     "output_type": "display_data"
    }
   ],
   "source": [
    "nx.draw(sfg, **draw_params, pos=nx.spring_layout(sfg, seed=1))"
   ]
  },
  {
   "cell_type": "markdown",
   "metadata": {},
   "source": [
    "- Which is the most \"important\" webpage here? Perhaps $0$ or $1$? \n",
    "- This is a question known as [centrality](https://en.wikipedia.org/wiki/Centrality). \n",
    "  - See also the idea of a [hub](https://en.wikipedia.org/wiki/Hub_(network_science)) (not discussed further).\n",
    "- We'll focus on a particular measure of centrality, [PageRank](https://en.wikipedia.org/wiki/PageRank).\n",
    "    - This is the algorithm that made Google the best search engine."
   ]
  },
  {
   "cell_type": "markdown",
   "metadata": {},
   "source": [
    "- Conceptual model: let websites be nodes in a graph.\n",
    "  - Put a directed edge from site $A$ to $B$ if site $A$ links to site $B$.\n",
    "- There is a specific definition of PageRank.\n",
    "  - The way to find it is mathematically beautiful and is essentially a linear algebra problem.\n",
    "  - That is beyond the scope here."
   ]
  },
  {
   "cell_type": "markdown",
   "metadata": {},
   "source": [
    "- But we can approximate the PageRank with Monte Carlo, with a \"simulated web surfer\", as follows:\n",
    "  1. We start at some random node\n",
    "  2. With probability $\\alpha$ choose a completely random node in the graph (this emulates the user going to a random new page); with probability $(1−\\alpha)$ choose a random neighbour of the current node (this emulates the user clicking on a link on the page). \n",
    "  3. Repeat Step 2 $n$ times.\n",
    "  4. The ranking of each node is proportional to the number of times this random walk visits the node.\n",
    "- To repeat, this is **not** how Google computes PageRank; there is a more elegant/efficient way."
   ]
  },
  {
   "cell_type": "code",
   "execution_count": 5,
   "metadata": {},
   "outputs": [],
   "source": [
    "def page_rank(G, alpha=0.1, iters=100_000):\n",
    "    \"\"\"\n",
    "    Compute the PageRank for all nodes in the directed graph G.\n",
    "    Returns a dictionary of the PageRank for all nodes.\n",
    "\n",
    "    Parameters\n",
    "    ----------\n",
    "    G : networkx.classes.graph.DiGraph\n",
    "        the graph\n",
    "    alpha : float\n",
    "        the probability of surfing to a random page\n",
    "    iters : int\n",
    "        the number of iterations of simulation to perform\n",
    "\n",
    "    Returns\n",
    "    -------\n",
    "    collections.Counter \n",
    "        A dictionary containing the PageRank for each node.\n",
    "\n",
    "    Example\n",
    "    --------\n",
    "    >>> pr = page_rank(nx.scale_free_graph(3))\n",
    "    Counter({2: 33349, 0: 33371, 1: 33280})\n",
    "    \"\"\"\n",
    "\n",
    "    visited = Counter()\n",
    "\n",
    "    nodes = G.nodes()\n",
    "    current_node = np.random.choice(nodes)\n",
    "    for i in range(iters):\n",
    "        if np.random.random() < alpha:\n",
    "            current_node = np.random.choice(nodes)\n",
    "        else:\n",
    "            current_node = np.random.choice(list(G.neighbors(current_node)))\n",
    "        visited[current_node] += 1\n",
    "\n",
    "    return visited"
   ]
  },
  {
   "cell_type": "markdown",
   "metadata": {},
   "source": [
    "Let's look at the code:\n",
    "\n",
    "- We start at a random node.\n",
    "- For each iteration:\n",
    "- With probability $\\alpha$, go to a random node.\n",
    "- Else (with probability $1-\\alpha$) go to a random neighbour.\n",
    "- Keep score whenever you visit a node.\n",
    "- That's it!"
   ]
  },
  {
   "cell_type": "code",
   "execution_count": 6,
   "metadata": {},
   "outputs": [],
   "source": [
    "pr = page_rank(sfg)"
   ]
  },
  {
   "cell_type": "code",
   "execution_count": 7,
   "metadata": {},
   "outputs": [
    {
     "data": {
      "text/plain": [
       "[(0, 36715),\n",
       " (2, 34095),\n",
       " (1, 18440),\n",
       " (4, 3760),\n",
       " (3, 1957),\n",
       " (9, 1060),\n",
       " (5, 1037),\n",
       " (8, 1035),\n",
       " (6, 965),\n",
       " (7, 936)]"
      ]
     },
     "execution_count": 7,
     "metadata": {},
     "output_type": "execute_result"
    }
   ],
   "source": [
    "pr.most_common()"
   ]
  },
  {
   "cell_type": "markdown",
   "metadata": {},
   "source": [
    "Here's the graph again, so it's nearby:"
   ]
  },
  {
   "cell_type": "code",
   "execution_count": 8,
   "metadata": {},
   "outputs": [
    {
     "data": {
      "image/svg+xml": "<?xml version=\"1.0\" encoding=\"utf-8\" standalone=\"no\"?>\n<!DOCTYPE svg PUBLIC \"-//W3C//DTD SVG 1.1//EN\"\n  \"http://www.w3.org/Graphics/SVG/1.1/DTD/svg11.dtd\">\n<svg xmlns:xlink=\"http://www.w3.org/1999/xlink\" width=\"302.4pt\" height=\"230.4pt\" viewBox=\"0 0 302.4 230.4\" xmlns=\"http://www.w3.org/2000/svg\" version=\"1.1\">\n <metadata>\n  <rdf:RDF xmlns:dc=\"http://purl.org/dc/elements/1.1/\" xmlns:cc=\"http://creativecommons.org/ns#\" xmlns:rdf=\"http://www.w3.org/1999/02/22-rdf-syntax-ns#\">\n   <cc:Work>\n    <dc:type rdf:resource=\"http://purl.org/dc/dcmitype/StillImage\"/>\n    <dc:date>2022-10-30T00:37:28.671270</dc:date>\n    <dc:format>image/svg+xml</dc:format>\n    <dc:creator>\n     <cc:Agent>\n      <dc:title>Matplotlib v3.6.1, https://matplotlib.org/</dc:title>\n     </cc:Agent>\n    </dc:creator>\n   </cc:Work>\n  </rdf:RDF>\n </metadata>\n <defs>\n  <style type=\"text/css\">*{stroke-linejoin: round; stroke-linecap: butt}</style>\n </defs>\n <g id=\"figure_1\">\n  <g id=\"patch_1\">\n   <path d=\"M 0 230.4 \nL 302.4 230.4 \nL 302.4 0 \nL 0 0 \nz\n\" style=\"fill: #ffffff\"/>\n  </g>\n  <g id=\"axes_1\">\n   <g id=\"patch_2\">\n    <path d=\"M 78.786909 135.689467 \nQ 72.43479 165.835771 66.31319 194.888064 \n\" clip-path=\"url(#pf52d215d49)\" style=\"fill: none; stroke: #000000; stroke-linecap: round\"/>\n    <path d=\"M 70.485825 189.635529 \nL 66.31319 194.888064 \nL 64.614743 188.398435 \nL 70.485825 189.635529 \nz\n\" clip-path=\"url(#pf52d215d49)\" style=\"stroke: #000000; stroke-linecap: round\"/>\n   </g>\n   <g id=\"patch_3\">\n    <path d=\"M 78.786909 135.689467 \nQ 72.43479 165.835771 66.31319 194.888064 \n\" clip-path=\"url(#pf52d215d49)\" style=\"fill: none; stroke: #000000; stroke-linecap: round\"/>\n    <path d=\"M 70.485825 189.635529 \nL 66.31319 194.888064 \nL 64.614743 188.398435 \nL 70.485825 189.635529 \nz\n\" clip-path=\"url(#pf52d215d49)\" style=\"stroke: #000000; stroke-linecap: round\"/>\n   </g>\n   <g id=\"patch_4\">\n    <path d=\"M 86.712929 133.324398 \nQ 91.726975 138.310228 95.948223 142.507722 \n\" clip-path=\"url(#pf52d215d49)\" style=\"fill: none; stroke: #000000; stroke-linecap: round\"/>\n    <path d=\"M 93.808955 136.149772 \nL 95.948223 142.507722 \nL 89.578302 140.404367 \nL 93.808955 136.149772 \nz\n\" clip-path=\"url(#pf52d215d49)\" style=\"stroke: #000000; stroke-linecap: round\"/>\n   </g>\n   <g id=\"patch_5\">\n    <path d=\"M 69.268447 197.362666 \nQ 83.589287 176.928535 97.268467 157.409976 \n\" clip-path=\"url(#pf52d215d49)\" style=\"fill: none; stroke: #000000; stroke-linecap: round\"/>\n    <path d=\"M 91.36822 160.601698 \nL 97.268467 157.409976 \nL 96.281696 164.045206 \nL 91.36822 160.601698 \nz\n\" clip-path=\"url(#pf52d215d49)\" style=\"stroke: #000000; stroke-linecap: round\"/>\n   </g>\n   <g id=\"patch_6\">\n    <path d=\"M 96.740039 143.295082 \nQ 91.725993 138.309252 87.504744 134.111758 \n\" clip-path=\"url(#pf52d215d49)\" style=\"fill: none; stroke: #000000; stroke-linecap: round\"/>\n    <path d=\"M 89.644013 140.469708 \nL 87.504744 134.111758 \nL 93.874665 136.215113 \nL 89.644013 140.469708 \nz\n\" clip-path=\"url(#pf52d215d49)\" style=\"stroke: #000000; stroke-linecap: round\"/>\n   </g>\n   <g id=\"patch_7\">\n    <path d=\"M 96.740039 143.295082 \nQ 91.725993 138.309252 87.504744 134.111758 \n\" clip-path=\"url(#pf52d215d49)\" style=\"fill: none; stroke: #000000; stroke-linecap: round\"/>\n    <path d=\"M 89.644013 140.469708 \nL 87.504744 134.111758 \nL 93.874665 136.215113 \nL 89.644013 140.469708 \nz\n\" clip-path=\"url(#pf52d215d49)\" style=\"stroke: #000000; stroke-linecap: round\"/>\n   </g>\n   <g id=\"patch_8\">\n    <path d=\"M 96.740039 143.295082 \nQ 91.725993 138.309252 87.504744 134.111758 \n\" clip-path=\"url(#pf52d215d49)\" style=\"fill: none; stroke: #000000; stroke-linecap: round\"/>\n    <path d=\"M 89.644013 140.469708 \nL 87.504744 134.111758 \nL 93.874665 136.215113 \nL 89.644013 140.469708 \nz\n\" clip-path=\"url(#pf52d215d49)\" style=\"stroke: #000000; stroke-linecap: round\"/>\n   </g>\n   <g id=\"patch_9\">\n    <path d=\"M 40.834854 129.688218 \nQ 56.383831 128.721617 70.816928 127.824384 \n\" clip-path=\"url(#pf52d215d49)\" style=\"fill: none; stroke: #000000; stroke-linecap: round\"/>\n    <path d=\"M 64.642352 125.202435 \nL 70.816928 127.824384 \nL 65.014624 131.190875 \nL 64.642352 125.202435 \nz\n\" clip-path=\"url(#pf52d215d49)\" style=\"stroke: #000000; stroke-linecap: round\"/>\n   </g>\n   <g id=\"patch_10\">\n    <path d=\"M 40.834854 129.688218 \nQ 56.383831 128.721617 70.816928 127.824384 \n\" clip-path=\"url(#pf52d215d49)\" style=\"fill: none; stroke: #000000; stroke-linecap: round\"/>\n    <path d=\"M 64.642352 125.202435 \nL 70.816928 127.824384 \nL 65.014624 131.190875 \nL 64.642352 125.202435 \nz\n\" clip-path=\"url(#pf52d215d49)\" style=\"stroke: #000000; stroke-linecap: round\"/>\n   </g>\n   <g id=\"patch_11\">\n    <path d=\"M 40.834854 129.688218 \nQ 56.383831 128.721617 70.816928 127.824384 \n\" clip-path=\"url(#pf52d215d49)\" style=\"fill: none; stroke: #000000; stroke-linecap: round\"/>\n    <path d=\"M 64.642352 125.202435 \nL 70.816928 127.824384 \nL 65.014624 131.190875 \nL 64.642352 125.202435 \nz\n\" clip-path=\"url(#pf52d215d49)\" style=\"stroke: #000000; stroke-linecap: round\"/>\n   </g>\n   <g id=\"patch_12\">\n    <path d=\"M 35.630755 138.176863 \nQ 48.244888 167.341955 60.415195 195.48088 \n\" clip-path=\"url(#pf52d215d49)\" style=\"fill: none; stroke: #000000; stroke-linecap: round\"/>\n    <path d=\"M 60.786874 188.782981 \nL 60.415195 195.48088 \nL 55.279883 191.164798 \nL 60.786874 188.782981 \nz\n\" clip-path=\"url(#pf52d215d49)\" style=\"stroke: #000000; stroke-linecap: round\"/>\n   </g>\n   <g id=\"patch_13\">\n    <path d=\"M 156.037319 138.421841 \nQ 122.585943 133.455523 90.24048 128.653392 \n\" clip-path=\"url(#pf52d215d49)\" style=\"fill: none; stroke: #000000; stroke-linecap: round\"/>\n    <path d=\"M 95.734867 132.501992 \nL 90.24048 128.653392 \nL 96.615992 126.567043 \nL 95.734867 132.501992 \nz\n\" clip-path=\"url(#pf52d215d49)\" style=\"stroke: #000000; stroke-linecap: round\"/>\n   </g>\n   <g id=\"patch_14\">\n    <path d=\"M 262.393103 92.964091 \nQ 217.407071 114.461532 173.429809 135.476912 \n\" clip-path=\"url(#pf52d215d49)\" style=\"fill: none; stroke: #000000; stroke-linecap: round\"/>\n    <path d=\"M 180.136943 135.59672 \nL 173.429809 135.476912 \nL 177.549935 130.183089 \nL 180.136943 135.59672 \nz\n\" clip-path=\"url(#pf52d215d49)\" style=\"stroke: #000000; stroke-linecap: round\"/>\n   </g>\n   <g id=\"patch_15\">\n    <path d=\"M 49.569404 34.161819 \nQ 63.702105 76.582051 77.481418 117.941567 \n\" clip-path=\"url(#pf52d215d49)\" style=\"fill: none; stroke: #000000; stroke-linecap: round\"/>\n    <path d=\"M 78.431141 111.300933 \nL 77.481418 117.941567 \nL 72.738744 113.197409 \nL 78.431141 111.300933 \nz\n\" clip-path=\"url(#pf52d215d49)\" style=\"stroke: #000000; stroke-linecap: round\"/>\n   </g>\n   <g id=\"patch_16\">\n    <path d=\"M 212.96915 67.405764 \nQ 191.195231 99.950636 170.043014 131.566268 \n\" clip-path=\"url(#pf52d215d49)\" style=\"fill: none; stroke: #000000; stroke-linecap: round\"/>\n    <path d=\"M 175.872828 128.247642 \nL 170.043014 131.566268 \nL 170.886002 124.911242 \nL 175.872828 128.247642 \nz\n\" clip-path=\"url(#pf52d215d49)\" style=\"stroke: #000000; stroke-linecap: round\"/>\n   </g>\n   <g id=\"patch_17\">\n    <path d=\"M 67.778891 53.115244 \nQ 51.799533 87.739329 36.288672 121.348273 \n\" clip-path=\"url(#pf52d215d49)\" style=\"fill: none; stroke: #000000; stroke-linecap: round\"/>\n    <path d=\"M 41.5268 117.157568 \nL 36.288672 121.348273 \nL 36.078985 114.643347 \nL 41.5268 117.157568 \nz\n\" clip-path=\"url(#pf52d215d49)\" style=\"stroke: #000000; stroke-linecap: round\"/>\n   </g>\n   <g id=\"patch_18\">\n    <path d=\"M 242.587269 174.034253 \nQ 207.559874 158.609484 173.555695 143.635301 \n\" clip-path=\"url(#pf52d215d49)\" style=\"fill: none; stroke: #000000; stroke-linecap: round\"/>\n    <path d=\"M 177.8378 148.79898 \nL 173.555695 143.635301 \nL 180.255901 143.307825 \nL 177.8378 148.79898 \nz\n\" clip-path=\"url(#pf52d215d49)\" style=\"stroke: #000000; stroke-linecap: round\"/>\n   </g>\n   <g id=\"PathCollection_1\">\n    <defs>\n     <path id=\"m24ee58ab39\" d=\"M 0 8.660254 \nC 2.296726 8.660254 4.499694 7.747755 6.123724 6.123724 \nC 7.747755 4.499694 8.660254 2.296726 8.660254 0 \nC 8.660254 -2.296726 7.747755 -4.499694 6.123724 -6.123724 \nC 4.499694 -7.747755 2.296726 -8.660254 0 -8.660254 \nC -2.296726 -8.660254 -4.499694 -7.747755 -6.123724 -6.123724 \nC -7.747755 -4.499694 -8.660254 -2.296726 -8.660254 0 \nC -8.660254 2.296726 -7.747755 4.499694 -6.123724 6.123724 \nC -4.499694 7.747755 -2.296726 8.660254 0 8.660254 \nz\n\" style=\"stroke: #ffc0cb\"/>\n    </defs>\n    <g clip-path=\"url(#pf52d215d49)\">\n     <use xlink:href=\"#m24ee58ab39\" x=\"80.571937\" y=\"127.217964\" style=\"fill: #ffc0cb; stroke: #ffc0cb\"/>\n     <use xlink:href=\"#m24ee58ab39\" x=\"64.297091\" y=\"204.456198\" style=\"fill: #ffc0cb; stroke: #ffc0cb\"/>\n     <use xlink:href=\"#m24ee58ab39\" x=\"102.88103\" y=\"149.401516\" style=\"fill: #ffc0cb; stroke: #ffc0cb\"/>\n     <use xlink:href=\"#m24ee58ab39\" x=\"32.191736\" y=\"130.225518\" style=\"fill: #ffc0cb; stroke: #ffc0cb\"/>\n     <use xlink:href=\"#m24ee58ab39\" x=\"164.605295\" y=\"139.693875\" style=\"fill: #ffc0cb; stroke: #ffc0cb\"/>\n     <use xlink:href=\"#m24ee58ab39\" x=\"270.208264\" y=\"89.229466\" style=\"fill: #ffc0cb; stroke: #ffc0cb\"/>\n     <use xlink:href=\"#m24ee58ab39\" x=\"46.831493\" y=\"25.943802\" style=\"fill: #ffc0cb; stroke: #ffc0cb\"/>\n     <use xlink:href=\"#m24ee58ab39\" x=\"217.784276\" y=\"60.208729\" style=\"fill: #ffc0cb; stroke: #ffc0cb\"/>\n     <use xlink:href=\"#m24ee58ab39\" x=\"71.408817\" y=\"45.249918\" style=\"fill: #ffc0cb; stroke: #ffc0cb\"/>\n     <use xlink:href=\"#m24ee58ab39\" x=\"250.512618\" y=\"177.524284\" style=\"fill: #ffc0cb; stroke: #ffc0cb\"/>\n    </g>\n   </g>\n   <g id=\"text_1\">\n    <g clip-path=\"url(#pf52d215d49)\">\n     <!-- 0 -->\n     <g transform=\"translate(75.481937 131.632964) scale(0.16 -0.16)\">\n      <defs>\n       <path id=\"DejaVuSans-30\" d=\"M 2034 4250 \nQ 1547 4250 1301 3770 \nQ 1056 3291 1056 2328 \nQ 1056 1369 1301 889 \nQ 1547 409 2034 409 \nQ 2525 409 2770 889 \nQ 3016 1369 3016 2328 \nQ 3016 3291 2770 3770 \nQ 2525 4250 2034 4250 \nz\nM 2034 4750 \nQ 2819 4750 3233 4129 \nQ 3647 3509 3647 2328 \nQ 3647 1150 3233 529 \nQ 2819 -91 2034 -91 \nQ 1250 -91 836 529 \nQ 422 1150 422 2328 \nQ 422 3509 836 4129 \nQ 1250 4750 2034 4750 \nz\n\" transform=\"scale(0.015625)\"/>\n      </defs>\n      <use xlink:href=\"#DejaVuSans-30\"/>\n     </g>\n    </g>\n   </g>\n   <g id=\"text_2\">\n    <g clip-path=\"url(#pf52d215d49)\">\n     <!-- 1 -->\n     <g transform=\"translate(59.207091 208.871198) scale(0.16 -0.16)\">\n      <defs>\n       <path id=\"DejaVuSans-31\" d=\"M 794 531 \nL 1825 531 \nL 1825 4091 \nL 703 3866 \nL 703 4441 \nL 1819 4666 \nL 2450 4666 \nL 2450 531 \nL 3481 531 \nL 3481 0 \nL 794 0 \nL 794 531 \nz\n\" transform=\"scale(0.015625)\"/>\n      </defs>\n      <use xlink:href=\"#DejaVuSans-31\"/>\n     </g>\n    </g>\n   </g>\n   <g id=\"text_3\">\n    <g clip-path=\"url(#pf52d215d49)\">\n     <!-- 2 -->\n     <g transform=\"translate(97.79103 153.816516) scale(0.16 -0.16)\">\n      <defs>\n       <path id=\"DejaVuSans-32\" d=\"M 1228 531 \nL 3431 531 \nL 3431 0 \nL 469 0 \nL 469 531 \nQ 828 903 1448 1529 \nQ 2069 2156 2228 2338 \nQ 2531 2678 2651 2914 \nQ 2772 3150 2772 3378 \nQ 2772 3750 2511 3984 \nQ 2250 4219 1831 4219 \nQ 1534 4219 1204 4116 \nQ 875 4013 500 3803 \nL 500 4441 \nQ 881 4594 1212 4672 \nQ 1544 4750 1819 4750 \nQ 2544 4750 2975 4387 \nQ 3406 4025 3406 3419 \nQ 3406 3131 3298 2873 \nQ 3191 2616 2906 2266 \nQ 2828 2175 2409 1742 \nQ 1991 1309 1228 531 \nz\n\" transform=\"scale(0.015625)\"/>\n      </defs>\n      <use xlink:href=\"#DejaVuSans-32\"/>\n     </g>\n    </g>\n   </g>\n   <g id=\"text_4\">\n    <g clip-path=\"url(#pf52d215d49)\">\n     <!-- 3 -->\n     <g transform=\"translate(27.101736 134.640518) scale(0.16 -0.16)\">\n      <defs>\n       <path id=\"DejaVuSans-33\" d=\"M 2597 2516 \nQ 3050 2419 3304 2112 \nQ 3559 1806 3559 1356 \nQ 3559 666 3084 287 \nQ 2609 -91 1734 -91 \nQ 1441 -91 1130 -33 \nQ 819 25 488 141 \nL 488 750 \nQ 750 597 1062 519 \nQ 1375 441 1716 441 \nQ 2309 441 2620 675 \nQ 2931 909 2931 1356 \nQ 2931 1769 2642 2001 \nQ 2353 2234 1838 2234 \nL 1294 2234 \nL 1294 2753 \nL 1863 2753 \nQ 2328 2753 2575 2939 \nQ 2822 3125 2822 3475 \nQ 2822 3834 2567 4026 \nQ 2313 4219 1838 4219 \nQ 1578 4219 1281 4162 \nQ 984 4106 628 3988 \nL 628 4550 \nQ 988 4650 1302 4700 \nQ 1616 4750 1894 4750 \nQ 2613 4750 3031 4423 \nQ 3450 4097 3450 3541 \nQ 3450 3153 3228 2886 \nQ 3006 2619 2597 2516 \nz\n\" transform=\"scale(0.015625)\"/>\n      </defs>\n      <use xlink:href=\"#DejaVuSans-33\"/>\n     </g>\n    </g>\n   </g>\n   <g id=\"text_5\">\n    <g clip-path=\"url(#pf52d215d49)\">\n     <!-- 4 -->\n     <g transform=\"translate(159.515295 144.108875) scale(0.16 -0.16)\">\n      <defs>\n       <path id=\"DejaVuSans-34\" d=\"M 2419 4116 \nL 825 1625 \nL 2419 1625 \nL 2419 4116 \nz\nM 2253 4666 \nL 3047 4666 \nL 3047 1625 \nL 3713 1625 \nL 3713 1100 \nL 3047 1100 \nL 3047 0 \nL 2419 0 \nL 2419 1100 \nL 313 1100 \nL 313 1709 \nL 2253 4666 \nz\n\" transform=\"scale(0.015625)\"/>\n      </defs>\n      <use xlink:href=\"#DejaVuSans-34\"/>\n     </g>\n    </g>\n   </g>\n   <g id=\"text_6\">\n    <g clip-path=\"url(#pf52d215d49)\">\n     <!-- 5 -->\n     <g transform=\"translate(265.118264 93.644466) scale(0.16 -0.16)\">\n      <defs>\n       <path id=\"DejaVuSans-35\" d=\"M 691 4666 \nL 3169 4666 \nL 3169 4134 \nL 1269 4134 \nL 1269 2991 \nQ 1406 3038 1543 3061 \nQ 1681 3084 1819 3084 \nQ 2600 3084 3056 2656 \nQ 3513 2228 3513 1497 \nQ 3513 744 3044 326 \nQ 2575 -91 1722 -91 \nQ 1428 -91 1123 -41 \nQ 819 9 494 109 \nL 494 744 \nQ 775 591 1075 516 \nQ 1375 441 1709 441 \nQ 2250 441 2565 725 \nQ 2881 1009 2881 1497 \nQ 2881 1984 2565 2268 \nQ 2250 2553 1709 2553 \nQ 1456 2553 1204 2497 \nQ 953 2441 691 2322 \nL 691 4666 \nz\n\" transform=\"scale(0.015625)\"/>\n      </defs>\n      <use xlink:href=\"#DejaVuSans-35\"/>\n     </g>\n    </g>\n   </g>\n   <g id=\"text_7\">\n    <g clip-path=\"url(#pf52d215d49)\">\n     <!-- 6 -->\n     <g transform=\"translate(41.741493 30.358802) scale(0.16 -0.16)\">\n      <defs>\n       <path id=\"DejaVuSans-36\" d=\"M 2113 2584 \nQ 1688 2584 1439 2293 \nQ 1191 2003 1191 1497 \nQ 1191 994 1439 701 \nQ 1688 409 2113 409 \nQ 2538 409 2786 701 \nQ 3034 994 3034 1497 \nQ 3034 2003 2786 2293 \nQ 2538 2584 2113 2584 \nz\nM 3366 4563 \nL 3366 3988 \nQ 3128 4100 2886 4159 \nQ 2644 4219 2406 4219 \nQ 1781 4219 1451 3797 \nQ 1122 3375 1075 2522 \nQ 1259 2794 1537 2939 \nQ 1816 3084 2150 3084 \nQ 2853 3084 3261 2657 \nQ 3669 2231 3669 1497 \nQ 3669 778 3244 343 \nQ 2819 -91 2113 -91 \nQ 1303 -91 875 529 \nQ 447 1150 447 2328 \nQ 447 3434 972 4092 \nQ 1497 4750 2381 4750 \nQ 2619 4750 2861 4703 \nQ 3103 4656 3366 4563 \nz\n\" transform=\"scale(0.015625)\"/>\n      </defs>\n      <use xlink:href=\"#DejaVuSans-36\"/>\n     </g>\n    </g>\n   </g>\n   <g id=\"text_8\">\n    <g clip-path=\"url(#pf52d215d49)\">\n     <!-- 7 -->\n     <g transform=\"translate(212.694276 64.623729) scale(0.16 -0.16)\">\n      <defs>\n       <path id=\"DejaVuSans-37\" d=\"M 525 4666 \nL 3525 4666 \nL 3525 4397 \nL 1831 0 \nL 1172 0 \nL 2766 4134 \nL 525 4134 \nL 525 4666 \nz\n\" transform=\"scale(0.015625)\"/>\n      </defs>\n      <use xlink:href=\"#DejaVuSans-37\"/>\n     </g>\n    </g>\n   </g>\n   <g id=\"text_9\">\n    <g clip-path=\"url(#pf52d215d49)\">\n     <!-- 8 -->\n     <g transform=\"translate(66.318817 49.664918) scale(0.16 -0.16)\">\n      <defs>\n       <path id=\"DejaVuSans-38\" d=\"M 2034 2216 \nQ 1584 2216 1326 1975 \nQ 1069 1734 1069 1313 \nQ 1069 891 1326 650 \nQ 1584 409 2034 409 \nQ 2484 409 2743 651 \nQ 3003 894 3003 1313 \nQ 3003 1734 2745 1975 \nQ 2488 2216 2034 2216 \nz\nM 1403 2484 \nQ 997 2584 770 2862 \nQ 544 3141 544 3541 \nQ 544 4100 942 4425 \nQ 1341 4750 2034 4750 \nQ 2731 4750 3128 4425 \nQ 3525 4100 3525 3541 \nQ 3525 3141 3298 2862 \nQ 3072 2584 2669 2484 \nQ 3125 2378 3379 2068 \nQ 3634 1759 3634 1313 \nQ 3634 634 3220 271 \nQ 2806 -91 2034 -91 \nQ 1263 -91 848 271 \nQ 434 634 434 1313 \nQ 434 1759 690 2068 \nQ 947 2378 1403 2484 \nz\nM 1172 3481 \nQ 1172 3119 1398 2916 \nQ 1625 2713 2034 2713 \nQ 2441 2713 2670 2916 \nQ 2900 3119 2900 3481 \nQ 2900 3844 2670 4047 \nQ 2441 4250 2034 4250 \nQ 1625 4250 1398 4047 \nQ 1172 3844 1172 3481 \nz\n\" transform=\"scale(0.015625)\"/>\n      </defs>\n      <use xlink:href=\"#DejaVuSans-38\"/>\n     </g>\n    </g>\n   </g>\n   <g id=\"text_10\">\n    <g clip-path=\"url(#pf52d215d49)\">\n     <!-- 9 -->\n     <g transform=\"translate(245.422618 181.939284) scale(0.16 -0.16)\">\n      <defs>\n       <path id=\"DejaVuSans-39\" d=\"M 703 97 \nL 703 672 \nQ 941 559 1184 500 \nQ 1428 441 1663 441 \nQ 2288 441 2617 861 \nQ 2947 1281 2994 2138 \nQ 2813 1869 2534 1725 \nQ 2256 1581 1919 1581 \nQ 1219 1581 811 2004 \nQ 403 2428 403 3163 \nQ 403 3881 828 4315 \nQ 1253 4750 1959 4750 \nQ 2769 4750 3195 4129 \nQ 3622 3509 3622 2328 \nQ 3622 1225 3098 567 \nQ 2575 -91 1691 -91 \nQ 1453 -91 1209 -44 \nQ 966 3 703 97 \nz\nM 1959 2075 \nQ 2384 2075 2632 2365 \nQ 2881 2656 2881 3163 \nQ 2881 3666 2632 3958 \nQ 2384 4250 1959 4250 \nQ 1534 4250 1286 3958 \nQ 1038 3666 1038 3163 \nQ 1038 2656 1286 2365 \nQ 1534 2075 1959 2075 \nz\n\" transform=\"scale(0.015625)\"/>\n      </defs>\n      <use xlink:href=\"#DejaVuSans-39\"/>\n     </g>\n    </g>\n   </g>\n  </g>\n </g>\n <defs>\n  <clipPath id=\"pf52d215d49\">\n   <rect x=\"7.2\" y=\"7.2\" width=\"288\" height=\"216\"/>\n  </clipPath>\n </defs>\n</svg>\n",
      "text/plain": [
       "<Figure size 400x300 with 1 Axes>"
      ]
     },
     "metadata": {},
     "output_type": "display_data"
    }
   ],
   "source": [
    "nx.draw(sfg, **draw_params, pos=nx.spring_layout(sfg, seed=1))"
   ]
  },
  {
   "cell_type": "markdown",
   "metadata": {},
   "source": [
    "- **Question**: node $0$ is has the highest PageRank; that makes sense. But why is node $2$ above node $4$? \n",
    "\n",
    "<br><br><br><br><br><br><br><br>\n",
    "\n",
    "- **Answer**: because node $0$ is the most important, and there is no path from $0$ to $4$. \n",
    "- So, a link from a popular page is more valuable than a link from a no-name page. Makes sense!\n",
    "- We can just sort the pages by number of incoming links, and we see we get a different (worse) ranking:"
   ]
  },
  {
   "cell_type": "code",
   "execution_count": 9,
   "metadata": {},
   "outputs": [
    {
     "name": "stdout",
     "output_type": "stream",
     "text": [
      "Node 0 has 4 incoming links\n",
      "Node 4 has 3 incoming links\n",
      "Node 1 has 2 incoming links\n",
      "Node 2 has 2 incoming links\n",
      "Node 3 has 1 incoming links\n",
      "Node 5 has 0 incoming links\n",
      "Node 6 has 0 incoming links\n",
      "Node 7 has 0 incoming links\n",
      "Node 8 has 0 incoming links\n",
      "Node 9 has 0 incoming links\n"
     ]
    }
   ],
   "source": [
    "num_neigh = {i: len(list(nx.reverse_view(sfg).neighbors(i)))\n",
    "             for i in sfg.nodes()}\n",
    "for node in sorted(num_neigh, key=num_neigh.get, reverse=True):\n",
    "    print(\"Node\", node, \"has\", num_neigh[node], \"incoming links\")"
   ]
  },
  {
   "cell_type": "markdown",
   "metadata": {},
   "source": [
    "Here, indeed, we get node $4$ above nodes $1$ and $2$."
   ]
  },
  {
   "cell_type": "markdown",
   "metadata": {},
   "source": [
    "Optional note: there are two sources of \"randomness\" here:\n",
    "\n",
    "- The fact that the model is inherently probabilistic (do this with probability $\\alpha$)\n",
    "- The limitations of our simulation (start at one random node, finite number of iterations)\n",
    "\n",
    "These are very different from each other. You can mathematically find the true PageRank, which solves the second problem. The first one is not a problem though, it is just part of the definition of PageRank.\n",
    "\n",
    "You may encounter similar concepts to this in the Stat courses."
   ]
  },
  {
   "cell_type": "markdown",
   "metadata": {},
   "source": [
    "## (optional) Other graph properties (5 min)\n",
    "\n",
    "There are a lot of standard problems in graph theory, not covered in this course, such as:\n",
    "\n",
    "- Find the largest [clique](https://en.wikipedia.org/wiki/Clique_(graph_theory)) in a graph.\n",
    "- Find the largest [independent set](https://en.wikipedia.org/wiki/Independent_set_(graph_theory)) in a graph.\n",
    "- Find the [vertex cover](https://en.wikipedia.org/wiki/Vertex_cover) of a graph with the smallest number of vertices.\n",
    "- Find the smallest [dominating set](https://en.wikipedia.org/wiki/Dominating_set) in a graph.\n",
    "- [Colour](https://en.wikipedia.org/wiki/Graph_coloring) a graph with the smallest number of colours.\n",
    "\n",
    "It turns out a lot of real-world problems can be mapped to these problems, and thus solving these problems is important. \n",
    "\n",
    "- **However**, they are [NP-Complete](https://www.geeksforgeeks.org/np-completeness-set-1/).\n",
    "  - You may have heard this term.\n",
    "  - We aren't going into this here due to lack of time.\n",
    "  - But, in short, we don't have fast algorithms to solve these problems. "
   ]
  },
  {
   "cell_type": "markdown",
   "metadata": {},
   "source": [
    "## Graph representations (10 min)"
   ]
  },
  {
   "cell_type": "code",
   "execution_count": 10,
   "metadata": {},
   "outputs": [],
   "source": [
    "G = nx.bull_graph()"
   ]
  },
  {
   "cell_type": "code",
   "execution_count": 11,
   "metadata": {},
   "outputs": [
    {
     "data": {
      "image/svg+xml": "<?xml version=\"1.0\" encoding=\"utf-8\" standalone=\"no\"?>\n<!DOCTYPE svg PUBLIC \"-//W3C//DTD SVG 1.1//EN\"\n  \"http://www.w3.org/Graphics/SVG/1.1/DTD/svg11.dtd\">\n<svg xmlns:xlink=\"http://www.w3.org/1999/xlink\" width=\"302.4pt\" height=\"230.4pt\" viewBox=\"0 0 302.4 230.4\" xmlns=\"http://www.w3.org/2000/svg\" version=\"1.1\">\n <metadata>\n  <rdf:RDF xmlns:dc=\"http://purl.org/dc/elements/1.1/\" xmlns:cc=\"http://creativecommons.org/ns#\" xmlns:rdf=\"http://www.w3.org/1999/02/22-rdf-syntax-ns#\">\n   <cc:Work>\n    <dc:type rdf:resource=\"http://purl.org/dc/dcmitype/StillImage\"/>\n    <dc:date>2022-10-30T00:37:32.771891</dc:date>\n    <dc:format>image/svg+xml</dc:format>\n    <dc:creator>\n     <cc:Agent>\n      <dc:title>Matplotlib v3.6.1, https://matplotlib.org/</dc:title>\n     </cc:Agent>\n    </dc:creator>\n   </cc:Work>\n  </rdf:RDF>\n </metadata>\n <defs>\n  <style type=\"text/css\">*{stroke-linejoin: round; stroke-linecap: butt}</style>\n </defs>\n <g id=\"figure_1\">\n  <g id=\"patch_1\">\n   <path d=\"M 0 230.4 \nL 302.4 230.4 \nL 302.4 0 \nL 0 0 \nz\n\" style=\"fill: #ffffff\"/>\n  </g>\n  <g id=\"axes_1\">\n   <g id=\"LineCollection_1\">\n    <path d=\"M 270.208264 118.695652 \nL 111.801464 147.297327 \n\" clip-path=\"url(#p54b9c2dfe2)\" style=\"fill: none; stroke: #000000\"/>\n    <path d=\"M 270.208264 118.695652 \nL 127.015832 85.1839 \n\" clip-path=\"url(#p54b9c2dfe2)\" style=\"fill: none; stroke: #000000\"/>\n    <path d=\"M 111.801464 147.297327 \nL 127.015832 85.1839 \n\" clip-path=\"url(#p54b9c2dfe2)\" style=\"fill: none; stroke: #000000\"/>\n    <path d=\"M 111.801464 147.297327 \nL 32.191736 204.456198 \n\" clip-path=\"url(#p54b9c2dfe2)\" style=\"fill: none; stroke: #000000\"/>\n    <path d=\"M 127.015832 85.1839 \nL 76.040996 25.943802 \n\" clip-path=\"url(#p54b9c2dfe2)\" style=\"fill: none; stroke: #000000\"/>\n   </g>\n   <g id=\"PathCollection_1\">\n    <defs>\n     <path id=\"m0b8c6824fb\" d=\"M 0 8.660254 \nC 2.296726 8.660254 4.499694 7.747755 6.123724 6.123724 \nC 7.747755 4.499694 8.660254 2.296726 8.660254 0 \nC 8.660254 -2.296726 7.747755 -4.499694 6.123724 -6.123724 \nC 4.499694 -7.747755 2.296726 -8.660254 0 -8.660254 \nC -2.296726 -8.660254 -4.499694 -7.747755 -6.123724 -6.123724 \nC -7.747755 -4.499694 -8.660254 -2.296726 -8.660254 0 \nC -8.660254 2.296726 -7.747755 4.499694 -6.123724 6.123724 \nC -4.499694 7.747755 -2.296726 8.660254 0 8.660254 \nz\n\" style=\"stroke: #ffc0cb\"/>\n    </defs>\n    <g clip-path=\"url(#p54b9c2dfe2)\">\n     <use xlink:href=\"#m0b8c6824fb\" x=\"270.208264\" y=\"118.695652\" style=\"fill: #ffc0cb; stroke: #ffc0cb\"/>\n     <use xlink:href=\"#m0b8c6824fb\" x=\"111.801464\" y=\"147.297327\" style=\"fill: #ffc0cb; stroke: #ffc0cb\"/>\n     <use xlink:href=\"#m0b8c6824fb\" x=\"127.015832\" y=\"85.1839\" style=\"fill: #ffc0cb; stroke: #ffc0cb\"/>\n     <use xlink:href=\"#m0b8c6824fb\" x=\"32.191736\" y=\"204.456198\" style=\"fill: #ffc0cb; stroke: #ffc0cb\"/>\n     <use xlink:href=\"#m0b8c6824fb\" x=\"76.040996\" y=\"25.943802\" style=\"fill: #ffc0cb; stroke: #ffc0cb\"/>\n    </g>\n   </g>\n   <g id=\"text_1\">\n    <g clip-path=\"url(#p54b9c2dfe2)\">\n     <!-- 0 -->\n     <g transform=\"translate(265.118264 123.110652) scale(0.16 -0.16)\">\n      <defs>\n       <path id=\"DejaVuSans-30\" d=\"M 2034 4250 \nQ 1547 4250 1301 3770 \nQ 1056 3291 1056 2328 \nQ 1056 1369 1301 889 \nQ 1547 409 2034 409 \nQ 2525 409 2770 889 \nQ 3016 1369 3016 2328 \nQ 3016 3291 2770 3770 \nQ 2525 4250 2034 4250 \nz\nM 2034 4750 \nQ 2819 4750 3233 4129 \nQ 3647 3509 3647 2328 \nQ 3647 1150 3233 529 \nQ 2819 -91 2034 -91 \nQ 1250 -91 836 529 \nQ 422 1150 422 2328 \nQ 422 3509 836 4129 \nQ 1250 4750 2034 4750 \nz\n\" transform=\"scale(0.015625)\"/>\n      </defs>\n      <use xlink:href=\"#DejaVuSans-30\"/>\n     </g>\n    </g>\n   </g>\n   <g id=\"text_2\">\n    <g clip-path=\"url(#p54b9c2dfe2)\">\n     <!-- 1 -->\n     <g transform=\"translate(106.711464 151.712327) scale(0.16 -0.16)\">\n      <defs>\n       <path id=\"DejaVuSans-31\" d=\"M 794 531 \nL 1825 531 \nL 1825 4091 \nL 703 3866 \nL 703 4441 \nL 1819 4666 \nL 2450 4666 \nL 2450 531 \nL 3481 531 \nL 3481 0 \nL 794 0 \nL 794 531 \nz\n\" transform=\"scale(0.015625)\"/>\n      </defs>\n      <use xlink:href=\"#DejaVuSans-31\"/>\n     </g>\n    </g>\n   </g>\n   <g id=\"text_3\">\n    <g clip-path=\"url(#p54b9c2dfe2)\">\n     <!-- 2 -->\n     <g transform=\"translate(121.925832 89.5989) scale(0.16 -0.16)\">\n      <defs>\n       <path id=\"DejaVuSans-32\" d=\"M 1228 531 \nL 3431 531 \nL 3431 0 \nL 469 0 \nL 469 531 \nQ 828 903 1448 1529 \nQ 2069 2156 2228 2338 \nQ 2531 2678 2651 2914 \nQ 2772 3150 2772 3378 \nQ 2772 3750 2511 3984 \nQ 2250 4219 1831 4219 \nQ 1534 4219 1204 4116 \nQ 875 4013 500 3803 \nL 500 4441 \nQ 881 4594 1212 4672 \nQ 1544 4750 1819 4750 \nQ 2544 4750 2975 4387 \nQ 3406 4025 3406 3419 \nQ 3406 3131 3298 2873 \nQ 3191 2616 2906 2266 \nQ 2828 2175 2409 1742 \nQ 1991 1309 1228 531 \nz\n\" transform=\"scale(0.015625)\"/>\n      </defs>\n      <use xlink:href=\"#DejaVuSans-32\"/>\n     </g>\n    </g>\n   </g>\n   <g id=\"text_4\">\n    <g clip-path=\"url(#p54b9c2dfe2)\">\n     <!-- 3 -->\n     <g transform=\"translate(27.101736 208.871198) scale(0.16 -0.16)\">\n      <defs>\n       <path id=\"DejaVuSans-33\" d=\"M 2597 2516 \nQ 3050 2419 3304 2112 \nQ 3559 1806 3559 1356 \nQ 3559 666 3084 287 \nQ 2609 -91 1734 -91 \nQ 1441 -91 1130 -33 \nQ 819 25 488 141 \nL 488 750 \nQ 750 597 1062 519 \nQ 1375 441 1716 441 \nQ 2309 441 2620 675 \nQ 2931 909 2931 1356 \nQ 2931 1769 2642 2001 \nQ 2353 2234 1838 2234 \nL 1294 2234 \nL 1294 2753 \nL 1863 2753 \nQ 2328 2753 2575 2939 \nQ 2822 3125 2822 3475 \nQ 2822 3834 2567 4026 \nQ 2313 4219 1838 4219 \nQ 1578 4219 1281 4162 \nQ 984 4106 628 3988 \nL 628 4550 \nQ 988 4650 1302 4700 \nQ 1616 4750 1894 4750 \nQ 2613 4750 3031 4423 \nQ 3450 4097 3450 3541 \nQ 3450 3153 3228 2886 \nQ 3006 2619 2597 2516 \nz\n\" transform=\"scale(0.015625)\"/>\n      </defs>\n      <use xlink:href=\"#DejaVuSans-33\"/>\n     </g>\n    </g>\n   </g>\n   <g id=\"text_5\">\n    <g clip-path=\"url(#p54b9c2dfe2)\">\n     <!-- 4 -->\n     <g transform=\"translate(70.950996 30.358802) scale(0.16 -0.16)\">\n      <defs>\n       <path id=\"DejaVuSans-34\" d=\"M 2419 4116 \nL 825 1625 \nL 2419 1625 \nL 2419 4116 \nz\nM 2253 4666 \nL 3047 4666 \nL 3047 1625 \nL 3713 1625 \nL 3713 1100 \nL 3047 1100 \nL 3047 0 \nL 2419 0 \nL 2419 1100 \nL 313 1100 \nL 313 1709 \nL 2253 4666 \nz\n\" transform=\"scale(0.015625)\"/>\n      </defs>\n      <use xlink:href=\"#DejaVuSans-34\"/>\n     </g>\n    </g>\n   </g>\n  </g>\n </g>\n <defs>\n  <clipPath id=\"p54b9c2dfe2\">\n   <rect x=\"7.2\" y=\"7.2\" width=\"288\" height=\"216\"/>\n  </clipPath>\n </defs>\n</svg>\n",
      "text/plain": [
       "<Figure size 400x300 with 1 Axes>"
      ]
     },
     "metadata": {},
     "output_type": "display_data"
    }
   ],
   "source": [
    "nx.draw(G, **draw_params)"
   ]
  },
  {
   "cell_type": "markdown",
   "metadata": {},
   "source": [
    "We can represent the graph as an _adjacency list_. It lists all pairs of vertices that are connected, for example $(0,1)$."
   ]
  },
  {
   "cell_type": "code",
   "execution_count": 12,
   "metadata": {},
   "outputs": [
    {
     "name": "stdout",
     "output_type": "stream",
     "text": [
      "[(0, 1), (0, 2), (1, 2), (1, 3), (2, 4)]\n"
     ]
    }
   ],
   "source": [
    "print(G.edges())"
   ]
  },
  {
   "cell_type": "markdown",
   "metadata": {},
   "source": [
    "Or, we can represent the graph as an _adjacency matrix_. "
   ]
  },
  {
   "cell_type": "code",
   "execution_count": 13,
   "metadata": {},
   "outputs": [
    {
     "name": "stderr",
     "output_type": "stream",
     "text": [
      "/var/folders/qm/c_scj_0n7vj7r36900wc3j140000gn/T/ipykernel_54313/2435146153.py:1: FutureWarning: adjacency_matrix will return a scipy.sparse array instead of a matrix in Networkx 3.0.\n",
      "  adj = nx.adjacency_matrix(G).toarray()\n"
     ]
    },
    {
     "data": {
      "text/plain": [
       "array([[0, 1, 1, 0, 0],\n",
       "       [1, 0, 1, 1, 0],\n",
       "       [1, 1, 0, 0, 1],\n",
       "       [0, 1, 0, 0, 0],\n",
       "       [0, 0, 1, 0, 0]])"
      ]
     },
     "execution_count": 13,
     "metadata": {},
     "output_type": "execute_result"
    }
   ],
   "source": [
    "adj = nx.adjacency_matrix(G).toarray()\n",
    "adj"
   ]
  },
  {
   "cell_type": "code",
   "execution_count": 14,
   "metadata": {},
   "outputs": [
    {
     "data": {
      "text/plain": [
       "array([0, 1, 1, 0, 0])"
      ]
     },
     "execution_count": 14,
     "metadata": {},
     "output_type": "execute_result"
    }
   ],
   "source": [
    "adj[0, :]"
   ]
  },
  {
   "cell_type": "code",
   "execution_count": 15,
   "metadata": {},
   "outputs": [
    {
     "data": {
      "image/svg+xml": "<?xml version=\"1.0\" encoding=\"utf-8\" standalone=\"no\"?>\n<!DOCTYPE svg PUBLIC \"-//W3C//DTD SVG 1.1//EN\"\n  \"http://www.w3.org/Graphics/SVG/1.1/DTD/svg11.dtd\">\n<svg xmlns:xlink=\"http://www.w3.org/1999/xlink\" width=\"302.4pt\" height=\"230.4pt\" viewBox=\"0 0 302.4 230.4\" xmlns=\"http://www.w3.org/2000/svg\" version=\"1.1\">\n <metadata>\n  <rdf:RDF xmlns:dc=\"http://purl.org/dc/elements/1.1/\" xmlns:cc=\"http://creativecommons.org/ns#\" xmlns:rdf=\"http://www.w3.org/1999/02/22-rdf-syntax-ns#\">\n   <cc:Work>\n    <dc:type rdf:resource=\"http://purl.org/dc/dcmitype/StillImage\"/>\n    <dc:date>2022-10-30T00:37:34.745871</dc:date>\n    <dc:format>image/svg+xml</dc:format>\n    <dc:creator>\n     <cc:Agent>\n      <dc:title>Matplotlib v3.6.1, https://matplotlib.org/</dc:title>\n     </cc:Agent>\n    </dc:creator>\n   </cc:Work>\n  </rdf:RDF>\n </metadata>\n <defs>\n  <style type=\"text/css\">*{stroke-linejoin: round; stroke-linecap: butt}</style>\n </defs>\n <g id=\"figure_1\">\n  <g id=\"patch_1\">\n   <path d=\"M 0 230.4 \nL 302.4 230.4 \nL 302.4 0 \nL 0 0 \nz\n\" style=\"fill: #ffffff\"/>\n  </g>\n  <g id=\"axes_1\">\n   <g id=\"LineCollection_1\">\n    <path d=\"M 84.567465 178.923569 \nL 89.369716 103.506821 \n\" clip-path=\"url(#pa5ee013948)\" style=\"fill: none; stroke: #000000\"/>\n    <path d=\"M 84.567465 178.923569 \nL 172.361275 165.766765 \n\" clip-path=\"url(#pa5ee013948)\" style=\"fill: none; stroke: #000000\"/>\n    <path d=\"M 89.369716 103.506821 \nL 172.361275 165.766765 \n\" clip-path=\"url(#pa5ee013948)\" style=\"fill: none; stroke: #000000\"/>\n    <path d=\"M 89.369716 103.506821 \nL 32.191736 25.943802 \n\" clip-path=\"url(#pa5ee013948)\" style=\"fill: none; stroke: #000000\"/>\n    <path d=\"M 172.361275 165.766765 \nL 270.208264 204.456198 \n\" clip-path=\"url(#pa5ee013948)\" style=\"fill: none; stroke: #000000\"/>\n   </g>\n   <g id=\"PathCollection_1\">\n    <defs>\n     <path id=\"m1ae52e2713\" d=\"M 0 8.660254 \nC 2.296726 8.660254 4.499694 7.747755 6.123724 6.123724 \nC 7.747755 4.499694 8.660254 2.296726 8.660254 0 \nC 8.660254 -2.296726 7.747755 -4.499694 6.123724 -6.123724 \nC 4.499694 -7.747755 2.296726 -8.660254 0 -8.660254 \nC -2.296726 -8.660254 -4.499694 -7.747755 -6.123724 -6.123724 \nC -7.747755 -4.499694 -8.660254 -2.296726 -8.660254 0 \nC -8.660254 2.296726 -7.747755 4.499694 -6.123724 6.123724 \nC -4.499694 7.747755 -2.296726 8.660254 0 8.660254 \nz\n\" style=\"stroke: #ffc0cb\"/>\n    </defs>\n    <g clip-path=\"url(#pa5ee013948)\">\n     <use xlink:href=\"#m1ae52e2713\" x=\"84.567465\" y=\"178.923569\" style=\"fill: #ffc0cb; stroke: #ffc0cb\"/>\n     <use xlink:href=\"#m1ae52e2713\" x=\"89.369716\" y=\"103.506821\" style=\"fill: #ffc0cb; stroke: #ffc0cb\"/>\n     <use xlink:href=\"#m1ae52e2713\" x=\"172.361275\" y=\"165.766765\" style=\"fill: #ffc0cb; stroke: #ffc0cb\"/>\n     <use xlink:href=\"#m1ae52e2713\" x=\"32.191736\" y=\"25.943802\" style=\"fill: #ffc0cb; stroke: #ffc0cb\"/>\n     <use xlink:href=\"#m1ae52e2713\" x=\"270.208264\" y=\"204.456198\" style=\"fill: #ffc0cb; stroke: #ffc0cb\"/>\n    </g>\n   </g>\n   <g id=\"text_1\">\n    <g clip-path=\"url(#pa5ee013948)\">\n     <!-- 0 -->\n     <g transform=\"translate(79.477465 183.338569) scale(0.16 -0.16)\">\n      <defs>\n       <path id=\"DejaVuSans-30\" d=\"M 2034 4250 \nQ 1547 4250 1301 3770 \nQ 1056 3291 1056 2328 \nQ 1056 1369 1301 889 \nQ 1547 409 2034 409 \nQ 2525 409 2770 889 \nQ 3016 1369 3016 2328 \nQ 3016 3291 2770 3770 \nQ 2525 4250 2034 4250 \nz\nM 2034 4750 \nQ 2819 4750 3233 4129 \nQ 3647 3509 3647 2328 \nQ 3647 1150 3233 529 \nQ 2819 -91 2034 -91 \nQ 1250 -91 836 529 \nQ 422 1150 422 2328 \nQ 422 3509 836 4129 \nQ 1250 4750 2034 4750 \nz\n\" transform=\"scale(0.015625)\"/>\n      </defs>\n      <use xlink:href=\"#DejaVuSans-30\"/>\n     </g>\n    </g>\n   </g>\n   <g id=\"text_2\">\n    <g clip-path=\"url(#pa5ee013948)\">\n     <!-- 1 -->\n     <g transform=\"translate(84.279716 107.921821) scale(0.16 -0.16)\">\n      <defs>\n       <path id=\"DejaVuSans-31\" d=\"M 794 531 \nL 1825 531 \nL 1825 4091 \nL 703 3866 \nL 703 4441 \nL 1819 4666 \nL 2450 4666 \nL 2450 531 \nL 3481 531 \nL 3481 0 \nL 794 0 \nL 794 531 \nz\n\" transform=\"scale(0.015625)\"/>\n      </defs>\n      <use xlink:href=\"#DejaVuSans-31\"/>\n     </g>\n    </g>\n   </g>\n   <g id=\"text_3\">\n    <g clip-path=\"url(#pa5ee013948)\">\n     <!-- 2 -->\n     <g transform=\"translate(167.271275 170.181765) scale(0.16 -0.16)\">\n      <defs>\n       <path id=\"DejaVuSans-32\" d=\"M 1228 531 \nL 3431 531 \nL 3431 0 \nL 469 0 \nL 469 531 \nQ 828 903 1448 1529 \nQ 2069 2156 2228 2338 \nQ 2531 2678 2651 2914 \nQ 2772 3150 2772 3378 \nQ 2772 3750 2511 3984 \nQ 2250 4219 1831 4219 \nQ 1534 4219 1204 4116 \nQ 875 4013 500 3803 \nL 500 4441 \nQ 881 4594 1212 4672 \nQ 1544 4750 1819 4750 \nQ 2544 4750 2975 4387 \nQ 3406 4025 3406 3419 \nQ 3406 3131 3298 2873 \nQ 3191 2616 2906 2266 \nQ 2828 2175 2409 1742 \nQ 1991 1309 1228 531 \nz\n\" transform=\"scale(0.015625)\"/>\n      </defs>\n      <use xlink:href=\"#DejaVuSans-32\"/>\n     </g>\n    </g>\n   </g>\n   <g id=\"text_4\">\n    <g clip-path=\"url(#pa5ee013948)\">\n     <!-- 3 -->\n     <g transform=\"translate(27.101736 30.358802) scale(0.16 -0.16)\">\n      <defs>\n       <path id=\"DejaVuSans-33\" d=\"M 2597 2516 \nQ 3050 2419 3304 2112 \nQ 3559 1806 3559 1356 \nQ 3559 666 3084 287 \nQ 2609 -91 1734 -91 \nQ 1441 -91 1130 -33 \nQ 819 25 488 141 \nL 488 750 \nQ 750 597 1062 519 \nQ 1375 441 1716 441 \nQ 2309 441 2620 675 \nQ 2931 909 2931 1356 \nQ 2931 1769 2642 2001 \nQ 2353 2234 1838 2234 \nL 1294 2234 \nL 1294 2753 \nL 1863 2753 \nQ 2328 2753 2575 2939 \nQ 2822 3125 2822 3475 \nQ 2822 3834 2567 4026 \nQ 2313 4219 1838 4219 \nQ 1578 4219 1281 4162 \nQ 984 4106 628 3988 \nL 628 4550 \nQ 988 4650 1302 4700 \nQ 1616 4750 1894 4750 \nQ 2613 4750 3031 4423 \nQ 3450 4097 3450 3541 \nQ 3450 3153 3228 2886 \nQ 3006 2619 2597 2516 \nz\n\" transform=\"scale(0.015625)\"/>\n      </defs>\n      <use xlink:href=\"#DejaVuSans-33\"/>\n     </g>\n    </g>\n   </g>\n   <g id=\"text_5\">\n    <g clip-path=\"url(#pa5ee013948)\">\n     <!-- 4 -->\n     <g transform=\"translate(265.118264 208.871198) scale(0.16 -0.16)\">\n      <defs>\n       <path id=\"DejaVuSans-34\" d=\"M 2419 4116 \nL 825 1625 \nL 2419 1625 \nL 2419 4116 \nz\nM 2253 4666 \nL 3047 4666 \nL 3047 1625 \nL 3713 1625 \nL 3713 1100 \nL 3047 1100 \nL 3047 0 \nL 2419 0 \nL 2419 1100 \nL 313 1100 \nL 313 1709 \nL 2253 4666 \nz\n\" transform=\"scale(0.015625)\"/>\n      </defs>\n      <use xlink:href=\"#DejaVuSans-34\"/>\n     </g>\n    </g>\n   </g>\n  </g>\n </g>\n <defs>\n  <clipPath id=\"pa5ee013948\">\n   <rect x=\"7.2\" y=\"7.2\" width=\"288\" height=\"216\"/>\n  </clipPath>\n </defs>\n</svg>\n",
      "text/plain": [
       "<Figure size 400x300 with 1 Axes>"
      ]
     },
     "metadata": {},
     "output_type": "display_data"
    }
   ],
   "source": [
    "nx.draw(G, **draw_params)"
   ]
  },
  {
   "cell_type": "markdown",
   "metadata": {},
   "source": [
    "Note that this is a symmatric matrix."
   ]
  },
  {
   "cell_type": "code",
   "execution_count": 16,
   "metadata": {},
   "outputs": [
    {
     "data": {
      "text/plain": [
       "NodeView((0, 1, 2, 3, 4))"
      ]
     },
     "execution_count": 16,
     "metadata": {},
     "output_type": "execute_result"
    }
   ],
   "source": [
    "G.nodes"
   ]
  },
  {
   "cell_type": "markdown",
   "metadata": {},
   "source": [
    "- This matrix has size `# vertices` x `# vertices`\n",
    "- This representation is often nice. For example we can check if any two nodes $i$ and $j$ are connected in $O(1)$ time:"
   ]
  },
  {
   "cell_type": "code",
   "execution_count": 17,
   "metadata": {},
   "outputs": [
    {
     "data": {
      "text/plain": [
       "1"
      ]
     },
     "execution_count": 17,
     "metadata": {},
     "output_type": "execute_result"
    }
   ],
   "source": [
    "adj[1, 3]"
   ]
  },
  {
   "cell_type": "markdown",
   "metadata": {},
   "source": [
    "**Question:** What is the space complexity of these two representations? \n",
    "\n",
    "<br><br><br><br><br>"
   ]
  },
  {
   "cell_type": "markdown",
   "metadata": {},
   "source": [
    "\n",
    "\n",
    "Let $E$ be the number of edges and $V$ be the number of vertices.\n",
    "\n",
    "- Adjacency list: $O(E)$\n",
    "- Adjacency matrix: $O(V^2)$"
   ]
  },
  {
   "cell_type": "markdown",
   "metadata": {},
   "source": [
    "**Question:** Which is better?\n",
    "\n",
    "<br><br><br><br><br><br><br><br>\n",
    "\n",
    "- **Answer:** the list takes up less space, but lookup is slower.\n",
    "- Though, in the worst case of a complete graph, then $E=O(V^2)$ and the two are about the same space. \n",
    "\n",
    "Wouldn't it be great if we could have the lookup speed of the adjacency matrix, with the storage requirements of an adjacency list? We almost can, by storing a structured adjacency list. Enter sparse matrices."
   ]
  },
  {
   "cell_type": "markdown",
   "metadata": {},
   "source": [
    "## Sparse matrices (30 min)"
   ]
  },
  {
   "cell_type": "markdown",
   "metadata": {},
   "source": [
    "*Terminology alert*: \n",
    "\n",
    "- In math, a sparse matrix is a matrix with a lot of zeros in it.\n",
    "- In coding, a sparse matrix is a data structure.\n",
    "- _This is extremely confusing!_\n",
    "- It is a good idea to use a sparse matrix data structure when you have a sparse matrix.\n",
    "  - But it is _possible_ to use a sparse matrix data structure when your matrix is not sparse.\n",
    "  - And it is _possible_ to use a dense matrix data structure (e.g. numpy array) when your matrix is sparse."
   ]
  },
  {
   "cell_type": "code",
   "execution_count": 18,
   "metadata": {},
   "outputs": [],
   "source": [
    "G = nx.ladder_graph(5)"
   ]
  },
  {
   "cell_type": "code",
   "execution_count": 19,
   "metadata": {},
   "outputs": [
    {
     "data": {
      "image/svg+xml": "<?xml version=\"1.0\" encoding=\"utf-8\" standalone=\"no\"?>\n<!DOCTYPE svg PUBLIC \"-//W3C//DTD SVG 1.1//EN\"\n  \"http://www.w3.org/Graphics/SVG/1.1/DTD/svg11.dtd\">\n<svg xmlns:xlink=\"http://www.w3.org/1999/xlink\" width=\"302.4pt\" height=\"230.4pt\" viewBox=\"0 0 302.4 230.4\" xmlns=\"http://www.w3.org/2000/svg\" version=\"1.1\">\n <metadata>\n  <rdf:RDF xmlns:dc=\"http://purl.org/dc/elements/1.1/\" xmlns:cc=\"http://creativecommons.org/ns#\" xmlns:rdf=\"http://www.w3.org/1999/02/22-rdf-syntax-ns#\">\n   <cc:Work>\n    <dc:type rdf:resource=\"http://purl.org/dc/dcmitype/StillImage\"/>\n    <dc:date>2022-10-30T00:43:29.747145</dc:date>\n    <dc:format>image/svg+xml</dc:format>\n    <dc:creator>\n     <cc:Agent>\n      <dc:title>Matplotlib v3.6.1, https://matplotlib.org/</dc:title>\n     </cc:Agent>\n    </dc:creator>\n   </cc:Work>\n  </rdf:RDF>\n </metadata>\n <defs>\n  <style type=\"text/css\">*{stroke-linejoin: round; stroke-linecap: butt}</style>\n </defs>\n <g id=\"figure_1\">\n  <g id=\"patch_1\">\n   <path d=\"M 0 230.4 \nL 302.4 230.4 \nL 302.4 0 \nL 0 0 \nz\n\" style=\"fill: #ffffff\"/>\n  </g>\n  <g id=\"axes_1\">\n   <g id=\"LineCollection_1\">\n    <path d=\"M 270.208264 35.965437 \nL 234.670733 75.091778 \n\" clip-path=\"url(#p1c69df2ecf)\" style=\"fill: none; stroke: #000000\"/>\n    <path d=\"M 270.208264 35.965437 \nL 206.61429 25.943802 \n\" clip-path=\"url(#p1c69df2ecf)\" style=\"fill: none; stroke: #000000\"/>\n    <path d=\"M 234.670733 75.091778 \nL 180.53523 116.505993 \n\" clip-path=\"url(#p1c69df2ecf)\" style=\"fill: none; stroke: #000000\"/>\n    <path d=\"M 234.670733 75.091778 \nL 171.4402 65.85162 \n\" clip-path=\"url(#p1c69df2ecf)\" style=\"fill: none; stroke: #000000\"/>\n    <path d=\"M 180.53523 116.505993 \nL 93.597866 148.245379 \n\" clip-path=\"url(#p1c69df2ecf)\" style=\"fill: none; stroke: #000000\"/>\n    <path d=\"M 180.53523 116.505993 \nL 133.746171 114.008197 \n\" clip-path=\"url(#p1c69df2ecf)\" style=\"fill: none; stroke: #000000\"/>\n    <path d=\"M 93.597866 148.245379 \nL 32.191736 181.384174 \n\" clip-path=\"url(#p1c69df2ecf)\" style=\"fill: none; stroke: #000000\"/>\n    <path d=\"M 93.597866 148.245379 \nL 116.81876 167.149836 \n\" clip-path=\"url(#p1c69df2ecf)\" style=\"fill: none; stroke: #000000\"/>\n    <path d=\"M 32.191736 181.384174 \nL 73.8812 204.456198 \n\" clip-path=\"url(#p1c69df2ecf)\" style=\"fill: none; stroke: #000000\"/>\n    <path d=\"M 206.61429 25.943802 \nL 171.4402 65.85162 \n\" clip-path=\"url(#p1c69df2ecf)\" style=\"fill: none; stroke: #000000\"/>\n    <path d=\"M 171.4402 65.85162 \nL 133.746171 114.008197 \n\" clip-path=\"url(#p1c69df2ecf)\" style=\"fill: none; stroke: #000000\"/>\n    <path d=\"M 133.746171 114.008197 \nL 116.81876 167.149836 \n\" clip-path=\"url(#p1c69df2ecf)\" style=\"fill: none; stroke: #000000\"/>\n    <path d=\"M 116.81876 167.149836 \nL 73.8812 204.456198 \n\" clip-path=\"url(#p1c69df2ecf)\" style=\"fill: none; stroke: #000000\"/>\n   </g>\n   <g id=\"PathCollection_1\">\n    <defs>\n     <path id=\"me266e37735\" d=\"M 0 8.660254 \nC 2.296726 8.660254 4.499694 7.747755 6.123724 6.123724 \nC 7.747755 4.499694 8.660254 2.296726 8.660254 0 \nC 8.660254 -2.296726 7.747755 -4.499694 6.123724 -6.123724 \nC 4.499694 -7.747755 2.296726 -8.660254 0 -8.660254 \nC -2.296726 -8.660254 -4.499694 -7.747755 -6.123724 -6.123724 \nC -7.747755 -4.499694 -8.660254 -2.296726 -8.660254 0 \nC -8.660254 2.296726 -7.747755 4.499694 -6.123724 6.123724 \nC -4.499694 7.747755 -2.296726 8.660254 0 8.660254 \nz\n\" style=\"stroke: #ffc0cb\"/>\n    </defs>\n    <g clip-path=\"url(#p1c69df2ecf)\">\n     <use xlink:href=\"#me266e37735\" x=\"270.208264\" y=\"35.965437\" style=\"fill: #ffc0cb; stroke: #ffc0cb\"/>\n     <use xlink:href=\"#me266e37735\" x=\"234.670733\" y=\"75.091778\" style=\"fill: #ffc0cb; stroke: #ffc0cb\"/>\n     <use xlink:href=\"#me266e37735\" x=\"180.53523\" y=\"116.505993\" style=\"fill: #ffc0cb; stroke: #ffc0cb\"/>\n     <use xlink:href=\"#me266e37735\" x=\"93.597866\" y=\"148.245379\" style=\"fill: #ffc0cb; stroke: #ffc0cb\"/>\n     <use xlink:href=\"#me266e37735\" x=\"32.191736\" y=\"181.384174\" style=\"fill: #ffc0cb; stroke: #ffc0cb\"/>\n     <use xlink:href=\"#me266e37735\" x=\"206.61429\" y=\"25.943802\" style=\"fill: #ffc0cb; stroke: #ffc0cb\"/>\n     <use xlink:href=\"#me266e37735\" x=\"171.4402\" y=\"65.85162\" style=\"fill: #ffc0cb; stroke: #ffc0cb\"/>\n     <use xlink:href=\"#me266e37735\" x=\"133.746171\" y=\"114.008197\" style=\"fill: #ffc0cb; stroke: #ffc0cb\"/>\n     <use xlink:href=\"#me266e37735\" x=\"116.81876\" y=\"167.149836\" style=\"fill: #ffc0cb; stroke: #ffc0cb\"/>\n     <use xlink:href=\"#me266e37735\" x=\"73.8812\" y=\"204.456198\" style=\"fill: #ffc0cb; stroke: #ffc0cb\"/>\n    </g>\n   </g>\n   <g id=\"text_1\">\n    <g clip-path=\"url(#p1c69df2ecf)\">\n     <!-- 0 -->\n     <g transform=\"translate(265.118264 40.380437) scale(0.16 -0.16)\">\n      <defs>\n       <path id=\"DejaVuSans-30\" d=\"M 2034 4250 \nQ 1547 4250 1301 3770 \nQ 1056 3291 1056 2328 \nQ 1056 1369 1301 889 \nQ 1547 409 2034 409 \nQ 2525 409 2770 889 \nQ 3016 1369 3016 2328 \nQ 3016 3291 2770 3770 \nQ 2525 4250 2034 4250 \nz\nM 2034 4750 \nQ 2819 4750 3233 4129 \nQ 3647 3509 3647 2328 \nQ 3647 1150 3233 529 \nQ 2819 -91 2034 -91 \nQ 1250 -91 836 529 \nQ 422 1150 422 2328 \nQ 422 3509 836 4129 \nQ 1250 4750 2034 4750 \nz\n\" transform=\"scale(0.015625)\"/>\n      </defs>\n      <use xlink:href=\"#DejaVuSans-30\"/>\n     </g>\n    </g>\n   </g>\n   <g id=\"text_2\">\n    <g clip-path=\"url(#p1c69df2ecf)\">\n     <!-- 1 -->\n     <g transform=\"translate(229.580733 79.506778) scale(0.16 -0.16)\">\n      <defs>\n       <path id=\"DejaVuSans-31\" d=\"M 794 531 \nL 1825 531 \nL 1825 4091 \nL 703 3866 \nL 703 4441 \nL 1819 4666 \nL 2450 4666 \nL 2450 531 \nL 3481 531 \nL 3481 0 \nL 794 0 \nL 794 531 \nz\n\" transform=\"scale(0.015625)\"/>\n      </defs>\n      <use xlink:href=\"#DejaVuSans-31\"/>\n     </g>\n    </g>\n   </g>\n   <g id=\"text_3\">\n    <g clip-path=\"url(#p1c69df2ecf)\">\n     <!-- 2 -->\n     <g transform=\"translate(175.44523 120.920993) scale(0.16 -0.16)\">\n      <defs>\n       <path id=\"DejaVuSans-32\" d=\"M 1228 531 \nL 3431 531 \nL 3431 0 \nL 469 0 \nL 469 531 \nQ 828 903 1448 1529 \nQ 2069 2156 2228 2338 \nQ 2531 2678 2651 2914 \nQ 2772 3150 2772 3378 \nQ 2772 3750 2511 3984 \nQ 2250 4219 1831 4219 \nQ 1534 4219 1204 4116 \nQ 875 4013 500 3803 \nL 500 4441 \nQ 881 4594 1212 4672 \nQ 1544 4750 1819 4750 \nQ 2544 4750 2975 4387 \nQ 3406 4025 3406 3419 \nQ 3406 3131 3298 2873 \nQ 3191 2616 2906 2266 \nQ 2828 2175 2409 1742 \nQ 1991 1309 1228 531 \nz\n\" transform=\"scale(0.015625)\"/>\n      </defs>\n      <use xlink:href=\"#DejaVuSans-32\"/>\n     </g>\n    </g>\n   </g>\n   <g id=\"text_4\">\n    <g clip-path=\"url(#p1c69df2ecf)\">\n     <!-- 3 -->\n     <g transform=\"translate(88.507866 152.660379) scale(0.16 -0.16)\">\n      <defs>\n       <path id=\"DejaVuSans-33\" d=\"M 2597 2516 \nQ 3050 2419 3304 2112 \nQ 3559 1806 3559 1356 \nQ 3559 666 3084 287 \nQ 2609 -91 1734 -91 \nQ 1441 -91 1130 -33 \nQ 819 25 488 141 \nL 488 750 \nQ 750 597 1062 519 \nQ 1375 441 1716 441 \nQ 2309 441 2620 675 \nQ 2931 909 2931 1356 \nQ 2931 1769 2642 2001 \nQ 2353 2234 1838 2234 \nL 1294 2234 \nL 1294 2753 \nL 1863 2753 \nQ 2328 2753 2575 2939 \nQ 2822 3125 2822 3475 \nQ 2822 3834 2567 4026 \nQ 2313 4219 1838 4219 \nQ 1578 4219 1281 4162 \nQ 984 4106 628 3988 \nL 628 4550 \nQ 988 4650 1302 4700 \nQ 1616 4750 1894 4750 \nQ 2613 4750 3031 4423 \nQ 3450 4097 3450 3541 \nQ 3450 3153 3228 2886 \nQ 3006 2619 2597 2516 \nz\n\" transform=\"scale(0.015625)\"/>\n      </defs>\n      <use xlink:href=\"#DejaVuSans-33\"/>\n     </g>\n    </g>\n   </g>\n   <g id=\"text_5\">\n    <g clip-path=\"url(#p1c69df2ecf)\">\n     <!-- 4 -->\n     <g transform=\"translate(27.101736 185.799174) scale(0.16 -0.16)\">\n      <defs>\n       <path id=\"DejaVuSans-34\" d=\"M 2419 4116 \nL 825 1625 \nL 2419 1625 \nL 2419 4116 \nz\nM 2253 4666 \nL 3047 4666 \nL 3047 1625 \nL 3713 1625 \nL 3713 1100 \nL 3047 1100 \nL 3047 0 \nL 2419 0 \nL 2419 1100 \nL 313 1100 \nL 313 1709 \nL 2253 4666 \nz\n\" transform=\"scale(0.015625)\"/>\n      </defs>\n      <use xlink:href=\"#DejaVuSans-34\"/>\n     </g>\n    </g>\n   </g>\n   <g id=\"text_6\">\n    <g clip-path=\"url(#p1c69df2ecf)\">\n     <!-- 5 -->\n     <g transform=\"translate(201.52429 30.358802) scale(0.16 -0.16)\">\n      <defs>\n       <path id=\"DejaVuSans-35\" d=\"M 691 4666 \nL 3169 4666 \nL 3169 4134 \nL 1269 4134 \nL 1269 2991 \nQ 1406 3038 1543 3061 \nQ 1681 3084 1819 3084 \nQ 2600 3084 3056 2656 \nQ 3513 2228 3513 1497 \nQ 3513 744 3044 326 \nQ 2575 -91 1722 -91 \nQ 1428 -91 1123 -41 \nQ 819 9 494 109 \nL 494 744 \nQ 775 591 1075 516 \nQ 1375 441 1709 441 \nQ 2250 441 2565 725 \nQ 2881 1009 2881 1497 \nQ 2881 1984 2565 2268 \nQ 2250 2553 1709 2553 \nQ 1456 2553 1204 2497 \nQ 953 2441 691 2322 \nL 691 4666 \nz\n\" transform=\"scale(0.015625)\"/>\n      </defs>\n      <use xlink:href=\"#DejaVuSans-35\"/>\n     </g>\n    </g>\n   </g>\n   <g id=\"text_7\">\n    <g clip-path=\"url(#p1c69df2ecf)\">\n     <!-- 6 -->\n     <g transform=\"translate(166.3502 70.26662) scale(0.16 -0.16)\">\n      <defs>\n       <path id=\"DejaVuSans-36\" d=\"M 2113 2584 \nQ 1688 2584 1439 2293 \nQ 1191 2003 1191 1497 \nQ 1191 994 1439 701 \nQ 1688 409 2113 409 \nQ 2538 409 2786 701 \nQ 3034 994 3034 1497 \nQ 3034 2003 2786 2293 \nQ 2538 2584 2113 2584 \nz\nM 3366 4563 \nL 3366 3988 \nQ 3128 4100 2886 4159 \nQ 2644 4219 2406 4219 \nQ 1781 4219 1451 3797 \nQ 1122 3375 1075 2522 \nQ 1259 2794 1537 2939 \nQ 1816 3084 2150 3084 \nQ 2853 3084 3261 2657 \nQ 3669 2231 3669 1497 \nQ 3669 778 3244 343 \nQ 2819 -91 2113 -91 \nQ 1303 -91 875 529 \nQ 447 1150 447 2328 \nQ 447 3434 972 4092 \nQ 1497 4750 2381 4750 \nQ 2619 4750 2861 4703 \nQ 3103 4656 3366 4563 \nz\n\" transform=\"scale(0.015625)\"/>\n      </defs>\n      <use xlink:href=\"#DejaVuSans-36\"/>\n     </g>\n    </g>\n   </g>\n   <g id=\"text_8\">\n    <g clip-path=\"url(#p1c69df2ecf)\">\n     <!-- 7 -->\n     <g transform=\"translate(128.656171 118.423197) scale(0.16 -0.16)\">\n      <defs>\n       <path id=\"DejaVuSans-37\" d=\"M 525 4666 \nL 3525 4666 \nL 3525 4397 \nL 1831 0 \nL 1172 0 \nL 2766 4134 \nL 525 4134 \nL 525 4666 \nz\n\" transform=\"scale(0.015625)\"/>\n      </defs>\n      <use xlink:href=\"#DejaVuSans-37\"/>\n     </g>\n    </g>\n   </g>\n   <g id=\"text_9\">\n    <g clip-path=\"url(#p1c69df2ecf)\">\n     <!-- 8 -->\n     <g transform=\"translate(111.72876 171.564836) scale(0.16 -0.16)\">\n      <defs>\n       <path id=\"DejaVuSans-38\" d=\"M 2034 2216 \nQ 1584 2216 1326 1975 \nQ 1069 1734 1069 1313 \nQ 1069 891 1326 650 \nQ 1584 409 2034 409 \nQ 2484 409 2743 651 \nQ 3003 894 3003 1313 \nQ 3003 1734 2745 1975 \nQ 2488 2216 2034 2216 \nz\nM 1403 2484 \nQ 997 2584 770 2862 \nQ 544 3141 544 3541 \nQ 544 4100 942 4425 \nQ 1341 4750 2034 4750 \nQ 2731 4750 3128 4425 \nQ 3525 4100 3525 3541 \nQ 3525 3141 3298 2862 \nQ 3072 2584 2669 2484 \nQ 3125 2378 3379 2068 \nQ 3634 1759 3634 1313 \nQ 3634 634 3220 271 \nQ 2806 -91 2034 -91 \nQ 1263 -91 848 271 \nQ 434 634 434 1313 \nQ 434 1759 690 2068 \nQ 947 2378 1403 2484 \nz\nM 1172 3481 \nQ 1172 3119 1398 2916 \nQ 1625 2713 2034 2713 \nQ 2441 2713 2670 2916 \nQ 2900 3119 2900 3481 \nQ 2900 3844 2670 4047 \nQ 2441 4250 2034 4250 \nQ 1625 4250 1398 4047 \nQ 1172 3844 1172 3481 \nz\n\" transform=\"scale(0.015625)\"/>\n      </defs>\n      <use xlink:href=\"#DejaVuSans-38\"/>\n     </g>\n    </g>\n   </g>\n   <g id=\"text_10\">\n    <g clip-path=\"url(#p1c69df2ecf)\">\n     <!-- 9 -->\n     <g transform=\"translate(68.7912 208.871198) scale(0.16 -0.16)\">\n      <defs>\n       <path id=\"DejaVuSans-39\" d=\"M 703 97 \nL 703 672 \nQ 941 559 1184 500 \nQ 1428 441 1663 441 \nQ 2288 441 2617 861 \nQ 2947 1281 2994 2138 \nQ 2813 1869 2534 1725 \nQ 2256 1581 1919 1581 \nQ 1219 1581 811 2004 \nQ 403 2428 403 3163 \nQ 403 3881 828 4315 \nQ 1253 4750 1959 4750 \nQ 2769 4750 3195 4129 \nQ 3622 3509 3622 2328 \nQ 3622 1225 3098 567 \nQ 2575 -91 1691 -91 \nQ 1453 -91 1209 -44 \nQ 966 3 703 97 \nz\nM 1959 2075 \nQ 2384 2075 2632 2365 \nQ 2881 2656 2881 3163 \nQ 2881 3666 2632 3958 \nQ 2384 4250 1959 4250 \nQ 1534 4250 1286 3958 \nQ 1038 3666 1038 3163 \nQ 1038 2656 1286 2365 \nQ 1534 2075 1959 2075 \nz\n\" transform=\"scale(0.015625)\"/>\n      </defs>\n      <use xlink:href=\"#DejaVuSans-39\"/>\n     </g>\n    </g>\n   </g>\n  </g>\n </g>\n <defs>\n  <clipPath id=\"p1c69df2ecf\">\n   <rect x=\"7.2\" y=\"7.2\" width=\"288\" height=\"216\"/>\n  </clipPath>\n </defs>\n</svg>\n",
      "text/plain": [
       "<Figure size 400x300 with 1 Axes>"
      ]
     },
     "metadata": {},
     "output_type": "display_data"
    }
   ],
   "source": [
    "nx.draw(G, **draw_params)"
   ]
  },
  {
   "cell_type": "code",
   "execution_count": 20,
   "metadata": {},
   "outputs": [
    {
     "name": "stderr",
     "output_type": "stream",
     "text": [
      "/var/folders/qm/c_scj_0n7vj7r36900wc3j140000gn/T/ipykernel_54313/1191222007.py:1: FutureWarning: adjacency_matrix will return a scipy.sparse array instead of a matrix in Networkx 3.0.\n",
      "  am_ladder = nx.adjacency_matrix(G)\n"
     ]
    }
   ],
   "source": [
    "am_ladder = nx.adjacency_matrix(G)"
   ]
  },
  {
   "cell_type": "code",
   "execution_count": 21,
   "metadata": {},
   "outputs": [
    {
     "data": {
      "text/plain": [
       "<10x10 sparse matrix of type '<class 'numpy.int64'>'\n",
       "\twith 26 stored elements in Compressed Sparse Row format>"
      ]
     },
     "execution_count": 21,
     "metadata": {},
     "output_type": "execute_result"
    }
   ],
   "source": [
    "am_ladder"
   ]
  },
  {
   "cell_type": "code",
   "execution_count": 22,
   "metadata": {},
   "outputs": [
    {
     "data": {
      "text/plain": [
       "scipy.sparse._csr.csr_matrix"
      ]
     },
     "execution_count": 22,
     "metadata": {},
     "output_type": "execute_result"
    }
   ],
   "source": [
    "type(am_ladder)"
   ]
  },
  {
   "cell_type": "markdown",
   "metadata": {},
   "source": [
    "- Sparse matrices are conceptual data structure like a list, dictionary, set, etc.\n",
    "- [`scipy.sparse`](https://docs.scipy.org/doc/scipy/reference/sparse.html) matrices are the Python implementation of this conceptual data structure, like `list`, `dict`, `set`, etc.\n",
    "- Going to that link, we can see there are many types of scipy sparse matrix.\n",
    "  - This one is a [`csr_matrix`](https://docs.scipy.org/doc/scipy/reference/generated/scipy.sparse.csr_matrix.html#scipy.sparse.csr_matrix)\n",
    "  - More later on these types.\n",
    "- You can convert them to numpy arrays with `toarray()`, but this is usually a bad idea."
   ]
  },
  {
   "cell_type": "code",
   "execution_count": 23,
   "metadata": {},
   "outputs": [
    {
     "name": "stdout",
     "output_type": "stream",
     "text": [
      "[[0 1 0 0 0 1 0 0 0 0]\n",
      " [1 0 1 0 0 0 1 0 0 0]\n",
      " [0 1 0 1 0 0 0 1 0 0]\n",
      " [0 0 1 0 1 0 0 0 1 0]\n",
      " [0 0 0 1 0 0 0 0 0 1]\n",
      " [1 0 0 0 0 0 1 0 0 0]\n",
      " [0 1 0 0 0 1 0 1 0 0]\n",
      " [0 0 1 0 0 0 1 0 1 0]\n",
      " [0 0 0 1 0 0 0 1 0 1]\n",
      " [0 0 0 0 1 0 0 0 1 0]]\n"
     ]
    }
   ],
   "source": [
    "print(am_ladder.toarray())"
   ]
  },
  {
   "cell_type": "code",
   "execution_count": 24,
   "metadata": {},
   "outputs": [
    {
     "data": {
      "text/plain": [
       "numpy.ndarray"
      ]
     },
     "execution_count": 24,
     "metadata": {},
     "output_type": "execute_result"
    }
   ],
   "source": [
    "type(am_ladder.toarray())"
   ]
  },
  {
   "cell_type": "code",
   "execution_count": 25,
   "metadata": {},
   "outputs": [
    {
     "data": {
      "text/plain": [
       "scipy.sparse._csr.csr_matrix"
      ]
     },
     "execution_count": 25,
     "metadata": {},
     "output_type": "execute_result"
    }
   ],
   "source": [
    "type(am_ladder)"
   ]
  },
  {
   "cell_type": "code",
   "execution_count": 26,
   "metadata": {},
   "outputs": [],
   "source": [
    "# make a bigger graph with more vertices/edges\n",
    "G = nx.fast_gnp_random_graph(100_000, 1e-4)"
   ]
  },
  {
   "cell_type": "code",
   "execution_count": 27,
   "metadata": {},
   "outputs": [
    {
     "data": {
      "text/plain": [
       "networkx.classes.graph.Graph"
      ]
     },
     "execution_count": 27,
     "metadata": {},
     "output_type": "execute_result"
    }
   ],
   "source": [
    "type(G)"
   ]
  },
  {
   "cell_type": "code",
   "execution_count": 28,
   "metadata": {},
   "outputs": [
    {
     "data": {
      "text/plain": [
       "100000"
      ]
     },
     "execution_count": 28,
     "metadata": {},
     "output_type": "execute_result"
    }
   ],
   "source": [
    "len(G.nodes)"
   ]
  },
  {
   "cell_type": "code",
   "execution_count": 29,
   "metadata": {},
   "outputs": [
    {
     "data": {
      "text/plain": [
       "499608"
      ]
     },
     "execution_count": 29,
     "metadata": {},
     "output_type": "execute_result"
    }
   ],
   "source": [
    "len(G.edges)"
   ]
  },
  {
   "cell_type": "code",
   "execution_count": 30,
   "metadata": {},
   "outputs": [
    {
     "name": "stderr",
     "output_type": "stream",
     "text": [
      "/var/folders/qm/c_scj_0n7vj7r36900wc3j140000gn/T/ipykernel_54313/2653877533.py:1: FutureWarning: adjacency_matrix will return a scipy.sparse array instead of a matrix in Networkx 3.0.\n",
      "  am = nx.adjacency_matrix(G)\n"
     ]
    }
   ],
   "source": [
    "am = nx.adjacency_matrix(G)"
   ]
  },
  {
   "cell_type": "code",
   "execution_count": 31,
   "metadata": {},
   "outputs": [
    {
     "data": {
      "text/plain": [
       "(100000, 100000)"
      ]
     },
     "execution_count": 31,
     "metadata": {},
     "output_type": "execute_result"
    }
   ],
   "source": [
    "am.shape"
   ]
  },
  {
   "cell_type": "code",
   "execution_count": 32,
   "metadata": {},
   "outputs": [
    {
     "data": {
      "text/plain": [
       "999216"
      ]
     },
     "execution_count": 32,
     "metadata": {},
     "output_type": "execute_result"
    }
   ],
   "source": [
    "am.nnz"
   ]
  },
  {
   "cell_type": "markdown",
   "metadata": {},
   "source": [
    "- Okay, so we have a $100,000 \\times 100,000$ matrix, which would have $10^{10}$ elements.\n",
    "- But only around $10^6$ of them are non-zero. Or 0.01% nonzero.\n",
    "  - We say \"this matrix is very sparse\".\n",
    "  \n",
    "How bad would it be to store this as a numpy array?"
   ]
  },
  {
   "cell_type": "markdown",
   "metadata": {},
   "source": [
    "Stored in full form, the matrix would take up:"
   ]
  },
  {
   "cell_type": "code",
   "execution_count": 33,
   "metadata": {},
   "outputs": [
    {
     "name": "stdout",
     "output_type": "stream",
     "text": [
      "The full matrix would take up 80 GB\n"
     ]
    }
   ],
   "source": [
    "full_size = np.prod(am.shape)*8/1e9\n",
    "print(\"The full matrix would take up %d GB\" % full_size)"
   ]
  },
  {
   "cell_type": "markdown",
   "metadata": {},
   "source": [
    "That's a lot! How big is the sparse matrix?"
   ]
  },
  {
   "cell_type": "code",
   "execution_count": 34,
   "metadata": {},
   "outputs": [
    {
     "name": "stdout",
     "output_type": "stream",
     "text": [
      "The sparse matrix takes up 12 MB\n"
     ]
    }
   ],
   "source": [
    "sparse_size = (am.data.nbytes + am.indptr.nbytes + am.indices.nbytes)/1e6\n",
    "print(\"The sparse matrix takes up %d MB\" % sparse_size)"
   ]
  },
  {
   "cell_type": "markdown",
   "metadata": {},
   "source": [
    "So, the fraction of space saved is:"
   ]
  },
  {
   "cell_type": "code",
   "execution_count": 35,
   "metadata": {},
   "outputs": [
    {
     "name": "stdout",
     "output_type": "stream",
     "text": [
      "The sparse matrix is 10007x smaller\n"
     ]
    }
   ],
   "source": [
    "frac_nz = am.nnz / np.prod(am.shape)\n",
    "print(\"The sparse matrix is %dx smaller\" % (1/frac_nz))"
   ]
  },
  {
   "cell_type": "markdown",
   "metadata": {},
   "source": [
    "- Right, so we definitely don't want to store the full matrix.\n",
    "- Let's do some operations on the sparse matrix.\n"
   ]
  },
  {
   "cell_type": "markdown",
   "metadata": {},
   "source": [
    "## Break (5 min)"
   ]
  },
  {
   "cell_type": "markdown",
   "metadata": {},
   "source": [
    "## Sparse matrices continued (15 min)"
   ]
  },
  {
   "cell_type": "markdown",
   "metadata": {},
   "source": [
    "- Quick preview of how this works:\n",
    "  - Store only the nonzero elements\n",
    "  - By row/column\n",
    "  - More general than adjacency list"
   ]
  },
  {
   "cell_type": "markdown",
   "metadata": {},
   "source": [
    "Get all neighbours of vertex $i$:"
   ]
  },
  {
   "cell_type": "code",
   "execution_count": 36,
   "metadata": {},
   "outputs": [
    {
     "name": "stdout",
     "output_type": "stream",
     "text": [
      "  (0, 40813)\t1\n",
      "  (0, 48962)\t1\n",
      "  (0, 53444)\t1\n",
      "  (0, 65692)\t1\n",
      "  (0, 79653)\t1\n",
      "  (0, 81771)\t1\n",
      "  (0, 84250)\t1\n",
      "  (0, 92524)\t1\n"
     ]
    }
   ],
   "source": [
    "i = 0\n",
    "print(am[i])"
   ]
  },
  {
   "cell_type": "markdown",
   "metadata": {},
   "source": [
    "#### Notational nuisances\n",
    "\n",
    "- There are some weird things to know about scipy sparse matrices.\n",
    "- For example, with a regular numpy array, `x[i,j]` and `x[i][j]` are equivalent:"
   ]
  },
  {
   "cell_type": "code",
   "execution_count": 37,
   "metadata": {},
   "outputs": [],
   "source": [
    "x = np.random.rand(10, 10)"
   ]
  },
  {
   "cell_type": "code",
   "execution_count": 38,
   "metadata": {},
   "outputs": [
    {
     "data": {
      "text/plain": [
       "0.5218922875499903"
      ]
     },
     "execution_count": 38,
     "metadata": {},
     "output_type": "execute_result"
    }
   ],
   "source": [
    "x[1, 2]"
   ]
  },
  {
   "cell_type": "code",
   "execution_count": 39,
   "metadata": {},
   "outputs": [
    {
     "data": {
      "text/plain": [
       "0.5218922875499903"
      ]
     },
     "execution_count": 39,
     "metadata": {},
     "output_type": "execute_result"
    }
   ],
   "source": [
    "x[1][2]"
   ]
  },
  {
   "cell_type": "code",
   "execution_count": 40,
   "metadata": {},
   "outputs": [
    {
     "data": {
      "text/plain": [
       "0.5218922875499903"
      ]
     },
     "execution_count": 40,
     "metadata": {},
     "output_type": "execute_result"
    }
   ],
   "source": [
    "(x[1])[2]"
   ]
  },
  {
   "cell_type": "markdown",
   "metadata": {},
   "source": [
    "This is because `x[1]` returns the first row, and then the `[2]` indexes into that row:"
   ]
  },
  {
   "cell_type": "code",
   "execution_count": 41,
   "metadata": {},
   "outputs": [
    {
     "data": {
      "text/plain": [
       "array([0.18582985, 0.18103642, 0.52189229, 0.00964829, 0.77891394,\n",
       "       0.29809204, 0.93515516, 0.16305907, 0.40988807, 0.23854484])"
      ]
     },
     "execution_count": 41,
     "metadata": {},
     "output_type": "execute_result"
    }
   ],
   "source": [
    "x[1]"
   ]
  },
  {
   "cell_type": "code",
   "execution_count": 42,
   "metadata": {},
   "outputs": [
    {
     "data": {
      "text/plain": [
       "0.5218922875499903"
      ]
     },
     "execution_count": 42,
     "metadata": {},
     "output_type": "execute_result"
    }
   ],
   "source": [
    "row_1 = x[1]\n",
    "row_1[2]"
   ]
  },
  {
   "cell_type": "markdown",
   "metadata": {},
   "source": [
    "However, with `scipy.sparse` matrices, things are a bit different:"
   ]
  },
  {
   "cell_type": "code",
   "execution_count": 43,
   "metadata": {},
   "outputs": [],
   "source": [
    "x_sparse = scipy.sparse.csr_matrix(x)"
   ]
  },
  {
   "cell_type": "code",
   "execution_count": 44,
   "metadata": {},
   "outputs": [
    {
     "data": {
      "text/plain": [
       "0.5218922875499903"
      ]
     },
     "execution_count": 44,
     "metadata": {},
     "output_type": "execute_result"
    }
   ],
   "source": [
    "x_sparse[1, 2]"
   ]
  },
  {
   "cell_type": "code",
   "execution_count": 45,
   "metadata": {},
   "outputs": [
    {
     "ename": "IndexError",
     "evalue": "row index (2) out of range",
     "output_type": "error",
     "traceback": [
      "\u001b[0;31m---------------------------------------------------------------------------\u001b[0m",
      "\u001b[0;31mIndexError\u001b[0m                                Traceback (most recent call last)",
      "Cell \u001b[0;32mIn [45], line 1\u001b[0m\n\u001b[0;32m----> 1\u001b[0m x_sparse[\u001b[39m1\u001b[39;49m][\u001b[39m2\u001b[39;49m]\n",
      "File \u001b[0;32m~/opt/miniconda3/envs/dsci512/lib/python3.10/site-packages/scipy/sparse/_index.py:47\u001b[0m, in \u001b[0;36mIndexMixin.__getitem__\u001b[0;34m(self, key)\u001b[0m\n\u001b[1;32m     46\u001b[0m \u001b[39mdef\u001b[39;00m \u001b[39m__getitem__\u001b[39m(\u001b[39mself\u001b[39m, key):\n\u001b[0;32m---> 47\u001b[0m     row, col \u001b[39m=\u001b[39m \u001b[39mself\u001b[39;49m\u001b[39m.\u001b[39;49m_validate_indices(key)\n\u001b[1;32m     49\u001b[0m     \u001b[39m# Dispatch to specialized methods.\u001b[39;00m\n\u001b[1;32m     50\u001b[0m     \u001b[39mif\u001b[39;00m \u001b[39misinstance\u001b[39m(row, INT_TYPES):\n",
      "File \u001b[0;32m~/opt/miniconda3/envs/dsci512/lib/python3.10/site-packages/scipy/sparse/_index.py:155\u001b[0m, in \u001b[0;36mIndexMixin._validate_indices\u001b[0;34m(self, key)\u001b[0m\n\u001b[1;32m    153\u001b[0m row \u001b[39m=\u001b[39m \u001b[39mint\u001b[39m(row)\n\u001b[1;32m    154\u001b[0m \u001b[39mif\u001b[39;00m row \u001b[39m<\u001b[39m \u001b[39m-\u001b[39mM \u001b[39mor\u001b[39;00m row \u001b[39m>\u001b[39m\u001b[39m=\u001b[39m M:\n\u001b[0;32m--> 155\u001b[0m     \u001b[39mraise\u001b[39;00m \u001b[39mIndexError\u001b[39;00m(\u001b[39m'\u001b[39m\u001b[39mrow index (\u001b[39m\u001b[39m%d\u001b[39;00m\u001b[39m) out of range\u001b[39m\u001b[39m'\u001b[39m \u001b[39m%\u001b[39m row)\n\u001b[1;32m    156\u001b[0m \u001b[39mif\u001b[39;00m row \u001b[39m<\u001b[39m \u001b[39m0\u001b[39m:\n\u001b[1;32m    157\u001b[0m     row \u001b[39m+\u001b[39m\u001b[39m=\u001b[39m M\n",
      "\u001b[0;31mIndexError\u001b[0m: row index (2) out of range"
     ]
    }
   ],
   "source": [
    "x_sparse[1][2]"
   ]
  },
  {
   "cell_type": "code",
   "execution_count": null,
   "metadata": {},
   "outputs": [],
   "source": [
    "x_sparse[1]"
   ]
  },
  {
   "cell_type": "markdown",
   "metadata": {},
   "source": [
    "Why?"
   ]
  },
  {
   "cell_type": "code",
   "execution_count": null,
   "metadata": {},
   "outputs": [],
   "source": [
    "row_1_sparse = x_sparse[1]"
   ]
  },
  {
   "cell_type": "code",
   "execution_count": 46,
   "metadata": {},
   "outputs": [
    {
     "ename": "NameError",
     "evalue": "name 'row_1_sparse' is not defined",
     "output_type": "error",
     "traceback": [
      "\u001b[0;31m---------------------------------------------------------------------------\u001b[0m",
      "\u001b[0;31mNameError\u001b[0m                                 Traceback (most recent call last)",
      "Cell \u001b[0;32mIn [46], line 1\u001b[0m\n\u001b[0;32m----> 1\u001b[0m row_1_sparse\u001b[39m.\u001b[39mshape\n",
      "\u001b[0;31mNameError\u001b[0m: name 'row_1_sparse' is not defined"
     ]
    }
   ],
   "source": [
    "row_1_sparse.shape"
   ]
  },
  {
   "cell_type": "code",
   "execution_count": 47,
   "metadata": {},
   "outputs": [],
   "source": [
    "# print(row_1_sparse)"
   ]
  },
  {
   "cell_type": "markdown",
   "metadata": {},
   "source": [
    "- The sparse matrix returns a different shape, leaving in the first dimension.\n",
    "- This can be annoying and is something to watch out for.\n",
    "- In general, I suggest using the `x[1,2]` notation when possible because chaining the `[]` can be problematic in several places (e.g., also pandas).\n",
    "- However, this is only for numpy, not, say, a list of lists:"
   ]
  },
  {
   "cell_type": "code",
   "execution_count": 48,
   "metadata": {},
   "outputs": [
    {
     "data": {
      "text/plain": [
       "[[1, 2, 3], [4, 5, 6], [7, 9]]"
      ]
     },
     "execution_count": 48,
     "metadata": {},
     "output_type": "execute_result"
    }
   ],
   "source": [
    "lst = [[1, 2, 3], [4, 5, 6], [7, 9]]\n",
    "lst"
   ]
  },
  {
   "cell_type": "code",
   "execution_count": 49,
   "metadata": {},
   "outputs": [
    {
     "data": {
      "text/plain": [
       "2"
      ]
     },
     "execution_count": 49,
     "metadata": {},
     "output_type": "execute_result"
    }
   ],
   "source": [
    "lst[0][1]"
   ]
  },
  {
   "cell_type": "code",
   "execution_count": 50,
   "metadata": {},
   "outputs": [
    {
     "ename": "TypeError",
     "evalue": "list indices must be integers or slices, not tuple",
     "output_type": "error",
     "traceback": [
      "\u001b[0;31m---------------------------------------------------------------------------\u001b[0m",
      "\u001b[0;31mTypeError\u001b[0m                                 Traceback (most recent call last)",
      "Cell \u001b[0;32mIn [50], line 1\u001b[0m\n\u001b[0;32m----> 1\u001b[0m lst[\u001b[39m0\u001b[39;49m, \u001b[39m1\u001b[39;49m]\n",
      "\u001b[0;31mTypeError\u001b[0m: list indices must be integers or slices, not tuple"
     ]
    }
   ],
   "source": [
    "lst[0, 1]"
   ]
  },
  {
   "cell_type": "markdown",
   "metadata": {},
   "source": [
    "#### Sparse matrix operations"
   ]
  },
  {
   "cell_type": "markdown",
   "metadata": {},
   "source": [
    "- Let's try to find the vertex with the most neighbours.\n",
    "- First, some numpy syntax:"
   ]
  },
  {
   "cell_type": "code",
   "execution_count": 51,
   "metadata": {},
   "outputs": [
    {
     "data": {
      "text/plain": [
       "array([[7, 0, 4, 3, 5],\n",
       "       [4, 1, 9, 6, 8],\n",
       "       [6, 0, 6, 1, 0],\n",
       "       [7, 4, 6, 1, 9]])"
      ]
     },
     "execution_count": 51,
     "metadata": {},
     "output_type": "execute_result"
    }
   ],
   "source": [
    "x = np.random.randint(10, size=(4,5))\n",
    "x"
   ]
  },
  {
   "cell_type": "code",
   "execution_count": 52,
   "metadata": {},
   "outputs": [
    {
     "data": {
      "text/plain": [
       "87"
      ]
     },
     "execution_count": 52,
     "metadata": {},
     "output_type": "execute_result"
    }
   ],
   "source": [
    "np.sum(x)"
   ]
  },
  {
   "cell_type": "code",
   "execution_count": 53,
   "metadata": {},
   "outputs": [
    {
     "data": {
      "text/plain": [
       "87"
      ]
     },
     "execution_count": 53,
     "metadata": {},
     "output_type": "execute_result"
    }
   ],
   "source": [
    "x.sum() # <- do it this way for sparse matrices (for numpy either is fine)"
   ]
  },
  {
   "cell_type": "code",
   "execution_count": 54,
   "metadata": {},
   "outputs": [
    {
     "data": {
      "text/plain": [
       "array([24,  5, 25, 11, 22])"
      ]
     },
     "execution_count": 54,
     "metadata": {},
     "output_type": "execute_result"
    }
   ],
   "source": [
    "np.sum(x, axis=0)"
   ]
  },
  {
   "cell_type": "code",
   "execution_count": 55,
   "metadata": {},
   "outputs": [
    {
     "data": {
      "text/plain": [
       "array([19, 28, 13, 27])"
      ]
     },
     "execution_count": 55,
     "metadata": {},
     "output_type": "execute_result"
    }
   ],
   "source": [
    "np.sum(x, axis=1)"
   ]
  },
  {
   "cell_type": "markdown",
   "metadata": {},
   "source": [
    "Back to the adjacency matrix, this operation counts the nonzeros for each row of the matrix:"
   ]
  },
  {
   "cell_type": "code",
   "execution_count": 56,
   "metadata": {},
   "outputs": [
    {
     "data": {
      "text/plain": [
       "array([ 8, 14,  8, ...,  8,  8,  7], dtype=int32)"
      ]
     },
     "execution_count": 56,
     "metadata": {},
     "output_type": "execute_result"
    }
   ],
   "source": [
    "am.getnnz(axis=1)"
   ]
  },
  {
   "cell_type": "code",
   "execution_count": 57,
   "metadata": {},
   "outputs": [
    {
     "name": "stdout",
     "output_type": "stream",
     "text": [
      "Vertex 85727 has 26 neighbours\n"
     ]
    }
   ],
   "source": [
    "ind = np.argmax(am.getnnz(axis=1))\n",
    "val = np.max(am.getnnz(axis=1))\n",
    "\n",
    "print(\"Vertex\", ind, \"has\", val, \"neighbours\")"
   ]
  },
  {
   "cell_type": "markdown",
   "metadata": {},
   "source": [
    "#### sparse data sets\n",
    "\n",
    "Sparse matrices come up _a lot_ in practice, beyond just adjacency matrices in graphs. For example:\n",
    "\n",
    "- Word counts: we might represent a document by which words are in it, but only a small fraction of all words would appear in a given document.\n",
    "- Ratings: we might represent an Amazon item by the user ratings, but only a small fraction of all users have rated a given item.\n",
    "- Physical processes: in a 2019 Capstone project, students examined images from a particle physics dataset, in which most of the sensors got zero signal.\n",
    "- etc."
   ]
  },
  {
   "cell_type": "markdown",
   "metadata": {},
   "source": [
    "#### (optional) nearest neighbours with sparse matrices\n",
    "\n",
    "- In Lecture 4 we discussed nearest neighbour algorithms.\n",
    "- We need to think carefully about the idea of _distance_ when dealing with sparse vectors.\n",
    "  - Euclidean distance doesn't necessarily make sense.\n",
    "  - It may depend if we have sparse vectors of sparse _binary_ vectors (like in the adjacency matrix).\n",
    "  - Both are common in practice.\n",
    "  - For sparse binary vectors, the distance could just be the number of places they differ.\n",
    "  - E.g. $\\text{dist}((0,0,1), (0,1,1))=1$ because they differ in one place (the second entry).\n",
    "- Different nearest neighbour algorithms might need to be used for sparse vectors.\n",
    "- E.g. $k$-d trees don't really make sense because \"dividing the space in half\" doesn't really do anything interesting; they are already divided."
   ]
  },
  {
   "cell_type": "markdown",
   "metadata": {},
   "source": [
    "## Spare matrix timing (15 min)"
   ]
  },
  {
   "cell_type": "markdown",
   "metadata": {},
   "source": [
    "- The amount of time things take with sparse matrices can be quite surprising. \n",
    "- First off, let's look at regular numpy arrays."
   ]
  },
  {
   "cell_type": "code",
   "execution_count": 58,
   "metadata": {},
   "outputs": [],
   "source": [
    "numpy_array = np.random.rand(10000, 10000)"
   ]
  },
  {
   "cell_type": "markdown",
   "metadata": {},
   "source": [
    "- Numpy arrays are actually stored row-by-row, so summing a row is faster that summing a column:"
   ]
  },
  {
   "cell_type": "code",
   "execution_count": 59,
   "metadata": {},
   "outputs": [
    {
     "name": "stdout",
     "output_type": "stream",
     "text": [
      "3.9 µs ± 14.7 ns per loop (mean ± std. dev. of 7 runs, 100,000 loops each)\n"
     ]
    }
   ],
   "source": [
    "%timeit numpy_array[0,:].sum() # sum the first row"
   ]
  },
  {
   "cell_type": "code",
   "execution_count": 60,
   "metadata": {},
   "outputs": [
    {
     "name": "stdout",
     "output_type": "stream",
     "text": [
      "38.3 µs ± 149 ns per loop (mean ± std. dev. of 7 runs, 10,000 loops each)\n"
     ]
    }
   ],
   "source": [
    "%timeit numpy_array[:,0].sum() # sum the first column"
   ]
  },
  {
   "cell_type": "markdown",
   "metadata": {},
   "source": [
    "Overall, both of these are _much_ faster than summing the whole thing (which makes sense!):"
   ]
  },
  {
   "cell_type": "code",
   "execution_count": 61,
   "metadata": {},
   "outputs": [
    {
     "name": "stdout",
     "output_type": "stream",
     "text": [
      "35.4 ms ± 1.89 ms per loop (mean ± std. dev. of 7 runs, 10 loops each)\n"
     ]
    }
   ],
   "source": [
    "%timeit numpy_array.sum()"
   ]
  },
  {
   "cell_type": "markdown",
   "metadata": {},
   "source": [
    "Per row or per column, summing the whole thing takes:"
   ]
  },
  {
   "cell_type": "code",
   "execution_count": 63,
   "metadata": {},
   "outputs": [
    {
     "data": {
      "text/plain": [
       "0.354"
      ]
     },
     "execution_count": 63,
     "metadata": {},
     "output_type": "execute_result"
    }
   ],
   "source": [
    "3_540/10000"
   ]
  },
  {
   "cell_type": "markdown",
   "metadata": {},
   "source": [
    "which is faster than summing a row. It makes sense that a bigger, vectorized operation has some savings."
   ]
  },
  {
   "cell_type": "markdown",
   "metadata": {},
   "source": [
    "Now let's look at sparse matrices:"
   ]
  },
  {
   "cell_type": "code",
   "execution_count": 64,
   "metadata": {},
   "outputs": [
    {
     "name": "stderr",
     "output_type": "stream",
     "text": [
      "/var/folders/qm/c_scj_0n7vj7r36900wc3j140000gn/T/ipykernel_54313/1006145731.py:2: FutureWarning: adjacency_matrix will return a scipy.sparse array instead of a matrix in Networkx 3.0.\n",
      "  sparse_matrix = nx.adjacency_matrix(G)\n"
     ]
    }
   ],
   "source": [
    "G = nx.fast_gnp_random_graph(10_000, 0.25e-2)\n",
    "sparse_matrix = nx.adjacency_matrix(G)"
   ]
  },
  {
   "cell_type": "code",
   "execution_count": 65,
   "metadata": {},
   "outputs": [
    {
     "data": {
      "text/plain": [
       "10000"
      ]
     },
     "execution_count": 65,
     "metadata": {},
     "output_type": "execute_result"
    }
   ],
   "source": [
    "len(G.nodes)"
   ]
  },
  {
   "cell_type": "code",
   "execution_count": 66,
   "metadata": {},
   "outputs": [
    {
     "data": {
      "text/plain": [
       "125344"
      ]
     },
     "execution_count": 66,
     "metadata": {},
     "output_type": "execute_result"
    }
   ],
   "source": [
    "len(G.edges)"
   ]
  },
  {
   "cell_type": "code",
   "execution_count": 67,
   "metadata": {},
   "outputs": [
    {
     "data": {
      "text/plain": [
       "networkx.classes.graph.Graph"
      ]
     },
     "execution_count": 67,
     "metadata": {},
     "output_type": "execute_result"
    }
   ],
   "source": [
    "type(G)"
   ]
  },
  {
   "cell_type": "code",
   "execution_count": 68,
   "metadata": {},
   "outputs": [
    {
     "name": "stdout",
     "output_type": "stream",
     "text": [
      "60.2 µs ± 263 ns per loop (mean ± std. dev. of 7 runs, 10,000 loops each)\n"
     ]
    }
   ],
   "source": [
    "%timeit sparse_matrix[0,:].sum()"
   ]
  },
  {
   "cell_type": "code",
   "execution_count": 69,
   "metadata": {},
   "outputs": [
    {
     "name": "stdout",
     "output_type": "stream",
     "text": [
      "538 µs ± 1.97 µs per loop (mean ± std. dev. of 7 runs, 1,000 loops each)\n"
     ]
    }
   ],
   "source": [
    "%timeit sparse_matrix[:,0].sum()"
   ]
  },
  {
   "cell_type": "code",
   "execution_count": 70,
   "metadata": {},
   "outputs": [
    {
     "name": "stdout",
     "output_type": "stream",
     "text": [
      "259 µs ± 15.4 µs per loop (mean ± std. dev. of 7 runs, 1,000 loops each)\n"
     ]
    }
   ],
   "source": [
    "%timeit sparse_matrix.sum()"
   ]
  },
  {
   "cell_type": "markdown",
   "metadata": {},
   "source": [
    "- Notice also how summing the first row is faster than summing the first column.\n",
    "- This has to do with the type of sparse matrix:"
   ]
  },
  {
   "cell_type": "markdown",
   "metadata": {},
   "source": [
    "#### (optional) Sparse matrix format, the gory details"
   ]
  },
  {
   "cell_type": "code",
   "execution_count": 71,
   "metadata": {},
   "outputs": [
    {
     "data": {
      "text/plain": [
       "scipy.sparse._csr.csr_matrix"
      ]
     },
     "execution_count": 71,
     "metadata": {},
     "output_type": "execute_result"
    }
   ],
   "source": [
    "type(sparse_matrix)"
   ]
  },
  {
   "cell_type": "markdown",
   "metadata": {},
   "source": [
    "- This is \"Compressed Sparse Row\" format.\n",
    "- It means we store an adjacency list _per row_. \n",
    "- So if we want Row 4, we just grab it right away.\n",
    "- But if we want column 4, we have to iterate through every row and check if there's a 4!"
   ]
  },
  {
   "cell_type": "code",
   "execution_count": 72,
   "metadata": {},
   "outputs": [
    {
     "name": "stdout",
     "output_type": "stream",
     "text": [
      "[[0.86182738 0.         0.         0.         0.        ]\n",
      " [0.         0.         0.         0.36493942 0.        ]\n",
      " [0.         0.         0.52952801 0.         0.        ]\n",
      " [0.         0.         0.         0.         0.        ]\n",
      " [0.84758728 0.         0.98840654 0.         0.        ]]\n"
     ]
    }
   ],
   "source": [
    "x = scipy.sparse.random(5, 5, density=0.2, format=\"csr\", random_state=321)\n",
    "\n",
    "print(x.toarray())"
   ]
  },
  {
   "cell_type": "code",
   "execution_count": 73,
   "metadata": {},
   "outputs": [
    {
     "name": "stdout",
     "output_type": "stream",
     "text": [
      "  (0, 0)\t0.8618273768819481\n",
      "  (1, 3)\t0.3649394158657733\n",
      "  (2, 2)\t0.529528005602308\n",
      "  (4, 0)\t0.8475872823428623\n",
      "  (4, 2)\t0.9884065398125097\n"
     ]
    }
   ],
   "source": [
    "print(x)"
   ]
  },
  {
   "cell_type": "markdown",
   "metadata": {},
   "source": [
    "Here's how it is actually stored:"
   ]
  },
  {
   "cell_type": "code",
   "execution_count": 74,
   "metadata": {},
   "outputs": [
    {
     "data": {
      "text/plain": [
       "array([0.86182738, 0.36493942, 0.52952801, 0.84758728, 0.98840654])"
      ]
     },
     "execution_count": 74,
     "metadata": {},
     "output_type": "execute_result"
    }
   ],
   "source": [
    "x.data"
   ]
  },
  {
   "cell_type": "code",
   "execution_count": 75,
   "metadata": {},
   "outputs": [
    {
     "data": {
      "text/plain": [
       "array([0, 3, 2, 0, 2], dtype=int32)"
      ]
     },
     "execution_count": 75,
     "metadata": {},
     "output_type": "execute_result"
    }
   ],
   "source": [
    "x.indices # column indices"
   ]
  },
  {
   "cell_type": "code",
   "execution_count": 76,
   "metadata": {},
   "outputs": [
    {
     "data": {
      "text/plain": [
       "array([0, 1, 2, 3, 3, 5], dtype=int32)"
      ]
     },
     "execution_count": 76,
     "metadata": {},
     "output_type": "execute_result"
    }
   ],
   "source": [
    "x.indptr "
   ]
  },
  {
   "cell_type": "markdown",
   "metadata": {},
   "source": [
    "Above: \n",
    "\n",
    "- Row 0 starts at `x.indices[0]`\n",
    "- Row 1 starts at `x.indices[1]`\n",
    "- Row 2 starts at `x.indices[2]`\n",
    "- Row 3 starts at `x.indices[3]`\n",
    "- Row 4 also starts at `x.indices[3]`, because row 3 is empty\n",
    "- Row 5 starts at `x.indices[5]`"
   ]
  },
  {
   "cell_type": "markdown",
   "metadata": {},
   "source": [
    "Here is a diagram that makes these numbers much more understandable:\n",
    "\n",
    "<img src=\"https://i.stack.imgur.com/12bPL.png\" width=\"800\">\n",
    "\n",
    "([Image source](https://stackoverflow.com/a/52299730/8823277))"
   ]
  },
  {
   "cell_type": "markdown",
   "metadata": {},
   "source": [
    "We can actually convert between sparse matrix types."
   ]
  },
  {
   "cell_type": "code",
   "execution_count": 77,
   "metadata": {},
   "outputs": [],
   "source": [
    "sparse_csc = sparse_matrix.tocsc()"
   ]
  },
  {
   "cell_type": "code",
   "execution_count": 78,
   "metadata": {},
   "outputs": [
    {
     "name": "stdout",
     "output_type": "stream",
     "text": [
      "530 µs ± 2.31 µs per loop (mean ± std. dev. of 7 runs, 1,000 loops each)\n"
     ]
    }
   ],
   "source": [
    "%timeit sparse_csc[0,:].sum() # used to be faster"
   ]
  },
  {
   "cell_type": "code",
   "execution_count": 79,
   "metadata": {},
   "outputs": [
    {
     "name": "stdout",
     "output_type": "stream",
     "text": [
      "62.9 µs ± 133 ns per loop (mean ± std. dev. of 7 runs, 10,000 loops each)\n"
     ]
    }
   ],
   "source": [
    "%timeit sparse_csc[:,0].sum() # used to be slower"
   ]
  },
  {
   "cell_type": "markdown",
   "metadata": {},
   "source": [
    "Other notes on using sparse matrices: \n",
    "\n",
    "- Use vectorized built-in scipy operations as much as possible.\n",
    "- Avoid loops.\n",
    "- For extra optimizations, keep in mind what type of sparse matrix you have."
   ]
  }
 ],
 "metadata": {
  "kernelspec": {
   "display_name": "Python 3.10.6 ('dsci512')",
   "language": "python",
   "name": "python3"
  },
  "language_info": {
   "codemirror_mode": {
    "name": "ipython",
    "version": 3
   },
   "file_extension": ".py",
   "mimetype": "text/x-python",
   "name": "python",
   "nbconvert_exporter": "python",
   "pygments_lexer": "ipython3",
   "version": "3.10.6"
  },
  "vscode": {
   "interpreter": {
    "hash": "833530e805897aab5e7a30ee530b0bcb4cd19373b840f29eae5897b61b26002e"
   }
  }
 },
 "nbformat": 4,
 "nbformat_minor": 4
}
