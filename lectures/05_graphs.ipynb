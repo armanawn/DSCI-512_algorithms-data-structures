{
 "cells": [
  {
   "cell_type": "markdown",
   "metadata": {},
   "source": [
    "<img src=\"dsci512_header.png\" width=\"600\">\n",
    "\n",
    "# Lecture 5"
   ]
  },
  {
   "cell_type": "code",
   "execution_count": 1,
   "metadata": {},
   "outputs": [],
   "source": [
    "import numpy as np\n",
    "import networkx as nx\n",
    "from collections import Counter"
   ]
  },
  {
   "cell_type": "code",
   "execution_count": 2,
   "metadata": {},
   "outputs": [],
   "source": [
    "# The defaults are hard to see on a projector in class\n",
    "import matplotlib.pyplot as plt\n",
    "plt.rcParams[\"figure.figsize\"] = (4, 3)\n",
    "%config InlineBackend.figure_formats = ['svg']\n",
    "\n",
    "draw_params = {\n",
    "    \"node_color\": \"pink\",\n",
    "    \"font_size\": 16,\n",
    "    \"with_labels\": True,\n",
    "    \"arrowsize\": 30,\n",
    "    # \"width\": 1\n",
    "    # \"node_size\": 200\n",
    "}"
   ]
  },
  {
   "cell_type": "markdown",
   "metadata": {},
   "source": [
    "Outline:\n",
    "\n",
    "- Graphs intro (5 min)\n",
    "- Graph types (5 min)\n",
    "- Graph searches: recursive implementation (25 min)\n",
    "- Break (5 min)\n",
    "- Stacks and queues (5 min)\n",
    "- Graph searches: iterative implementation (20 min)\n",
    "- Activities (time-permitting)"
   ]
  },
  {
   "cell_type": "markdown",
   "metadata": {},
   "source": [
    "## Learning objectives\n",
    "\n",
    "- Map real-world problems to various kinds of various kinds of graphs (directed/undirected, weighted/unweighted).\n",
    "- Perform breadth-first and depth-first searches in graphs.\n",
    "- Compare/contrast BFS and DFS.\n",
    "- Use Stack and Queue data structures in implementing DFS and BFS.\n",
    "- Find the running times of graph algorithms as a function of the number of vertices and edges in a graph."
   ]
  },
  {
   "cell_type": "markdown",
   "metadata": {},
   "source": [
    "## Graphs intro (5 min)\n",
    "\n",
    "Trees allowed us to represent hierarchical relationships. However, many relationships are not hierarchical:\n",
    "\n",
    "- friendships (on Facebook, Twitter, or in real life)\n",
    "- connections between machines on the internet\n",
    "- direct flight connections between airports\n",
    "- etc."
   ]
  },
  {
   "cell_type": "markdown",
   "metadata": {},
   "source": [
    "A graph consists of: \n",
    "\n",
    "- A set of _vertices_ or _nodes_\n",
    "- A set of pairs of vertices, called _edges_"
   ]
  },
  {
   "cell_type": "code",
   "execution_count": 3,
   "metadata": {},
   "outputs": [],
   "source": [
    "G = nx.Graph()\n",
    "\n",
    "G.add_node(\"A\")\n",
    "G.add_node(\"B\")\n",
    "G.add_node(\"C\")\n",
    "G.add_node(\"D\")\n",
    "G.add_node(\"E\")\n",
    "\n",
    "G.add_edge(\"A\", \"B\")\n",
    "G.add_edge(\"B\", \"C\")\n",
    "G.add_edge(\"C\", \"D\")\n",
    "G.add_edge(\"D\", \"E\")\n",
    "G.add_edge(\"E\", \"A\")\n",
    "G.add_edge(\"A\", \"C\")\n",
    "G.add_edge(\"B\", \"D\")\n",
    "G.add_edge(\"C\", \"E\")"
   ]
  },
  {
   "cell_type": "markdown",
   "metadata": {},
   "source": [
    "- The graph package we're using, `networkx`, randomly visalizes the graph each time.\n",
    "    - By re-running the next cell, we can see a few equivalent representations.\n",
    "    - They are all the same graph!\n",
    "    - See [`networkx.draw` documentation](https://networkx.github.io/documentation/stable/reference/generated/networkx.drawing.nx_pylab.draw_networkx.html).\n",
    "    - Note: if you are interested, there's an Altair interface to `networkx`: [nx_altair](https://github.com/Zsailer/nx_altair)."
   ]
  },
  {
   "cell_type": "code",
   "execution_count": 8,
   "metadata": {},
   "outputs": [
    {
     "data": {
      "image/svg+xml": "<?xml version=\"1.0\" encoding=\"utf-8\" standalone=\"no\"?>\n<!DOCTYPE svg PUBLIC \"-//W3C//DTD SVG 1.1//EN\"\n  \"http://www.w3.org/Graphics/SVG/1.1/DTD/svg11.dtd\">\n<svg xmlns:xlink=\"http://www.w3.org/1999/xlink\" width=\"302.4pt\" height=\"230.4pt\" viewBox=\"0 0 302.4 230.4\" xmlns=\"http://www.w3.org/2000/svg\" version=\"1.1\">\n <metadata>\n  <rdf:RDF xmlns:dc=\"http://purl.org/dc/elements/1.1/\" xmlns:cc=\"http://creativecommons.org/ns#\" xmlns:rdf=\"http://www.w3.org/1999/02/22-rdf-syntax-ns#\">\n   <cc:Work>\n    <dc:type rdf:resource=\"http://purl.org/dc/dcmitype/StillImage\"/>\n    <dc:date>2022-10-30T00:01:14.003707</dc:date>\n    <dc:format>image/svg+xml</dc:format>\n    <dc:creator>\n     <cc:Agent>\n      <dc:title>Matplotlib v3.6.1, https://matplotlib.org/</dc:title>\n     </cc:Agent>\n    </dc:creator>\n   </cc:Work>\n  </rdf:RDF>\n </metadata>\n <defs>\n  <style type=\"text/css\">*{stroke-linejoin: round; stroke-linecap: butt}</style>\n </defs>\n <g id=\"figure_1\">\n  <g id=\"patch_1\">\n   <path d=\"M 0 230.4 \nL 302.4 230.4 \nL 302.4 0 \nL 0 0 \nz\n\" style=\"fill: #ffffff\"/>\n  </g>\n  <g id=\"axes_1\">\n   <g id=\"LineCollection_1\">\n    <path d=\"M 270.208264 68.961166 \nL 121.25261 204.456198 \n\" clip-path=\"url(#p6f6000ac90)\" style=\"fill: none; stroke: #000000\"/>\n    <path d=\"M 270.208264 68.961166 \nL 203.523221 164.978797 \n\" clip-path=\"url(#p6f6000ac90)\" style=\"fill: none; stroke: #000000\"/>\n    <path d=\"M 270.208264 68.961166 \nL 139.275033 25.943802 \n\" clip-path=\"url(#p6f6000ac90)\" style=\"fill: none; stroke: #000000\"/>\n    <path d=\"M 121.25261 204.456198 \nL 139.275033 25.943802 \n\" clip-path=\"url(#p6f6000ac90)\" style=\"fill: none; stroke: #000000\"/>\n    <path d=\"M 121.25261 204.456198 \nL 32.191736 122.398612 \n\" clip-path=\"url(#p6f6000ac90)\" style=\"fill: none; stroke: #000000\"/>\n    <path d=\"M 139.275033 25.943802 \nL 32.191736 122.398612 \n\" clip-path=\"url(#p6f6000ac90)\" style=\"fill: none; stroke: #000000\"/>\n    <path d=\"M 139.275033 25.943802 \nL 203.523221 164.978797 \n\" clip-path=\"url(#p6f6000ac90)\" style=\"fill: none; stroke: #000000\"/>\n    <path d=\"M 32.191736 122.398612 \nL 203.523221 164.978797 \n\" clip-path=\"url(#p6f6000ac90)\" style=\"fill: none; stroke: #000000\"/>\n   </g>\n   <g id=\"PathCollection_1\">\n    <defs>\n     <path id=\"m63f95d9914\" d=\"M 0 8.660254 \nC 2.296726 8.660254 4.499694 7.747755 6.123724 6.123724 \nC 7.747755 4.499694 8.660254 2.296726 8.660254 0 \nC 8.660254 -2.296726 7.747755 -4.499694 6.123724 -6.123724 \nC 4.499694 -7.747755 2.296726 -8.660254 0 -8.660254 \nC -2.296726 -8.660254 -4.499694 -7.747755 -6.123724 -6.123724 \nC -7.747755 -4.499694 -8.660254 -2.296726 -8.660254 0 \nC -8.660254 2.296726 -7.747755 4.499694 -6.123724 6.123724 \nC -4.499694 7.747755 -2.296726 8.660254 0 8.660254 \nz\n\" style=\"stroke: #ffc0cb\"/>\n    </defs>\n    <g clip-path=\"url(#p6f6000ac90)\">\n     <use xlink:href=\"#m63f95d9914\" x=\"270.208264\" y=\"68.961166\" style=\"fill: #ffc0cb; stroke: #ffc0cb\"/>\n     <use xlink:href=\"#m63f95d9914\" x=\"121.25261\" y=\"204.456198\" style=\"fill: #ffc0cb; stroke: #ffc0cb\"/>\n     <use xlink:href=\"#m63f95d9914\" x=\"139.275033\" y=\"25.943802\" style=\"fill: #ffc0cb; stroke: #ffc0cb\"/>\n     <use xlink:href=\"#m63f95d9914\" x=\"32.191736\" y=\"122.398612\" style=\"fill: #ffc0cb; stroke: #ffc0cb\"/>\n     <use xlink:href=\"#m63f95d9914\" x=\"203.523221\" y=\"164.978797\" style=\"fill: #ffc0cb; stroke: #ffc0cb\"/>\n    </g>\n   </g>\n   <g id=\"text_1\">\n    <g clip-path=\"url(#p6f6000ac90)\">\n     <!-- A -->\n     <g transform=\"translate(264.735764 73.376166) scale(0.16 -0.16)\">\n      <defs>\n       <path id=\"DejaVuSans-41\" d=\"M 2188 4044 \nL 1331 1722 \nL 3047 1722 \nL 2188 4044 \nz\nM 1831 4666 \nL 2547 4666 \nL 4325 0 \nL 3669 0 \nL 3244 1197 \nL 1141 1197 \nL 716 0 \nL 50 0 \nL 1831 4666 \nz\n\" transform=\"scale(0.015625)\"/>\n      </defs>\n      <use xlink:href=\"#DejaVuSans-41\"/>\n     </g>\n    </g>\n   </g>\n   <g id=\"text_2\">\n    <g clip-path=\"url(#p6f6000ac90)\">\n     <!-- B -->\n     <g transform=\"translate(115.76386 208.871198) scale(0.16 -0.16)\">\n      <defs>\n       <path id=\"DejaVuSans-42\" d=\"M 1259 2228 \nL 1259 519 \nL 2272 519 \nQ 2781 519 3026 730 \nQ 3272 941 3272 1375 \nQ 3272 1813 3026 2020 \nQ 2781 2228 2272 2228 \nL 1259 2228 \nz\nM 1259 4147 \nL 1259 2741 \nL 2194 2741 \nQ 2656 2741 2882 2914 \nQ 3109 3088 3109 3444 \nQ 3109 3797 2882 3972 \nQ 2656 4147 2194 4147 \nL 1259 4147 \nz\nM 628 4666 \nL 2241 4666 \nQ 2963 4666 3353 4366 \nQ 3744 4066 3744 3513 \nQ 3744 3084 3544 2831 \nQ 3344 2578 2956 2516 \nQ 3422 2416 3680 2098 \nQ 3938 1781 3938 1306 \nQ 3938 681 3513 340 \nQ 3088 0 2303 0 \nL 628 0 \nL 628 4666 \nz\n\" transform=\"scale(0.015625)\"/>\n      </defs>\n      <use xlink:href=\"#DejaVuSans-42\"/>\n     </g>\n    </g>\n   </g>\n   <g id=\"text_3\">\n    <g clip-path=\"url(#p6f6000ac90)\">\n     <!-- C -->\n     <g transform=\"translate(133.688783 30.358802) scale(0.16 -0.16)\">\n      <defs>\n       <path id=\"DejaVuSans-43\" d=\"M 4122 4306 \nL 4122 3641 \nQ 3803 3938 3442 4084 \nQ 3081 4231 2675 4231 \nQ 1875 4231 1450 3742 \nQ 1025 3253 1025 2328 \nQ 1025 1406 1450 917 \nQ 1875 428 2675 428 \nQ 3081 428 3442 575 \nQ 3803 722 4122 1019 \nL 4122 359 \nQ 3791 134 3420 21 \nQ 3050 -91 2638 -91 \nQ 1578 -91 968 557 \nQ 359 1206 359 2328 \nQ 359 3453 968 4101 \nQ 1578 4750 2638 4750 \nQ 3056 4750 3426 4639 \nQ 3797 4528 4122 4306 \nz\n\" transform=\"scale(0.015625)\"/>\n      </defs>\n      <use xlink:href=\"#DejaVuSans-43\"/>\n     </g>\n    </g>\n   </g>\n   <g id=\"text_4\">\n    <g clip-path=\"url(#p6f6000ac90)\">\n     <!-- D -->\n     <g transform=\"translate(26.031736 126.813612) scale(0.16 -0.16)\">\n      <defs>\n       <path id=\"DejaVuSans-44\" d=\"M 1259 4147 \nL 1259 519 \nL 2022 519 \nQ 2988 519 3436 956 \nQ 3884 1394 3884 2338 \nQ 3884 3275 3436 3711 \nQ 2988 4147 2022 4147 \nL 1259 4147 \nz\nM 628 4666 \nL 1925 4666 \nQ 3281 4666 3915 4102 \nQ 4550 3538 4550 2338 \nQ 4550 1131 3912 565 \nQ 3275 0 1925 0 \nL 628 0 \nL 628 4666 \nz\n\" transform=\"scale(0.015625)\"/>\n      </defs>\n      <use xlink:href=\"#DejaVuSans-44\"/>\n     </g>\n    </g>\n   </g>\n   <g id=\"text_5\">\n    <g clip-path=\"url(#p6f6000ac90)\">\n     <!-- E -->\n     <g transform=\"translate(198.468221 169.393797) scale(0.16 -0.16)\">\n      <defs>\n       <path id=\"DejaVuSans-45\" d=\"M 628 4666 \nL 3578 4666 \nL 3578 4134 \nL 1259 4134 \nL 1259 2753 \nL 3481 2753 \nL 3481 2222 \nL 1259 2222 \nL 1259 531 \nL 3634 531 \nL 3634 0 \nL 628 0 \nL 628 4666 \nz\n\" transform=\"scale(0.015625)\"/>\n      </defs>\n      <use xlink:href=\"#DejaVuSans-45\"/>\n     </g>\n    </g>\n   </g>\n  </g>\n </g>\n <defs>\n  <clipPath id=\"p6f6000ac90\">\n   <rect x=\"7.2\" y=\"7.2\" width=\"288\" height=\"216\"/>\n  </clipPath>\n </defs>\n</svg>\n",
      "text/plain": [
       "<Figure size 400x300 with 1 Axes>"
      ]
     },
     "metadata": {},
     "output_type": "display_data"
    }
   ],
   "source": [
    "nx.draw(G, **draw_params)"
   ]
  },
  {
   "cell_type": "markdown",
   "metadata": {},
   "source": [
    "Note: we can set the random seed if we want a fixed drawing:"
   ]
  },
  {
   "cell_type": "code",
   "execution_count": 5,
   "metadata": {},
   "outputs": [
    {
     "data": {
      "image/svg+xml": "<?xml version=\"1.0\" encoding=\"utf-8\" standalone=\"no\"?>\n<!DOCTYPE svg PUBLIC \"-//W3C//DTD SVG 1.1//EN\"\n  \"http://www.w3.org/Graphics/SVG/1.1/DTD/svg11.dtd\">\n<svg xmlns:xlink=\"http://www.w3.org/1999/xlink\" width=\"302.4pt\" height=\"230.4pt\" viewBox=\"0 0 302.4 230.4\" xmlns=\"http://www.w3.org/2000/svg\" version=\"1.1\">\n <metadata>\n  <rdf:RDF xmlns:dc=\"http://purl.org/dc/elements/1.1/\" xmlns:cc=\"http://creativecommons.org/ns#\" xmlns:rdf=\"http://www.w3.org/1999/02/22-rdf-syntax-ns#\">\n   <cc:Work>\n    <dc:type rdf:resource=\"http://purl.org/dc/dcmitype/StillImage\"/>\n    <dc:date>2022-10-30T00:01:07.505758</dc:date>\n    <dc:format>image/svg+xml</dc:format>\n    <dc:creator>\n     <cc:Agent>\n      <dc:title>Matplotlib v3.6.1, https://matplotlib.org/</dc:title>\n     </cc:Agent>\n    </dc:creator>\n   </cc:Work>\n  </rdf:RDF>\n </metadata>\n <defs>\n  <style type=\"text/css\">*{stroke-linejoin: round; stroke-linecap: butt}</style>\n </defs>\n <g id=\"figure_1\">\n  <g id=\"patch_1\">\n   <path d=\"M 0 230.4 \nL 302.4 230.4 \nL 302.4 0 \nL 0 0 \nz\n\" style=\"fill: #ffffff\"/>\n  </g>\n  <g id=\"axes_1\">\n   <g id=\"LineCollection_1\">\n    <path d=\"M 32.191736 90.614573 \nL 183.781794 25.943802 \n\" clip-path=\"url(#p2af1e4b8e8)\" style=\"fill: none; stroke: #000000\"/>\n    <path d=\"M 32.191736 90.614573 \nL 118.12239 204.456198 \n\" clip-path=\"url(#p2af1e4b8e8)\" style=\"fill: none; stroke: #000000\"/>\n    <path d=\"M 32.191736 90.614573 \nL 151.132677 115.221887 \n\" clip-path=\"url(#p2af1e4b8e8)\" style=\"fill: none; stroke: #000000\"/>\n    <path d=\"M 183.781794 25.943802 \nL 151.132677 115.221887 \n\" clip-path=\"url(#p2af1e4b8e8)\" style=\"fill: none; stroke: #000000\"/>\n    <path d=\"M 183.781794 25.943802 \nL 270.208264 139.573915 \n\" clip-path=\"url(#p2af1e4b8e8)\" style=\"fill: none; stroke: #000000\"/>\n    <path d=\"M 151.132677 115.221887 \nL 270.208264 139.573915 \n\" clip-path=\"url(#p2af1e4b8e8)\" style=\"fill: none; stroke: #000000\"/>\n    <path d=\"M 151.132677 115.221887 \nL 118.12239 204.456198 \n\" clip-path=\"url(#p2af1e4b8e8)\" style=\"fill: none; stroke: #000000\"/>\n    <path d=\"M 270.208264 139.573915 \nL 118.12239 204.456198 \n\" clip-path=\"url(#p2af1e4b8e8)\" style=\"fill: none; stroke: #000000\"/>\n   </g>\n   <g id=\"PathCollection_1\">\n    <defs>\n     <path id=\"md65371f1b0\" d=\"M 0 8.660254 \nC 2.296726 8.660254 4.499694 7.747755 6.123724 6.123724 \nC 7.747755 4.499694 8.660254 2.296726 8.660254 0 \nC 8.660254 -2.296726 7.747755 -4.499694 6.123724 -6.123724 \nC 4.499694 -7.747755 2.296726 -8.660254 0 -8.660254 \nC -2.296726 -8.660254 -4.499694 -7.747755 -6.123724 -6.123724 \nC -7.747755 -4.499694 -8.660254 -2.296726 -8.660254 0 \nC -8.660254 2.296726 -7.747755 4.499694 -6.123724 6.123724 \nC -4.499694 7.747755 -2.296726 8.660254 0 8.660254 \nz\n\" style=\"stroke: #ffc0cb\"/>\n    </defs>\n    <g clip-path=\"url(#p2af1e4b8e8)\">\n     <use xlink:href=\"#md65371f1b0\" x=\"32.191736\" y=\"90.614573\" style=\"fill: #ffc0cb; stroke: #ffc0cb\"/>\n     <use xlink:href=\"#md65371f1b0\" x=\"183.781794\" y=\"25.943802\" style=\"fill: #ffc0cb; stroke: #ffc0cb\"/>\n     <use xlink:href=\"#md65371f1b0\" x=\"151.132677\" y=\"115.221887\" style=\"fill: #ffc0cb; stroke: #ffc0cb\"/>\n     <use xlink:href=\"#md65371f1b0\" x=\"270.208264\" y=\"139.573915\" style=\"fill: #ffc0cb; stroke: #ffc0cb\"/>\n     <use xlink:href=\"#md65371f1b0\" x=\"118.12239\" y=\"204.456198\" style=\"fill: #ffc0cb; stroke: #ffc0cb\"/>\n    </g>\n   </g>\n   <g id=\"text_1\">\n    <g clip-path=\"url(#p2af1e4b8e8)\">\n     <!-- A -->\n     <g transform=\"translate(26.719236 95.029573) scale(0.16 -0.16)\">\n      <defs>\n       <path id=\"DejaVuSans-41\" d=\"M 2188 4044 \nL 1331 1722 \nL 3047 1722 \nL 2188 4044 \nz\nM 1831 4666 \nL 2547 4666 \nL 4325 0 \nL 3669 0 \nL 3244 1197 \nL 1141 1197 \nL 716 0 \nL 50 0 \nL 1831 4666 \nz\n\" transform=\"scale(0.015625)\"/>\n      </defs>\n      <use xlink:href=\"#DejaVuSans-41\"/>\n     </g>\n    </g>\n   </g>\n   <g id=\"text_2\">\n    <g clip-path=\"url(#p2af1e4b8e8)\">\n     <!-- B -->\n     <g transform=\"translate(178.293044 30.358802) scale(0.16 -0.16)\">\n      <defs>\n       <path id=\"DejaVuSans-42\" d=\"M 1259 2228 \nL 1259 519 \nL 2272 519 \nQ 2781 519 3026 730 \nQ 3272 941 3272 1375 \nQ 3272 1813 3026 2020 \nQ 2781 2228 2272 2228 \nL 1259 2228 \nz\nM 1259 4147 \nL 1259 2741 \nL 2194 2741 \nQ 2656 2741 2882 2914 \nQ 3109 3088 3109 3444 \nQ 3109 3797 2882 3972 \nQ 2656 4147 2194 4147 \nL 1259 4147 \nz\nM 628 4666 \nL 2241 4666 \nQ 2963 4666 3353 4366 \nQ 3744 4066 3744 3513 \nQ 3744 3084 3544 2831 \nQ 3344 2578 2956 2516 \nQ 3422 2416 3680 2098 \nQ 3938 1781 3938 1306 \nQ 3938 681 3513 340 \nQ 3088 0 2303 0 \nL 628 0 \nL 628 4666 \nz\n\" transform=\"scale(0.015625)\"/>\n      </defs>\n      <use xlink:href=\"#DejaVuSans-42\"/>\n     </g>\n    </g>\n   </g>\n   <g id=\"text_3\">\n    <g clip-path=\"url(#p2af1e4b8e8)\">\n     <!-- C -->\n     <g transform=\"translate(145.546427 119.636887) scale(0.16 -0.16)\">\n      <defs>\n       <path id=\"DejaVuSans-43\" d=\"M 4122 4306 \nL 4122 3641 \nQ 3803 3938 3442 4084 \nQ 3081 4231 2675 4231 \nQ 1875 4231 1450 3742 \nQ 1025 3253 1025 2328 \nQ 1025 1406 1450 917 \nQ 1875 428 2675 428 \nQ 3081 428 3442 575 \nQ 3803 722 4122 1019 \nL 4122 359 \nQ 3791 134 3420 21 \nQ 3050 -91 2638 -91 \nQ 1578 -91 968 557 \nQ 359 1206 359 2328 \nQ 359 3453 968 4101 \nQ 1578 4750 2638 4750 \nQ 3056 4750 3426 4639 \nQ 3797 4528 4122 4306 \nz\n\" transform=\"scale(0.015625)\"/>\n      </defs>\n      <use xlink:href=\"#DejaVuSans-43\"/>\n     </g>\n    </g>\n   </g>\n   <g id=\"text_4\">\n    <g clip-path=\"url(#p2af1e4b8e8)\">\n     <!-- D -->\n     <g transform=\"translate(264.048264 143.988915) scale(0.16 -0.16)\">\n      <defs>\n       <path id=\"DejaVuSans-44\" d=\"M 1259 4147 \nL 1259 519 \nL 2022 519 \nQ 2988 519 3436 956 \nQ 3884 1394 3884 2338 \nQ 3884 3275 3436 3711 \nQ 2988 4147 2022 4147 \nL 1259 4147 \nz\nM 628 4666 \nL 1925 4666 \nQ 3281 4666 3915 4102 \nQ 4550 3538 4550 2338 \nQ 4550 1131 3912 565 \nQ 3275 0 1925 0 \nL 628 0 \nL 628 4666 \nz\n\" transform=\"scale(0.015625)\"/>\n      </defs>\n      <use xlink:href=\"#DejaVuSans-44\"/>\n     </g>\n    </g>\n   </g>\n   <g id=\"text_5\">\n    <g clip-path=\"url(#p2af1e4b8e8)\">\n     <!-- E -->\n     <g transform=\"translate(113.06739 208.871198) scale(0.16 -0.16)\">\n      <defs>\n       <path id=\"DejaVuSans-45\" d=\"M 628 4666 \nL 3578 4666 \nL 3578 4134 \nL 1259 4134 \nL 1259 2753 \nL 3481 2753 \nL 3481 2222 \nL 1259 2222 \nL 1259 531 \nL 3634 531 \nL 3634 0 \nL 628 0 \nL 628 4666 \nz\n\" transform=\"scale(0.015625)\"/>\n      </defs>\n      <use xlink:href=\"#DejaVuSans-45\"/>\n     </g>\n    </g>\n   </g>\n  </g>\n </g>\n <defs>\n  <clipPath id=\"p2af1e4b8e8\">\n   <rect x=\"7.2\" y=\"7.2\" width=\"288\" height=\"216\"/>\n  </clipPath>\n </defs>\n</svg>\n",
      "text/plain": [
       "<Figure size 400x300 with 1 Axes>"
      ]
     },
     "metadata": {},
     "output_type": "display_data"
    }
   ],
   "source": [
    "nx.draw(G, **draw_params, pos=nx.spring_layout(G, seed=5))"
   ]
  },
  {
   "cell_type": "markdown",
   "metadata": {},
   "source": [
    "(Jupyter note: I had to specify \"Disable Scrolling for Outputs\" to make this look nicer.)"
   ]
  },
  {
   "cell_type": "markdown",
   "metadata": {},
   "source": [
    "Some graph terminology:\n",
    "\n",
    "- The _degree_ of a vertex is the number of edges connected to it.\n",
    "  - Above, \"B\" has degree 3 and \"C\" has degree 4.\n",
    "- A graph is _complete_ if every pair of vertices is joined by an edge.\n",
    "  - The graph above is not complete because \"B\" and \"E\" are not directly connected (same with \"A\" and \"D\")."
   ]
  },
  {
   "cell_type": "markdown",
   "metadata": {},
   "source": [
    "We can make it complete as follows:"
   ]
  },
  {
   "cell_type": "code",
   "execution_count": 9,
   "metadata": {},
   "outputs": [],
   "source": [
    "G.add_edge(\"A\", \"D\")\n",
    "G.add_edge(\"B\", \"E\")"
   ]
  },
  {
   "cell_type": "code",
   "execution_count": 10,
   "metadata": {},
   "outputs": [
    {
     "data": {
      "image/svg+xml": "<?xml version=\"1.0\" encoding=\"utf-8\" standalone=\"no\"?>\n<!DOCTYPE svg PUBLIC \"-//W3C//DTD SVG 1.1//EN\"\n  \"http://www.w3.org/Graphics/SVG/1.1/DTD/svg11.dtd\">\n<svg xmlns:xlink=\"http://www.w3.org/1999/xlink\" width=\"302.4pt\" height=\"230.4pt\" viewBox=\"0 0 302.4 230.4\" xmlns=\"http://www.w3.org/2000/svg\" version=\"1.1\">\n <metadata>\n  <rdf:RDF xmlns:dc=\"http://purl.org/dc/elements/1.1/\" xmlns:cc=\"http://creativecommons.org/ns#\" xmlns:rdf=\"http://www.w3.org/1999/02/22-rdf-syntax-ns#\">\n   <cc:Work>\n    <dc:type rdf:resource=\"http://purl.org/dc/dcmitype/StillImage\"/>\n    <dc:date>2022-10-30T00:01:19.976880</dc:date>\n    <dc:format>image/svg+xml</dc:format>\n    <dc:creator>\n     <cc:Agent>\n      <dc:title>Matplotlib v3.6.1, https://matplotlib.org/</dc:title>\n     </cc:Agent>\n    </dc:creator>\n   </cc:Work>\n  </rdf:RDF>\n </metadata>\n <defs>\n  <style type=\"text/css\">*{stroke-linejoin: round; stroke-linecap: butt}</style>\n </defs>\n <g id=\"figure_1\">\n  <g id=\"patch_1\">\n   <path d=\"M 0 230.4 \nL 302.4 230.4 \nL 302.4 0 \nL 0 0 \nz\n\" style=\"fill: #ffffff\"/>\n  </g>\n  <g id=\"axes_1\">\n   <g id=\"LineCollection_1\">\n    <path d=\"M 32.191736 93.247478 \nL 151.107514 25.943802 \n\" clip-path=\"url(#p2bf2d67cc9)\" style=\"fill: none; stroke: #000000\"/>\n    <path d=\"M 32.191736 93.247478 \nL 76.578616 204.456198 \n\" clip-path=\"url(#p2bf2d67cc9)\" style=\"fill: none; stroke: #000000\"/>\n    <path d=\"M 32.191736 93.247478 \nL 223.366647 203.986692 \n\" clip-path=\"url(#p2bf2d67cc9)\" style=\"fill: none; stroke: #000000\"/>\n    <path d=\"M 32.191736 93.247478 \nL 270.208264 93.783649 \n\" clip-path=\"url(#p2bf2d67cc9)\" style=\"fill: none; stroke: #000000\"/>\n    <path d=\"M 151.107514 25.943802 \nL 223.366647 203.986692 \n\" clip-path=\"url(#p2bf2d67cc9)\" style=\"fill: none; stroke: #000000\"/>\n    <path d=\"M 151.107514 25.943802 \nL 270.208264 93.783649 \n\" clip-path=\"url(#p2bf2d67cc9)\" style=\"fill: none; stroke: #000000\"/>\n    <path d=\"M 151.107514 25.943802 \nL 76.578616 204.456198 \n\" clip-path=\"url(#p2bf2d67cc9)\" style=\"fill: none; stroke: #000000\"/>\n    <path d=\"M 223.366647 203.986692 \nL 270.208264 93.783649 \n\" clip-path=\"url(#p2bf2d67cc9)\" style=\"fill: none; stroke: #000000\"/>\n    <path d=\"M 223.366647 203.986692 \nL 76.578616 204.456198 \n\" clip-path=\"url(#p2bf2d67cc9)\" style=\"fill: none; stroke: #000000\"/>\n    <path d=\"M 270.208264 93.783649 \nL 76.578616 204.456198 \n\" clip-path=\"url(#p2bf2d67cc9)\" style=\"fill: none; stroke: #000000\"/>\n   </g>\n   <g id=\"PathCollection_1\">\n    <defs>\n     <path id=\"m2161cabe9f\" d=\"M 0 8.660254 \nC 2.296726 8.660254 4.499694 7.747755 6.123724 6.123724 \nC 7.747755 4.499694 8.660254 2.296726 8.660254 0 \nC 8.660254 -2.296726 7.747755 -4.499694 6.123724 -6.123724 \nC 4.499694 -7.747755 2.296726 -8.660254 0 -8.660254 \nC -2.296726 -8.660254 -4.499694 -7.747755 -6.123724 -6.123724 \nC -7.747755 -4.499694 -8.660254 -2.296726 -8.660254 0 \nC -8.660254 2.296726 -7.747755 4.499694 -6.123724 6.123724 \nC -4.499694 7.747755 -2.296726 8.660254 0 8.660254 \nz\n\" style=\"stroke: #ffc0cb\"/>\n    </defs>\n    <g clip-path=\"url(#p2bf2d67cc9)\">\n     <use xlink:href=\"#m2161cabe9f\" x=\"32.191736\" y=\"93.247478\" style=\"fill: #ffc0cb; stroke: #ffc0cb\"/>\n     <use xlink:href=\"#m2161cabe9f\" x=\"151.107514\" y=\"25.943802\" style=\"fill: #ffc0cb; stroke: #ffc0cb\"/>\n     <use xlink:href=\"#m2161cabe9f\" x=\"223.366647\" y=\"203.986692\" style=\"fill: #ffc0cb; stroke: #ffc0cb\"/>\n     <use xlink:href=\"#m2161cabe9f\" x=\"270.208264\" y=\"93.783649\" style=\"fill: #ffc0cb; stroke: #ffc0cb\"/>\n     <use xlink:href=\"#m2161cabe9f\" x=\"76.578616\" y=\"204.456198\" style=\"fill: #ffc0cb; stroke: #ffc0cb\"/>\n    </g>\n   </g>\n   <g id=\"text_1\">\n    <g clip-path=\"url(#p2bf2d67cc9)\">\n     <!-- A -->\n     <g transform=\"translate(26.719236 97.662478) scale(0.16 -0.16)\">\n      <defs>\n       <path id=\"DejaVuSans-41\" d=\"M 2188 4044 \nL 1331 1722 \nL 3047 1722 \nL 2188 4044 \nz\nM 1831 4666 \nL 2547 4666 \nL 4325 0 \nL 3669 0 \nL 3244 1197 \nL 1141 1197 \nL 716 0 \nL 50 0 \nL 1831 4666 \nz\n\" transform=\"scale(0.015625)\"/>\n      </defs>\n      <use xlink:href=\"#DejaVuSans-41\"/>\n     </g>\n    </g>\n   </g>\n   <g id=\"text_2\">\n    <g clip-path=\"url(#p2bf2d67cc9)\">\n     <!-- B -->\n     <g transform=\"translate(145.618764 30.358802) scale(0.16 -0.16)\">\n      <defs>\n       <path id=\"DejaVuSans-42\" d=\"M 1259 2228 \nL 1259 519 \nL 2272 519 \nQ 2781 519 3026 730 \nQ 3272 941 3272 1375 \nQ 3272 1813 3026 2020 \nQ 2781 2228 2272 2228 \nL 1259 2228 \nz\nM 1259 4147 \nL 1259 2741 \nL 2194 2741 \nQ 2656 2741 2882 2914 \nQ 3109 3088 3109 3444 \nQ 3109 3797 2882 3972 \nQ 2656 4147 2194 4147 \nL 1259 4147 \nz\nM 628 4666 \nL 2241 4666 \nQ 2963 4666 3353 4366 \nQ 3744 4066 3744 3513 \nQ 3744 3084 3544 2831 \nQ 3344 2578 2956 2516 \nQ 3422 2416 3680 2098 \nQ 3938 1781 3938 1306 \nQ 3938 681 3513 340 \nQ 3088 0 2303 0 \nL 628 0 \nL 628 4666 \nz\n\" transform=\"scale(0.015625)\"/>\n      </defs>\n      <use xlink:href=\"#DejaVuSans-42\"/>\n     </g>\n    </g>\n   </g>\n   <g id=\"text_3\">\n    <g clip-path=\"url(#p2bf2d67cc9)\">\n     <!-- C -->\n     <g transform=\"translate(217.780397 208.401692) scale(0.16 -0.16)\">\n      <defs>\n       <path id=\"DejaVuSans-43\" d=\"M 4122 4306 \nL 4122 3641 \nQ 3803 3938 3442 4084 \nQ 3081 4231 2675 4231 \nQ 1875 4231 1450 3742 \nQ 1025 3253 1025 2328 \nQ 1025 1406 1450 917 \nQ 1875 428 2675 428 \nQ 3081 428 3442 575 \nQ 3803 722 4122 1019 \nL 4122 359 \nQ 3791 134 3420 21 \nQ 3050 -91 2638 -91 \nQ 1578 -91 968 557 \nQ 359 1206 359 2328 \nQ 359 3453 968 4101 \nQ 1578 4750 2638 4750 \nQ 3056 4750 3426 4639 \nQ 3797 4528 4122 4306 \nz\n\" transform=\"scale(0.015625)\"/>\n      </defs>\n      <use xlink:href=\"#DejaVuSans-43\"/>\n     </g>\n    </g>\n   </g>\n   <g id=\"text_4\">\n    <g clip-path=\"url(#p2bf2d67cc9)\">\n     <!-- D -->\n     <g transform=\"translate(264.048264 98.198649) scale(0.16 -0.16)\">\n      <defs>\n       <path id=\"DejaVuSans-44\" d=\"M 1259 4147 \nL 1259 519 \nL 2022 519 \nQ 2988 519 3436 956 \nQ 3884 1394 3884 2338 \nQ 3884 3275 3436 3711 \nQ 2988 4147 2022 4147 \nL 1259 4147 \nz\nM 628 4666 \nL 1925 4666 \nQ 3281 4666 3915 4102 \nQ 4550 3538 4550 2338 \nQ 4550 1131 3912 565 \nQ 3275 0 1925 0 \nL 628 0 \nL 628 4666 \nz\n\" transform=\"scale(0.015625)\"/>\n      </defs>\n      <use xlink:href=\"#DejaVuSans-44\"/>\n     </g>\n    </g>\n   </g>\n   <g id=\"text_5\">\n    <g clip-path=\"url(#p2bf2d67cc9)\">\n     <!-- E -->\n     <g transform=\"translate(71.523616 208.871198) scale(0.16 -0.16)\">\n      <defs>\n       <path id=\"DejaVuSans-45\" d=\"M 628 4666 \nL 3578 4666 \nL 3578 4134 \nL 1259 4134 \nL 1259 2753 \nL 3481 2753 \nL 3481 2222 \nL 1259 2222 \nL 1259 531 \nL 3634 531 \nL 3634 0 \nL 628 0 \nL 628 4666 \nz\n\" transform=\"scale(0.015625)\"/>\n      </defs>\n      <use xlink:href=\"#DejaVuSans-45\"/>\n     </g>\n    </g>\n   </g>\n  </g>\n </g>\n <defs>\n  <clipPath id=\"p2bf2d67cc9\">\n   <rect x=\"7.2\" y=\"7.2\" width=\"288\" height=\"216\"/>\n  </clipPath>\n </defs>\n</svg>\n",
      "text/plain": [
       "<Figure size 400x300 with 1 Axes>"
      ]
     },
     "metadata": {},
     "output_type": "display_data"
    }
   ],
   "source": [
    "nx.draw(G, **draw_params, pos=nx.spring_layout(G, seed=5))"
   ]
  },
  {
   "cell_type": "markdown",
   "metadata": {},
   "source": [
    "Below is another example of a complete graph, this time with 4 vertices."
   ]
  },
  {
   "cell_type": "code",
   "execution_count": 11,
   "metadata": {},
   "outputs": [
    {
     "data": {
      "image/svg+xml": "<?xml version=\"1.0\" encoding=\"utf-8\" standalone=\"no\"?>\n<!DOCTYPE svg PUBLIC \"-//W3C//DTD SVG 1.1//EN\"\n  \"http://www.w3.org/Graphics/SVG/1.1/DTD/svg11.dtd\">\n<svg xmlns:xlink=\"http://www.w3.org/1999/xlink\" width=\"302.4pt\" height=\"230.4pt\" viewBox=\"0 0 302.4 230.4\" xmlns=\"http://www.w3.org/2000/svg\" version=\"1.1\">\n <metadata>\n  <rdf:RDF xmlns:dc=\"http://purl.org/dc/elements/1.1/\" xmlns:cc=\"http://creativecommons.org/ns#\" xmlns:rdf=\"http://www.w3.org/1999/02/22-rdf-syntax-ns#\">\n   <cc:Work>\n    <dc:type rdf:resource=\"http://purl.org/dc/dcmitype/StillImage\"/>\n    <dc:date>2022-10-30T00:01:21.424766</dc:date>\n    <dc:format>image/svg+xml</dc:format>\n    <dc:creator>\n     <cc:Agent>\n      <dc:title>Matplotlib v3.6.1, https://matplotlib.org/</dc:title>\n     </cc:Agent>\n    </dc:creator>\n   </cc:Work>\n  </rdf:RDF>\n </metadata>\n <defs>\n  <style type=\"text/css\">*{stroke-linejoin: round; stroke-linecap: butt}</style>\n </defs>\n <g id=\"figure_1\">\n  <g id=\"patch_1\">\n   <path d=\"M 0 230.4 \nL 302.4 230.4 \nL 302.4 0 \nL 0 0 \nz\n\" style=\"fill: #ffffff\"/>\n  </g>\n  <g id=\"axes_1\">\n   <g id=\"LineCollection_1\">\n    <path d=\"M 235.020085 59.015007 \nL 137.989614 204.456198 \n\" clip-path=\"url(#p23ab13016e)\" style=\"fill: none; stroke: #000000\"/>\n    <path d=\"M 235.020085 59.015007 \nL 154.736714 25.943802 \n\" clip-path=\"url(#p23ab13016e)\" style=\"fill: none; stroke: #000000\"/>\n    <path d=\"M 235.020085 59.015007 \nL 125.98323 86.362972 \n\" clip-path=\"url(#p23ab13016e)\" style=\"fill: none; stroke: #000000\"/>\n    <path d=\"M 235.020085 59.015007 \nL 32.191736 122.983436 \n\" clip-path=\"url(#p23ab13016e)\" style=\"fill: none; stroke: #000000\"/>\n    <path d=\"M 235.020085 59.015007 \nL 270.208264 120.479375 \n\" clip-path=\"url(#p23ab13016e)\" style=\"fill: none; stroke: #000000\"/>\n    <path d=\"M 235.020085 59.015007 \nL 52.199083 56.918919 \n\" clip-path=\"url(#p23ab13016e)\" style=\"fill: none; stroke: #000000\"/>\n    <path d=\"M 235.020085 59.015007 \nL 179.155329 136.596235 \n\" clip-path=\"url(#p23ab13016e)\" style=\"fill: none; stroke: #000000\"/>\n    <path d=\"M 235.020085 59.015007 \nL 227.662854 187.792252 \n\" clip-path=\"url(#p23ab13016e)\" style=\"fill: none; stroke: #000000\"/>\n    <path d=\"M 235.020085 59.015007 \nL 63.060731 178.481821 \n\" clip-path=\"url(#p23ab13016e)\" style=\"fill: none; stroke: #000000\"/>\n    <path d=\"M 137.989614 204.456198 \nL 154.736714 25.943802 \n\" clip-path=\"url(#p23ab13016e)\" style=\"fill: none; stroke: #000000\"/>\n    <path d=\"M 137.989614 204.456198 \nL 125.98323 86.362972 \n\" clip-path=\"url(#p23ab13016e)\" style=\"fill: none; stroke: #000000\"/>\n    <path d=\"M 137.989614 204.456198 \nL 32.191736 122.983436 \n\" clip-path=\"url(#p23ab13016e)\" style=\"fill: none; stroke: #000000\"/>\n    <path d=\"M 137.989614 204.456198 \nL 270.208264 120.479375 \n\" clip-path=\"url(#p23ab13016e)\" style=\"fill: none; stroke: #000000\"/>\n    <path d=\"M 137.989614 204.456198 \nL 52.199083 56.918919 \n\" clip-path=\"url(#p23ab13016e)\" style=\"fill: none; stroke: #000000\"/>\n    <path d=\"M 137.989614 204.456198 \nL 179.155329 136.596235 \n\" clip-path=\"url(#p23ab13016e)\" style=\"fill: none; stroke: #000000\"/>\n    <path d=\"M 137.989614 204.456198 \nL 227.662854 187.792252 \n\" clip-path=\"url(#p23ab13016e)\" style=\"fill: none; stroke: #000000\"/>\n    <path d=\"M 137.989614 204.456198 \nL 63.060731 178.481821 \n\" clip-path=\"url(#p23ab13016e)\" style=\"fill: none; stroke: #000000\"/>\n    <path d=\"M 154.736714 25.943802 \nL 125.98323 86.362972 \n\" clip-path=\"url(#p23ab13016e)\" style=\"fill: none; stroke: #000000\"/>\n    <path d=\"M 154.736714 25.943802 \nL 32.191736 122.983436 \n\" clip-path=\"url(#p23ab13016e)\" style=\"fill: none; stroke: #000000\"/>\n    <path d=\"M 154.736714 25.943802 \nL 270.208264 120.479375 \n\" clip-path=\"url(#p23ab13016e)\" style=\"fill: none; stroke: #000000\"/>\n    <path d=\"M 154.736714 25.943802 \nL 52.199083 56.918919 \n\" clip-path=\"url(#p23ab13016e)\" style=\"fill: none; stroke: #000000\"/>\n    <path d=\"M 154.736714 25.943802 \nL 179.155329 136.596235 \n\" clip-path=\"url(#p23ab13016e)\" style=\"fill: none; stroke: #000000\"/>\n    <path d=\"M 154.736714 25.943802 \nL 227.662854 187.792252 \n\" clip-path=\"url(#p23ab13016e)\" style=\"fill: none; stroke: #000000\"/>\n    <path d=\"M 154.736714 25.943802 \nL 63.060731 178.481821 \n\" clip-path=\"url(#p23ab13016e)\" style=\"fill: none; stroke: #000000\"/>\n    <path d=\"M 125.98323 86.362972 \nL 32.191736 122.983436 \n\" clip-path=\"url(#p23ab13016e)\" style=\"fill: none; stroke: #000000\"/>\n    <path d=\"M 125.98323 86.362972 \nL 270.208264 120.479375 \n\" clip-path=\"url(#p23ab13016e)\" style=\"fill: none; stroke: #000000\"/>\n    <path d=\"M 125.98323 86.362972 \nL 52.199083 56.918919 \n\" clip-path=\"url(#p23ab13016e)\" style=\"fill: none; stroke: #000000\"/>\n    <path d=\"M 125.98323 86.362972 \nL 179.155329 136.596235 \n\" clip-path=\"url(#p23ab13016e)\" style=\"fill: none; stroke: #000000\"/>\n    <path d=\"M 125.98323 86.362972 \nL 227.662854 187.792252 \n\" clip-path=\"url(#p23ab13016e)\" style=\"fill: none; stroke: #000000\"/>\n    <path d=\"M 125.98323 86.362972 \nL 63.060731 178.481821 \n\" clip-path=\"url(#p23ab13016e)\" style=\"fill: none; stroke: #000000\"/>\n    <path d=\"M 32.191736 122.983436 \nL 270.208264 120.479375 \n\" clip-path=\"url(#p23ab13016e)\" style=\"fill: none; stroke: #000000\"/>\n    <path d=\"M 32.191736 122.983436 \nL 52.199083 56.918919 \n\" clip-path=\"url(#p23ab13016e)\" style=\"fill: none; stroke: #000000\"/>\n    <path d=\"M 32.191736 122.983436 \nL 179.155329 136.596235 \n\" clip-path=\"url(#p23ab13016e)\" style=\"fill: none; stroke: #000000\"/>\n    <path d=\"M 32.191736 122.983436 \nL 227.662854 187.792252 \n\" clip-path=\"url(#p23ab13016e)\" style=\"fill: none; stroke: #000000\"/>\n    <path d=\"M 32.191736 122.983436 \nL 63.060731 178.481821 \n\" clip-path=\"url(#p23ab13016e)\" style=\"fill: none; stroke: #000000\"/>\n    <path d=\"M 270.208264 120.479375 \nL 52.199083 56.918919 \n\" clip-path=\"url(#p23ab13016e)\" style=\"fill: none; stroke: #000000\"/>\n    <path d=\"M 270.208264 120.479375 \nL 179.155329 136.596235 \n\" clip-path=\"url(#p23ab13016e)\" style=\"fill: none; stroke: #000000\"/>\n    <path d=\"M 270.208264 120.479375 \nL 227.662854 187.792252 \n\" clip-path=\"url(#p23ab13016e)\" style=\"fill: none; stroke: #000000\"/>\n    <path d=\"M 270.208264 120.479375 \nL 63.060731 178.481821 \n\" clip-path=\"url(#p23ab13016e)\" style=\"fill: none; stroke: #000000\"/>\n    <path d=\"M 52.199083 56.918919 \nL 179.155329 136.596235 \n\" clip-path=\"url(#p23ab13016e)\" style=\"fill: none; stroke: #000000\"/>\n    <path d=\"M 52.199083 56.918919 \nL 227.662854 187.792252 \n\" clip-path=\"url(#p23ab13016e)\" style=\"fill: none; stroke: #000000\"/>\n    <path d=\"M 52.199083 56.918919 \nL 63.060731 178.481821 \n\" clip-path=\"url(#p23ab13016e)\" style=\"fill: none; stroke: #000000\"/>\n    <path d=\"M 179.155329 136.596235 \nL 227.662854 187.792252 \n\" clip-path=\"url(#p23ab13016e)\" style=\"fill: none; stroke: #000000\"/>\n    <path d=\"M 179.155329 136.596235 \nL 63.060731 178.481821 \n\" clip-path=\"url(#p23ab13016e)\" style=\"fill: none; stroke: #000000\"/>\n    <path d=\"M 227.662854 187.792252 \nL 63.060731 178.481821 \n\" clip-path=\"url(#p23ab13016e)\" style=\"fill: none; stroke: #000000\"/>\n   </g>\n   <g id=\"PathCollection_1\">\n    <defs>\n     <path id=\"m8994bf484e\" d=\"M 0 8.660254 \nC 2.296726 8.660254 4.499694 7.747755 6.123724 6.123724 \nC 7.747755 4.499694 8.660254 2.296726 8.660254 0 \nC 8.660254 -2.296726 7.747755 -4.499694 6.123724 -6.123724 \nC 4.499694 -7.747755 2.296726 -8.660254 0 -8.660254 \nC -2.296726 -8.660254 -4.499694 -7.747755 -6.123724 -6.123724 \nC -7.747755 -4.499694 -8.660254 -2.296726 -8.660254 0 \nC -8.660254 2.296726 -7.747755 4.499694 -6.123724 6.123724 \nC -4.499694 7.747755 -2.296726 8.660254 0 8.660254 \nz\n\" style=\"stroke: #ffc0cb\"/>\n    </defs>\n    <g clip-path=\"url(#p23ab13016e)\">\n     <use xlink:href=\"#m8994bf484e\" x=\"235.020085\" y=\"59.015007\" style=\"fill: #ffc0cb; stroke: #ffc0cb\"/>\n     <use xlink:href=\"#m8994bf484e\" x=\"137.989614\" y=\"204.456198\" style=\"fill: #ffc0cb; stroke: #ffc0cb\"/>\n     <use xlink:href=\"#m8994bf484e\" x=\"154.736714\" y=\"25.943802\" style=\"fill: #ffc0cb; stroke: #ffc0cb\"/>\n     <use xlink:href=\"#m8994bf484e\" x=\"125.98323\" y=\"86.362972\" style=\"fill: #ffc0cb; stroke: #ffc0cb\"/>\n     <use xlink:href=\"#m8994bf484e\" x=\"32.191736\" y=\"122.983436\" style=\"fill: #ffc0cb; stroke: #ffc0cb\"/>\n     <use xlink:href=\"#m8994bf484e\" x=\"270.208264\" y=\"120.479375\" style=\"fill: #ffc0cb; stroke: #ffc0cb\"/>\n     <use xlink:href=\"#m8994bf484e\" x=\"52.199083\" y=\"56.918919\" style=\"fill: #ffc0cb; stroke: #ffc0cb\"/>\n     <use xlink:href=\"#m8994bf484e\" x=\"179.155329\" y=\"136.596235\" style=\"fill: #ffc0cb; stroke: #ffc0cb\"/>\n     <use xlink:href=\"#m8994bf484e\" x=\"227.662854\" y=\"187.792252\" style=\"fill: #ffc0cb; stroke: #ffc0cb\"/>\n     <use xlink:href=\"#m8994bf484e\" x=\"63.060731\" y=\"178.481821\" style=\"fill: #ffc0cb; stroke: #ffc0cb\"/>\n    </g>\n   </g>\n   <g id=\"text_1\">\n    <g clip-path=\"url(#p23ab13016e)\">\n     <!-- 0 -->\n     <g transform=\"translate(229.930085 63.430007) scale(0.16 -0.16)\">\n      <defs>\n       <path id=\"DejaVuSans-30\" d=\"M 2034 4250 \nQ 1547 4250 1301 3770 \nQ 1056 3291 1056 2328 \nQ 1056 1369 1301 889 \nQ 1547 409 2034 409 \nQ 2525 409 2770 889 \nQ 3016 1369 3016 2328 \nQ 3016 3291 2770 3770 \nQ 2525 4250 2034 4250 \nz\nM 2034 4750 \nQ 2819 4750 3233 4129 \nQ 3647 3509 3647 2328 \nQ 3647 1150 3233 529 \nQ 2819 -91 2034 -91 \nQ 1250 -91 836 529 \nQ 422 1150 422 2328 \nQ 422 3509 836 4129 \nQ 1250 4750 2034 4750 \nz\n\" transform=\"scale(0.015625)\"/>\n      </defs>\n      <use xlink:href=\"#DejaVuSans-30\"/>\n     </g>\n    </g>\n   </g>\n   <g id=\"text_2\">\n    <g clip-path=\"url(#p23ab13016e)\">\n     <!-- 1 -->\n     <g transform=\"translate(132.899614 208.871198) scale(0.16 -0.16)\">\n      <defs>\n       <path id=\"DejaVuSans-31\" d=\"M 794 531 \nL 1825 531 \nL 1825 4091 \nL 703 3866 \nL 703 4441 \nL 1819 4666 \nL 2450 4666 \nL 2450 531 \nL 3481 531 \nL 3481 0 \nL 794 0 \nL 794 531 \nz\n\" transform=\"scale(0.015625)\"/>\n      </defs>\n      <use xlink:href=\"#DejaVuSans-31\"/>\n     </g>\n    </g>\n   </g>\n   <g id=\"text_3\">\n    <g clip-path=\"url(#p23ab13016e)\">\n     <!-- 2 -->\n     <g transform=\"translate(149.646714 30.358802) scale(0.16 -0.16)\">\n      <defs>\n       <path id=\"DejaVuSans-32\" d=\"M 1228 531 \nL 3431 531 \nL 3431 0 \nL 469 0 \nL 469 531 \nQ 828 903 1448 1529 \nQ 2069 2156 2228 2338 \nQ 2531 2678 2651 2914 \nQ 2772 3150 2772 3378 \nQ 2772 3750 2511 3984 \nQ 2250 4219 1831 4219 \nQ 1534 4219 1204 4116 \nQ 875 4013 500 3803 \nL 500 4441 \nQ 881 4594 1212 4672 \nQ 1544 4750 1819 4750 \nQ 2544 4750 2975 4387 \nQ 3406 4025 3406 3419 \nQ 3406 3131 3298 2873 \nQ 3191 2616 2906 2266 \nQ 2828 2175 2409 1742 \nQ 1991 1309 1228 531 \nz\n\" transform=\"scale(0.015625)\"/>\n      </defs>\n      <use xlink:href=\"#DejaVuSans-32\"/>\n     </g>\n    </g>\n   </g>\n   <g id=\"text_4\">\n    <g clip-path=\"url(#p23ab13016e)\">\n     <!-- 3 -->\n     <g transform=\"translate(120.89323 90.777972) scale(0.16 -0.16)\">\n      <defs>\n       <path id=\"DejaVuSans-33\" d=\"M 2597 2516 \nQ 3050 2419 3304 2112 \nQ 3559 1806 3559 1356 \nQ 3559 666 3084 287 \nQ 2609 -91 1734 -91 \nQ 1441 -91 1130 -33 \nQ 819 25 488 141 \nL 488 750 \nQ 750 597 1062 519 \nQ 1375 441 1716 441 \nQ 2309 441 2620 675 \nQ 2931 909 2931 1356 \nQ 2931 1769 2642 2001 \nQ 2353 2234 1838 2234 \nL 1294 2234 \nL 1294 2753 \nL 1863 2753 \nQ 2328 2753 2575 2939 \nQ 2822 3125 2822 3475 \nQ 2822 3834 2567 4026 \nQ 2313 4219 1838 4219 \nQ 1578 4219 1281 4162 \nQ 984 4106 628 3988 \nL 628 4550 \nQ 988 4650 1302 4700 \nQ 1616 4750 1894 4750 \nQ 2613 4750 3031 4423 \nQ 3450 4097 3450 3541 \nQ 3450 3153 3228 2886 \nQ 3006 2619 2597 2516 \nz\n\" transform=\"scale(0.015625)\"/>\n      </defs>\n      <use xlink:href=\"#DejaVuSans-33\"/>\n     </g>\n    </g>\n   </g>\n   <g id=\"text_5\">\n    <g clip-path=\"url(#p23ab13016e)\">\n     <!-- 4 -->\n     <g transform=\"translate(27.101736 127.398436) scale(0.16 -0.16)\">\n      <defs>\n       <path id=\"DejaVuSans-34\" d=\"M 2419 4116 \nL 825 1625 \nL 2419 1625 \nL 2419 4116 \nz\nM 2253 4666 \nL 3047 4666 \nL 3047 1625 \nL 3713 1625 \nL 3713 1100 \nL 3047 1100 \nL 3047 0 \nL 2419 0 \nL 2419 1100 \nL 313 1100 \nL 313 1709 \nL 2253 4666 \nz\n\" transform=\"scale(0.015625)\"/>\n      </defs>\n      <use xlink:href=\"#DejaVuSans-34\"/>\n     </g>\n    </g>\n   </g>\n   <g id=\"text_6\">\n    <g clip-path=\"url(#p23ab13016e)\">\n     <!-- 5 -->\n     <g transform=\"translate(265.118264 124.894375) scale(0.16 -0.16)\">\n      <defs>\n       <path id=\"DejaVuSans-35\" d=\"M 691 4666 \nL 3169 4666 \nL 3169 4134 \nL 1269 4134 \nL 1269 2991 \nQ 1406 3038 1543 3061 \nQ 1681 3084 1819 3084 \nQ 2600 3084 3056 2656 \nQ 3513 2228 3513 1497 \nQ 3513 744 3044 326 \nQ 2575 -91 1722 -91 \nQ 1428 -91 1123 -41 \nQ 819 9 494 109 \nL 494 744 \nQ 775 591 1075 516 \nQ 1375 441 1709 441 \nQ 2250 441 2565 725 \nQ 2881 1009 2881 1497 \nQ 2881 1984 2565 2268 \nQ 2250 2553 1709 2553 \nQ 1456 2553 1204 2497 \nQ 953 2441 691 2322 \nL 691 4666 \nz\n\" transform=\"scale(0.015625)\"/>\n      </defs>\n      <use xlink:href=\"#DejaVuSans-35\"/>\n     </g>\n    </g>\n   </g>\n   <g id=\"text_7\">\n    <g clip-path=\"url(#p23ab13016e)\">\n     <!-- 6 -->\n     <g transform=\"translate(47.109083 61.333919) scale(0.16 -0.16)\">\n      <defs>\n       <path id=\"DejaVuSans-36\" d=\"M 2113 2584 \nQ 1688 2584 1439 2293 \nQ 1191 2003 1191 1497 \nQ 1191 994 1439 701 \nQ 1688 409 2113 409 \nQ 2538 409 2786 701 \nQ 3034 994 3034 1497 \nQ 3034 2003 2786 2293 \nQ 2538 2584 2113 2584 \nz\nM 3366 4563 \nL 3366 3988 \nQ 3128 4100 2886 4159 \nQ 2644 4219 2406 4219 \nQ 1781 4219 1451 3797 \nQ 1122 3375 1075 2522 \nQ 1259 2794 1537 2939 \nQ 1816 3084 2150 3084 \nQ 2853 3084 3261 2657 \nQ 3669 2231 3669 1497 \nQ 3669 778 3244 343 \nQ 2819 -91 2113 -91 \nQ 1303 -91 875 529 \nQ 447 1150 447 2328 \nQ 447 3434 972 4092 \nQ 1497 4750 2381 4750 \nQ 2619 4750 2861 4703 \nQ 3103 4656 3366 4563 \nz\n\" transform=\"scale(0.015625)\"/>\n      </defs>\n      <use xlink:href=\"#DejaVuSans-36\"/>\n     </g>\n    </g>\n   </g>\n   <g id=\"text_8\">\n    <g clip-path=\"url(#p23ab13016e)\">\n     <!-- 7 -->\n     <g transform=\"translate(174.065329 141.011235) scale(0.16 -0.16)\">\n      <defs>\n       <path id=\"DejaVuSans-37\" d=\"M 525 4666 \nL 3525 4666 \nL 3525 4397 \nL 1831 0 \nL 1172 0 \nL 2766 4134 \nL 525 4134 \nL 525 4666 \nz\n\" transform=\"scale(0.015625)\"/>\n      </defs>\n      <use xlink:href=\"#DejaVuSans-37\"/>\n     </g>\n    </g>\n   </g>\n   <g id=\"text_9\">\n    <g clip-path=\"url(#p23ab13016e)\">\n     <!-- 8 -->\n     <g transform=\"translate(222.572854 192.207252) scale(0.16 -0.16)\">\n      <defs>\n       <path id=\"DejaVuSans-38\" d=\"M 2034 2216 \nQ 1584 2216 1326 1975 \nQ 1069 1734 1069 1313 \nQ 1069 891 1326 650 \nQ 1584 409 2034 409 \nQ 2484 409 2743 651 \nQ 3003 894 3003 1313 \nQ 3003 1734 2745 1975 \nQ 2488 2216 2034 2216 \nz\nM 1403 2484 \nQ 997 2584 770 2862 \nQ 544 3141 544 3541 \nQ 544 4100 942 4425 \nQ 1341 4750 2034 4750 \nQ 2731 4750 3128 4425 \nQ 3525 4100 3525 3541 \nQ 3525 3141 3298 2862 \nQ 3072 2584 2669 2484 \nQ 3125 2378 3379 2068 \nQ 3634 1759 3634 1313 \nQ 3634 634 3220 271 \nQ 2806 -91 2034 -91 \nQ 1263 -91 848 271 \nQ 434 634 434 1313 \nQ 434 1759 690 2068 \nQ 947 2378 1403 2484 \nz\nM 1172 3481 \nQ 1172 3119 1398 2916 \nQ 1625 2713 2034 2713 \nQ 2441 2713 2670 2916 \nQ 2900 3119 2900 3481 \nQ 2900 3844 2670 4047 \nQ 2441 4250 2034 4250 \nQ 1625 4250 1398 4047 \nQ 1172 3844 1172 3481 \nz\n\" transform=\"scale(0.015625)\"/>\n      </defs>\n      <use xlink:href=\"#DejaVuSans-38\"/>\n     </g>\n    </g>\n   </g>\n   <g id=\"text_10\">\n    <g clip-path=\"url(#p23ab13016e)\">\n     <!-- 9 -->\n     <g transform=\"translate(57.970731 182.896821) scale(0.16 -0.16)\">\n      <defs>\n       <path id=\"DejaVuSans-39\" d=\"M 703 97 \nL 703 672 \nQ 941 559 1184 500 \nQ 1428 441 1663 441 \nQ 2288 441 2617 861 \nQ 2947 1281 2994 2138 \nQ 2813 1869 2534 1725 \nQ 2256 1581 1919 1581 \nQ 1219 1581 811 2004 \nQ 403 2428 403 3163 \nQ 403 3881 828 4315 \nQ 1253 4750 1959 4750 \nQ 2769 4750 3195 4129 \nQ 3622 3509 3622 2328 \nQ 3622 1225 3098 567 \nQ 2575 -91 1691 -91 \nQ 1453 -91 1209 -44 \nQ 966 3 703 97 \nz\nM 1959 2075 \nQ 2384 2075 2632 2365 \nQ 2881 2656 2881 3163 \nQ 2881 3666 2632 3958 \nQ 2384 4250 1959 4250 \nQ 1534 4250 1286 3958 \nQ 1038 3666 1038 3163 \nQ 1038 2656 1286 2365 \nQ 1534 2075 1959 2075 \nz\n\" transform=\"scale(0.015625)\"/>\n      </defs>\n      <use xlink:href=\"#DejaVuSans-39\"/>\n     </g>\n    </g>\n   </g>\n  </g>\n </g>\n <defs>\n  <clipPath id=\"p23ab13016e\">\n   <rect x=\"7.2\" y=\"7.2\" width=\"288\" height=\"216\"/>\n  </clipPath>\n </defs>\n</svg>\n",
      "text/plain": [
       "<Figure size 400x300 with 1 Axes>"
      ]
     },
     "metadata": {},
     "output_type": "display_data"
    }
   ],
   "source": [
    "complete = nx.complete_graph(10)\n",
    "\n",
    "nx.draw(complete, **draw_params)"
   ]
  },
  {
   "cell_type": "markdown",
   "metadata": {},
   "source": [
    "More terminology:\n",
    "\n",
    "- A graph is _connected_ if there is exists a path between any pair of nodes.\n",
    "  - Below is an example disconnected graph. "
   ]
  },
  {
   "cell_type": "code",
   "execution_count": 12,
   "metadata": {},
   "outputs": [
    {
     "data": {
      "image/svg+xml": "<?xml version=\"1.0\" encoding=\"utf-8\" standalone=\"no\"?>\n<!DOCTYPE svg PUBLIC \"-//W3C//DTD SVG 1.1//EN\"\n  \"http://www.w3.org/Graphics/SVG/1.1/DTD/svg11.dtd\">\n<svg xmlns:xlink=\"http://www.w3.org/1999/xlink\" width=\"302.4pt\" height=\"230.4pt\" viewBox=\"0 0 302.4 230.4\" xmlns=\"http://www.w3.org/2000/svg\" version=\"1.1\">\n <metadata>\n  <rdf:RDF xmlns:dc=\"http://purl.org/dc/elements/1.1/\" xmlns:cc=\"http://creativecommons.org/ns#\" xmlns:rdf=\"http://www.w3.org/1999/02/22-rdf-syntax-ns#\">\n   <cc:Work>\n    <dc:type rdf:resource=\"http://purl.org/dc/dcmitype/StillImage\"/>\n    <dc:date>2022-10-30T00:01:22.459346</dc:date>\n    <dc:format>image/svg+xml</dc:format>\n    <dc:creator>\n     <cc:Agent>\n      <dc:title>Matplotlib v3.6.1, https://matplotlib.org/</dc:title>\n     </cc:Agent>\n    </dc:creator>\n   </cc:Work>\n  </rdf:RDF>\n </metadata>\n <defs>\n  <style type=\"text/css\">*{stroke-linejoin: round; stroke-linecap: butt}</style>\n </defs>\n <g id=\"figure_1\">\n  <g id=\"patch_1\">\n   <path d=\"M 0 230.4 \nL 302.4 230.4 \nL 302.4 0 \nL 0 0 \nz\n\" style=\"fill: #ffffff\"/>\n  </g>\n  <g id=\"axes_1\">\n   <g id=\"LineCollection_1\">\n    <path d=\"M 146.012436 204.456198 \nL 120.133932 189.816337 \n\" clip-path=\"url(#p59fc9560d4)\" style=\"fill: none; stroke: #000000\"/>\n    <path d=\"M 146.012436 204.456198 \nL 192.406923 189.309101 \n\" clip-path=\"url(#p59fc9560d4)\" style=\"fill: none; stroke: #000000\"/>\n    <path d=\"M 120.133932 189.816337 \nL 192.406923 189.309101 \n\" clip-path=\"url(#p59fc9560d4)\" style=\"fill: none; stroke: #000000\"/>\n    <path d=\"M 192.406923 189.309101 \nL 270.208264 184.267225 \n\" clip-path=\"url(#p59fc9560d4)\" style=\"fill: none; stroke: #000000\"/>\n    <path d=\"M 32.191736 34.818517 \nL 85.856263 25.943802 \n\" clip-path=\"url(#p59fc9560d4)\" style=\"fill: none; stroke: #000000\"/>\n   </g>\n   <g id=\"PathCollection_1\">\n    <defs>\n     <path id=\"m45fb64de1d\" d=\"M 0 8.660254 \nC 2.296726 8.660254 4.499694 7.747755 6.123724 6.123724 \nC 7.747755 4.499694 8.660254 2.296726 8.660254 0 \nC 8.660254 -2.296726 7.747755 -4.499694 6.123724 -6.123724 \nC 4.499694 -7.747755 2.296726 -8.660254 0 -8.660254 \nC -2.296726 -8.660254 -4.499694 -7.747755 -6.123724 -6.123724 \nC -7.747755 -4.499694 -8.660254 -2.296726 -8.660254 0 \nC -8.660254 2.296726 -7.747755 4.499694 -6.123724 6.123724 \nC -4.499694 7.747755 -2.296726 8.660254 0 8.660254 \nz\n\" style=\"stroke: #ffc0cb\"/>\n    </defs>\n    <g clip-path=\"url(#p59fc9560d4)\">\n     <use xlink:href=\"#m45fb64de1d\" x=\"146.012436\" y=\"204.456198\" style=\"fill: #ffc0cb; stroke: #ffc0cb\"/>\n     <use xlink:href=\"#m45fb64de1d\" x=\"120.133932\" y=\"189.816337\" style=\"fill: #ffc0cb; stroke: #ffc0cb\"/>\n     <use xlink:href=\"#m45fb64de1d\" x=\"192.406923\" y=\"189.309101\" style=\"fill: #ffc0cb; stroke: #ffc0cb\"/>\n     <use xlink:href=\"#m45fb64de1d\" x=\"270.208264\" y=\"184.267225\" style=\"fill: #ffc0cb; stroke: #ffc0cb\"/>\n     <use xlink:href=\"#m45fb64de1d\" x=\"32.191736\" y=\"34.818517\" style=\"fill: #ffc0cb; stroke: #ffc0cb\"/>\n     <use xlink:href=\"#m45fb64de1d\" x=\"85.856263\" y=\"25.943802\" style=\"fill: #ffc0cb; stroke: #ffc0cb\"/>\n    </g>\n   </g>\n   <g id=\"text_1\">\n    <g clip-path=\"url(#p59fc9560d4)\">\n     <!-- A -->\n     <g transform=\"translate(140.539936 208.871198) scale(0.16 -0.16)\">\n      <defs>\n       <path id=\"DejaVuSans-41\" d=\"M 2188 4044 \nL 1331 1722 \nL 3047 1722 \nL 2188 4044 \nz\nM 1831 4666 \nL 2547 4666 \nL 4325 0 \nL 3669 0 \nL 3244 1197 \nL 1141 1197 \nL 716 0 \nL 50 0 \nL 1831 4666 \nz\n\" transform=\"scale(0.015625)\"/>\n      </defs>\n      <use xlink:href=\"#DejaVuSans-41\"/>\n     </g>\n    </g>\n   </g>\n   <g id=\"text_2\">\n    <g clip-path=\"url(#p59fc9560d4)\">\n     <!-- B -->\n     <g transform=\"translate(114.645182 194.231337) scale(0.16 -0.16)\">\n      <defs>\n       <path id=\"DejaVuSans-42\" d=\"M 1259 2228 \nL 1259 519 \nL 2272 519 \nQ 2781 519 3026 730 \nQ 3272 941 3272 1375 \nQ 3272 1813 3026 2020 \nQ 2781 2228 2272 2228 \nL 1259 2228 \nz\nM 1259 4147 \nL 1259 2741 \nL 2194 2741 \nQ 2656 2741 2882 2914 \nQ 3109 3088 3109 3444 \nQ 3109 3797 2882 3972 \nQ 2656 4147 2194 4147 \nL 1259 4147 \nz\nM 628 4666 \nL 2241 4666 \nQ 2963 4666 3353 4366 \nQ 3744 4066 3744 3513 \nQ 3744 3084 3544 2831 \nQ 3344 2578 2956 2516 \nQ 3422 2416 3680 2098 \nQ 3938 1781 3938 1306 \nQ 3938 681 3513 340 \nQ 3088 0 2303 0 \nL 628 0 \nL 628 4666 \nz\n\" transform=\"scale(0.015625)\"/>\n      </defs>\n      <use xlink:href=\"#DejaVuSans-42\"/>\n     </g>\n    </g>\n   </g>\n   <g id=\"text_3\">\n    <g clip-path=\"url(#p59fc9560d4)\">\n     <!-- C -->\n     <g transform=\"translate(186.820673 193.724101) scale(0.16 -0.16)\">\n      <defs>\n       <path id=\"DejaVuSans-43\" d=\"M 4122 4306 \nL 4122 3641 \nQ 3803 3938 3442 4084 \nQ 3081 4231 2675 4231 \nQ 1875 4231 1450 3742 \nQ 1025 3253 1025 2328 \nQ 1025 1406 1450 917 \nQ 1875 428 2675 428 \nQ 3081 428 3442 575 \nQ 3803 722 4122 1019 \nL 4122 359 \nQ 3791 134 3420 21 \nQ 3050 -91 2638 -91 \nQ 1578 -91 968 557 \nQ 359 1206 359 2328 \nQ 359 3453 968 4101 \nQ 1578 4750 2638 4750 \nQ 3056 4750 3426 4639 \nQ 3797 4528 4122 4306 \nz\n\" transform=\"scale(0.015625)\"/>\n      </defs>\n      <use xlink:href=\"#DejaVuSans-43\"/>\n     </g>\n    </g>\n   </g>\n   <g id=\"text_4\">\n    <g clip-path=\"url(#p59fc9560d4)\">\n     <!-- D -->\n     <g transform=\"translate(264.048264 188.682225) scale(0.16 -0.16)\">\n      <defs>\n       <path id=\"DejaVuSans-44\" d=\"M 1259 4147 \nL 1259 519 \nL 2022 519 \nQ 2988 519 3436 956 \nQ 3884 1394 3884 2338 \nQ 3884 3275 3436 3711 \nQ 2988 4147 2022 4147 \nL 1259 4147 \nz\nM 628 4666 \nL 1925 4666 \nQ 3281 4666 3915 4102 \nQ 4550 3538 4550 2338 \nQ 4550 1131 3912 565 \nQ 3275 0 1925 0 \nL 628 0 \nL 628 4666 \nz\n\" transform=\"scale(0.015625)\"/>\n      </defs>\n      <use xlink:href=\"#DejaVuSans-44\"/>\n     </g>\n    </g>\n   </g>\n   <g id=\"text_5\">\n    <g clip-path=\"url(#p59fc9560d4)\">\n     <!-- E -->\n     <g transform=\"translate(27.136736 39.233517) scale(0.16 -0.16)\">\n      <defs>\n       <path id=\"DejaVuSans-45\" d=\"M 628 4666 \nL 3578 4666 \nL 3578 4134 \nL 1259 4134 \nL 1259 2753 \nL 3481 2753 \nL 3481 2222 \nL 1259 2222 \nL 1259 531 \nL 3634 531 \nL 3634 0 \nL 628 0 \nL 628 4666 \nz\n\" transform=\"scale(0.015625)\"/>\n      </defs>\n      <use xlink:href=\"#DejaVuSans-45\"/>\n     </g>\n    </g>\n   </g>\n   <g id=\"text_6\">\n    <g clip-path=\"url(#p59fc9560d4)\">\n     <!-- F -->\n     <g transform=\"translate(81.255013 30.358802) scale(0.16 -0.16)\">\n      <defs>\n       <path id=\"DejaVuSans-46\" d=\"M 628 4666 \nL 3309 4666 \nL 3309 4134 \nL 1259 4134 \nL 1259 2759 \nL 3109 2759 \nL 3109 2228 \nL 1259 2228 \nL 1259 0 \nL 628 0 \nL 628 4666 \nz\n\" transform=\"scale(0.015625)\"/>\n      </defs>\n      <use xlink:href=\"#DejaVuSans-46\"/>\n     </g>\n    </g>\n   </g>\n  </g>\n </g>\n <defs>\n  <clipPath id=\"p59fc9560d4\">\n   <rect x=\"7.2\" y=\"7.2\" width=\"288\" height=\"216\"/>\n  </clipPath>\n </defs>\n</svg>\n",
      "text/plain": [
       "<Figure size 400x300 with 1 Axes>"
      ]
     },
     "metadata": {},
     "output_type": "display_data"
    }
   ],
   "source": [
    "disconnected = nx.Graph()\n",
    "\n",
    "disconnected.add_node(\"A\")\n",
    "disconnected.add_node(\"B\")\n",
    "disconnected.add_node(\"C\")\n",
    "disconnected.add_node(\"D\")\n",
    "disconnected.add_node(\"E\")\n",
    "disconnected.add_node(\"F\")\n",
    "\n",
    "disconnected.add_edge(\"A\", \"B\")\n",
    "disconnected.add_edge(\"A\", \"C\")\n",
    "disconnected.add_edge(\"D\", \"C\")\n",
    "disconnected.add_edge(\"B\", \"C\")\n",
    "\n",
    "disconnected.add_edge(\"E\", \"F\")\n",
    "\n",
    "nx.draw(disconnected, **draw_params)"
   ]
  },
  {
   "cell_type": "markdown",
   "metadata": {},
   "source": [
    "## Graph types (5 min)"
   ]
  },
  {
   "cell_type": "markdown",
   "metadata": {},
   "source": [
    "#### Undirected graphs\n",
    "\n",
    "- This is what we've been looking at so far.\n",
    "- Saying \"there is an edge from A to B\" is the same as saying \"there is an edge from B to A\"\n",
    "- You can try this out in `networkx`."
   ]
  },
  {
   "cell_type": "markdown",
   "metadata": {},
   "source": [
    "#### Directed graphs\n",
    "\n",
    "- Sometimes, relationships are directed (e.g. Twitter).\n",
    "- This gives us a directed graph. We typically draw the direction with an arrow.\n",
    "- Example:\n"
   ]
  },
  {
   "cell_type": "code",
   "execution_count": 13,
   "metadata": {},
   "outputs": [],
   "source": [
    "G = nx.DiGraph()\n",
    "\n",
    "G.add_node(\"A\")\n",
    "G.add_node(\"B\")\n",
    "G.add_node(\"C\")\n",
    "\n",
    "G.add_edge(\"B\", \"C\")\n",
    "G.add_edge(\"A\", \"C\")"
   ]
  },
  {
   "cell_type": "code",
   "execution_count": 14,
   "metadata": {},
   "outputs": [
    {
     "data": {
      "image/svg+xml": "<?xml version=\"1.0\" encoding=\"utf-8\" standalone=\"no\"?>\n<!DOCTYPE svg PUBLIC \"-//W3C//DTD SVG 1.1//EN\"\n  \"http://www.w3.org/Graphics/SVG/1.1/DTD/svg11.dtd\">\n<svg xmlns:xlink=\"http://www.w3.org/1999/xlink\" width=\"302.4pt\" height=\"230.4pt\" viewBox=\"0 0 302.4 230.4\" xmlns=\"http://www.w3.org/2000/svg\" version=\"1.1\">\n <metadata>\n  <rdf:RDF xmlns:dc=\"http://purl.org/dc/elements/1.1/\" xmlns:cc=\"http://creativecommons.org/ns#\" xmlns:rdf=\"http://www.w3.org/1999/02/22-rdf-syntax-ns#\">\n   <cc:Work>\n    <dc:type rdf:resource=\"http://purl.org/dc/dcmitype/StillImage\"/>\n    <dc:date>2022-10-30T00:01:25.778369</dc:date>\n    <dc:format>image/svg+xml</dc:format>\n    <dc:creator>\n     <cc:Agent>\n      <dc:title>Matplotlib v3.6.1, https://matplotlib.org/</dc:title>\n     </cc:Agent>\n    </dc:creator>\n   </cc:Work>\n  </rdf:RDF>\n </metadata>\n <defs>\n  <style type=\"text/css\">*{stroke-linejoin: round; stroke-linecap: butt}</style>\n </defs>\n <g id=\"figure_1\">\n  <g id=\"patch_1\">\n   <path d=\"M 0 230.4 \nL 302.4 230.4 \nL 302.4 0 \nL 0 0 \nz\n\" style=\"fill: #ffffff\"/>\n  </g>\n  <g id=\"axes_1\">\n   <g id=\"patch_2\">\n    <path d=\"M 264.527075 53.589184 \nQ 201.791923 125.754934 139.790285 197.076907 \n\" clip-path=\"url(#p6af880453e)\" style=\"fill: none; stroke: #000000; stroke-linecap: round\"/>\n    <path d=\"M 152.191348 191.956984 \nL 139.790285 197.076907 \nL 143.134984 184.084102 \nL 152.191348 191.956984 \nz\n\" clip-path=\"url(#p6af880453e)\" style=\"stroke: #000000; stroke-linecap: round\"/>\n   </g>\n   <g id=\"patch_3\">\n    <path d=\"M 36.460727 33.475338 \nQ 82.783375 115.199733 128.554709 195.951476 \n\" clip-path=\"url(#p6af880453e)\" style=\"fill: none; stroke: #000000; stroke-linecap: round\"/>\n    <path d=\"M 127.857183 182.553213 \nL 128.554709 195.951476 \nL 117.417583 188.470539 \nL 127.857183 182.553213 \nz\n\" clip-path=\"url(#p6af880453e)\" style=\"stroke: #000000; stroke-linecap: round\"/>\n   </g>\n   <g id=\"PathCollection_1\">\n    <defs>\n     <path id=\"m4193eaf6b5\" d=\"M 0 8.660254 \nC 2.296726 8.660254 4.499694 7.747755 6.123724 6.123724 \nC 7.747755 4.499694 8.660254 2.296726 8.660254 0 \nC 8.660254 -2.296726 7.747755 -4.499694 6.123724 -6.123724 \nC 4.499694 -7.747755 2.296726 -8.660254 0 -8.660254 \nC -2.296726 -8.660254 -4.499694 -7.747755 -6.123724 -6.123724 \nC -7.747755 -4.499694 -8.660254 -2.296726 -8.660254 0 \nC -8.660254 2.296726 -7.747755 4.499694 -6.123724 6.123724 \nC -4.499694 7.747755 -2.296726 8.660254 0 8.660254 \nz\n\" style=\"stroke: #ffc0cb\"/>\n    </defs>\n    <g clip-path=\"url(#p6af880453e)\">\n     <use xlink:href=\"#m4193eaf6b5\" x=\"270.208264\" y=\"47.053975\" style=\"fill: #ffc0cb; stroke: #ffc0cb\"/>\n     <use xlink:href=\"#m4193eaf6b5\" x=\"32.191736\" y=\"25.943802\" style=\"fill: #ffc0cb; stroke: #ffc0cb\"/>\n     <use xlink:href=\"#m4193eaf6b5\" x=\"133.375317\" y=\"204.456198\" style=\"fill: #ffc0cb; stroke: #ffc0cb\"/>\n    </g>\n   </g>\n   <g id=\"text_1\">\n    <g clip-path=\"url(#p6af880453e)\">\n     <!-- A -->\n     <g transform=\"translate(264.735764 51.468975) scale(0.16 -0.16)\">\n      <defs>\n       <path id=\"DejaVuSans-41\" d=\"M 2188 4044 \nL 1331 1722 \nL 3047 1722 \nL 2188 4044 \nz\nM 1831 4666 \nL 2547 4666 \nL 4325 0 \nL 3669 0 \nL 3244 1197 \nL 1141 1197 \nL 716 0 \nL 50 0 \nL 1831 4666 \nz\n\" transform=\"scale(0.015625)\"/>\n      </defs>\n      <use xlink:href=\"#DejaVuSans-41\"/>\n     </g>\n    </g>\n   </g>\n   <g id=\"text_2\">\n    <g clip-path=\"url(#p6af880453e)\">\n     <!-- B -->\n     <g transform=\"translate(26.702986 30.358802) scale(0.16 -0.16)\">\n      <defs>\n       <path id=\"DejaVuSans-42\" d=\"M 1259 2228 \nL 1259 519 \nL 2272 519 \nQ 2781 519 3026 730 \nQ 3272 941 3272 1375 \nQ 3272 1813 3026 2020 \nQ 2781 2228 2272 2228 \nL 1259 2228 \nz\nM 1259 4147 \nL 1259 2741 \nL 2194 2741 \nQ 2656 2741 2882 2914 \nQ 3109 3088 3109 3444 \nQ 3109 3797 2882 3972 \nQ 2656 4147 2194 4147 \nL 1259 4147 \nz\nM 628 4666 \nL 2241 4666 \nQ 2963 4666 3353 4366 \nQ 3744 4066 3744 3513 \nQ 3744 3084 3544 2831 \nQ 3344 2578 2956 2516 \nQ 3422 2416 3680 2098 \nQ 3938 1781 3938 1306 \nQ 3938 681 3513 340 \nQ 3088 0 2303 0 \nL 628 0 \nL 628 4666 \nz\n\" transform=\"scale(0.015625)\"/>\n      </defs>\n      <use xlink:href=\"#DejaVuSans-42\"/>\n     </g>\n    </g>\n   </g>\n   <g id=\"text_3\">\n    <g clip-path=\"url(#p6af880453e)\">\n     <!-- C -->\n     <g transform=\"translate(127.789067 208.871198) scale(0.16 -0.16)\">\n      <defs>\n       <path id=\"DejaVuSans-43\" d=\"M 4122 4306 \nL 4122 3641 \nQ 3803 3938 3442 4084 \nQ 3081 4231 2675 4231 \nQ 1875 4231 1450 3742 \nQ 1025 3253 1025 2328 \nQ 1025 1406 1450 917 \nQ 1875 428 2675 428 \nQ 3081 428 3442 575 \nQ 3803 722 4122 1019 \nL 4122 359 \nQ 3791 134 3420 21 \nQ 3050 -91 2638 -91 \nQ 1578 -91 968 557 \nQ 359 1206 359 2328 \nQ 359 3453 968 4101 \nQ 1578 4750 2638 4750 \nQ 3056 4750 3426 4639 \nQ 3797 4528 4122 4306 \nz\n\" transform=\"scale(0.015625)\"/>\n      </defs>\n      <use xlink:href=\"#DejaVuSans-43\"/>\n     </g>\n    </g>\n   </g>\n  </g>\n </g>\n <defs>\n  <clipPath id=\"p6af880453e\">\n   <rect x=\"7.2\" y=\"7.2\" width=\"288\" height=\"216\"/>\n  </clipPath>\n </defs>\n</svg>\n",
      "text/plain": [
       "<Figure size 400x300 with 1 Axes>"
      ]
     },
     "metadata": {},
     "output_type": "display_data"
    }
   ],
   "source": [
    "nx.draw(G, **draw_params)"
   ]
  },
  {
   "cell_type": "markdown",
   "metadata": {},
   "source": [
    "Now let's reverse the direction of the edge from \"B\" to \"C\":"
   ]
  },
  {
   "cell_type": "code",
   "execution_count": 15,
   "metadata": {},
   "outputs": [
    {
     "data": {
      "image/svg+xml": "<?xml version=\"1.0\" encoding=\"utf-8\" standalone=\"no\"?>\n<!DOCTYPE svg PUBLIC \"-//W3C//DTD SVG 1.1//EN\"\n  \"http://www.w3.org/Graphics/SVG/1.1/DTD/svg11.dtd\">\n<svg xmlns:xlink=\"http://www.w3.org/1999/xlink\" width=\"302.4pt\" height=\"230.4pt\" viewBox=\"0 0 302.4 230.4\" xmlns=\"http://www.w3.org/2000/svg\" version=\"1.1\">\n <metadata>\n  <rdf:RDF xmlns:dc=\"http://purl.org/dc/elements/1.1/\" xmlns:cc=\"http://creativecommons.org/ns#\" xmlns:rdf=\"http://www.w3.org/1999/02/22-rdf-syntax-ns#\">\n   <cc:Work>\n    <dc:type rdf:resource=\"http://purl.org/dc/dcmitype/StillImage\"/>\n    <dc:date>2022-10-30T00:01:27.668011</dc:date>\n    <dc:format>image/svg+xml</dc:format>\n    <dc:creator>\n     <cc:Agent>\n      <dc:title>Matplotlib v3.6.1, https://matplotlib.org/</dc:title>\n     </cc:Agent>\n    </dc:creator>\n   </cc:Work>\n  </rdf:RDF>\n </metadata>\n <defs>\n  <style type=\"text/css\">*{stroke-linejoin: round; stroke-linecap: butt}</style>\n </defs>\n <g id=\"figure_1\">\n  <g id=\"patch_1\">\n   <path d=\"M 0 230.4 \nL 302.4 230.4 \nL 302.4 0 \nL 0 0 \nz\n\" style=\"fill: #ffffff\"/>\n  </g>\n  <g id=\"axes_1\">\n   <g id=\"patch_2\">\n    <path d=\"M 40.843851 30.058674 \nQ 99.531502 28.142573 157.101715 26.262956 \n\" clip-path=\"url(#pfe508c09e6)\" style=\"fill: none; stroke: #000000; stroke-linecap: round\"/>\n    <path d=\"M 144.912315 20.657733 \nL 157.101715 26.262956 \nL 145.303896 32.651342 \nL 144.912315 20.657733 \nz\n\" clip-path=\"url(#pfe508c09e6)\" style=\"stroke: #000000; stroke-linecap: round\"/>\n   </g>\n   <g id=\"patch_3\">\n    <path d=\"M 171.214539 33.437204 \nQ 218.541533 115.198093 265.308426 195.991364 \n\" clip-path=\"url(#pfe508c09e6)\" style=\"fill: none; stroke: #000000; stroke-linecap: round\"/>\n    <path d=\"M 264.489561 182.599969 \nL 265.308426 195.991364 \nL 254.103991 188.611618 \nL 264.489561 182.599969 \nz\n\" clip-path=\"url(#pfe508c09e6)\" style=\"stroke: #000000; stroke-linecap: round\"/>\n   </g>\n   <g id=\"PathCollection_1\">\n    <defs>\n     <path id=\"m05104be80e\" d=\"M 0 8.660254 \nC 2.296726 8.660254 4.499694 7.747755 6.123724 6.123724 \nC 7.747755 4.499694 8.660254 2.296726 8.660254 0 \nC 8.660254 -2.296726 7.747755 -4.499694 6.123724 -6.123724 \nC 4.499694 -7.747755 2.296726 -8.660254 0 -8.660254 \nC -2.296726 -8.660254 -4.499694 -7.747755 -6.123724 -6.123724 \nC -7.747755 -4.499694 -8.660254 -2.296726 -8.660254 0 \nC -8.660254 2.296726 -7.747755 4.499694 -6.123724 6.123724 \nC -4.499694 7.747755 -2.296726 8.660254 0 8.660254 \nz\n\" style=\"stroke: #ffc0cb\"/>\n    </defs>\n    <g clip-path=\"url(#pfe508c09e6)\">\n     <use xlink:href=\"#m05104be80e\" x=\"270.208264\" y=\"204.456198\" style=\"fill: #ffc0cb; stroke: #ffc0cb\"/>\n     <use xlink:href=\"#m05104be80e\" x=\"32.191736\" y=\"30.341158\" style=\"fill: #ffc0cb; stroke: #ffc0cb\"/>\n     <use xlink:href=\"#m05104be80e\" x=\"166.87701\" y=\"25.943802\" style=\"fill: #ffc0cb; stroke: #ffc0cb\"/>\n    </g>\n   </g>\n   <g id=\"text_1\">\n    <g clip-path=\"url(#pfe508c09e6)\">\n     <!-- A -->\n     <g transform=\"translate(264.735764 208.871198) scale(0.16 -0.16)\">\n      <defs>\n       <path id=\"DejaVuSans-41\" d=\"M 2188 4044 \nL 1331 1722 \nL 3047 1722 \nL 2188 4044 \nz\nM 1831 4666 \nL 2547 4666 \nL 4325 0 \nL 3669 0 \nL 3244 1197 \nL 1141 1197 \nL 716 0 \nL 50 0 \nL 1831 4666 \nz\n\" transform=\"scale(0.015625)\"/>\n      </defs>\n      <use xlink:href=\"#DejaVuSans-41\"/>\n     </g>\n    </g>\n   </g>\n   <g id=\"text_2\">\n    <g clip-path=\"url(#pfe508c09e6)\">\n     <!-- B -->\n     <g transform=\"translate(26.702986 34.756158) scale(0.16 -0.16)\">\n      <defs>\n       <path id=\"DejaVuSans-42\" d=\"M 1259 2228 \nL 1259 519 \nL 2272 519 \nQ 2781 519 3026 730 \nQ 3272 941 3272 1375 \nQ 3272 1813 3026 2020 \nQ 2781 2228 2272 2228 \nL 1259 2228 \nz\nM 1259 4147 \nL 1259 2741 \nL 2194 2741 \nQ 2656 2741 2882 2914 \nQ 3109 3088 3109 3444 \nQ 3109 3797 2882 3972 \nQ 2656 4147 2194 4147 \nL 1259 4147 \nz\nM 628 4666 \nL 2241 4666 \nQ 2963 4666 3353 4366 \nQ 3744 4066 3744 3513 \nQ 3744 3084 3544 2831 \nQ 3344 2578 2956 2516 \nQ 3422 2416 3680 2098 \nQ 3938 1781 3938 1306 \nQ 3938 681 3513 340 \nQ 3088 0 2303 0 \nL 628 0 \nL 628 4666 \nz\n\" transform=\"scale(0.015625)\"/>\n      </defs>\n      <use xlink:href=\"#DejaVuSans-42\"/>\n     </g>\n    </g>\n   </g>\n   <g id=\"text_3\">\n    <g clip-path=\"url(#pfe508c09e6)\">\n     <!-- C -->\n     <g transform=\"translate(161.29076 30.358802) scale(0.16 -0.16)\">\n      <defs>\n       <path id=\"DejaVuSans-43\" d=\"M 4122 4306 \nL 4122 3641 \nQ 3803 3938 3442 4084 \nQ 3081 4231 2675 4231 \nQ 1875 4231 1450 3742 \nQ 1025 3253 1025 2328 \nQ 1025 1406 1450 917 \nQ 1875 428 2675 428 \nQ 3081 428 3442 575 \nQ 3803 722 4122 1019 \nL 4122 359 \nQ 3791 134 3420 21 \nQ 3050 -91 2638 -91 \nQ 1578 -91 968 557 \nQ 359 1206 359 2328 \nQ 359 3453 968 4101 \nQ 1578 4750 2638 4750 \nQ 3056 4750 3426 4639 \nQ 3797 4528 4122 4306 \nz\n\" transform=\"scale(0.015625)\"/>\n      </defs>\n      <use xlink:href=\"#DejaVuSans-43\"/>\n     </g>\n    </g>\n   </g>\n  </g>\n </g>\n <defs>\n  <clipPath id=\"pfe508c09e6\">\n   <rect x=\"7.2\" y=\"7.2\" width=\"288\" height=\"216\"/>\n  </clipPath>\n </defs>\n</svg>\n",
      "text/plain": [
       "<Figure size 400x300 with 1 Axes>"
      ]
     },
     "metadata": {},
     "output_type": "display_data"
    }
   ],
   "source": [
    "G = nx.DiGraph()\n",
    "\n",
    "G.add_node(\"A\")\n",
    "G.add_node(\"B\")\n",
    "G.add_node(\"C\")\n",
    "\n",
    "G.add_edge(\"B\", \"C\")\n",
    "G.add_edge(\"C\", \"A\")\n",
    "\n",
    "nx.draw(G, **draw_params)"
   ]
  },
  {
   "cell_type": "markdown",
   "metadata": {},
   "source": [
    "- This is a fundamentally different graph. \n",
    "- The choice of graph type depends on the situation you're modelling. \n",
    "  - The MDS prerequisite graph is directed.\n",
    "\n",
    "<img src=\"mds.png\" width=\"900\">\n",
    "\n",
    "- Note that this is a directed graph, NOT a tree, because nodes can have multiple parents."
   ]
  },
  {
   "cell_type": "markdown",
   "metadata": {},
   "source": [
    "- Directed graphs can also have reciprocal connections:"
   ]
  },
  {
   "cell_type": "code",
   "execution_count": 16,
   "metadata": {},
   "outputs": [
    {
     "data": {
      "image/svg+xml": "<?xml version=\"1.0\" encoding=\"utf-8\" standalone=\"no\"?>\n<!DOCTYPE svg PUBLIC \"-//W3C//DTD SVG 1.1//EN\"\n  \"http://www.w3.org/Graphics/SVG/1.1/DTD/svg11.dtd\">\n<svg xmlns:xlink=\"http://www.w3.org/1999/xlink\" width=\"302.4pt\" height=\"230.4pt\" viewBox=\"0 0 302.4 230.4\" xmlns=\"http://www.w3.org/2000/svg\" version=\"1.1\">\n <metadata>\n  <rdf:RDF xmlns:dc=\"http://purl.org/dc/elements/1.1/\" xmlns:cc=\"http://creativecommons.org/ns#\" xmlns:rdf=\"http://www.w3.org/1999/02/22-rdf-syntax-ns#\">\n   <cc:Work>\n    <dc:type rdf:resource=\"http://purl.org/dc/dcmitype/StillImage\"/>\n    <dc:date>2022-10-30T00:01:30.305760</dc:date>\n    <dc:format>image/svg+xml</dc:format>\n    <dc:creator>\n     <cc:Agent>\n      <dc:title>Matplotlib v3.6.1, https://matplotlib.org/</dc:title>\n     </cc:Agent>\n    </dc:creator>\n   </cc:Work>\n  </rdf:RDF>\n </metadata>\n <defs>\n  <style type=\"text/css\">*{stroke-linejoin: round; stroke-linecap: butt}</style>\n </defs>\n <g id=\"figure_1\">\n  <g id=\"patch_1\">\n   <path d=\"M 0 230.4 \nL 302.4 230.4 \nL 302.4 0 \nL 0 0 \nz\n\" style=\"fill: #ffffff\"/>\n  </g>\n  <g id=\"axes_1\">\n   <g id=\"patch_2\">\n    <path d=\"M 36.217576 196.785733 \nQ 74.898205 123.087233 113.05925 50.378699 \n\" clip-path=\"url(#p7ae14ef09c)\" style=\"fill: none; stroke: #000000; stroke-linecap: round\"/>\n    <path d=\"M 102.16978 58.215754 \nL 113.05925 50.378699 \nL 112.795212 63.792508 \nL 102.16978 58.215754 \nz\n\" clip-path=\"url(#p7ae14ef09c)\" style=\"stroke: #000000; stroke-linecap: round\"/>\n   </g>\n   <g id=\"patch_3\">\n    <path d=\"M 261.597245 26.834014 \nQ 193.909108 33.831657 127.333078 40.71433 \n\" clip-path=\"url(#p7ae14ef09c)\" style=\"fill: none; stroke: #000000; stroke-linecap: round\"/>\n    <path d=\"M 139.886458 45.448531 \nL 127.333078 40.71433 \nL 138.652467 33.512147 \nL 139.886458 45.448531 \nz\n\" clip-path=\"url(#p7ae14ef09c)\" style=\"stroke: #000000; stroke-linecap: round\"/>\n   </g>\n   <g id=\"patch_4\">\n    <path d=\"M 113.57784 49.390626 \nQ 74.897211 123.089126 36.736166 195.79766 \n\" clip-path=\"url(#p7ae14ef09c)\" style=\"fill: none; stroke: #000000; stroke-linecap: round\"/>\n    <path d=\"M 47.625636 187.960605 \nL 36.736166 195.79766 \nL 37.000204 182.383851 \nL 47.625636 187.960605 \nz\n\" clip-path=\"url(#p7ae14ef09c)\" style=\"stroke: #000000; stroke-linecap: round\"/>\n   </g>\n   <g id=\"PathCollection_1\">\n    <defs>\n     <path id=\"m1e50030a0c\" d=\"M 0 8.660254 \nC 2.296726 8.660254 4.499694 7.747755 6.123724 6.123724 \nC 7.747755 4.499694 8.660254 2.296726 8.660254 0 \nC 8.660254 -2.296726 7.747755 -4.499694 6.123724 -6.123724 \nC 4.499694 -7.747755 2.296726 -8.660254 0 -8.660254 \nC -2.296726 -8.660254 -4.499694 -7.747755 -6.123724 -6.123724 \nC -7.747755 -4.499694 -8.660254 -2.296726 -8.660254 0 \nC -8.660254 2.296726 -7.747755 4.499694 -6.123724 6.123724 \nC -4.499694 7.747755 -2.296726 8.660254 0 8.660254 \nz\n\" style=\"stroke: #ffc0cb\"/>\n    </defs>\n    <g clip-path=\"url(#p7ae14ef09c)\">\n     <use xlink:href=\"#m1e50030a0c\" x=\"32.191736\" y=\"204.456198\" style=\"fill: #ffc0cb; stroke: #ffc0cb\"/>\n     <use xlink:href=\"#m1e50030a0c\" x=\"270.208264\" y=\"25.943802\" style=\"fill: #ffc0cb; stroke: #ffc0cb\"/>\n     <use xlink:href=\"#m1e50030a0c\" x=\"117.60368\" y=\"41.720161\" style=\"fill: #ffc0cb; stroke: #ffc0cb\"/>\n    </g>\n   </g>\n   <g id=\"text_1\">\n    <g clip-path=\"url(#p7ae14ef09c)\">\n     <!-- A -->\n     <g transform=\"translate(26.719236 208.871198) scale(0.16 -0.16)\">\n      <defs>\n       <path id=\"DejaVuSans-41\" d=\"M 2188 4044 \nL 1331 1722 \nL 3047 1722 \nL 2188 4044 \nz\nM 1831 4666 \nL 2547 4666 \nL 4325 0 \nL 3669 0 \nL 3244 1197 \nL 1141 1197 \nL 716 0 \nL 50 0 \nL 1831 4666 \nz\n\" transform=\"scale(0.015625)\"/>\n      </defs>\n      <use xlink:href=\"#DejaVuSans-41\"/>\n     </g>\n    </g>\n   </g>\n   <g id=\"text_2\">\n    <g clip-path=\"url(#p7ae14ef09c)\">\n     <!-- B -->\n     <g transform=\"translate(264.719514 30.358802) scale(0.16 -0.16)\">\n      <defs>\n       <path id=\"DejaVuSans-42\" d=\"M 1259 2228 \nL 1259 519 \nL 2272 519 \nQ 2781 519 3026 730 \nQ 3272 941 3272 1375 \nQ 3272 1813 3026 2020 \nQ 2781 2228 2272 2228 \nL 1259 2228 \nz\nM 1259 4147 \nL 1259 2741 \nL 2194 2741 \nQ 2656 2741 2882 2914 \nQ 3109 3088 3109 3444 \nQ 3109 3797 2882 3972 \nQ 2656 4147 2194 4147 \nL 1259 4147 \nz\nM 628 4666 \nL 2241 4666 \nQ 2963 4666 3353 4366 \nQ 3744 4066 3744 3513 \nQ 3744 3084 3544 2831 \nQ 3344 2578 2956 2516 \nQ 3422 2416 3680 2098 \nQ 3938 1781 3938 1306 \nQ 3938 681 3513 340 \nQ 3088 0 2303 0 \nL 628 0 \nL 628 4666 \nz\n\" transform=\"scale(0.015625)\"/>\n      </defs>\n      <use xlink:href=\"#DejaVuSans-42\"/>\n     </g>\n    </g>\n   </g>\n   <g id=\"text_3\">\n    <g clip-path=\"url(#p7ae14ef09c)\">\n     <!-- C -->\n     <g transform=\"translate(112.01743 46.135161) scale(0.16 -0.16)\">\n      <defs>\n       <path id=\"DejaVuSans-43\" d=\"M 4122 4306 \nL 4122 3641 \nQ 3803 3938 3442 4084 \nQ 3081 4231 2675 4231 \nQ 1875 4231 1450 3742 \nQ 1025 3253 1025 2328 \nQ 1025 1406 1450 917 \nQ 1875 428 2675 428 \nQ 3081 428 3442 575 \nQ 3803 722 4122 1019 \nL 4122 359 \nQ 3791 134 3420 21 \nQ 3050 -91 2638 -91 \nQ 1578 -91 968 557 \nQ 359 1206 359 2328 \nQ 359 3453 968 4101 \nQ 1578 4750 2638 4750 \nQ 3056 4750 3426 4639 \nQ 3797 4528 4122 4306 \nz\n\" transform=\"scale(0.015625)\"/>\n      </defs>\n      <use xlink:href=\"#DejaVuSans-43\"/>\n     </g>\n    </g>\n   </g>\n  </g>\n </g>\n <defs>\n  <clipPath id=\"p7ae14ef09c\">\n   <rect x=\"7.2\" y=\"7.2\" width=\"288\" height=\"216\"/>\n  </clipPath>\n </defs>\n</svg>\n",
      "text/plain": [
       "<Figure size 400x300 with 1 Axes>"
      ]
     },
     "metadata": {},
     "output_type": "display_data"
    }
   ],
   "source": [
    "G = nx.DiGraph()\n",
    "\n",
    "G.add_node(\"A\")\n",
    "G.add_node(\"B\")\n",
    "G.add_node(\"C\")\n",
    "\n",
    "G.add_edge(\"B\", \"C\")\n",
    "\n",
    "# add a 2-way edge\n",
    "G.add_edge(\"C\", \"A\")\n",
    "G.add_edge(\"A\", \"C\")\n",
    "\n",
    "nx.draw(G, **draw_params)"
   ]
  },
  {
   "cell_type": "markdown",
   "metadata": {},
   "source": [
    "- Here, we have a double-headed arrow between A and C. \n",
    "- In an undirected graph, it wouldn't have made sense to have both \n",
    "\n",
    "```python\n",
    "G.add_edge(\"C\", \"A\")\n",
    "G.add_edge(\"A\", \"C\")\n",
    "```\n",
    "\n",
    "because one would be sufficient."
   ]
  },
  {
   "cell_type": "markdown",
   "metadata": {},
   "source": [
    "- Directed graphs also can have self-connections.\n",
    "  - `networkx` supports them but it doesn't draw them properly.\n",
    "  - You will see these when getting to Markov chains in DSCI 575."
   ]
  },
  {
   "cell_type": "markdown",
   "metadata": {},
   "source": [
    "#### Unweighted graphs\n",
    "\n",
    "All the graphs above are \"unweighted\" because all edges are equal."
   ]
  },
  {
   "cell_type": "markdown",
   "metadata": {},
   "source": [
    "#### Weighted graphs\n",
    "\n",
    "Both undirected and directed graphs can have weighted edges."
   ]
  },
  {
   "cell_type": "code",
   "execution_count": 17,
   "metadata": {},
   "outputs": [
    {
     "data": {
      "image/svg+xml": "<?xml version=\"1.0\" encoding=\"utf-8\" standalone=\"no\"?>\n<!DOCTYPE svg PUBLIC \"-//W3C//DTD SVG 1.1//EN\"\n  \"http://www.w3.org/Graphics/SVG/1.1/DTD/svg11.dtd\">\n<svg xmlns:xlink=\"http://www.w3.org/1999/xlink\" width=\"302.4pt\" height=\"230.4pt\" viewBox=\"0 0 302.4 230.4\" xmlns=\"http://www.w3.org/2000/svg\" version=\"1.1\">\n <metadata>\n  <rdf:RDF xmlns:dc=\"http://purl.org/dc/elements/1.1/\" xmlns:cc=\"http://creativecommons.org/ns#\" xmlns:rdf=\"http://www.w3.org/1999/02/22-rdf-syntax-ns#\">\n   <cc:Work>\n    <dc:type rdf:resource=\"http://purl.org/dc/dcmitype/StillImage\"/>\n    <dc:date>2022-10-30T00:01:32.286094</dc:date>\n    <dc:format>image/svg+xml</dc:format>\n    <dc:creator>\n     <cc:Agent>\n      <dc:title>Matplotlib v3.6.1, https://matplotlib.org/</dc:title>\n     </cc:Agent>\n    </dc:creator>\n   </cc:Work>\n  </rdf:RDF>\n </metadata>\n <defs>\n  <style type=\"text/css\">*{stroke-linejoin: round; stroke-linecap: butt}</style>\n </defs>\n <g id=\"figure_1\">\n  <g id=\"patch_1\">\n   <path d=\"M 0 230.4 \nL 302.4 230.4 \nL 302.4 0 \nL 0 0 \nz\n\" style=\"fill: #ffffff\"/>\n  </g>\n  <g id=\"axes_1\">\n   <g id=\"LineCollection_1\">\n    <path d=\"M 270.208264 204.456198 \nL 32.191736 108.204722 \n\" clip-path=\"url(#p604094d64c)\" style=\"fill: none; stroke: #000000\"/>\n    <path d=\"M 270.208264 204.456198 \nL 198.539801 25.943802 \n\" clip-path=\"url(#p604094d64c)\" style=\"fill: none; stroke: #000000\"/>\n    <path d=\"M 32.191736 108.204722 \nL 198.539801 25.943802 \n\" clip-path=\"url(#p604094d64c)\" style=\"fill: none; stroke: #000000\"/>\n   </g>\n   <g id=\"text_1\">\n    <g id=\"patch_2\">\n     <path d=\"M 130.57907 164.903104 \nL 160.065585 176.827152 \nQ 165.627985 179.076531 167.877364 173.51413 \nL 175.133952 155.569595 \nQ 177.383331 150.007195 171.82093 147.757817 \nL 142.334415 135.833768 \nQ 136.772015 133.58439 134.522636 139.14679 \nL 127.266048 157.091325 \nQ 125.016669 162.653725 130.57907 164.903104 \nz\n\" clip-path=\"url(#p604094d64c)\" style=\"fill: #ffffff; stroke: #ffffff; stroke-linejoin: miter\"/>\n    </g>\n    <g clip-path=\"url(#p604094d64c)\">\n     <!-- 2.0 -->\n     <g transform=\"translate(134.387783 155.484685) rotate(-337.98209) scale(0.2 -0.2)\">\n      <defs>\n       <path id=\"DejaVuSans-32\" d=\"M 1228 531 \nL 3431 531 \nL 3431 0 \nL 469 0 \nL 469 531 \nQ 828 903 1448 1529 \nQ 2069 2156 2228 2338 \nQ 2531 2678 2651 2914 \nQ 2772 3150 2772 3378 \nQ 2772 3750 2511 3984 \nQ 2250 4219 1831 4219 \nQ 1534 4219 1204 4116 \nQ 875 4013 500 3803 \nL 500 4441 \nQ 881 4594 1212 4672 \nQ 1544 4750 1819 4750 \nQ 2544 4750 2975 4387 \nQ 3406 4025 3406 3419 \nQ 3406 3131 3298 2873 \nQ 3191 2616 2906 2266 \nQ 2828 2175 2409 1742 \nQ 1991 1309 1228 531 \nz\n\" transform=\"scale(0.015625)\"/>\n       <path id=\"DejaVuSans-2e\" d=\"M 684 794 \nL 1344 794 \nL 1344 0 \nL 684 0 \nL 684 794 \nz\n\" transform=\"scale(0.015625)\"/>\n       <path id=\"DejaVuSans-30\" d=\"M 2034 4250 \nQ 1547 4250 1301 3770 \nQ 1056 3291 1056 2328 \nQ 1056 1369 1301 889 \nQ 1547 409 2034 409 \nQ 2525 409 2770 889 \nQ 3016 1369 3016 2328 \nQ 3016 3291 2770 3770 \nQ 2525 4250 2034 4250 \nz\nM 2034 4750 \nQ 2819 4750 3233 4129 \nQ 3647 3509 3647 2328 \nQ 3647 1150 3233 529 \nQ 2819 -91 2034 -91 \nQ 1250 -91 836 529 \nQ 422 1150 422 2328 \nQ 422 3509 836 4129 \nQ 1250 4750 2034 4750 \nz\n\" transform=\"scale(0.015625)\"/>\n      </defs>\n      <use xlink:href=\"#DejaVuSans-32\"/>\n      <use xlink:href=\"#DejaVuSans-2e\" x=\"63.623047\"/>\n      <use xlink:href=\"#DejaVuSans-30\" x=\"95.410156\"/>\n     </g>\n    </g>\n   </g>\n   <g id=\"text_2\">\n    <g id=\"patch_3\">\n     <path d=\"M 213.899629 106.283062 \nL 225.749724 135.799376 \nQ 227.985152 141.367397 233.553173 139.13197 \nL 251.515843 131.920387 \nQ 257.083864 129.684959 254.848436 124.116938 \nL 242.998341 94.600624 \nQ 240.762914 89.032603 235.194892 91.26803 \nL 217.232223 98.479613 \nQ 211.664201 100.715041 213.899629 106.283062 \nz\n\" clip-path=\"url(#p604094d64c)\" style=\"fill: #ffffff; stroke: #ffffff; stroke-linejoin: miter\"/>\n    </g>\n    <g clip-path=\"url(#p604094d64c)\">\n     <!-- 2.5 -->\n     <g transform=\"translate(223.327565 102.497971) rotate(-291.874282) scale(0.2 -0.2)\">\n      <defs>\n       <path id=\"DejaVuSans-35\" d=\"M 691 4666 \nL 3169 4666 \nL 3169 4134 \nL 1269 4134 \nL 1269 2991 \nQ 1406 3038 1543 3061 \nQ 1681 3084 1819 3084 \nQ 2600 3084 3056 2656 \nQ 3513 2228 3513 1497 \nQ 3513 744 3044 326 \nQ 2575 -91 1722 -91 \nQ 1428 -91 1123 -41 \nQ 819 9 494 109 \nL 494 744 \nQ 775 591 1075 516 \nQ 1375 441 1709 441 \nQ 2250 441 2565 725 \nQ 2881 1009 2881 1497 \nQ 2881 1984 2565 2268 \nQ 2250 2553 1709 2553 \nQ 1456 2553 1204 2497 \nQ 953 2441 691 2322 \nL 691 4666 \nz\n\" transform=\"scale(0.015625)\"/>\n      </defs>\n      <use xlink:href=\"#DejaVuSans-32\"/>\n      <use xlink:href=\"#DejaVuSans-2e\" x=\"63.623047\"/>\n      <use xlink:href=\"#DejaVuSans-35\" x=\"95.410156\"/>\n     </g>\n    </g>\n   </g>\n   <g id=\"text_3\">\n    <g id=\"patch_4\">\n     <path d=\"M 108.060107 88.177349 \nL 136.570806 74.0785 \nQ 141.949127 71.418862 139.289489 66.040542 \nL 130.709387 48.689857 \nQ 128.04975 43.311537 122.671429 45.971174 \nL 94.16073 60.070024 \nQ 88.78241 62.729662 91.442048 68.107982 \nL 100.022149 85.458667 \nQ 102.681787 90.836987 108.060107 88.177349 \nz\n\" clip-path=\"url(#p604094d64c)\" style=\"fill: #ffffff; stroke: #ffffff; stroke-linejoin: miter\"/>\n    </g>\n    <g clip-path=\"url(#p604094d64c)\">\n     <!-- 5.0 -->\n     <g transform=\"translate(103.556731 79.070621) rotate(-26.312894) scale(0.2 -0.2)\">\n      <use xlink:href=\"#DejaVuSans-35\"/>\n      <use xlink:href=\"#DejaVuSans-2e\" x=\"63.623047\"/>\n      <use xlink:href=\"#DejaVuSans-30\" x=\"95.410156\"/>\n     </g>\n    </g>\n   </g>\n   <g id=\"PathCollection_1\">\n    <defs>\n     <path id=\"m7f0a1cc6ca\" d=\"M 0 8.660254 \nC 2.296726 8.660254 4.499694 7.747755 6.123724 6.123724 \nC 7.747755 4.499694 8.660254 2.296726 8.660254 0 \nC 8.660254 -2.296726 7.747755 -4.499694 6.123724 -6.123724 \nC 4.499694 -7.747755 2.296726 -8.660254 0 -8.660254 \nC -2.296726 -8.660254 -4.499694 -7.747755 -6.123724 -6.123724 \nC -7.747755 -4.499694 -8.660254 -2.296726 -8.660254 0 \nC -8.660254 2.296726 -7.747755 4.499694 -6.123724 6.123724 \nC -4.499694 7.747755 -2.296726 8.660254 0 8.660254 \nz\n\" style=\"stroke: #ffc0cb\"/>\n    </defs>\n    <g clip-path=\"url(#p604094d64c)\">\n     <use xlink:href=\"#m7f0a1cc6ca\" x=\"270.208264\" y=\"204.456198\" style=\"fill: #ffc0cb; stroke: #ffc0cb\"/>\n     <use xlink:href=\"#m7f0a1cc6ca\" x=\"32.191736\" y=\"108.204722\" style=\"fill: #ffc0cb; stroke: #ffc0cb\"/>\n     <use xlink:href=\"#m7f0a1cc6ca\" x=\"198.539801\" y=\"25.943802\" style=\"fill: #ffc0cb; stroke: #ffc0cb\"/>\n    </g>\n   </g>\n   <g id=\"text_4\">\n    <g clip-path=\"url(#p604094d64c)\">\n     <!-- A -->\n     <g transform=\"translate(264.735764 208.871198) scale(0.16 -0.16)\">\n      <defs>\n       <path id=\"DejaVuSans-41\" d=\"M 2188 4044 \nL 1331 1722 \nL 3047 1722 \nL 2188 4044 \nz\nM 1831 4666 \nL 2547 4666 \nL 4325 0 \nL 3669 0 \nL 3244 1197 \nL 1141 1197 \nL 716 0 \nL 50 0 \nL 1831 4666 \nz\n\" transform=\"scale(0.015625)\"/>\n      </defs>\n      <use xlink:href=\"#DejaVuSans-41\"/>\n     </g>\n    </g>\n   </g>\n   <g id=\"text_5\">\n    <g clip-path=\"url(#p604094d64c)\">\n     <!-- B -->\n     <g transform=\"translate(26.702986 112.619722) scale(0.16 -0.16)\">\n      <defs>\n       <path id=\"DejaVuSans-42\" d=\"M 1259 2228 \nL 1259 519 \nL 2272 519 \nQ 2781 519 3026 730 \nQ 3272 941 3272 1375 \nQ 3272 1813 3026 2020 \nQ 2781 2228 2272 2228 \nL 1259 2228 \nz\nM 1259 4147 \nL 1259 2741 \nL 2194 2741 \nQ 2656 2741 2882 2914 \nQ 3109 3088 3109 3444 \nQ 3109 3797 2882 3972 \nQ 2656 4147 2194 4147 \nL 1259 4147 \nz\nM 628 4666 \nL 2241 4666 \nQ 2963 4666 3353 4366 \nQ 3744 4066 3744 3513 \nQ 3744 3084 3544 2831 \nQ 3344 2578 2956 2516 \nQ 3422 2416 3680 2098 \nQ 3938 1781 3938 1306 \nQ 3938 681 3513 340 \nQ 3088 0 2303 0 \nL 628 0 \nL 628 4666 \nz\n\" transform=\"scale(0.015625)\"/>\n      </defs>\n      <use xlink:href=\"#DejaVuSans-42\"/>\n     </g>\n    </g>\n   </g>\n   <g id=\"text_6\">\n    <g clip-path=\"url(#p604094d64c)\">\n     <!-- C -->\n     <g transform=\"translate(192.953551 30.358802) scale(0.16 -0.16)\">\n      <defs>\n       <path id=\"DejaVuSans-43\" d=\"M 4122 4306 \nL 4122 3641 \nQ 3803 3938 3442 4084 \nQ 3081 4231 2675 4231 \nQ 1875 4231 1450 3742 \nQ 1025 3253 1025 2328 \nQ 1025 1406 1450 917 \nQ 1875 428 2675 428 \nQ 3081 428 3442 575 \nQ 3803 722 4122 1019 \nL 4122 359 \nQ 3791 134 3420 21 \nQ 3050 -91 2638 -91 \nQ 1578 -91 968 557 \nQ 359 1206 359 2328 \nQ 359 3453 968 4101 \nQ 1578 4750 2638 4750 \nQ 3056 4750 3426 4639 \nQ 3797 4528 4122 4306 \nz\n\" transform=\"scale(0.015625)\"/>\n      </defs>\n      <use xlink:href=\"#DejaVuSans-43\"/>\n     </g>\n    </g>\n   </g>\n  </g>\n </g>\n <defs>\n  <clipPath id=\"p604094d64c\">\n   <rect x=\"7.2\" y=\"7.2\" width=\"288\" height=\"216\"/>\n  </clipPath>\n </defs>\n</svg>\n",
      "text/plain": [
       "<Figure size 400x300 with 1 Axes>"
      ]
     },
     "metadata": {},
     "output_type": "display_data"
    }
   ],
   "source": [
    "G = nx.Graph()\n",
    "\n",
    "G.add_node(\"A\")\n",
    "G.add_node(\"B\")\n",
    "G.add_node(\"C\")\n",
    "\n",
    "G.add_edge(\"A\", \"B\", weight=2.0)\n",
    "G.add_edge(\"B\", \"C\", weight=5.0)\n",
    "G.add_edge(\"C\", \"A\", weight=2.5)\n",
    "\n",
    "pos = nx.spring_layout(G)\n",
    "nx.draw(G, pos, **draw_params)\n",
    "labels = nx.get_edge_attributes(G, 'weight')\n",
    "nx.draw_networkx_edge_labels(G, pos, edge_labels=labels, font_size=20);"
   ]
  },
  {
   "cell_type": "markdown",
   "metadata": {},
   "source": [
    "Above: undirected, weighted graph.\n",
    "\n",
    "Below: directed, weighted graph."
   ]
  },
  {
   "cell_type": "code",
   "execution_count": 18,
   "metadata": {},
   "outputs": [
    {
     "data": {
      "image/svg+xml": "<?xml version=\"1.0\" encoding=\"utf-8\" standalone=\"no\"?>\n<!DOCTYPE svg PUBLIC \"-//W3C//DTD SVG 1.1//EN\"\n  \"http://www.w3.org/Graphics/SVG/1.1/DTD/svg11.dtd\">\n<svg xmlns:xlink=\"http://www.w3.org/1999/xlink\" width=\"302.4pt\" height=\"230.4pt\" viewBox=\"0 0 302.4 230.4\" xmlns=\"http://www.w3.org/2000/svg\" version=\"1.1\">\n <metadata>\n  <rdf:RDF xmlns:dc=\"http://purl.org/dc/elements/1.1/\" xmlns:cc=\"http://creativecommons.org/ns#\" xmlns:rdf=\"http://www.w3.org/1999/02/22-rdf-syntax-ns#\">\n   <cc:Work>\n    <dc:type rdf:resource=\"http://purl.org/dc/dcmitype/StillImage\"/>\n    <dc:date>2022-10-30T00:01:33.085069</dc:date>\n    <dc:format>image/svg+xml</dc:format>\n    <dc:creator>\n     <cc:Agent>\n      <dc:title>Matplotlib v3.6.1, https://matplotlib.org/</dc:title>\n     </cc:Agent>\n    </dc:creator>\n   </cc:Work>\n  </rdf:RDF>\n </metadata>\n <defs>\n  <style type=\"text/css\">*{stroke-linejoin: round; stroke-linecap: butt}</style>\n </defs>\n <g id=\"figure_1\">\n  <g id=\"patch_1\">\n   <path d=\"M 0 230.4 \nL 302.4 230.4 \nL 302.4 0 \nL 0 0 \nz\n\" style=\"fill: #ffffff\"/>\n  </g>\n  <g id=\"axes_1\">\n   <g id=\"patch_2\">\n    <path d=\"M 40.367016 201.595247 \nQ 151.200116 162.809039 260.977935 124.392129 \n\" clip-path=\"url(#peb20efea70)\" style=\"fill: none; stroke: #000000; stroke-linecap: round\"/>\n    <path d=\"M 247.669605 122.692609 \nL 260.977935 124.392129 \nL 251.633321 134.01908 \nL 247.669605 122.692609 \nz\n\" clip-path=\"url(#peb20efea70)\" style=\"stroke: #000000; stroke-linecap: round\"/>\n   </g>\n   <g id=\"patch_3\">\n    <path d=\"M 262.89968 116.516996 \nQ 195.298178 73.552913 128.640266 31.188527 \n\" clip-path=\"url(#peb20efea70)\" style=\"fill: none; stroke: #000000; stroke-linecap: round\"/>\n    <path d=\"M 135.549621 42.688997 \nL 128.640266 31.188527 \nL 141.986255 32.561325 \nL 135.549621 42.688997 \nz\n\" clip-path=\"url(#peb20efea70)\" style=\"stroke: #000000; stroke-linecap: round\"/>\n   </g>\n   <g id=\"patch_4\">\n    <path d=\"M 116.551209 33.709592 \nQ 76.290079 115.199567 36.524182 195.687172 \n\" clip-path=\"url(#peb20efea70)\" style=\"fill: none; stroke: #000000; stroke-linecap: round\"/>\n    <path d=\"M 47.218858 187.586314 \nL 36.524182 195.687172 \nL 36.460301 182.270916 \nL 47.218858 187.586314 \nz\n\" clip-path=\"url(#peb20efea70)\" style=\"stroke: #000000; stroke-linecap: round\"/>\n   </g>\n   <g id=\"text_1\">\n    <g id=\"patch_5\">\n     <path d=\"M 141.368111 182.860188 \nL 171.38916 172.354278 \nQ 177.052396 170.37242 175.070538 164.709184 \nL 168.676982 146.43935 \nQ 166.695125 140.776114 161.031889 142.757972 \nL 131.01084 153.263882 \nQ 125.347604 155.24574 127.329462 160.908976 \nL 133.723018 179.17881 \nQ 135.704875 184.842046 141.368111 182.860188 \nz\n\" clip-path=\"url(#peb20efea70)\" style=\"fill: #ffffff; stroke: #ffffff; stroke-linejoin: miter\"/>\n    </g>\n    <g clip-path=\"url(#peb20efea70)\">\n     <!-- 2.0 -->\n     <g transform=\"translate(138.012372 173.271032) rotate(-19.28757) scale(0.2 -0.2)\">\n      <defs>\n       <path id=\"DejaVuSans-32\" d=\"M 1228 531 \nL 3431 531 \nL 3431 0 \nL 469 0 \nL 469 531 \nQ 828 903 1448 1529 \nQ 2069 2156 2228 2338 \nQ 2531 2678 2651 2914 \nQ 2772 3150 2772 3378 \nQ 2772 3750 2511 3984 \nQ 2250 4219 1831 4219 \nQ 1534 4219 1204 4116 \nQ 875 4013 500 3803 \nL 500 4441 \nQ 881 4594 1212 4672 \nQ 1544 4750 1819 4750 \nQ 2544 4750 2975 4387 \nQ 3406 4025 3406 3419 \nQ 3406 3131 3298 2873 \nQ 3191 2616 2906 2266 \nQ 2828 2175 2409 1742 \nQ 1991 1309 1228 531 \nz\n\" transform=\"scale(0.015625)\"/>\n       <path id=\"DejaVuSans-2e\" d=\"M 684 794 \nL 1344 794 \nL 1344 0 \nL 684 0 \nL 684 794 \nz\n\" transform=\"scale(0.015625)\"/>\n       <path id=\"DejaVuSans-30\" d=\"M 2034 4250 \nQ 1547 4250 1301 3770 \nQ 1056 3291 1056 2328 \nQ 1056 1369 1301 889 \nQ 1547 409 2034 409 \nQ 2525 409 2770 889 \nQ 3016 1369 3016 2328 \nQ 3016 3291 2770 3770 \nQ 2525 4250 2034 4250 \nz\nM 2034 4750 \nQ 2819 4750 3233 4129 \nQ 3647 3509 3647 2328 \nQ 3647 1150 3233 529 \nQ 2819 -91 2034 -91 \nQ 1250 -91 836 529 \nQ 422 1150 422 2328 \nQ 422 3509 836 4129 \nQ 1250 4750 2034 4750 \nz\n\" transform=\"scale(0.015625)\"/>\n      </defs>\n      <use xlink:href=\"#DejaVuSans-32\"/>\n      <use xlink:href=\"#DejaVuSans-2e\" x=\"63.623047\"/>\n      <use xlink:href=\"#DejaVuSans-30\" x=\"95.410156\"/>\n     </g>\n    </g>\n   </g>\n   <g id=\"text_2\">\n    <g id=\"patch_6\">\n     <path d=\"M 173.466797 78.254574 \nL 200.310402 95.315007 \nQ 205.374238 98.533324 208.592555 93.469488 \nL 218.974981 77.133342 \nQ 222.193298 72.069506 217.129462 68.851189 \nL 190.285856 51.790756 \nQ 185.22202 48.572439 182.003703 53.636275 \nL 171.621278 69.972421 \nQ 168.402961 75.036257 173.466797 78.254574 \nz\n\" clip-path=\"url(#peb20efea70)\" style=\"fill: #ffffff; stroke: #ffffff; stroke-linejoin: miter\"/>\n    </g>\n    <g clip-path=\"url(#peb20efea70)\">\n     <!-- 5.0 -->\n     <g transform=\"translate(178.916145 69.680339) rotate(-327.562032) scale(0.2 -0.2)\">\n      <defs>\n       <path id=\"DejaVuSans-35\" d=\"M 691 4666 \nL 3169 4666 \nL 3169 4134 \nL 1269 4134 \nL 1269 2991 \nQ 1406 3038 1543 3061 \nQ 1681 3084 1819 3084 \nQ 2600 3084 3056 2656 \nQ 3513 2228 3513 1497 \nQ 3513 744 3044 326 \nQ 2575 -91 1722 -91 \nQ 1428 -91 1123 -41 \nQ 819 9 494 109 \nL 494 744 \nQ 775 591 1075 516 \nQ 1375 441 1709 441 \nQ 2250 441 2565 725 \nQ 2881 1009 2881 1497 \nQ 2881 1984 2565 2268 \nQ 2250 2553 1709 2553 \nQ 1456 2553 1204 2497 \nQ 953 2441 691 2322 \nL 691 4666 \nz\n\" transform=\"scale(0.015625)\"/>\n      </defs>\n      <use xlink:href=\"#DejaVuSans-35\"/>\n      <use xlink:href=\"#DejaVuSans-2e\" x=\"63.623047\"/>\n      <use xlink:href=\"#DejaVuSans-30\" x=\"95.410156\"/>\n     </g>\n    </g>\n   </g>\n   <g id=\"text_3\">\n    <g id=\"patch_7\">\n     <path d=\"M 83.301745 136.402512 \nL 97.390318 107.886734 \nQ 100.048017 102.507455 94.668739 99.849756 \nL 77.314963 91.275908 \nQ 71.935684 88.618209 69.277985 93.997488 \nL 55.189412 122.513266 \nQ 52.531713 127.892545 57.910991 130.550244 \nL 75.264767 139.124092 \nQ 80.644046 141.781791 83.301745 136.402512 \nz\n\" clip-path=\"url(#peb20efea70)\" style=\"fill: #ffffff; stroke: #ffffff; stroke-linejoin: miter\"/>\n    </g>\n    <g clip-path=\"url(#peb20efea70)\">\n     <!-- 2.5 -->\n     <g transform=\"translate(74.193394 131.902419) rotate(-63.707755) scale(0.2 -0.2)\">\n      <use xlink:href=\"#DejaVuSans-32\"/>\n      <use xlink:href=\"#DejaVuSans-2e\" x=\"63.623047\"/>\n      <use xlink:href=\"#DejaVuSans-35\" x=\"95.410156\"/>\n     </g>\n    </g>\n   </g>\n   <g id=\"PathCollection_1\">\n    <defs>\n     <path id=\"m9050d338bd\" d=\"M 0 8.660254 \nC 2.296726 8.660254 4.499694 7.747755 6.123724 6.123724 \nC 7.747755 4.499694 8.660254 2.296726 8.660254 0 \nC 8.660254 -2.296726 7.747755 -4.499694 6.123724 -6.123724 \nC 4.499694 -7.747755 2.296726 -8.660254 0 -8.660254 \nC -2.296726 -8.660254 -4.499694 -7.747755 -6.123724 -6.123724 \nC -7.747755 -4.499694 -8.660254 -2.296726 -8.660254 0 \nC -8.660254 2.296726 -7.747755 4.499694 -6.123724 6.123724 \nC -4.499694 7.747755 -2.296726 8.660254 0 8.660254 \nz\n\" style=\"stroke: #ffc0cb\"/>\n    </defs>\n    <g clip-path=\"url(#peb20efea70)\">\n     <use xlink:href=\"#m9050d338bd\" x=\"32.191736\" y=\"204.456198\" style=\"fill: #ffc0cb; stroke: #ffc0cb\"/>\n     <use xlink:href=\"#m9050d338bd\" x=\"270.208264\" y=\"121.161962\" style=\"fill: #ffc0cb; stroke: #ffc0cb\"/>\n     <use xlink:href=\"#m9050d338bd\" x=\"120.387994\" y=\"25.943802\" style=\"fill: #ffc0cb; stroke: #ffc0cb\"/>\n    </g>\n   </g>\n   <g id=\"text_4\">\n    <g clip-path=\"url(#peb20efea70)\">\n     <!-- A -->\n     <g transform=\"translate(26.719236 208.871198) scale(0.16 -0.16)\">\n      <defs>\n       <path id=\"DejaVuSans-41\" d=\"M 2188 4044 \nL 1331 1722 \nL 3047 1722 \nL 2188 4044 \nz\nM 1831 4666 \nL 2547 4666 \nL 4325 0 \nL 3669 0 \nL 3244 1197 \nL 1141 1197 \nL 716 0 \nL 50 0 \nL 1831 4666 \nz\n\" transform=\"scale(0.015625)\"/>\n      </defs>\n      <use xlink:href=\"#DejaVuSans-41\"/>\n     </g>\n    </g>\n   </g>\n   <g id=\"text_5\">\n    <g clip-path=\"url(#peb20efea70)\">\n     <!-- B -->\n     <g transform=\"translate(264.719514 125.576962) scale(0.16 -0.16)\">\n      <defs>\n       <path id=\"DejaVuSans-42\" d=\"M 1259 2228 \nL 1259 519 \nL 2272 519 \nQ 2781 519 3026 730 \nQ 3272 941 3272 1375 \nQ 3272 1813 3026 2020 \nQ 2781 2228 2272 2228 \nL 1259 2228 \nz\nM 1259 4147 \nL 1259 2741 \nL 2194 2741 \nQ 2656 2741 2882 2914 \nQ 3109 3088 3109 3444 \nQ 3109 3797 2882 3972 \nQ 2656 4147 2194 4147 \nL 1259 4147 \nz\nM 628 4666 \nL 2241 4666 \nQ 2963 4666 3353 4366 \nQ 3744 4066 3744 3513 \nQ 3744 3084 3544 2831 \nQ 3344 2578 2956 2516 \nQ 3422 2416 3680 2098 \nQ 3938 1781 3938 1306 \nQ 3938 681 3513 340 \nQ 3088 0 2303 0 \nL 628 0 \nL 628 4666 \nz\n\" transform=\"scale(0.015625)\"/>\n      </defs>\n      <use xlink:href=\"#DejaVuSans-42\"/>\n     </g>\n    </g>\n   </g>\n   <g id=\"text_6\">\n    <g clip-path=\"url(#peb20efea70)\">\n     <!-- C -->\n     <g transform=\"translate(114.801744 30.358802) scale(0.16 -0.16)\">\n      <defs>\n       <path id=\"DejaVuSans-43\" d=\"M 4122 4306 \nL 4122 3641 \nQ 3803 3938 3442 4084 \nQ 3081 4231 2675 4231 \nQ 1875 4231 1450 3742 \nQ 1025 3253 1025 2328 \nQ 1025 1406 1450 917 \nQ 1875 428 2675 428 \nQ 3081 428 3442 575 \nQ 3803 722 4122 1019 \nL 4122 359 \nQ 3791 134 3420 21 \nQ 3050 -91 2638 -91 \nQ 1578 -91 968 557 \nQ 359 1206 359 2328 \nQ 359 3453 968 4101 \nQ 1578 4750 2638 4750 \nQ 3056 4750 3426 4639 \nQ 3797 4528 4122 4306 \nz\n\" transform=\"scale(0.015625)\"/>\n      </defs>\n      <use xlink:href=\"#DejaVuSans-43\"/>\n     </g>\n    </g>\n   </g>\n  </g>\n </g>\n <defs>\n  <clipPath id=\"peb20efea70\">\n   <rect x=\"7.2\" y=\"7.2\" width=\"288\" height=\"216\"/>\n  </clipPath>\n </defs>\n</svg>\n",
      "text/plain": [
       "<Figure size 400x300 with 1 Axes>"
      ]
     },
     "metadata": {},
     "output_type": "display_data"
    }
   ],
   "source": [
    "G = nx.DiGraph()\n",
    "\n",
    "G.add_node(\"A\")\n",
    "G.add_node(\"B\")\n",
    "G.add_node(\"C\")\n",
    "\n",
    "G.add_edge(\"A\", \"B\", weight=2.0)\n",
    "G.add_edge(\"B\", \"C\", weight=5.0)\n",
    "G.add_edge(\"C\", \"A\", weight=2.5)\n",
    "\n",
    "pos = nx.spring_layout(G)\n",
    "nx.draw(G, pos, **draw_params)\n",
    "labels = nx.get_edge_attributes(G, 'weight')\n",
    "nx.draw_networkx_edge_labels(G, pos, edge_labels=labels, font_size=20);"
   ]
  },
  {
   "cell_type": "markdown",
   "metadata": {},
   "source": [
    "Examples where graphs can be used to model a situation:\n",
    "\n",
    "- Flights between airports: weights can be cost or flight time between destinations.\n",
    "  - Now we definitely want a directed graph, as the cost/time may depend on the direction.\n",
    "  - Useful problem: minimum cost path from $A$ to $B$. This is called the [shortest path problem](https://en.wikipedia.org/wiki/Shortest_path_problem).\n",
    "- Countries.\n",
    "  - Edge weights could be number of dual citizens (undirected).\n",
    "  - Or trade/immigration in each direction (directed).\n",
    "  - The weights could be the trade volume."
   ]
  },
  {
   "cell_type": "markdown",
   "metadata": {},
   "source": [
    "## Graph searches: recursive implementation (25 min)"
   ]
  },
  {
   "cell_type": "markdown",
   "metadata": {},
   "source": [
    "Next, we'll discuss some algorithms performed on graphs."
   ]
  },
  {
   "cell_type": "code",
   "execution_count": 19,
   "metadata": {},
   "outputs": [
    {
     "data": {
      "image/svg+xml": "<?xml version=\"1.0\" encoding=\"utf-8\" standalone=\"no\"?>\n<!DOCTYPE svg PUBLIC \"-//W3C//DTD SVG 1.1//EN\"\n  \"http://www.w3.org/Graphics/SVG/1.1/DTD/svg11.dtd\">\n<svg xmlns:xlink=\"http://www.w3.org/1999/xlink\" width=\"302.4pt\" height=\"230.4pt\" viewBox=\"0 0 302.4 230.4\" xmlns=\"http://www.w3.org/2000/svg\" version=\"1.1\">\n <metadata>\n  <rdf:RDF xmlns:dc=\"http://purl.org/dc/elements/1.1/\" xmlns:cc=\"http://creativecommons.org/ns#\" xmlns:rdf=\"http://www.w3.org/1999/02/22-rdf-syntax-ns#\">\n   <cc:Work>\n    <dc:type rdf:resource=\"http://purl.org/dc/dcmitype/StillImage\"/>\n    <dc:date>2022-10-30T00:01:39.385025</dc:date>\n    <dc:format>image/svg+xml</dc:format>\n    <dc:creator>\n     <cc:Agent>\n      <dc:title>Matplotlib v3.6.1, https://matplotlib.org/</dc:title>\n     </cc:Agent>\n    </dc:creator>\n   </cc:Work>\n  </rdf:RDF>\n </metadata>\n <defs>\n  <style type=\"text/css\">*{stroke-linejoin: round; stroke-linecap: butt}</style>\n </defs>\n <g id=\"figure_1\">\n  <g id=\"patch_1\">\n   <path d=\"M 0 230.4 \nL 302.4 230.4 \nL 302.4 0 \nL 0 0 \nz\n\" style=\"fill: #ffffff\"/>\n  </g>\n  <g id=\"axes_1\">\n   <g id=\"LineCollection_1\">\n    <path d=\"M 198.331821 25.943802 \nL 172.080838 41.554929 \n\" clip-path=\"url(#pba79924a9e)\" style=\"fill: none; stroke: #000000\"/>\n    <path d=\"M 198.331821 25.943802 \nL 220.451267 47.80799 \n\" clip-path=\"url(#pba79924a9e)\" style=\"fill: none; stroke: #000000\"/>\n    <path d=\"M 172.080838 41.554929 \nL 220.451267 47.80799 \n\" clip-path=\"url(#pba79924a9e)\" style=\"fill: none; stroke: #000000\"/>\n    <path d=\"M 220.451267 47.80799 \nL 270.208264 59.692487 \n\" clip-path=\"url(#pba79924a9e)\" style=\"fill: none; stroke: #000000\"/>\n    <path d=\"M 63.794503 204.456198 \nL 32.191736 189.934126 \n\" clip-path=\"url(#pba79924a9e)\" style=\"fill: none; stroke: #000000\"/>\n   </g>\n   <g id=\"PathCollection_1\">\n    <defs>\n     <path id=\"m2e29d82228\" d=\"M 0 8.660254 \nC 2.296726 8.660254 4.499694 7.747755 6.123724 6.123724 \nC 7.747755 4.499694 8.660254 2.296726 8.660254 0 \nC 8.660254 -2.296726 7.747755 -4.499694 6.123724 -6.123724 \nC 4.499694 -7.747755 2.296726 -8.660254 0 -8.660254 \nC -2.296726 -8.660254 -4.499694 -7.747755 -6.123724 -6.123724 \nC -7.747755 -4.499694 -8.660254 -2.296726 -8.660254 0 \nC -8.660254 2.296726 -7.747755 4.499694 -6.123724 6.123724 \nC -4.499694 7.747755 -2.296726 8.660254 0 8.660254 \nz\n\" style=\"stroke: #ffc0cb\"/>\n    </defs>\n    <g clip-path=\"url(#pba79924a9e)\">\n     <use xlink:href=\"#m2e29d82228\" x=\"198.331821\" y=\"25.943802\" style=\"fill: #ffc0cb; stroke: #ffc0cb\"/>\n     <use xlink:href=\"#m2e29d82228\" x=\"172.080838\" y=\"41.554929\" style=\"fill: #ffc0cb; stroke: #ffc0cb\"/>\n     <use xlink:href=\"#m2e29d82228\" x=\"220.451267\" y=\"47.80799\" style=\"fill: #ffc0cb; stroke: #ffc0cb\"/>\n     <use xlink:href=\"#m2e29d82228\" x=\"270.208264\" y=\"59.692487\" style=\"fill: #ffc0cb; stroke: #ffc0cb\"/>\n     <use xlink:href=\"#m2e29d82228\" x=\"63.794503\" y=\"204.456198\" style=\"fill: #ffc0cb; stroke: #ffc0cb\"/>\n     <use xlink:href=\"#m2e29d82228\" x=\"32.191736\" y=\"189.934126\" style=\"fill: #ffc0cb; stroke: #ffc0cb\"/>\n    </g>\n   </g>\n   <g id=\"text_1\">\n    <g clip-path=\"url(#pba79924a9e)\">\n     <!-- A -->\n     <g transform=\"translate(192.859321 30.358802) scale(0.16 -0.16)\">\n      <defs>\n       <path id=\"DejaVuSans-41\" d=\"M 2188 4044 \nL 1331 1722 \nL 3047 1722 \nL 2188 4044 \nz\nM 1831 4666 \nL 2547 4666 \nL 4325 0 \nL 3669 0 \nL 3244 1197 \nL 1141 1197 \nL 716 0 \nL 50 0 \nL 1831 4666 \nz\n\" transform=\"scale(0.015625)\"/>\n      </defs>\n      <use xlink:href=\"#DejaVuSans-41\"/>\n     </g>\n    </g>\n   </g>\n   <g id=\"text_2\">\n    <g clip-path=\"url(#pba79924a9e)\">\n     <!-- B -->\n     <g transform=\"translate(166.592088 45.969929) scale(0.16 -0.16)\">\n      <defs>\n       <path id=\"DejaVuSans-42\" d=\"M 1259 2228 \nL 1259 519 \nL 2272 519 \nQ 2781 519 3026 730 \nQ 3272 941 3272 1375 \nQ 3272 1813 3026 2020 \nQ 2781 2228 2272 2228 \nL 1259 2228 \nz\nM 1259 4147 \nL 1259 2741 \nL 2194 2741 \nQ 2656 2741 2882 2914 \nQ 3109 3088 3109 3444 \nQ 3109 3797 2882 3972 \nQ 2656 4147 2194 4147 \nL 1259 4147 \nz\nM 628 4666 \nL 2241 4666 \nQ 2963 4666 3353 4366 \nQ 3744 4066 3744 3513 \nQ 3744 3084 3544 2831 \nQ 3344 2578 2956 2516 \nQ 3422 2416 3680 2098 \nQ 3938 1781 3938 1306 \nQ 3938 681 3513 340 \nQ 3088 0 2303 0 \nL 628 0 \nL 628 4666 \nz\n\" transform=\"scale(0.015625)\"/>\n      </defs>\n      <use xlink:href=\"#DejaVuSans-42\"/>\n     </g>\n    </g>\n   </g>\n   <g id=\"text_3\">\n    <g clip-path=\"url(#pba79924a9e)\">\n     <!-- C -->\n     <g transform=\"translate(214.865017 52.22299) scale(0.16 -0.16)\">\n      <defs>\n       <path id=\"DejaVuSans-43\" d=\"M 4122 4306 \nL 4122 3641 \nQ 3803 3938 3442 4084 \nQ 3081 4231 2675 4231 \nQ 1875 4231 1450 3742 \nQ 1025 3253 1025 2328 \nQ 1025 1406 1450 917 \nQ 1875 428 2675 428 \nQ 3081 428 3442 575 \nQ 3803 722 4122 1019 \nL 4122 359 \nQ 3791 134 3420 21 \nQ 3050 -91 2638 -91 \nQ 1578 -91 968 557 \nQ 359 1206 359 2328 \nQ 359 3453 968 4101 \nQ 1578 4750 2638 4750 \nQ 3056 4750 3426 4639 \nQ 3797 4528 4122 4306 \nz\n\" transform=\"scale(0.015625)\"/>\n      </defs>\n      <use xlink:href=\"#DejaVuSans-43\"/>\n     </g>\n    </g>\n   </g>\n   <g id=\"text_4\">\n    <g clip-path=\"url(#pba79924a9e)\">\n     <!-- D -->\n     <g transform=\"translate(264.048264 64.107487) scale(0.16 -0.16)\">\n      <defs>\n       <path id=\"DejaVuSans-44\" d=\"M 1259 4147 \nL 1259 519 \nL 2022 519 \nQ 2988 519 3436 956 \nQ 3884 1394 3884 2338 \nQ 3884 3275 3436 3711 \nQ 2988 4147 2022 4147 \nL 1259 4147 \nz\nM 628 4666 \nL 1925 4666 \nQ 3281 4666 3915 4102 \nQ 4550 3538 4550 2338 \nQ 4550 1131 3912 565 \nQ 3275 0 1925 0 \nL 628 0 \nL 628 4666 \nz\n\" transform=\"scale(0.015625)\"/>\n      </defs>\n      <use xlink:href=\"#DejaVuSans-44\"/>\n     </g>\n    </g>\n   </g>\n   <g id=\"text_5\">\n    <g clip-path=\"url(#pba79924a9e)\">\n     <!-- E -->\n     <g transform=\"translate(58.739503 208.871198) scale(0.16 -0.16)\">\n      <defs>\n       <path id=\"DejaVuSans-45\" d=\"M 628 4666 \nL 3578 4666 \nL 3578 4134 \nL 1259 4134 \nL 1259 2753 \nL 3481 2753 \nL 3481 2222 \nL 1259 2222 \nL 1259 531 \nL 3634 531 \nL 3634 0 \nL 628 0 \nL 628 4666 \nz\n\" transform=\"scale(0.015625)\"/>\n      </defs>\n      <use xlink:href=\"#DejaVuSans-45\"/>\n     </g>\n    </g>\n   </g>\n   <g id=\"text_6\">\n    <g clip-path=\"url(#pba79924a9e)\">\n     <!-- F -->\n     <g transform=\"translate(27.590486 194.349126) scale(0.16 -0.16)\">\n      <defs>\n       <path id=\"DejaVuSans-46\" d=\"M 628 4666 \nL 3309 4666 \nL 3309 4134 \nL 1259 4134 \nL 1259 2759 \nL 3109 2759 \nL 3109 2228 \nL 1259 2228 \nL 1259 0 \nL 628 0 \nL 628 4666 \nz\n\" transform=\"scale(0.015625)\"/>\n      </defs>\n      <use xlink:href=\"#DejaVuSans-46\"/>\n     </g>\n    </g>\n   </g>\n  </g>\n </g>\n <defs>\n  <clipPath id=\"pba79924a9e\">\n   <rect x=\"7.2\" y=\"7.2\" width=\"288\" height=\"216\"/>\n  </clipPath>\n </defs>\n</svg>\n",
      "text/plain": [
       "<Figure size 400x300 with 1 Axes>"
      ]
     },
     "metadata": {},
     "output_type": "display_data"
    }
   ],
   "source": [
    "# pappus = nx.pappus_graph()\n",
    "# nx.draw(pappus, with_labels=True, arrowsize=40)\n",
    "\n",
    "# erg = nx.erdos_renyi_graph(15, 0.2, seed=40)\n",
    "# nx.draw(erg, **draw_params, pos=nx.spring_layout(erg, seed=5))\n",
    "\n",
    "nx.draw(disconnected, **draw_params)"
   ]
  },
  {
   "cell_type": "markdown",
   "metadata": {},
   "source": [
    "- Question: are nodes $A$ and $E$ connected?\n",
    "  - We can see this easily with our eyes.\n",
    "  - But imagine a dataset with millions of nodes and billions of edges, like a Facebook social network (see lab).\n",
    "  - We can't \"eyeball\" if two people are connected; we need an algorithm.\n",
    "- Approach: visit all neighbours of node $0$, then all neighbours of these neighbours, etc.\n",
    "  - Keep track of which nodes have already been visited so we don't get stuck in an infinite cycle."
   ]
  },
  {
   "cell_type": "code",
   "execution_count": 20,
   "metadata": {},
   "outputs": [],
   "source": [
    "def connected(g, node1, node2, visited=None, verbose=False):\n",
    "    \"\"\" \n",
    "    Check whether node1 and node2 are connected in the graph g (using DFS).\n",
    "\n",
    "    Parameters\n",
    "    ----------\n",
    "    g : networkx.classes.graph.Graph\n",
    "        the graph\n",
    "    node1 : str, int\n",
    "        first node\n",
    "    node2 : str, int\n",
    "        second node\n",
    "    visited : set\n",
    "        contains visited nodes (default is None)\n",
    "    verbose : bool\n",
    "        if True, node location will be displayed (default is False)\n",
    "    \n",
    "    Returns\n",
    "    -------\n",
    "    bool \n",
    "        True if the two nodes are connected and False otherwise     \n",
    "\n",
    "    Example\n",
    "    --------\n",
    "    >>> graph = nx.erdos_renyi_graph(2, 1)\n",
    "    >>> connected(graph, 1, 0)\n",
    "    True\n",
    "    \"\"\"\n",
    "    if visited is None:\n",
    "        visited = {node1}  # initialize\n",
    "\n",
    "    if node1 == node2:\n",
    "        return True\n",
    "\n",
    "    # for all the unvisited neighbours of node1\n",
    "    for v in g.neighbors(node1):\n",
    "        if v in visited:\n",
    "            continue \n",
    "            \n",
    "        visited.add(v)\n",
    "\n",
    "        if verbose:\n",
    "            print(\"At node\", v)\n",
    "\n",
    "        # If a connection found, passes the True value all the way up to the top level.\n",
    "        if connected(g, v, node2, visited, verbose):\n",
    "            return True\n",
    "    \n",
    "    if verbose:\n",
    "        print(\"hello this is\", node1, \"speaking. couldn't get there, sorry :(\")\n",
    "        \n",
    "    return False"
   ]
  },
  {
   "cell_type": "markdown",
   "metadata": {
    "jupyter": {
     "source_hidden": true
    }
   },
   "source": [
    "Let's discuss how the code works:\n",
    "\n",
    "- We keep track of all nodes that we've visited, so that we don't visit them again.\n",
    "- Base case: if the start node equals the end node, return True.\n",
    "- For all *unvisited* the neighbours of the start node:\n",
    "  - Add to visited set\n",
    "  - Recursively check if these nodes are connected to the start node\n",
    "- If you finish the loop and don't find anything, return False."
   ]
  },
  {
   "cell_type": "code",
   "execution_count": 21,
   "metadata": {},
   "outputs": [
    {
     "data": {
      "image/svg+xml": "<?xml version=\"1.0\" encoding=\"utf-8\" standalone=\"no\"?>\n<!DOCTYPE svg PUBLIC \"-//W3C//DTD SVG 1.1//EN\"\n  \"http://www.w3.org/Graphics/SVG/1.1/DTD/svg11.dtd\">\n<svg xmlns:xlink=\"http://www.w3.org/1999/xlink\" width=\"302.4pt\" height=\"230.4pt\" viewBox=\"0 0 302.4 230.4\" xmlns=\"http://www.w3.org/2000/svg\" version=\"1.1\">\n <metadata>\n  <rdf:RDF xmlns:dc=\"http://purl.org/dc/elements/1.1/\" xmlns:cc=\"http://creativecommons.org/ns#\" xmlns:rdf=\"http://www.w3.org/1999/02/22-rdf-syntax-ns#\">\n   <cc:Work>\n    <dc:type rdf:resource=\"http://purl.org/dc/dcmitype/StillImage\"/>\n    <dc:date>2022-10-30T00:01:42.929601</dc:date>\n    <dc:format>image/svg+xml</dc:format>\n    <dc:creator>\n     <cc:Agent>\n      <dc:title>Matplotlib v3.6.1, https://matplotlib.org/</dc:title>\n     </cc:Agent>\n    </dc:creator>\n   </cc:Work>\n  </rdf:RDF>\n </metadata>\n <defs>\n  <style type=\"text/css\">*{stroke-linejoin: round; stroke-linecap: butt}</style>\n </defs>\n <g id=\"figure_1\">\n  <g id=\"patch_1\">\n   <path d=\"M 0 230.4 \nL 302.4 230.4 \nL 302.4 0 \nL 0 0 \nz\n\" style=\"fill: #ffffff\"/>\n  </g>\n  <g id=\"axes_1\">\n   <g id=\"LineCollection_1\">\n    <path d=\"M 267.174258 25.943802 \nL 270.208264 43.544446 \n\" clip-path=\"url(#p420b8cfb34)\" style=\"fill: none; stroke: #000000\"/>\n    <path d=\"M 267.174258 25.943802 \nL 199.249987 36.041819 \n\" clip-path=\"url(#p420b8cfb34)\" style=\"fill: none; stroke: #000000\"/>\n    <path d=\"M 270.208264 43.544446 \nL 199.249987 36.041819 \n\" clip-path=\"url(#p420b8cfb34)\" style=\"fill: none; stroke: #000000\"/>\n    <path d=\"M 199.249987 36.041819 \nL 116.643543 32.069683 \n\" clip-path=\"url(#p420b8cfb34)\" style=\"fill: none; stroke: #000000\"/>\n    <path d=\"M 32.191736 204.456198 \nL 52.313498 185.367442 \n\" clip-path=\"url(#p420b8cfb34)\" style=\"fill: none; stroke: #000000\"/>\n   </g>\n   <g id=\"PathCollection_1\">\n    <defs>\n     <path id=\"m110d152347\" d=\"M 0 8.660254 \nC 2.296726 8.660254 4.499694 7.747755 6.123724 6.123724 \nC 7.747755 4.499694 8.660254 2.296726 8.660254 0 \nC 8.660254 -2.296726 7.747755 -4.499694 6.123724 -6.123724 \nC 4.499694 -7.747755 2.296726 -8.660254 0 -8.660254 \nC -2.296726 -8.660254 -4.499694 -7.747755 -6.123724 -6.123724 \nC -7.747755 -4.499694 -8.660254 -2.296726 -8.660254 0 \nC -8.660254 2.296726 -7.747755 4.499694 -6.123724 6.123724 \nC -4.499694 7.747755 -2.296726 8.660254 0 8.660254 \nz\n\" style=\"stroke: #ffc0cb\"/>\n    </defs>\n    <g clip-path=\"url(#p420b8cfb34)\">\n     <use xlink:href=\"#m110d152347\" x=\"267.174258\" y=\"25.943802\" style=\"fill: #ffc0cb; stroke: #ffc0cb\"/>\n     <use xlink:href=\"#m110d152347\" x=\"270.208264\" y=\"43.544446\" style=\"fill: #ffc0cb; stroke: #ffc0cb\"/>\n     <use xlink:href=\"#m110d152347\" x=\"199.249987\" y=\"36.041819\" style=\"fill: #ffc0cb; stroke: #ffc0cb\"/>\n     <use xlink:href=\"#m110d152347\" x=\"116.643543\" y=\"32.069683\" style=\"fill: #ffc0cb; stroke: #ffc0cb\"/>\n     <use xlink:href=\"#m110d152347\" x=\"32.191736\" y=\"204.456198\" style=\"fill: #ffc0cb; stroke: #ffc0cb\"/>\n     <use xlink:href=\"#m110d152347\" x=\"52.313498\" y=\"185.367442\" style=\"fill: #ffc0cb; stroke: #ffc0cb\"/>\n    </g>\n   </g>\n   <g id=\"text_1\">\n    <g clip-path=\"url(#p420b8cfb34)\">\n     <!-- A -->\n     <g transform=\"translate(261.701758 30.358802) scale(0.16 -0.16)\">\n      <defs>\n       <path id=\"DejaVuSans-41\" d=\"M 2188 4044 \nL 1331 1722 \nL 3047 1722 \nL 2188 4044 \nz\nM 1831 4666 \nL 2547 4666 \nL 4325 0 \nL 3669 0 \nL 3244 1197 \nL 1141 1197 \nL 716 0 \nL 50 0 \nL 1831 4666 \nz\n\" transform=\"scale(0.015625)\"/>\n      </defs>\n      <use xlink:href=\"#DejaVuSans-41\"/>\n     </g>\n    </g>\n   </g>\n   <g id=\"text_2\">\n    <g clip-path=\"url(#p420b8cfb34)\">\n     <!-- B -->\n     <g transform=\"translate(264.719514 47.959446) scale(0.16 -0.16)\">\n      <defs>\n       <path id=\"DejaVuSans-42\" d=\"M 1259 2228 \nL 1259 519 \nL 2272 519 \nQ 2781 519 3026 730 \nQ 3272 941 3272 1375 \nQ 3272 1813 3026 2020 \nQ 2781 2228 2272 2228 \nL 1259 2228 \nz\nM 1259 4147 \nL 1259 2741 \nL 2194 2741 \nQ 2656 2741 2882 2914 \nQ 3109 3088 3109 3444 \nQ 3109 3797 2882 3972 \nQ 2656 4147 2194 4147 \nL 1259 4147 \nz\nM 628 4666 \nL 2241 4666 \nQ 2963 4666 3353 4366 \nQ 3744 4066 3744 3513 \nQ 3744 3084 3544 2831 \nQ 3344 2578 2956 2516 \nQ 3422 2416 3680 2098 \nQ 3938 1781 3938 1306 \nQ 3938 681 3513 340 \nQ 3088 0 2303 0 \nL 628 0 \nL 628 4666 \nz\n\" transform=\"scale(0.015625)\"/>\n      </defs>\n      <use xlink:href=\"#DejaVuSans-42\"/>\n     </g>\n    </g>\n   </g>\n   <g id=\"text_3\">\n    <g clip-path=\"url(#p420b8cfb34)\">\n     <!-- C -->\n     <g transform=\"translate(193.663737 40.456819) scale(0.16 -0.16)\">\n      <defs>\n       <path id=\"DejaVuSans-43\" d=\"M 4122 4306 \nL 4122 3641 \nQ 3803 3938 3442 4084 \nQ 3081 4231 2675 4231 \nQ 1875 4231 1450 3742 \nQ 1025 3253 1025 2328 \nQ 1025 1406 1450 917 \nQ 1875 428 2675 428 \nQ 3081 428 3442 575 \nQ 3803 722 4122 1019 \nL 4122 359 \nQ 3791 134 3420 21 \nQ 3050 -91 2638 -91 \nQ 1578 -91 968 557 \nQ 359 1206 359 2328 \nQ 359 3453 968 4101 \nQ 1578 4750 2638 4750 \nQ 3056 4750 3426 4639 \nQ 3797 4528 4122 4306 \nz\n\" transform=\"scale(0.015625)\"/>\n      </defs>\n      <use xlink:href=\"#DejaVuSans-43\"/>\n     </g>\n    </g>\n   </g>\n   <g id=\"text_4\">\n    <g clip-path=\"url(#p420b8cfb34)\">\n     <!-- D -->\n     <g transform=\"translate(110.483543 36.484683) scale(0.16 -0.16)\">\n      <defs>\n       <path id=\"DejaVuSans-44\" d=\"M 1259 4147 \nL 1259 519 \nL 2022 519 \nQ 2988 519 3436 956 \nQ 3884 1394 3884 2338 \nQ 3884 3275 3436 3711 \nQ 2988 4147 2022 4147 \nL 1259 4147 \nz\nM 628 4666 \nL 1925 4666 \nQ 3281 4666 3915 4102 \nQ 4550 3538 4550 2338 \nQ 4550 1131 3912 565 \nQ 3275 0 1925 0 \nL 628 0 \nL 628 4666 \nz\n\" transform=\"scale(0.015625)\"/>\n      </defs>\n      <use xlink:href=\"#DejaVuSans-44\"/>\n     </g>\n    </g>\n   </g>\n   <g id=\"text_5\">\n    <g clip-path=\"url(#p420b8cfb34)\">\n     <!-- E -->\n     <g transform=\"translate(27.136736 208.871198) scale(0.16 -0.16)\">\n      <defs>\n       <path id=\"DejaVuSans-45\" d=\"M 628 4666 \nL 3578 4666 \nL 3578 4134 \nL 1259 4134 \nL 1259 2753 \nL 3481 2753 \nL 3481 2222 \nL 1259 2222 \nL 1259 531 \nL 3634 531 \nL 3634 0 \nL 628 0 \nL 628 4666 \nz\n\" transform=\"scale(0.015625)\"/>\n      </defs>\n      <use xlink:href=\"#DejaVuSans-45\"/>\n     </g>\n    </g>\n   </g>\n   <g id=\"text_6\">\n    <g clip-path=\"url(#p420b8cfb34)\">\n     <!-- F -->\n     <g transform=\"translate(47.712248 189.782442) scale(0.16 -0.16)\">\n      <defs>\n       <path id=\"DejaVuSans-46\" d=\"M 628 4666 \nL 3309 4666 \nL 3309 4134 \nL 1259 4134 \nL 1259 2759 \nL 3109 2759 \nL 3109 2228 \nL 1259 2228 \nL 1259 0 \nL 628 0 \nL 628 4666 \nz\n\" transform=\"scale(0.015625)\"/>\n      </defs>\n      <use xlink:href=\"#DejaVuSans-46\"/>\n     </g>\n    </g>\n   </g>\n  </g>\n </g>\n <defs>\n  <clipPath id=\"p420b8cfb34\">\n   <rect x=\"7.2\" y=\"7.2\" width=\"288\" height=\"216\"/>\n  </clipPath>\n </defs>\n</svg>\n",
      "text/plain": [
       "<Figure size 400x300 with 1 Axes>"
      ]
     },
     "metadata": {},
     "output_type": "display_data"
    }
   ],
   "source": [
    "nx.draw(disconnected, **draw_params)"
   ]
  },
  {
   "cell_type": "code",
   "execution_count": 22,
   "metadata": {},
   "outputs": [
    {
     "data": {
      "text/plain": [
       "True"
      ]
     },
     "execution_count": 22,
     "metadata": {},
     "output_type": "execute_result"
    }
   ],
   "source": [
    "connected(disconnected, \"A\", \"B\")"
   ]
  },
  {
   "cell_type": "code",
   "execution_count": 23,
   "metadata": {},
   "outputs": [
    {
     "data": {
      "text/plain": [
       "False"
      ]
     },
     "execution_count": 23,
     "metadata": {},
     "output_type": "execute_result"
    }
   ],
   "source": [
    "connected(disconnected, \"A\", \"E\")"
   ]
  },
  {
   "cell_type": "code",
   "execution_count": 24,
   "metadata": {},
   "outputs": [],
   "source": [
    "assert connected(disconnected, \"A\", \"B\")\n",
    "assert connected(disconnected, \"A\", \"C\")\n",
    "assert connected(disconnected, \"A\", \"D\")\n",
    "assert connected(disconnected, \"B\", \"C\")\n",
    "assert connected(disconnected, \"B\", \"D\")\n",
    "assert connected(disconnected, \"E\", \"F\")\n",
    "assert not connected(disconnected, \"A\", \"E\")\n",
    "assert not connected(disconnected, \"A\", \"F\")\n",
    "assert not connected(disconnected, \"D\", \"E\")\n",
    "assert not connected(disconnected, \"D\", \"F\")\n",
    "assert not connected(disconnected, \"C\", \"E\")"
   ]
  },
  {
   "cell_type": "markdown",
   "metadata": {},
   "source": [
    "- Question: in what order were the nodes traversed?"
   ]
  },
  {
   "cell_type": "code",
   "execution_count": 25,
   "metadata": {},
   "outputs": [
    {
     "data": {
      "image/svg+xml": "<?xml version=\"1.0\" encoding=\"utf-8\" standalone=\"no\"?>\n<!DOCTYPE svg PUBLIC \"-//W3C//DTD SVG 1.1//EN\"\n  \"http://www.w3.org/Graphics/SVG/1.1/DTD/svg11.dtd\">\n<svg xmlns:xlink=\"http://www.w3.org/1999/xlink\" width=\"302.4pt\" height=\"230.4pt\" viewBox=\"0 0 302.4 230.4\" xmlns=\"http://www.w3.org/2000/svg\" version=\"1.1\">\n <metadata>\n  <rdf:RDF xmlns:dc=\"http://purl.org/dc/elements/1.1/\" xmlns:cc=\"http://creativecommons.org/ns#\" xmlns:rdf=\"http://www.w3.org/1999/02/22-rdf-syntax-ns#\">\n   <cc:Work>\n    <dc:type rdf:resource=\"http://purl.org/dc/dcmitype/StillImage\"/>\n    <dc:date>2022-10-30T00:01:45.864118</dc:date>\n    <dc:format>image/svg+xml</dc:format>\n    <dc:creator>\n     <cc:Agent>\n      <dc:title>Matplotlib v3.6.1, https://matplotlib.org/</dc:title>\n     </cc:Agent>\n    </dc:creator>\n   </cc:Work>\n  </rdf:RDF>\n </metadata>\n <defs>\n  <style type=\"text/css\">*{stroke-linejoin: round; stroke-linecap: butt}</style>\n </defs>\n <g id=\"figure_1\">\n  <g id=\"patch_1\">\n   <path d=\"M 0 230.4 \nL 302.4 230.4 \nL 302.4 0 \nL 0 0 \nz\n\" style=\"fill: #ffffff\"/>\n  </g>\n  <g id=\"axes_1\">\n   <g id=\"LineCollection_1\">\n    <path d=\"M 159.486543 78.326252 \nL 106.487518 104.280882 \n\" clip-path=\"url(#p5047f16caf)\" style=\"fill: none; stroke: #000000\"/>\n    <path d=\"M 159.486543 78.326252 \nL 205.128227 67.182143 \n\" clip-path=\"url(#p5047f16caf)\" style=\"fill: none; stroke: #000000\"/>\n    <path d=\"M 159.486543 78.326252 \nL 176.656578 114.334898 \n\" clip-path=\"url(#p5047f16caf)\" style=\"fill: none; stroke: #000000\"/>\n    <path d=\"M 159.486543 78.326252 \nL 99.301422 79.091729 \n\" clip-path=\"url(#p5047f16caf)\" style=\"fill: none; stroke: #000000\"/>\n    <path d=\"M 140.902583 64.389515 \nL 118.855357 135.793853 \n\" clip-path=\"url(#p5047f16caf)\" style=\"fill: none; stroke: #000000\"/>\n    <path d=\"M 140.902583 64.389515 \nL 205.128227 67.182143 \n\" clip-path=\"url(#p5047f16caf)\" style=\"fill: none; stroke: #000000\"/>\n    <path d=\"M 140.902583 64.389515 \nL 110.224415 53.419285 \n\" clip-path=\"url(#p5047f16caf)\" style=\"fill: none; stroke: #000000\"/>\n    <path d=\"M 140.902583 64.389515 \nL 99.301422 79.091729 \n\" clip-path=\"url(#p5047f16caf)\" style=\"fill: none; stroke: #000000\"/>\n    <path d=\"M 257.29361 25.943802 \nL 205.128227 67.182143 \n\" clip-path=\"url(#p5047f16caf)\" style=\"fill: none; stroke: #000000\"/>\n    <path d=\"M 257.29361 25.943802 \nL 270.208264 55.824792 \n\" clip-path=\"url(#p5047f16caf)\" style=\"fill: none; stroke: #000000\"/>\n    <path d=\"M 106.487518 104.280882 \nL 118.855357 135.793853 \n\" clip-path=\"url(#p5047f16caf)\" style=\"fill: none; stroke: #000000\"/>\n    <path d=\"M 106.487518 104.280882 \nL 110.224415 53.419285 \n\" clip-path=\"url(#p5047f16caf)\" style=\"fill: none; stroke: #000000\"/>\n    <path d=\"M 106.487518 104.280882 \nL 176.656578 114.334898 \n\" clip-path=\"url(#p5047f16caf)\" style=\"fill: none; stroke: #000000\"/>\n    <path d=\"M 106.487518 104.280882 \nL 35.146447 105.459344 \n\" clip-path=\"url(#p5047f16caf)\" style=\"fill: none; stroke: #000000\"/>\n    <path d=\"M 32.191736 65.401274 \nL 99.301422 79.091729 \n\" clip-path=\"url(#p5047f16caf)\" style=\"fill: none; stroke: #000000\"/>\n    <path d=\"M 32.191736 65.401274 \nL 35.146447 105.459344 \n\" clip-path=\"url(#p5047f16caf)\" style=\"fill: none; stroke: #000000\"/>\n    <path d=\"M 118.855357 135.793853 \nL 162.043129 155.278107 \n\" clip-path=\"url(#p5047f16caf)\" style=\"fill: none; stroke: #000000\"/>\n    <path d=\"M 118.855357 135.793853 \nL 97.208226 204.456198 \n\" clip-path=\"url(#p5047f16caf)\" style=\"fill: none; stroke: #000000\"/>\n    <path d=\"M 118.855357 135.793853 \nL 145.632508 101.643573 \n\" clip-path=\"url(#p5047f16caf)\" style=\"fill: none; stroke: #000000\"/>\n    <path d=\"M 118.855357 135.793853 \nL 99.301422 79.091729 \n\" clip-path=\"url(#p5047f16caf)\" style=\"fill: none; stroke: #000000\"/>\n    <path d=\"M 162.043129 155.278107 \nL 176.656578 114.334898 \n\" clip-path=\"url(#p5047f16caf)\" style=\"fill: none; stroke: #000000\"/>\n    <path d=\"M 162.043129 155.278107 \nL 145.632508 101.643573 \n\" clip-path=\"url(#p5047f16caf)\" style=\"fill: none; stroke: #000000\"/>\n    <path d=\"M 205.128227 67.182143 \nL 270.208264 55.824792 \n\" clip-path=\"url(#p5047f16caf)\" style=\"fill: none; stroke: #000000\"/>\n    <path d=\"M 205.128227 67.182143 \nL 176.656578 114.334898 \n\" clip-path=\"url(#p5047f16caf)\" style=\"fill: none; stroke: #000000\"/>\n    <path d=\"M 205.128227 67.182143 \nL 145.632508 101.643573 \n\" clip-path=\"url(#p5047f16caf)\" style=\"fill: none; stroke: #000000\"/>\n    <path d=\"M 110.224415 53.419285 \nL 145.632508 101.643573 \n\" clip-path=\"url(#p5047f16caf)\" style=\"fill: none; stroke: #000000\"/>\n    <path d=\"M 110.224415 53.419285 \nL 99.301422 79.091729 \n\" clip-path=\"url(#p5047f16caf)\" style=\"fill: none; stroke: #000000\"/>\n    <path d=\"M 145.632508 101.643573 \nL 99.301422 79.091729 \n\" clip-path=\"url(#p5047f16caf)\" style=\"fill: none; stroke: #000000\"/>\n   </g>\n   <g id=\"PathCollection_1\">\n    <defs>\n     <path id=\"m22aa8bfa66\" d=\"M 0 8.660254 \nC 2.296726 8.660254 4.499694 7.747755 6.123724 6.123724 \nC 7.747755 4.499694 8.660254 2.296726 8.660254 0 \nC 8.660254 -2.296726 7.747755 -4.499694 6.123724 -6.123724 \nC 4.499694 -7.747755 2.296726 -8.660254 0 -8.660254 \nC -2.296726 -8.660254 -4.499694 -7.747755 -6.123724 -6.123724 \nC -7.747755 -4.499694 -8.660254 -2.296726 -8.660254 0 \nC -8.660254 2.296726 -7.747755 4.499694 -6.123724 6.123724 \nC -4.499694 7.747755 -2.296726 8.660254 0 8.660254 \nz\n\" style=\"stroke: #ffc0cb\"/>\n    </defs>\n    <g clip-path=\"url(#p5047f16caf)\">\n     <use xlink:href=\"#m22aa8bfa66\" x=\"159.486543\" y=\"78.326252\" style=\"fill: #ffc0cb; stroke: #ffc0cb\"/>\n     <use xlink:href=\"#m22aa8bfa66\" x=\"140.902583\" y=\"64.389515\" style=\"fill: #ffc0cb; stroke: #ffc0cb\"/>\n     <use xlink:href=\"#m22aa8bfa66\" x=\"257.29361\" y=\"25.943802\" style=\"fill: #ffc0cb; stroke: #ffc0cb\"/>\n     <use xlink:href=\"#m22aa8bfa66\" x=\"106.487518\" y=\"104.280882\" style=\"fill: #ffc0cb; stroke: #ffc0cb\"/>\n     <use xlink:href=\"#m22aa8bfa66\" x=\"32.191736\" y=\"65.401274\" style=\"fill: #ffc0cb; stroke: #ffc0cb\"/>\n     <use xlink:href=\"#m22aa8bfa66\" x=\"118.855357\" y=\"135.793853\" style=\"fill: #ffc0cb; stroke: #ffc0cb\"/>\n     <use xlink:href=\"#m22aa8bfa66\" x=\"162.043129\" y=\"155.278107\" style=\"fill: #ffc0cb; stroke: #ffc0cb\"/>\n     <use xlink:href=\"#m22aa8bfa66\" x=\"205.128227\" y=\"67.182143\" style=\"fill: #ffc0cb; stroke: #ffc0cb\"/>\n     <use xlink:href=\"#m22aa8bfa66\" x=\"270.208264\" y=\"55.824792\" style=\"fill: #ffc0cb; stroke: #ffc0cb\"/>\n     <use xlink:href=\"#m22aa8bfa66\" x=\"110.224415\" y=\"53.419285\" style=\"fill: #ffc0cb; stroke: #ffc0cb\"/>\n     <use xlink:href=\"#m22aa8bfa66\" x=\"97.208226\" y=\"204.456198\" style=\"fill: #ffc0cb; stroke: #ffc0cb\"/>\n     <use xlink:href=\"#m22aa8bfa66\" x=\"176.656578\" y=\"114.334898\" style=\"fill: #ffc0cb; stroke: #ffc0cb\"/>\n     <use xlink:href=\"#m22aa8bfa66\" x=\"145.632508\" y=\"101.643573\" style=\"fill: #ffc0cb; stroke: #ffc0cb\"/>\n     <use xlink:href=\"#m22aa8bfa66\" x=\"99.301422\" y=\"79.091729\" style=\"fill: #ffc0cb; stroke: #ffc0cb\"/>\n     <use xlink:href=\"#m22aa8bfa66\" x=\"35.146447\" y=\"105.459344\" style=\"fill: #ffc0cb; stroke: #ffc0cb\"/>\n    </g>\n   </g>\n   <g id=\"text_1\">\n    <g clip-path=\"url(#p5047f16caf)\">\n     <!-- 0 -->\n     <g transform=\"translate(154.396543 82.741252) scale(0.16 -0.16)\">\n      <defs>\n       <path id=\"DejaVuSans-30\" d=\"M 2034 4250 \nQ 1547 4250 1301 3770 \nQ 1056 3291 1056 2328 \nQ 1056 1369 1301 889 \nQ 1547 409 2034 409 \nQ 2525 409 2770 889 \nQ 3016 1369 3016 2328 \nQ 3016 3291 2770 3770 \nQ 2525 4250 2034 4250 \nz\nM 2034 4750 \nQ 2819 4750 3233 4129 \nQ 3647 3509 3647 2328 \nQ 3647 1150 3233 529 \nQ 2819 -91 2034 -91 \nQ 1250 -91 836 529 \nQ 422 1150 422 2328 \nQ 422 3509 836 4129 \nQ 1250 4750 2034 4750 \nz\n\" transform=\"scale(0.015625)\"/>\n      </defs>\n      <use xlink:href=\"#DejaVuSans-30\"/>\n     </g>\n    </g>\n   </g>\n   <g id=\"text_2\">\n    <g clip-path=\"url(#p5047f16caf)\">\n     <!-- 1 -->\n     <g transform=\"translate(135.812583 68.804515) scale(0.16 -0.16)\">\n      <defs>\n       <path id=\"DejaVuSans-31\" d=\"M 794 531 \nL 1825 531 \nL 1825 4091 \nL 703 3866 \nL 703 4441 \nL 1819 4666 \nL 2450 4666 \nL 2450 531 \nL 3481 531 \nL 3481 0 \nL 794 0 \nL 794 531 \nz\n\" transform=\"scale(0.015625)\"/>\n      </defs>\n      <use xlink:href=\"#DejaVuSans-31\"/>\n     </g>\n    </g>\n   </g>\n   <g id=\"text_3\">\n    <g clip-path=\"url(#p5047f16caf)\">\n     <!-- 2 -->\n     <g transform=\"translate(252.20361 30.358802) scale(0.16 -0.16)\">\n      <defs>\n       <path id=\"DejaVuSans-32\" d=\"M 1228 531 \nL 3431 531 \nL 3431 0 \nL 469 0 \nL 469 531 \nQ 828 903 1448 1529 \nQ 2069 2156 2228 2338 \nQ 2531 2678 2651 2914 \nQ 2772 3150 2772 3378 \nQ 2772 3750 2511 3984 \nQ 2250 4219 1831 4219 \nQ 1534 4219 1204 4116 \nQ 875 4013 500 3803 \nL 500 4441 \nQ 881 4594 1212 4672 \nQ 1544 4750 1819 4750 \nQ 2544 4750 2975 4387 \nQ 3406 4025 3406 3419 \nQ 3406 3131 3298 2873 \nQ 3191 2616 2906 2266 \nQ 2828 2175 2409 1742 \nQ 1991 1309 1228 531 \nz\n\" transform=\"scale(0.015625)\"/>\n      </defs>\n      <use xlink:href=\"#DejaVuSans-32\"/>\n     </g>\n    </g>\n   </g>\n   <g id=\"text_4\">\n    <g clip-path=\"url(#p5047f16caf)\">\n     <!-- 3 -->\n     <g transform=\"translate(101.397518 108.695882) scale(0.16 -0.16)\">\n      <defs>\n       <path id=\"DejaVuSans-33\" d=\"M 2597 2516 \nQ 3050 2419 3304 2112 \nQ 3559 1806 3559 1356 \nQ 3559 666 3084 287 \nQ 2609 -91 1734 -91 \nQ 1441 -91 1130 -33 \nQ 819 25 488 141 \nL 488 750 \nQ 750 597 1062 519 \nQ 1375 441 1716 441 \nQ 2309 441 2620 675 \nQ 2931 909 2931 1356 \nQ 2931 1769 2642 2001 \nQ 2353 2234 1838 2234 \nL 1294 2234 \nL 1294 2753 \nL 1863 2753 \nQ 2328 2753 2575 2939 \nQ 2822 3125 2822 3475 \nQ 2822 3834 2567 4026 \nQ 2313 4219 1838 4219 \nQ 1578 4219 1281 4162 \nQ 984 4106 628 3988 \nL 628 4550 \nQ 988 4650 1302 4700 \nQ 1616 4750 1894 4750 \nQ 2613 4750 3031 4423 \nQ 3450 4097 3450 3541 \nQ 3450 3153 3228 2886 \nQ 3006 2619 2597 2516 \nz\n\" transform=\"scale(0.015625)\"/>\n      </defs>\n      <use xlink:href=\"#DejaVuSans-33\"/>\n     </g>\n    </g>\n   </g>\n   <g id=\"text_5\">\n    <g clip-path=\"url(#p5047f16caf)\">\n     <!-- 4 -->\n     <g transform=\"translate(27.101736 69.816274) scale(0.16 -0.16)\">\n      <defs>\n       <path id=\"DejaVuSans-34\" d=\"M 2419 4116 \nL 825 1625 \nL 2419 1625 \nL 2419 4116 \nz\nM 2253 4666 \nL 3047 4666 \nL 3047 1625 \nL 3713 1625 \nL 3713 1100 \nL 3047 1100 \nL 3047 0 \nL 2419 0 \nL 2419 1100 \nL 313 1100 \nL 313 1709 \nL 2253 4666 \nz\n\" transform=\"scale(0.015625)\"/>\n      </defs>\n      <use xlink:href=\"#DejaVuSans-34\"/>\n     </g>\n    </g>\n   </g>\n   <g id=\"text_6\">\n    <g clip-path=\"url(#p5047f16caf)\">\n     <!-- 5 -->\n     <g transform=\"translate(113.765357 140.208853) scale(0.16 -0.16)\">\n      <defs>\n       <path id=\"DejaVuSans-35\" d=\"M 691 4666 \nL 3169 4666 \nL 3169 4134 \nL 1269 4134 \nL 1269 2991 \nQ 1406 3038 1543 3061 \nQ 1681 3084 1819 3084 \nQ 2600 3084 3056 2656 \nQ 3513 2228 3513 1497 \nQ 3513 744 3044 326 \nQ 2575 -91 1722 -91 \nQ 1428 -91 1123 -41 \nQ 819 9 494 109 \nL 494 744 \nQ 775 591 1075 516 \nQ 1375 441 1709 441 \nQ 2250 441 2565 725 \nQ 2881 1009 2881 1497 \nQ 2881 1984 2565 2268 \nQ 2250 2553 1709 2553 \nQ 1456 2553 1204 2497 \nQ 953 2441 691 2322 \nL 691 4666 \nz\n\" transform=\"scale(0.015625)\"/>\n      </defs>\n      <use xlink:href=\"#DejaVuSans-35\"/>\n     </g>\n    </g>\n   </g>\n   <g id=\"text_7\">\n    <g clip-path=\"url(#p5047f16caf)\">\n     <!-- 6 -->\n     <g transform=\"translate(156.953129 159.693107) scale(0.16 -0.16)\">\n      <defs>\n       <path id=\"DejaVuSans-36\" d=\"M 2113 2584 \nQ 1688 2584 1439 2293 \nQ 1191 2003 1191 1497 \nQ 1191 994 1439 701 \nQ 1688 409 2113 409 \nQ 2538 409 2786 701 \nQ 3034 994 3034 1497 \nQ 3034 2003 2786 2293 \nQ 2538 2584 2113 2584 \nz\nM 3366 4563 \nL 3366 3988 \nQ 3128 4100 2886 4159 \nQ 2644 4219 2406 4219 \nQ 1781 4219 1451 3797 \nQ 1122 3375 1075 2522 \nQ 1259 2794 1537 2939 \nQ 1816 3084 2150 3084 \nQ 2853 3084 3261 2657 \nQ 3669 2231 3669 1497 \nQ 3669 778 3244 343 \nQ 2819 -91 2113 -91 \nQ 1303 -91 875 529 \nQ 447 1150 447 2328 \nQ 447 3434 972 4092 \nQ 1497 4750 2381 4750 \nQ 2619 4750 2861 4703 \nQ 3103 4656 3366 4563 \nz\n\" transform=\"scale(0.015625)\"/>\n      </defs>\n      <use xlink:href=\"#DejaVuSans-36\"/>\n     </g>\n    </g>\n   </g>\n   <g id=\"text_8\">\n    <g clip-path=\"url(#p5047f16caf)\">\n     <!-- 7 -->\n     <g transform=\"translate(200.038227 71.597143) scale(0.16 -0.16)\">\n      <defs>\n       <path id=\"DejaVuSans-37\" d=\"M 525 4666 \nL 3525 4666 \nL 3525 4397 \nL 1831 0 \nL 1172 0 \nL 2766 4134 \nL 525 4134 \nL 525 4666 \nz\n\" transform=\"scale(0.015625)\"/>\n      </defs>\n      <use xlink:href=\"#DejaVuSans-37\"/>\n     </g>\n    </g>\n   </g>\n   <g id=\"text_9\">\n    <g clip-path=\"url(#p5047f16caf)\">\n     <!-- 8 -->\n     <g transform=\"translate(265.118264 60.239792) scale(0.16 -0.16)\">\n      <defs>\n       <path id=\"DejaVuSans-38\" d=\"M 2034 2216 \nQ 1584 2216 1326 1975 \nQ 1069 1734 1069 1313 \nQ 1069 891 1326 650 \nQ 1584 409 2034 409 \nQ 2484 409 2743 651 \nQ 3003 894 3003 1313 \nQ 3003 1734 2745 1975 \nQ 2488 2216 2034 2216 \nz\nM 1403 2484 \nQ 997 2584 770 2862 \nQ 544 3141 544 3541 \nQ 544 4100 942 4425 \nQ 1341 4750 2034 4750 \nQ 2731 4750 3128 4425 \nQ 3525 4100 3525 3541 \nQ 3525 3141 3298 2862 \nQ 3072 2584 2669 2484 \nQ 3125 2378 3379 2068 \nQ 3634 1759 3634 1313 \nQ 3634 634 3220 271 \nQ 2806 -91 2034 -91 \nQ 1263 -91 848 271 \nQ 434 634 434 1313 \nQ 434 1759 690 2068 \nQ 947 2378 1403 2484 \nz\nM 1172 3481 \nQ 1172 3119 1398 2916 \nQ 1625 2713 2034 2713 \nQ 2441 2713 2670 2916 \nQ 2900 3119 2900 3481 \nQ 2900 3844 2670 4047 \nQ 2441 4250 2034 4250 \nQ 1625 4250 1398 4047 \nQ 1172 3844 1172 3481 \nz\n\" transform=\"scale(0.015625)\"/>\n      </defs>\n      <use xlink:href=\"#DejaVuSans-38\"/>\n     </g>\n    </g>\n   </g>\n   <g id=\"text_10\">\n    <g clip-path=\"url(#p5047f16caf)\">\n     <!-- 9 -->\n     <g transform=\"translate(105.134415 57.834285) scale(0.16 -0.16)\">\n      <defs>\n       <path id=\"DejaVuSans-39\" d=\"M 703 97 \nL 703 672 \nQ 941 559 1184 500 \nQ 1428 441 1663 441 \nQ 2288 441 2617 861 \nQ 2947 1281 2994 2138 \nQ 2813 1869 2534 1725 \nQ 2256 1581 1919 1581 \nQ 1219 1581 811 2004 \nQ 403 2428 403 3163 \nQ 403 3881 828 4315 \nQ 1253 4750 1959 4750 \nQ 2769 4750 3195 4129 \nQ 3622 3509 3622 2328 \nQ 3622 1225 3098 567 \nQ 2575 -91 1691 -91 \nQ 1453 -91 1209 -44 \nQ 966 3 703 97 \nz\nM 1959 2075 \nQ 2384 2075 2632 2365 \nQ 2881 2656 2881 3163 \nQ 2881 3666 2632 3958 \nQ 2384 4250 1959 4250 \nQ 1534 4250 1286 3958 \nQ 1038 3666 1038 3163 \nQ 1038 2656 1286 2365 \nQ 1534 2075 1959 2075 \nz\n\" transform=\"scale(0.015625)\"/>\n      </defs>\n      <use xlink:href=\"#DejaVuSans-39\"/>\n     </g>\n    </g>\n   </g>\n   <g id=\"text_11\">\n    <g clip-path=\"url(#p5047f16caf)\">\n     <!-- 10 -->\n     <g transform=\"translate(87.028226 208.871198) scale(0.16 -0.16)\">\n      <use xlink:href=\"#DejaVuSans-31\"/>\n      <use xlink:href=\"#DejaVuSans-30\" x=\"63.623047\"/>\n     </g>\n    </g>\n   </g>\n   <g id=\"text_12\">\n    <g clip-path=\"url(#p5047f16caf)\">\n     <!-- 11 -->\n     <g transform=\"translate(166.476578 118.749898) scale(0.16 -0.16)\">\n      <use xlink:href=\"#DejaVuSans-31\"/>\n      <use xlink:href=\"#DejaVuSans-31\" x=\"63.623047\"/>\n     </g>\n    </g>\n   </g>\n   <g id=\"text_13\">\n    <g clip-path=\"url(#p5047f16caf)\">\n     <!-- 12 -->\n     <g transform=\"translate(135.452508 106.058573) scale(0.16 -0.16)\">\n      <use xlink:href=\"#DejaVuSans-31\"/>\n      <use xlink:href=\"#DejaVuSans-32\" x=\"63.623047\"/>\n     </g>\n    </g>\n   </g>\n   <g id=\"text_14\">\n    <g clip-path=\"url(#p5047f16caf)\">\n     <!-- 13 -->\n     <g transform=\"translate(89.121422 83.506729) scale(0.16 -0.16)\">\n      <use xlink:href=\"#DejaVuSans-31\"/>\n      <use xlink:href=\"#DejaVuSans-33\" x=\"63.623047\"/>\n     </g>\n    </g>\n   </g>\n   <g id=\"text_15\">\n    <g clip-path=\"url(#p5047f16caf)\">\n     <!-- 14 -->\n     <g transform=\"translate(24.966447 109.874344) scale(0.16 -0.16)\">\n      <use xlink:href=\"#DejaVuSans-31\"/>\n      <use xlink:href=\"#DejaVuSans-34\" x=\"63.623047\"/>\n     </g>\n    </g>\n   </g>\n  </g>\n </g>\n <defs>\n  <clipPath id=\"p5047f16caf\">\n   <rect x=\"7.2\" y=\"7.2\" width=\"288\" height=\"216\"/>\n  </clipPath>\n </defs>\n</svg>\n",
      "text/plain": [
       "<Figure size 400x300 with 1 Axes>"
      ]
     },
     "metadata": {},
     "output_type": "display_data"
    }
   ],
   "source": [
    "erg = nx.erdos_renyi_graph(15, 0.2, seed=40)\n",
    "nx.draw(erg, **draw_params, pos=nx.spring_layout(erg, seed=5))"
   ]
  },
  {
   "cell_type": "code",
   "execution_count": 26,
   "metadata": {},
   "outputs": [
    {
     "name": "stdout",
     "output_type": "stream",
     "text": [
      "At node 3\n",
      "At node 0\n"
     ]
    },
    {
     "data": {
      "text/plain": [
       "True"
      ]
     },
     "execution_count": 26,
     "metadata": {},
     "output_type": "execute_result"
    }
   ],
   "source": [
    "connected(erg, 14, 0, verbose=True)"
   ]
  },
  {
   "cell_type": "markdown",
   "metadata": {},
   "source": [
    "- Note the order: \n",
    "  - It's taking 0's first neighbour, which is 3\n",
    "  - Then 3's first neighbour, which is 5\n",
    "  - Then 5's first neighbour, which is 1\n",
    "  - This is called **[depth first search](https://en.wikipedia.org/wiki/Depth-first_search) (DFS)** because we go deep into the graph\n",
    "  - To do in class: draw the recursion tree."
   ]
  },
  {
   "cell_type": "markdown",
   "metadata": {},
   "source": [
    "- What if this was a huge graph, and the two nodes were right next to each other?\n",
    "  - The algorithm might be extremely inefficient."
   ]
  },
  {
   "cell_type": "markdown",
   "metadata": {},
   "source": [
    "**Question:** Why not do a brute-force search?"
   ]
  },
  {
   "cell_type": "markdown",
   "metadata": {},
   "source": [
    "## Break (5 min)"
   ]
  },
  {
   "cell_type": "markdown",
   "metadata": {},
   "source": [
    "## Stacks and queues (5 min)\n",
    "\n",
    "- Let's briefly discuss some data structures we'll need shortly.\n",
    "- We want a data structure that we can put things into, and then retrieve them later.\n",
    "- A [stack](https://en.wikipedia.org/wiki/Stack_(abstract_data_type)) does with with the \"last in, first out\" (LIFO) mentality - like a stack of books or plates."
   ]
  },
  {
   "cell_type": "code",
   "execution_count": 27,
   "metadata": {},
   "outputs": [],
   "source": [
    "class Stack:\n",
    "    \"\"\"A stack data structure.\"\"\"\n",
    "\n",
    "    def __init__(self):\n",
    "        self.data = list()\n",
    "\n",
    "    def push(self, item):\n",
    "        \"\"\"\n",
    "        Adds a new item to the top of the stack.\n",
    "        \n",
    "        Parameters\n",
    "        ----------\n",
    "        item : object\n",
    "           An item added to the stack\n",
    "        \"\"\"\n",
    "        self.data.append(item)\n",
    "\n",
    "    def pop(self):\n",
    "        \"\"\"\n",
    "        Removes the item that is at the top of the stack and returns the item.\n",
    "\n",
    "        Returns\n",
    "        -------\n",
    "        object \n",
    "             The item that was last added to the stack.\n",
    "\n",
    "        Examples\n",
    "        --------\n",
    "        >>> stack = Stack()\n",
    "        >>> stack.push(1)\n",
    "        >>> stack.push([1, 2, \"dog\"])\n",
    "        >>> stack.push(\"popcorn\")\n",
    "        >>> stack.pop()\n",
    "        'popcorn'\n",
    "        \"\"\"\n",
    "        return self.data.pop()\n",
    "\n",
    "    def isEmpty(self):\n",
    "        \"\"\" \n",
    "        Checks to see if the stack is empty.\n",
    "\n",
    "        Returns\n",
    "        -------\n",
    "        bool \n",
    "             True if the stack contains no items, False otherwise.    \n",
    "\n",
    "        Example\n",
    "        --------\n",
    "        >>> stack = Stack()\n",
    "        >>> stack.isEmpty()\n",
    "        True\n",
    "        \"\"\"\n",
    "        return len(self.data) == 0\n",
    "    \n",
    "    def __str__(self):\n",
    "        return self.data.__str__()"
   ]
  },
  {
   "cell_type": "code",
   "execution_count": 28,
   "metadata": {},
   "outputs": [
    {
     "name": "stdout",
     "output_type": "stream",
     "text": [
      "['first', 'second']\n"
     ]
    }
   ],
   "source": [
    "s = Stack()\n",
    "\n",
    "s.push(\"first\")\n",
    "s.push(\"second\")\n",
    "\n",
    "print(s)"
   ]
  },
  {
   "cell_type": "code",
   "execution_count": 29,
   "metadata": {},
   "outputs": [
    {
     "data": {
      "text/plain": [
       "'second'"
      ]
     },
     "execution_count": 29,
     "metadata": {},
     "output_type": "execute_result"
    }
   ],
   "source": [
    "s.pop()"
   ]
  },
  {
   "cell_type": "code",
   "execution_count": 30,
   "metadata": {},
   "outputs": [
    {
     "name": "stdout",
     "output_type": "stream",
     "text": [
      "['first']\n"
     ]
    }
   ],
   "source": [
    "print(s)"
   ]
  },
  {
   "cell_type": "code",
   "execution_count": 31,
   "metadata": {},
   "outputs": [],
   "source": [
    "s.push(\"third\")\n",
    "s.push(\"fourth\")"
   ]
  },
  {
   "cell_type": "code",
   "execution_count": 32,
   "metadata": {},
   "outputs": [
    {
     "name": "stdout",
     "output_type": "stream",
     "text": [
      "['first', 'third', 'fourth']\n"
     ]
    }
   ],
   "source": [
    "print(s)"
   ]
  },
  {
   "cell_type": "code",
   "execution_count": 33,
   "metadata": {},
   "outputs": [
    {
     "data": {
      "text/plain": [
       "'fourth'"
      ]
     },
     "execution_count": 33,
     "metadata": {},
     "output_type": "execute_result"
    }
   ],
   "source": [
    "s.pop()"
   ]
  },
  {
   "cell_type": "code",
   "execution_count": 34,
   "metadata": {},
   "outputs": [
    {
     "data": {
      "text/plain": [
       "'third'"
      ]
     },
     "execution_count": 34,
     "metadata": {},
     "output_type": "execute_result"
    }
   ],
   "source": [
    "s.pop()"
   ]
  },
  {
   "cell_type": "code",
   "execution_count": 35,
   "metadata": {},
   "outputs": [
    {
     "data": {
      "text/plain": [
       "'first'"
      ]
     },
     "execution_count": 35,
     "metadata": {},
     "output_type": "execute_result"
    }
   ],
   "source": [
    "s.pop()"
   ]
  },
  {
   "cell_type": "code",
   "execution_count": 36,
   "metadata": {},
   "outputs": [
    {
     "ename": "IndexError",
     "evalue": "pop from empty list",
     "output_type": "error",
     "traceback": [
      "\u001b[0;31m---------------------------------------------------------------------------\u001b[0m",
      "\u001b[0;31mIndexError\u001b[0m                                Traceback (most recent call last)",
      "Cell \u001b[0;32mIn [36], line 1\u001b[0m\n\u001b[0;32m----> 1\u001b[0m s\u001b[39m.\u001b[39;49mpop()\n",
      "Cell \u001b[0;32mIn [27], line 36\u001b[0m, in \u001b[0;36mStack.pop\u001b[0;34m(self)\u001b[0m\n\u001b[1;32m     18\u001b[0m \u001b[39mdef\u001b[39;00m \u001b[39mpop\u001b[39m(\u001b[39mself\u001b[39m):\n\u001b[1;32m     19\u001b[0m     \u001b[39m\"\"\"\u001b[39;00m\n\u001b[1;32m     20\u001b[0m \u001b[39m    Removes the item that is at the top of the stack and returns the item.\u001b[39;00m\n\u001b[1;32m     21\u001b[0m \n\u001b[0;32m   (...)\u001b[0m\n\u001b[1;32m     34\u001b[0m \u001b[39m    'popcorn'\u001b[39;00m\n\u001b[1;32m     35\u001b[0m \u001b[39m    \"\"\"\u001b[39;00m\n\u001b[0;32m---> 36\u001b[0m     \u001b[39mreturn\u001b[39;00m \u001b[39mself\u001b[39;49m\u001b[39m.\u001b[39;49mdata\u001b[39m.\u001b[39;49mpop()\n",
      "\u001b[0;31mIndexError\u001b[0m: pop from empty list"
     ]
    }
   ],
   "source": [
    "s.pop()"
   ]
  },
  {
   "cell_type": "markdown",
   "metadata": {},
   "source": [
    "- Along with stacks we also have [queues](https://en.wikipedia.org/wiki/Queue_(abstract_data_type)), which use \"first in, first out\" (FIFO) ordering.\n",
    "  - e.g. an actual queue/lineup"
   ]
  },
  {
   "cell_type": "code",
   "execution_count": 37,
   "metadata": {},
   "outputs": [],
   "source": [
    "class Queue:\n",
    "    \"\"\"A Queue data structure.\"\"\"\n",
    "    \n",
    "    def __init__(self):\n",
    "        self.data = list()\n",
    "\n",
    "    def push(self, item):\n",
    "        \"\"\"\n",
    "        Adds a new item to the end of the queue.\n",
    "        \n",
    "        Parameters\n",
    "        ----------\n",
    "        item : object\n",
    "           An item added to the queue\n",
    "        \"\"\"\n",
    "        \n",
    "        self.data.append(item)\n",
    "\n",
    "    def pop(self):\n",
    "        \"\"\"\n",
    "        Removes the item that is at the front of the queue and returns the item.\n",
    "\n",
    "        Returns\n",
    "        -------\n",
    "        object \n",
    "             The least recent item added to the queue.     \n",
    "\n",
    "        Example\n",
    "        --------\n",
    "        >>> queue = Queue()\n",
    "        >>> queue.push(1)\n",
    "        >>> queue.push([1, 2, \"dog\"])\n",
    "        >>> queue.push(\"popcorn\")\n",
    "        >>> queue.pop()\n",
    "        '1'\n",
    "        \"\"\"\n",
    "        return self.data.pop(0)\n",
    "\n",
    "    def isEmpty(self):\n",
    "        \"\"\" \n",
    "        Checks to see if the queue is empty. \n",
    "\n",
    "        Returns\n",
    "        -------\n",
    "        bool \n",
    "            True if the stack contains no items, False otherwise.    \n",
    "\n",
    "        Example\n",
    "        --------\n",
    "        >>> queue = Queue()\n",
    "        >>> queue.push(1)\n",
    "        >>> Queue.isEmpty()\n",
    "        False\n",
    "        \n",
    "        \"\"\"\n",
    "        return len(self.data) == 0\n",
    "    \n",
    "    def __str__(self):\n",
    "        return self.data.__str__()"
   ]
  },
  {
   "cell_type": "code",
   "execution_count": 38,
   "metadata": {},
   "outputs": [
    {
     "name": "stdout",
     "output_type": "stream",
     "text": [
      "['first', 'second']\n"
     ]
    }
   ],
   "source": [
    "q = Queue()\n",
    "\n",
    "q.push(\"first\")  # often called \"enqueue\"\n",
    "q.push(\"second\")\n",
    "\n",
    "print(q)"
   ]
  },
  {
   "cell_type": "code",
   "execution_count": 39,
   "metadata": {},
   "outputs": [
    {
     "data": {
      "text/plain": [
       "'first'"
      ]
     },
     "execution_count": 39,
     "metadata": {},
     "output_type": "execute_result"
    }
   ],
   "source": [
    "q.pop() # often called \"dequeue\""
   ]
  },
  {
   "cell_type": "code",
   "execution_count": 40,
   "metadata": {},
   "outputs": [
    {
     "name": "stdout",
     "output_type": "stream",
     "text": [
      "['second']\n"
     ]
    }
   ],
   "source": [
    "print(q)"
   ]
  },
  {
   "cell_type": "code",
   "execution_count": 41,
   "metadata": {},
   "outputs": [],
   "source": [
    "q.push(\"third\")\n",
    "q.push(\"fourth\")"
   ]
  },
  {
   "cell_type": "code",
   "execution_count": 42,
   "metadata": {},
   "outputs": [
    {
     "name": "stdout",
     "output_type": "stream",
     "text": [
      "['second', 'third', 'fourth']\n"
     ]
    }
   ],
   "source": [
    "print(q)"
   ]
  },
  {
   "cell_type": "code",
   "execution_count": 43,
   "metadata": {},
   "outputs": [
    {
     "name": "stdout",
     "output_type": "stream",
     "text": [
      "second\n",
      "third\n",
      "fourth\n"
     ]
    }
   ],
   "source": [
    "while not q.isEmpty():\n",
    "    print(q.pop())"
   ]
  },
  {
   "cell_type": "markdown",
   "metadata": {},
   "source": [
    "## Graph searches: iterative implementation (15 min)"
   ]
  },
  {
   "cell_type": "markdown",
   "metadata": {},
   "source": [
    "- Implementation:\n",
    "  - Let's implement it non-recursively this time.\n",
    "  - Every time we visit a node, we add its neighbours to the queue.\n",
    "  - This ensures we'll visit the all the \"distance 1 neighbours\" before visiting any \"distance 2 neighbours\"."
   ]
  },
  {
   "cell_type": "code",
   "execution_count": null,
   "metadata": {},
   "outputs": [],
   "source": [
    "def connected_bfs(g, node1, node2, verbose=False):\n",
    "    \"\"\" \n",
    "    Given a NetworkX Graph g, and start node node1 \n",
    "    and goal node node2, tests whether node1 and node2\n",
    "    are connected in the graph g using breadth first search.\n",
    "    If they are not connected, returns False.\n",
    "\n",
    "    Parameters\n",
    "    ----------\n",
    "    g : networkx.classes.graph.Graph\n",
    "        the graph\n",
    "    node1 : str, int\n",
    "        first node\n",
    "    node2 : str, int\n",
    "        second node\n",
    "    verbose : bool\n",
    "        if True, node location will be displayed while False will not\n",
    "        (default is False)\n",
    "    \n",
    "    Returns\n",
    "    -------\n",
    "    bool \n",
    "        True if the two nodes are connected and False otherwise     \n",
    "\n",
    "    Example\n",
    "    --------\n",
    "    >>> graph = nx.erdos_renyi_graph(2, 1)\n",
    "    >>> connected_bfs(graph, 1, 0)\n",
    "    True\n",
    "    \"\"\"\n",
    "    \n",
    "    q = Stack()\n",
    "    q.push(node1)\n",
    "\n",
    "    visited = {node1}\n",
    "\n",
    "    while not q.isEmpty():\n",
    "        v = q.pop()\n",
    "        \n",
    "        if verbose:\n",
    "            print(\"At node\", v)\n",
    "            \n",
    "        if v == node2:\n",
    "            return True\n",
    "\n",
    "        for v in g.neighbors(v):\n",
    "            if v in visited:\n",
    "                continue\n",
    "#             if v not in visited:\n",
    "            visited.add(v)\n",
    "            q.push(v)\n",
    "\n",
    "    return False"
   ]
  },
  {
   "cell_type": "code",
   "execution_count": null,
   "metadata": {},
   "outputs": [],
   "source": [
    "connected_bfs(erg, 0, 14)"
   ]
  },
  {
   "cell_type": "code",
   "execution_count": null,
   "metadata": {},
   "outputs": [],
   "source": [
    "connected_bfs(erg, 0, 14, verbose=True)"
   ]
  },
  {
   "cell_type": "code",
   "execution_count": null,
   "metadata": {},
   "outputs": [],
   "source": [
    "nx.draw(erg, **draw_params, pos=nx.spring_layout(erg, seed=5))"
   ]
  },
  {
   "cell_type": "markdown",
   "metadata": {},
   "source": [
    "- The beauty is that to turn this into DFS, we only need to change the `Queue` to a `Stack`.\n",
    "  - Though the neighbours will be traversed in reverse order, so it's not exactly the same as our recursive DFS. We'll consider this optional.\n",
    "- BFS can be used to determine the \"distance\" between nodes, by keeping track of the \"neighbour depth\".\n",
    "- Here it is in `networkx`:"
   ]
  },
  {
   "cell_type": "code",
   "execution_count": null,
   "metadata": {},
   "outputs": [],
   "source": [
    "nx.shortest_path_length(erg, 0, 14)"
   ]
  },
  {
   "cell_type": "markdown",
   "metadata": {},
   "source": [
    "- This means it takes $2$ hops to get from node $0$ to node $14$."
   ]
  }
 ],
 "metadata": {
  "kernelspec": {
   "display_name": "Python 3.10.6 ('dsci512')",
   "language": "python",
   "name": "python3"
  },
  "language_info": {
   "codemirror_mode": {
    "name": "ipython",
    "version": 3
   },
   "file_extension": ".py",
   "mimetype": "text/x-python",
   "name": "python",
   "nbconvert_exporter": "python",
   "pygments_lexer": "ipython3",
   "version": "3.10.6"
  },
  "vscode": {
   "interpreter": {
    "hash": "833530e805897aab5e7a30ee530b0bcb4cd19373b840f29eae5897b61b26002e"
   }
  }
 },
 "nbformat": 4,
 "nbformat_minor": 4
}
