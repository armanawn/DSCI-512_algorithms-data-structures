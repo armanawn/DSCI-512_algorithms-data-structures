{
 "cells": [
  {
   "cell_type": "markdown",
   "metadata": {},
   "source": [
    "# DSCI 512 Lecture 3 Activities"
   ]
  },
  {
   "cell_type": "markdown",
   "metadata": {},
   "source": [
    "## Activity 1\n",
    "\n",
    "Consider the code below:"
   ]
  },
  {
   "cell_type": "code",
   "execution_count": 15,
   "metadata": {},
   "outputs": [],
   "source": [
    "def f(n):\n",
    "    if n == 0:\n",
    "        return \"\"\n",
    "    elif n == 3:\n",
    "        return \"a\" + f(n-1)\n",
    "    elif n == 4:\n",
    "        return \"c\" + f(n-2) + \"d\"\n",
    "    else:\n",
    "        return f(n-1) + \"e\""
   ]
  },
  {
   "cell_type": "markdown",
   "metadata": {},
   "source": [
    "**Without running the code**, fill in the table for what `f` returns:\n",
    "\n",
    "\n",
    "|  `n`   |   `f(n)` |\n",
    "|--------|--------|\n",
    "| 0      |   \"\"     |\n",
    "| 1      |   \"e\"    |\n",
    "| 2      |   \"ee\"     |\n",
    "| 3      |   \"aee\"     |\n",
    "| 4      |   \"ceed\"     |\n",
    "| 5      |   \"ceede\"  |"
   ]
  },
  {
   "cell_type": "code",
   "execution_count": 16,
   "metadata": {},
   "outputs": [
    {
     "name": "stdout",
     "output_type": "stream",
     "text": [
      "f(0) = \n",
      "f(1) = e\n",
      "f(2) = ee\n",
      "f(3) = aee\n",
      "f(4) = ceed\n",
      "f(5) = ceede\n"
     ]
    }
   ],
   "source": [
    "for n in range(6):\n",
    "    print(f'f({n}) = {f(n)}')"
   ]
  },
  {
   "cell_type": "markdown",
   "metadata": {},
   "source": [
    "## Activity 2\n",
    "\n",
    "Consider the code below:"
   ]
  },
  {
   "cell_type": "code",
   "execution_count": 2,
   "metadata": {},
   "outputs": [],
   "source": [
    "def g(n):\n",
    "    if n <= 2:\n",
    "        return \"\"\n",
    "    if len(g(n-1)) > len(g(n-2)):\n",
    "        return g(n-2) + \"a\" + g(n-4)\n",
    "    else:\n",
    "        return g(n-3) + \"bbb\""
   ]
  },
  {
   "cell_type": "markdown",
   "metadata": {},
   "source": [
    "**Without running the code**, fill in the table for what `g` returns:\n",
    "\n",
    "|  `n`   | `g(n)` |\n",
    "|--------|--------|\n",
    "| 0      |\"\"      |\n",
    "| 1      |\"\"      |\n",
    "| 2      |\"\"      |\n",
    "| 3      |\"bbb\"   |\n",
    "| 4      |\"a\"     |\n",
    "| 5      |\"bbb\"   |\n",
    "| 6      |\"aa\"    |\n",
    "| 7      |\"abbb\"  |\n",
    "| 8      |\"aaaa\"  |"
   ]
  },
  {
   "cell_type": "code",
   "execution_count": 3,
   "metadata": {},
   "outputs": [
    {
     "name": "stdout",
     "output_type": "stream",
     "text": [
      "g(0) = \n",
      "g(1) = \n",
      "g(2) = \n",
      "g(3) = bbb\n",
      "g(4) = a\n",
      "g(5) = bbb\n",
      "g(6) = aa\n",
      "g(7) = abbb\n",
      "g(8) = aaaa\n"
     ]
    }
   ],
   "source": [
    "for n in range(9):\n",
    "    print(f'g({n}) = {g(n)}')"
   ]
  },
  {
   "cell_type": "markdown",
   "metadata": {},
   "source": [
    "## Old quiz questions"
   ]
  },
  {
   "cell_type": "markdown",
   "metadata": {},
   "source": [
    "#### Q1\n",
    "\n",
    "Consider the following recursive function. What does it do?"
   ]
  },
  {
   "cell_type": "code",
   "execution_count": 5,
   "metadata": {},
   "outputs": [],
   "source": [
    "def mystery(x, n):\n",
    "    if n == 0:\n",
    "        return 1\n",
    "    else:\n",
    "        return x * mystery(x, n-1)"
   ]
  },
  {
   "cell_type": "markdown",
   "metadata": {},
   "source": [
    "(You can assume $n$ is a positive integer)"
   ]
  },
  {
   "cell_type": "markdown",
   "metadata": {},
   "source": [
    "**Answer:** It computes $x$ to the power of $n$."
   ]
  },
  {
   "cell_type": "markdown",
   "metadata": {},
   "source": [
    "Also, here is the _tail-recursive_ version of the above function, which avoids the $O(n)$ space complexity in languages that support tail recursion optimization (Python doesn't!):"
   ]
  },
  {
   "cell_type": "code",
   "execution_count": null,
   "metadata": {},
   "outputs": [],
   "source": [
    "def mystery(x, n, prod=1):\n",
    "    if n == 0:\n",
    "        return prod\n",
    "    else:\n",
    "        return mystery(x, n-1, prod * x)"
   ]
  },
  {
   "cell_type": "code",
   "execution_count": null,
   "metadata": {},
   "outputs": [
    {
     "data": {
      "text/plain": [
       "32"
      ]
     },
     "metadata": {},
     "output_type": "display_data"
    }
   ],
   "source": [
    "mystery(2, 5)"
   ]
  },
  {
   "cell_type": "markdown",
   "metadata": {},
   "source": [
    "#### Q2\n",
    "\n",
    "Consider the code below:"
   ]
  },
  {
   "cell_type": "code",
   "execution_count": 51,
   "metadata": {},
   "outputs": [],
   "source": [
    "def search(data, key):\n",
    "    \"\"\"\n",
    "    Returns True if key is in data, otherwise False.\n",
    "    \n",
    "    Arguments:\n",
    "    data -- (list) the list of elements in which we are searching\n",
    "    key -- the item to search for\n",
    "    \"\"\"\n",
    "    \n",
    "    if len(data) == 1:\n",
    "        return data[0] == key\n",
    "\n",
    "    mid = len(data)//2\n",
    "    return search(data[:mid], key) or search(data[mid:], key)"
   ]
  },
  {
   "cell_type": "markdown",
   "metadata": {},
   "source": [
    "#### Part (a)\n",
    "Does data need to be sorted for the search function to work correctly? Briefly justify your answer.\n",
    "\n",
    "#### Part (b)\n",
    "What is the (worst case) time complexity of search in terms of $n$, the length of data? Multiple choice options: \n",
    "\n",
    "- $O(1)$\n",
    "- $O(\\log n)$\n",
    "- $O(\\sqrt n)$\n",
    "- $O(n)$\n",
    "- $O(n \\log n)$\n",
    "- $O(n^2)$\n",
    "- $O(2^n)$\n"
   ]
  },
  {
   "cell_type": "markdown",
   "metadata": {},
   "source": [
    "**Answer:**\n",
    "\n",
    "(a) No, it searches the whole list\n",
    "\n",
    "(b) $O(2^n)$ computations, but we go only $O(\\log n)$ levels deep, so we make $O(n)$ function calls in total..\n",
    "\n",
    "In this Python code, we have to note the fact that there is a also a list-slicing operation happening at each level of the tree which costs $O(n)$, therefore the cost of slicing alone for the whole tree would be $O(n \\log n)$. The above code is therefore $O(n \\log n)$ in Python."
   ]
  },
  {
   "cell_type": "markdown",
   "metadata": {},
   "source": [
    "#### Q3\n",
    "\n",
    "Consider the code below. Do NOT run the code."
   ]
  },
  {
   "cell_type": "code",
   "execution_count": 2,
   "metadata": {},
   "outputs": [
    {
     "data": {
      "text/plain": [
       "3"
      ]
     },
     "execution_count": 2,
     "metadata": {},
     "output_type": "execute_result"
    }
   ],
   "source": [
    "def f(n):\n",
    "    if n == 1 or n == 2:\n",
    "        return 1\n",
    "    return f(n-1) + f(n-2)"
   ]
  },
  {
   "cell_type": "markdown",
   "metadata": {},
   "source": [
    "- What is returned by f(3)?\n",
    "\n",
    "**Answer:** 2\n",
    "\n",
    "- What is returned by f(4)?\n",
    "\n",
    "**Answer:** 3"
   ]
  },
  {
   "cell_type": "markdown",
   "metadata": {},
   "source": [
    "#### Q4\n",
    "\n",
    "Using big-O notation, determine the time complexity of these recursive functions in terms of $n$. "
   ]
  },
  {
   "cell_type": "code",
   "execution_count": 24,
   "metadata": {},
   "outputs": [],
   "source": [
    "def foo(n):\n",
    "    if n <= 0:\n",
    "        return\n",
    "    print(n)\n",
    "    foo(n-1)"
   ]
  },
  {
   "cell_type": "code",
   "execution_count": 25,
   "metadata": {},
   "outputs": [
    {
     "name": "stdout",
     "output_type": "stream",
     "text": [
      "5\n",
      "4\n",
      "3\n",
      "2\n",
      "1\n"
     ]
    }
   ],
   "source": [
    "foo(5)"
   ]
  },
  {
   "cell_type": "markdown",
   "metadata": {},
   "source": [
    "**Answer:** $O(n)$"
   ]
  },
  {
   "cell_type": "code",
   "execution_count": 20,
   "metadata": {},
   "outputs": [],
   "source": [
    "def bar(n):\n",
    "    if n <= 0:\n",
    "        return\n",
    "    print(n)\n",
    "    bar(n-2)"
   ]
  },
  {
   "cell_type": "code",
   "execution_count": 21,
   "metadata": {},
   "outputs": [
    {
     "name": "stdout",
     "output_type": "stream",
     "text": [
      "10\n",
      "8\n",
      "6\n",
      "4\n",
      "2\n"
     ]
    }
   ],
   "source": [
    "bar(10)"
   ]
  },
  {
   "cell_type": "markdown",
   "metadata": {},
   "source": [
    "**Answer:** $O(n)$."
   ]
  },
  {
   "cell_type": "code",
   "execution_count": 26,
   "metadata": {},
   "outputs": [],
   "source": [
    "def bat(n):\n",
    "    if n <= 0:\n",
    "        return 1\n",
    "    x = bat(n-1)\n",
    "    y = bat(n-1)\n",
    "    return x+y"
   ]
  },
  {
   "cell_type": "code",
   "execution_count": 31,
   "metadata": {},
   "outputs": [
    {
     "data": {
      "text/plain": [
       "33554432"
      ]
     },
     "execution_count": 31,
     "metadata": {},
     "output_type": "execute_result"
    }
   ],
   "source": [
    "bat(25)"
   ]
  },
  {
   "cell_type": "code",
   "execution_count": 32,
   "metadata": {},
   "outputs": [
    {
     "data": {
      "text/plain": [
       "33554432"
      ]
     },
     "execution_count": 32,
     "metadata": {},
     "output_type": "execute_result"
    }
   ],
   "source": [
    "2**25"
   ]
  },
  {
   "cell_type": "markdown",
   "metadata": {},
   "source": [
    "**Answer:** $O(2^n)$"
   ]
  },
  {
   "cell_type": "code",
   "execution_count": 10,
   "metadata": {},
   "outputs": [],
   "source": [
    "def sum_n(n):\n",
    "    if n == 1:\n",
    "        return 1\n",
    "    return n + sum_n(n-1)"
   ]
  },
  {
   "cell_type": "code",
   "execution_count": 34,
   "metadata": {},
   "outputs": [
    {
     "data": {
      "text/plain": [
       "10"
      ]
     },
     "execution_count": 34,
     "metadata": {},
     "output_type": "execute_result"
    }
   ],
   "source": [
    "sum_n(4)"
   ]
  },
  {
   "cell_type": "markdown",
   "metadata": {},
   "source": [
    "**Answer:** $O(n)$"
   ]
  },
  {
   "cell_type": "code",
   "execution_count": 3,
   "metadata": {},
   "outputs": [],
   "source": [
    "def mystery_more_readable(mylist):\n",
    "    print(mylist)\n",
    "    if len(mylist) == 1:\n",
    "        print(\"Base case!\")\n",
    "        return mylist[0]\n",
    "    mid = len(mylist) // 2\n",
    "    return min(\n",
    "        mystery_more_readable(mylist[:mid]),\n",
    "        mystery_more_readable(mylist[mid:])\n",
    "        )"
   ]
  },
  {
   "cell_type": "code",
   "execution_count": 4,
   "metadata": {},
   "outputs": [
    {
     "name": "stdout",
     "output_type": "stream",
     "text": [
      "[1, 2, 0, 3, 4, 8, 9, 10]\n",
      "[1, 2, 0, 3]\n",
      "[1, 2]\n",
      "[1]\n",
      "Base case!\n",
      "[2]\n",
      "Base case!\n",
      "[0, 3]\n",
      "[0]\n",
      "Base case!\n",
      "[3]\n",
      "Base case!\n",
      "[4, 8, 9, 10]\n",
      "[4, 8]\n",
      "[4]\n",
      "Base case!\n",
      "[8]\n",
      "Base case!\n",
      "[9, 10]\n",
      "[9]\n",
      "Base case!\n",
      "[10]\n",
      "Base case!\n"
     ]
    },
    {
     "data": {
      "text/plain": [
       "0"
      ]
     },
     "execution_count": 4,
     "metadata": {},
     "output_type": "execute_result"
    }
   ],
   "source": [
    "mystery_more_readable([1, 2, 0, 3, 4, 8, 9, 10])"
   ]
  },
  {
   "cell_type": "markdown",
   "metadata": {},
   "source": [
    "**Answer:** $O(n)$"
   ]
  },
  {
   "cell_type": "markdown",
   "metadata": {},
   "source": [
    "## Visualizing recursive function calls\n",
    "\n",
    "The [Recursion Tree Visualizer package](https://github.com/Bishalsarang/Recursion-Tree-Visualizer) does a nice job of illustrating recursive function calls by generating both a static image and an animation of recursion steps.\n",
    "\n",
    "Following the installation steps in the link provided above, we can rewrite the code in the last question to produce an image and animation of the recursive calls:"
   ]
  },
  {
   "cell_type": "code",
   "execution_count": null,
   "metadata": {},
   "outputs": [],
   "source": [
    "from visualiser.visualiser import Visualiser as vs\n",
    "\n",
    "@vs(\n",
    "    node_properties_kwargs={\n",
    "        \"shape\": \"record\",\n",
    "        \"color\": \"#FFFFFF\",\n",
    "        \"style\":\"filled\",\n",
    "        \"fillcolor\":\"grey\",\n",
    "        \"show_return_value\":True\n",
    "    },\n",
    "    show_return_value=True,\n",
    "    show_argument_name=True\n",
    ")\n",
    "def mystery_more_readable(mylist):\n",
    "    print(mylist)\n",
    "    if len(mylist) == 1:\n",
    "        print(\"Base case!\")\n",
    "        return mylist[0]\n",
    "    mid = len(mylist) // 2\n",
    "    return min(\n",
    "        mystery_more_readable(mylist[:mid]),\n",
    "        mystery_more_readable(mylist[mid:])\n",
    "        )"
   ]
  },
  {
   "cell_type": "code",
   "execution_count": null,
   "metadata": {},
   "outputs": [],
   "source": [
    "mystery_more_readable([1, 2, 0, 3, 4, 8, 9, 10])\n",
    "\n",
    "vs.make_animation(\"recursive.gif\", delay=3)"
   ]
  }
 ],
 "metadata": {
  "kernelspec": {
   "display_name": "Python 3.10.6 ('dsci512')",
   "language": "python",
   "name": "python3"
  },
  "language_info": {
   "codemirror_mode": {
    "name": "ipython",
    "version": 3
   },
   "file_extension": ".py",
   "mimetype": "text/x-python",
   "name": "python",
   "nbconvert_exporter": "python",
   "pygments_lexer": "ipython3",
   "version": "3.10.6"
  },
  "vscode": {
   "interpreter": {
    "hash": "833530e805897aab5e7a30ee530b0bcb4cd19373b840f29eae5897b61b26002e"
   }
  }
 },
 "nbformat": 4,
 "nbformat_minor": 4
}
