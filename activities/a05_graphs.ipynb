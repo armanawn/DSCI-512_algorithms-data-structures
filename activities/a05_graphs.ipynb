{
 "cells": [
  {
   "cell_type": "markdown",
   "metadata": {},
   "source": [
    "# DSCI 512 Lecture 5 Activities"
   ]
  },
  {
   "cell_type": "markdown",
   "metadata": {},
   "source": [
    "## T/F questions\n"
   ]
  },
  {
   "cell_type": "markdown",
   "metadata": {},
   "source": [
    "1. To model Twitter relationships, one would naturally use a directed, weighted graph.\n",
    "2. In an directed graph, if there is a path from $A$ to $B$ then there is a path from $B$ to $A$.\n",
    "3. The number of edges in a graph must be less than or equal to the number of nodes. \n",
    "4. The number of edges in a graph must be more than or equal to the number of nodes."
   ]
  },
  {
   "cell_type": "markdown",
   "metadata": {},
   "source": [
    "**Answers:**\n",
    "\n",
    "1. False, no need for weights.\n",
    "2. False, that is only true for an undirected graph.\n",
    "3. False, e.g. a complete graph has more edges than nodes.\n",
    "4. False, e.g. a graph with zero edges."
   ]
  },
  {
   "cell_type": "markdown",
   "metadata": {},
   "source": [
    "#### Question\n",
    "\n",
    "Consider the task of finding a path through a maze like the one shown below. You decide to represent the maze as a graph and then use breadth first search to find a path from the start to the end. When representing the maze as a graph, what would your vertices represent and what would your edges represent?\n",
    "\n",
    "![](https://upload.wikimedia.org/wikipedia/commons/thumb/8/88/Maze_simple.svg/220px-Maze_simple.svg.png)"
   ]
  },
  {
   "cell_type": "markdown",
   "metadata": {},
   "source": [
    "**Answer:** A vertex would represent points of the maze where you could change direction or intersect. An edge would represent path from one intersection to another."
   ]
  },
  {
   "cell_type": "markdown",
   "metadata": {},
   "source": [
    "#### Question\n",
    "\n",
    "Consider the tree below (which is also a directed graph). You search the tree starting from the root $R$. Assuming neighbours of a node are ordered alphabetically (not left to right), in what order will the nodes be visited if you use breadth-first search? What if you used depth-first search instead?\n",
    "\n",
    "![](tree.png)"
   ]
  },
  {
   "cell_type": "markdown",
   "metadata": {},
   "source": [
    "**Answers:**\n",
    "\n",
    "- BFS: \"RBEDAFC\"\n",
    "- DFS: \"RBDEAFC\""
   ]
  },
  {
   "cell_type": "markdown",
   "metadata": {},
   "source": [
    "## Old quiz questions"
   ]
  },
  {
   "cell_type": "markdown",
   "metadata": {},
   "source": [
    "#### Q0\n",
    "\n",
    "Consider the following graph:\n",
    "\n",
    "![](graph.png) \n",
    "\n",
    "Starting from V0, list the vertices of the graph in the order in which each of the following algorithms would visit them. Assume that the neighbours of each vertex are ordered alphabetically (so V1 is looked at before V2, etc).\n",
    "\n",
    "- A depth-first search\n",
    "- A breadth-first search\n",
    "\n",
    "\n"
   ]
  },
  {
   "cell_type": "markdown",
   "metadata": {},
   "source": [
    "**Answers:**\n",
    "\n",
    "- DFS: V0, V1, V2, V3, V4, V5, V6, V7\n",
    "- BFS: V0, V1, V6, V2, V3, V5, V4, V7"
   ]
  },
  {
   "cell_type": "markdown",
   "metadata": {},
   "source": [
    "#### Q1\n",
    "\n",
    "On an app like Google Maps, finding the shortest route between two places can be thought of as finding the shortest path in a graph, where the nodes are intersections, the edges are roads.\n",
    "\n",
    "If Google became aware of a road closure, how could it update the graph (nodes/edges) to reflect this closure, so that people aren't sent to drive on a closed road?"
   ]
  },
  {
   "cell_type": "markdown",
   "metadata": {},
   "source": [
    "**Answer:** they could temporarily delete the edge"
   ]
  },
  {
   "cell_type": "markdown",
   "metadata": {},
   "source": [
    "#### Q2\n",
    "\n",
    "Consider the Romeo and Juliet graph below:\n",
    "\n",
    "<img src=\"romeo-and-juliet-undirected.png\" width=\"600\">\n",
    "\n",
    "As in the lab, you can ignore the grey shading and just look at the nodes and edges.\n",
    "\n",
    "2(a)\n",
    "You decide to use breadth first search (BFS) to check if Tybalt is connected to Mercutio. The first node it explores is Tybalt (the start node); the second node it explores is Capulet, because the nodes are ordered alphabetically. What is the third node it explores?\n",
    "\n",
    "**Answer:** Juliet\n",
    "\n",
    "2(b)\n",
    "You decide to use depth first search (DFS) to check if Tybalt is connected to Mercutio. The first node it explores is Tybalt (the start node); the second node it explores is Capulet, because the nodes are ordered alphabetically. What is the third node it explores?\n",
    "\n",
    "**Answer:** Escalus\n",
    "\n",
    "2(c)\n",
    "What is the distance (also known as degrees of separation) between Tybalt and Mercutio?\n",
    "\n",
    "**Answer:** 3\n",
    "\n",
    "2(d)\n",
    "Is the shortest path from Tybalt to Mercutio unique?\n",
    "\n",
    "**Answer:** No, there are 3 paths."
   ]
  },
  {
   "cell_type": "markdown",
   "metadata": {},
   "source": [
    "#### Q3\n",
    "\n",
    "For each of the scenarios below, would it be better modeled by a directed graph, an undirected graph, or a tree? What would the nodes and edges represent?\n",
    "\n",
    "Part (a) Social media network\n",
    "\n",
    "**Answer:** could be directed (e.g. Twitter) or could be undirected (e.g. Facebook)\n",
    "\n",
    "Part (b) File system: organizing all the files on your computer into directories.\n",
    "\n",
    "**Answer:** tree. \n",
    "\n",
    "Part (c) Google Maps: the ability to find routes between places.\n",
    "\n",
    "**Answer:** simple case is undirected, but 1-way streets require directed graph\n",
    "\n",
    "Part (d) Peer review in an MDS lab: each student is assigned to review the work of one or more other students.\n",
    "\n",
    "**Answer:** directed\n",
    "\n",
    "\n"
   ]
  },
  {
   "cell_type": "markdown",
   "metadata": {},
   "source": [
    "#### Q4\n",
    "\n",
    "WordNet is a graph of words (mostly nouns) in English. An excerpt from this graph is shown below. We will use this graph to find how similar two words are depending upon the distance between them. The distance between two words is the minimum number of edges required to traverse from the source word to the destination word. The more similar two words are, the smaller the distance between them will be.\n",
    "\n",
    "<img src=\"wordnet.png\" width=\"700\">\n",
    "\n",
    "Part (a) What is the distance between cheese and chocolate in the graph above?\n",
    "\n",
    "Part (b) What is the distance between wood and chocolate in the graph above?\n",
    "\n",
    "Part (c) What algorithm could you use to find the shortest distance between two words in the WordNet graph? "
   ]
  },
  {
   "cell_type": "markdown",
   "metadata": {},
   "source": [
    "**Answers:**\n",
    "\n",
    "Part (a): 2\n",
    "\n",
    "Part (b): 7\n",
    "\n",
    "Part (c) BFS."
   ]
  },
  {
   "cell_type": "markdown",
   "metadata": {},
   "source": [
    "## More True/False\n",
    "\n",
    "1. DFS can be naturally implemented with a stack, and BFS with a queue.\n",
    "2. For the purpose of checking whether two nodes are connected, BFS is always faster than DFS.\n",
    "3. For some graphs, DFS is equivalent to BFS."
   ]
  },
  {
   "cell_type": "markdown",
   "metadata": {},
   "source": [
    "**Answers:**\n",
    "\n",
    "1. True.\n",
    "2. False, it depends.\n",
    "3. True, e.g. a linear chain graph."
   ]
  }
 ],
 "metadata": {
  "kernelspec": {
   "display_name": "Python 3.10.8 64-bit",
   "language": "python",
   "name": "python3"
  },
  "language_info": {
   "codemirror_mode": {
    "name": "ipython",
    "version": 3
   },
   "file_extension": ".py",
   "mimetype": "text/x-python",
   "name": "python",
   "nbconvert_exporter": "python",
   "pygments_lexer": "ipython3",
   "version": "3.10.8"
  },
  "vscode": {
   "interpreter": {
    "hash": "b0fa6594d8f4cbf19f97940f81e996739fb7646882a419484c72d19e05852a7e"
   }
  }
 },
 "nbformat": 4,
 "nbformat_minor": 4
}
