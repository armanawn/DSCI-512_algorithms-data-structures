{
 "cells": [
  {
   "cell_type": "markdown",
   "metadata": {},
   "source": [
    "# DSCI 512 Lecture 4 Activities\n"
   ]
  },
  {
   "cell_type": "markdown",
   "metadata": {},
   "source": [
    "## True/False questions"
   ]
  },
  {
   "cell_type": "markdown",
   "metadata": {},
   "source": [
    "1. If you have a `TreasureBox` with $n$ items, appending to the outside (start) is $O(n)$.\n",
    "2. If you have a `TreasureBox` with $n$ items, appending to the inside (end) is $O(n)$.\n",
    "3. A binary tree that only inserts to the left is essentially the same thing as a linked list (`TreasureBox`)."
   ]
  },
  {
   "cell_type": "markdown",
   "metadata": {},
   "source": [
    "For posterity: we'll use height and depth to mean the same thing."
   ]
  },
  {
   "cell_type": "markdown",
   "metadata": {},
   "source": [
    "**Answer:** \n",
    "\n",
    "1. False, it's $O(1)$\n",
    "2. True.\n",
    "3. True."
   ]
  },
  {
   "cell_type": "markdown",
   "metadata": {},
   "source": [
    "``` \n",
    "        ________\n",
    "       / hello  \\\n",
    "      \\ my name  \\\n",
    "       \\ is Tree /\n",
    "        \\______/\n",
    "          |\n",
    "          | \n",
    "         o\n",
    "      /    \\\n",
    "     o      o\n",
    "    /\\     /\\\n",
    "  o   o   o o\n",
    " /\\  /\\  /\\ /\\\n",
    "o o o o o o o o \n",
    "```"
   ]
  },
  {
   "cell_type": "markdown",
   "metadata": {},
   "source": [
    "## Practice questions"
   ]
  },
  {
   "cell_type": "markdown",
   "metadata": {},
   "source": [
    "#### Q1\n",
    "\n",
    "Write a recursive function (no loops allowed!) that returns the smallest element in a binary search tree like the `TreeSet` from lab 2.\n",
    "\n",
    "Hint: you can find the smallest element by going \"left\", starting at the root, until you get to a node that does not have a left child. Recall that the `TreeSet` class contains the following fields: `self.value` for the stored element, `self.left` for the left subtree, and `self.right` for the right subtree.\n",
    "\n"
   ]
  },
  {
   "cell_type": "code",
   "execution_count": 2,
   "metadata": {},
   "outputs": [],
   "source": [
    "# assuming a class method\n",
    "\n",
    "def smallest(self):\n",
    "    if self.left is None:\n",
    "        return self.value\n",
    "    \n",
    "    return self.left.smallest()"
   ]
  },
  {
   "cell_type": "code",
   "execution_count": null,
   "metadata": {},
   "outputs": [],
   "source": [
    "# assume a standalone function outside the class\n",
    "\n",
    "def smallest(ts):\n",
    "    if ts.left is None:\n",
    "        return ts.value\n",
    "    \n",
    "    return smallest(ts.left)"
   ]
  },
  {
   "cell_type": "markdown",
   "metadata": {},
   "source": [
    "#### Q2\n",
    "\n",
    "You have a binary search tree like your `TreeSet` from lab. You add the following elements to it, in order: 5, 21, 29, 6, 2. "
   ]
  },
  {
   "cell_type": "markdown",
   "metadata": {},
   "source": [
    "```\n",
    "        5\n",
    "       / \\\n",
    "      2  21\n",
    "        /  \\\n",
    "       6   29\n",
    "```"
   ]
  },
  {
   "cell_type": "markdown",
   "metadata": {},
   "source": [
    "Part (a): Which element is the root of the tree? Options: 5, 21, 29, 6, 2.\n"
   ]
  },
  {
   "cell_type": "markdown",
   "metadata": {},
   "source": [
    "Part (b): Next, you add the element 20. Which node will be the **parent** of the new element (20) in the tree?  Options: 5, 21, 29, 6, 2.\n"
   ]
  },
  {
   "cell_type": "markdown",
   "metadata": {},
   "source": [
    "Part (c): What is the **space** complexity of a binary search tree containing n elements? \n",
    "\n",
    "Options: $O(1)$, $O(\\log n)$, $O(\\sqrt n)$, $O(n)$, $O(n \\log n)$, $O(n^2)$, $O(2^n)$.\n"
   ]
  },
  {
   "cell_type": "markdown",
   "metadata": {},
   "source": [
    "**Answer:** \n",
    "\n",
    "- (a): 5\n",
    "\n",
    "- (b): 6\n",
    "\n",
    "```\n",
    "        5\n",
    "       / \\\n",
    "      2  21\n",
    "        /  \\\n",
    "       6   29\n",
    "        \\\n",
    "        20\n",
    "```\n",
    "\n",
    "- (c): $O(n)$"
   ]
  },
  {
   "cell_type": "markdown",
   "metadata": {},
   "source": [
    "## (optional) Nearest Neighbours True/False questions\n",
    "\n",
    "1. Computing the (Euclidean) distance between two points in $k$ dimensions takes $O(k)$ time.\n",
    "2. To find the nearest neighbour of a query point within a dataset, we must search through all $n$ points in the dataset.\n",
    "3. After a $k$-d tree partitions the space, the nearest neighbour to a query point will be in the same partition (region) as the query point.\n",
    "4. The more times you try to find nearest neighbours within the same dataset, the more advantagous the $k$-d tree becomes (vs. brute force)."
   ]
  },
  {
   "cell_type": "markdown",
   "metadata": {},
   "source": [
    "**Answer:** \n",
    "\n",
    "1. True.\n",
    "2. Only true if we need to use brute force approach. False if using $k$-d tree.\n",
    "3. False, but it will give you an approximate nearest neighbour.\n",
    "4. True."
   ]
  }
 ],
 "metadata": {
  "kernelspec": {
   "display_name": "Python 3.10.7 64-bit",
   "language": "python",
   "name": "python3"
  },
  "language_info": {
   "codemirror_mode": {
    "name": "ipython",
    "version": 3
   },
   "file_extension": ".py",
   "mimetype": "text/x-python",
   "name": "python",
   "nbconvert_exporter": "python",
   "pygments_lexer": "ipython3",
   "version": "3.10.7"
  },
  "vscode": {
   "interpreter": {
    "hash": "b0fa6594d8f4cbf19f97940f81e996739fb7646882a419484c72d19e05852a7e"
   }
  }
 },
 "nbformat": 4,
 "nbformat_minor": 4
}
