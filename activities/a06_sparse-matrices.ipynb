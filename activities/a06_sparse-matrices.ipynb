{
 "cells": [
  {
   "cell_type": "markdown",
   "metadata": {},
   "source": [
    "# DSCI 512 Lecture 6 Activities"
   ]
  },
  {
   "cell_type": "markdown",
   "metadata": {},
   "source": [
    "## T/F questions\n",
    "\n",
    "1. For a graph with $E$ edges, the adjacency matrix is an $E\\times E$ matrix.\n",
    "2. Adjacency matrices of graphs are always symmetric. \n",
    "3. Adjacency matrices of graphs are always sparse (in the sense of having lots of zeros).\n",
    "4. The space complexity of storing an $n \\times n$ sparse matrix is $O(n^2)$."
   ]
  },
  {
   "cell_type": "markdown",
   "metadata": {},
   "source": [
    "**Answers:**\n",
    "\n",
    "1. False. Should say $V \\times V$ matrix.\n",
    "2. False. Would have been true for undirected graphs.\n",
    "3. False. E.g. a complete graph.\n",
    "4. It depends what is being stored. Worst case really is $O(n^2)$. Typically no, it's the number of nonzeros. "
   ]
  },
  {
   "cell_type": "markdown",
   "metadata": {},
   "source": [
    "## Old quiz questions"
   ]
  },
  {
   "cell_type": "markdown",
   "metadata": {},
   "source": [
    "#### Q1\n",
    "\n",
    "In class/lab we saw cases where the sparse matrix representation (using scipy.sparse) was much smaller (fewer bytes) than the dense matrix representation (using numpy.ndarray). Is the sparse representation smaller for any matrix, or can it be equal/larger in some cases? (Maximum two sentences!)\n"
   ]
  },
  {
   "cell_type": "markdown",
   "metadata": {},
   "source": [
    "**Answer:** It can be equal/larger in some cases. For example a complete graph has basically no zeros in the adjacency matrix, therefore the sparse representation is inefficient because it needs to store not only the numbers but also the locations of each number. "
   ]
  },
  {
   "cell_type": "markdown",
   "metadata": {},
   "source": [
    "#### Q2\n",
    "\n",
    "Consider a graph with $V$ vertices that has, on average, vertex degree 3 (meaning 3 edges per vertex). Using big-O notation, what is the space complexity of the adjacency matrix stored as...\n",
    "\n",
    "- a sparse matrix?\n",
    "- a dense matrix?\n",
    "\n",
    "Note for the above: you should ignore any fancy optimizations that your programming language might do, and just give the \"standard\" answer in each case."
   ]
  },
  {
   "cell_type": "markdown",
   "metadata": {},
   "source": [
    "_**Answers:**:_\n",
    "\n",
    "- Sparse matrix: $O(E)=O(3V)=O(V)$\n",
    "- Dense matrix: $O(V^2)$"
   ]
  },
  {
   "cell_type": "markdown",
   "metadata": {},
   "source": [
    "#### Q3\n",
    "\n",
    "When implementing an algorithm on a graph, how would the average number of neighbours of each vertex influence your choice between using the sparse vs. dense representation for the adjacency matrix?\n",
    "\n"
   ]
  },
  {
   "cell_type": "markdown",
   "metadata": {},
   "source": [
    "**Answer:** fewer neighbours -> sparse matrix is better. \n",
    "\n",
    "- If each vertex has O(1) neighbours -> then number of E is O(V) -> sparse. \n",
    "- If each vertex has O(V) neighbours -> number of E is O(V^2) -> hard to say, depends on details, but sparse might not be better.\n",
    "\n",
    "average number of neighbours of each vertex = E/V"
   ]
  },
  {
   "cell_type": "markdown",
   "metadata": {},
   "source": [
    "### Question"
   ]
  },
  {
   "cell_type": "markdown",
   "metadata": {},
   "source": [
    "#### (a)\n",
    "\n",
    "What is the space complexity of an adjacency matrix stored as a dense matrix, as a function of the number of vertices $V$ and/or the number of edges $E$? "
   ]
  },
  {
   "cell_type": "markdown",
   "metadata": {},
   "source": [
    "**Answer:**: $O(V^2)$"
   ]
  },
  {
   "cell_type": "markdown",
   "metadata": {},
   "source": [
    "#### (b)\n",
    "\n",
    "According to the documentation, NetworkX returns the adjacency matrix as a SciPy sparse matrix. What is the space complexity of this sparse adjacency matrix, as a function of the number of vertices $V$ and/or the number of edges $E$? "
   ]
  },
  {
   "cell_type": "markdown",
   "metadata": {},
   "source": [
    "**Answer**: The sparse matrix data structure only stores the edges, so $O(E)$."
   ]
  }
 ],
 "metadata": {
  "kernelspec": {
   "display_name": "Python 3.10.8 64-bit",
   "language": "python",
   "name": "python3"
  },
  "language_info": {
   "codemirror_mode": {
    "name": "ipython",
    "version": 3
   },
   "file_extension": ".py",
   "mimetype": "text/x-python",
   "name": "python",
   "nbconvert_exporter": "python",
   "pygments_lexer": "ipython3",
   "version": "3.10.8"
  },
  "vscode": {
   "interpreter": {
    "hash": "b0fa6594d8f4cbf19f97940f81e996739fb7646882a419484c72d19e05852a7e"
   }
  }
 },
 "nbformat": 4,
 "nbformat_minor": 4
}
